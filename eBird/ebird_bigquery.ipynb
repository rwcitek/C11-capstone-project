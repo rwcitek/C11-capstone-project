{
  "cells": [
    {
      "cell_type": "markdown",
      "metadata": {
        "id": "view-in-github",
        "colab_type": "text"
      },
      "source": [
        "<a href=\"https://colab.research.google.com/github/rwcitek/C11-capstone-project/blob/main/eBird/ebird_bigquery.ipynb\" target=\"_parent\"><img src=\"https://colab.research.google.com/assets/colab-badge.svg\" alt=\"Open In Colab\"/></a>"
      ]
    },
    {
      "cell_type": "markdown",
      "metadata": {
        "id": "AM5uZrN8Imh8"
      },
      "source": [
        "# Working with BigQuery\n"
      ]
    },
    {
      "cell_type": "markdown",
      "metadata": {
        "id": "DY4hwpI-ImiE"
      },
      "source": [
        "We'll see if this runs in CoLab.\n",
        "\n",
        "\n"
      ]
    },
    {
      "cell_type": "markdown",
      "metadata": {
        "id": "GHySBuSPImiH"
      },
      "source": [
        "### Set up the workspace\n"
      ]
    },
    {
      "cell_type": "code",
      "execution_count": null,
      "metadata": {
        "id": "cwiGzn8SImiI"
      },
      "outputs": [],
      "source": [
        "!rm -rf data/\n"
      ]
    },
    {
      "cell_type": "code",
      "execution_count": null,
      "metadata": {
        "id": "W4NxE99lImiL"
      },
      "outputs": [],
      "source": [
        "mkdir data"
      ]
    },
    {
      "cell_type": "code",
      "execution_count": null,
      "metadata": {
        "id": "M9x5RjJyImiM",
        "outputId": "85c06299-211c-4ffc-a73b-b0a81e29f03b",
        "colab": {
          "base_uri": "https://localhost:8080/"
        }
      },
      "outputs": [
        {
          "output_type": "stream",
          "name": "stdout",
          "text": [
            "/content/data\n"
          ]
        }
      ],
      "source": [
        "cd data"
      ]
    },
    {
      "cell_type": "code",
      "execution_count": null,
      "metadata": {
        "id": "1aRcch4jImiO",
        "outputId": "b2e366a9-5dab-4f8d-cee5-fd5cf6d76145",
        "colab": {
          "base_uri": "https://localhost:8080/",
          "height": 36
        }
      },
      "outputs": [
        {
          "output_type": "execute_result",
          "data": {
            "text/plain": [
              "'/content/data'"
            ],
            "application/vnd.google.colaboratory.intrinsic+json": {
              "type": "string"
            }
          },
          "metadata": {},
          "execution_count": 5
        }
      ],
      "source": [
        "pwd"
      ]
    },
    {
      "cell_type": "markdown",
      "metadata": {
        "id": "hrTn-5VPImiQ"
      },
      "source": [
        "### Download some sample data"
      ]
    },
    {
      "cell_type": "code",
      "source": [
        "%%capture output\n",
        "%%bash\n",
        "apt-get update\n",
        "apt-get install -y tree jq curl less"
      ],
      "metadata": {
        "id": "TrOPGUERJaPd"
      },
      "execution_count": null,
      "outputs": []
    },
    {
      "cell_type": "code",
      "execution_count": null,
      "metadata": {
        "colab": {
          "base_uri": "https://localhost:8080/"
        },
        "id": "LXs6VybegWWS",
        "outputId": "0e514a3c-b589-4468-ad13-39de0e8a4333"
      },
      "outputs": [
        {
          "output_type": "stream",
          "name": "stdout",
          "text": [
            "  % Total    % Received % Xferd  Average Speed   Time    Time     Time  Current\n",
            "                                 Dload  Upload   Total   Spent    Left  Speed\n",
            "100  455k  100  455k    0     0   618k      0 --:--:-- --:--:-- --:--:--  619k\n"
          ]
        }
      ],
      "source": [
        "!curl -O 'https://ebird.org/downloads/samples/ebd-datafile-SAMPLE.zip'"
      ]
    },
    {
      "cell_type": "code",
      "execution_count": null,
      "metadata": {
        "colab": {
          "base_uri": "https://localhost:8080/"
        },
        "id": "4no_aqTRp5hb",
        "outputId": "2db6f86b-6656-4cb8-c9bb-d689357cb7fc"
      },
      "outputs": [
        {
          "output_type": "stream",
          "name": "stdout",
          "text": [
            "total 468\n",
            "drwxr-xr-x 2 root root   4096 Nov 22 13:43 .\n",
            "drwxr-xr-x 1 root root   4096 Nov 22 13:43 ..\n",
            "-rw-r--r-- 1 root root 466849 Nov 22 13:43 ebd-datafile-SAMPLE.zip\n"
          ]
        }
      ],
      "source": [
        "!ls -la\n"
      ]
    },
    {
      "cell_type": "code",
      "execution_count": null,
      "metadata": {
        "colab": {
          "base_uri": "https://localhost:8080/"
        },
        "id": "hDtH2NTRp80r",
        "outputId": "82c79762-a80a-415a-9c38-63c32bc605f1"
      },
      "outputs": [
        {
          "output_type": "stream",
          "name": "stdout",
          "text": [
            "Archive:  ebd-datafile-SAMPLE.zip\n",
            "   creating: ebd_US-AL-101_202204_202204_relApr-2022_SAMPLE/\n",
            "  inflating: __MACOSX/._ebd_US-AL-101_202204_202204_relApr-2022_SAMPLE  \n",
            "  inflating: ebd_US-AL-101_202204_202204_relApr-2022_SAMPLE/ebd_US-AL-101_202204_202204_relApr-2022.txt  \n",
            "  inflating: __MACOSX/ebd_US-AL-101_202204_202204_relApr-2022_SAMPLE/._ebd_US-AL-101_202204_202204_relApr-2022.txt  \n",
            "  inflating: ebd_US-AL-101_202204_202204_relApr-2022_SAMPLE/terms_of_use.txt  \n",
            "  inflating: __MACOSX/ebd_US-AL-101_202204_202204_relApr-2022_SAMPLE/._terms_of_use.txt  \n",
            "  inflating: ebd_US-AL-101_202204_202204_relApr-2022_SAMPLE/BCRCodes.txt  \n",
            "  inflating: __MACOSX/ebd_US-AL-101_202204_202204_relApr-2022_SAMPLE/._BCRCodes.txt  \n",
            "  inflating: ebd_US-AL-101_202204_202204_relApr-2022_SAMPLE/eBird_Basic_Dataset_Metadata_v1.14.pdf  \n",
            "  inflating: __MACOSX/ebd_US-AL-101_202204_202204_relApr-2022_SAMPLE/._eBird_Basic_Dataset_Metadata_v1.14.pdf  \n",
            "  inflating: ebd_US-AL-101_202204_202204_relApr-2022_SAMPLE/IBACodes.txt  \n",
            "  inflating: __MACOSX/ebd_US-AL-101_202204_202204_relApr-2022_SAMPLE/._IBACodes.txt  \n",
            "  inflating: ebd_US-AL-101_202204_202204_relApr-2022_SAMPLE/USFWSCodes.txt  \n",
            "  inflating: __MACOSX/ebd_US-AL-101_202204_202204_relApr-2022_SAMPLE/._USFWSCodes.txt  \n",
            "  inflating: ebd_US-AL-101_202204_202204_relApr-2022_SAMPLE/recommended_citation.txt  \n",
            "  inflating: __MACOSX/ebd_US-AL-101_202204_202204_relApr-2022_SAMPLE/._recommended_citation.txt  \n"
          ]
        }
      ],
      "source": [
        "!unzip ebd-datafile-SAMPLE.zip"
      ]
    },
    {
      "cell_type": "code",
      "execution_count": null,
      "metadata": {
        "colab": {
          "base_uri": "https://localhost:8080/"
        },
        "id": "jjIQ-je-qdod",
        "outputId": "fd6f2f4e-fe3a-49d9-d19f-ba228d89380c"
      },
      "outputs": [
        {
          "output_type": "stream",
          "name": "stdout",
          "text": [
            "total 476\n",
            "drwxr-xr-x 4 root root   4096 Nov 22 13:43 .\n",
            "drwxr-xr-x 1 root root   4096 Nov 22 13:43 ..\n",
            "-rw-r--r-- 1 root root 466849 Nov 22 13:43 ebd-datafile-SAMPLE.zip\n",
            "drwxr-xr-x 2 root root   4096 Jun  8  2022 ebd_US-AL-101_202204_202204_relApr-2022_SAMPLE\n",
            "drwxr-xr-x 3 root root   4096 Nov 22 13:43 __MACOSX\n"
          ]
        }
      ],
      "source": [
        "!ls -la\n"
      ]
    },
    {
      "cell_type": "code",
      "execution_count": null,
      "metadata": {
        "id": "epYhdl4Gqeym"
      },
      "outputs": [],
      "source": [
        "!rm -rf __MACOSX/"
      ]
    },
    {
      "cell_type": "code",
      "execution_count": null,
      "metadata": {
        "colab": {
          "base_uri": "https://localhost:8080/"
        },
        "id": "qjIxoEqNqh2w",
        "outputId": "c5f31bee-82b0-425e-f1af-4dd28e2c4c2b"
      },
      "outputs": [
        {
          "output_type": "stream",
          "name": "stdout",
          "text": [
            "\u001b[01;34mebd_US-AL-101_202204_202204_relApr-2022_SAMPLE/\u001b[0m\n",
            "├── \u001b[01;32mBCRCodes.txt\u001b[0m\n",
            "├── \u001b[00mebd_US-AL-101_202204_202204_relApr-2022.txt\u001b[0m\n",
            "├── \u001b[00meBird_Basic_Dataset_Metadata_v1.14.pdf\u001b[0m\n",
            "├── \u001b[01;32mIBACodes.txt\u001b[0m\n",
            "├── \u001b[01;32mrecommended_citation.txt\u001b[0m\n",
            "├── \u001b[00mterms_of_use.txt\u001b[0m\n",
            "└── \u001b[01;32mUSFWSCodes.txt\u001b[0m\n",
            "\n",
            "0 directories, 7 files\n"
          ]
        }
      ],
      "source": [
        "!tree ebd_US-AL-101_202204_202204_relApr-2022_SAMPLE/\n"
      ]
    },
    {
      "cell_type": "code",
      "execution_count": null,
      "metadata": {
        "colab": {
          "base_uri": "https://localhost:8080/"
        },
        "id": "7KSoBvbDq_fA",
        "outputId": "7d6bfdea-54da-4dd3-9be7-b6e169c683f8"
      },
      "outputs": [
        {
          "output_type": "stream",
          "name": "stdout",
          "text": [
            "1400 ebd_US-AL-101_202204_202204_relApr-2022_SAMPLE/ebd_US-AL-101_202204_202204_relApr-2022.txt\n"
          ]
        }
      ],
      "source": [
        "%%bash\n",
        "wc -l ebd_US-AL-101_202204_202204_relApr-2022_SAMPLE/ebd_US-AL-101_202204_202204_relApr-2022.txt\n"
      ]
    },
    {
      "cell_type": "markdown",
      "source": [
        "## Set up Google Cloud Platform"
      ],
      "metadata": {
        "id": "fyPxc1MMKHEB"
      }
    },
    {
      "cell_type": "code",
      "source": [
        "from google.colab import auth\n",
        "auth.authenticate_user()\n",
        "print('Authenticated')"
      ],
      "metadata": {
        "id": "9rn3InqxKKUD",
        "outputId": "891bb55c-eaa4-4e57-91e5-ad5430e4fa3b",
        "colab": {
          "base_uri": "https://localhost:8080/"
        }
      },
      "execution_count": 1,
      "outputs": [
        {
          "output_type": "stream",
          "name": "stdout",
          "text": [
            "Authenticated\n"
          ]
        }
      ]
    },
    {
      "cell_type": "code",
      "source": [
        "import os\n",
        "project_id = \"default-256400\"\n",
        "os.environ[\"GOOGLE_CLOUD_PROJECT\"] = project_id\n",
        "os.environ[\"GOOGLE_CLOUD_BUCKET\"] = \"c11-ebird\"\n"
      ],
      "metadata": {
        "id": "2kcJMvTVbeb1"
      },
      "execution_count": 2,
      "outputs": []
    },
    {
      "cell_type": "code",
      "source": [
        "project_id"
      ],
      "metadata": {
        "colab": {
          "base_uri": "https://localhost:8080/",
          "height": 36
        },
        "id": "1ykbi2B2EzJ5",
        "outputId": "03d41313-adac-4c3c-9177-ffddb62e15ae"
      },
      "execution_count": 3,
      "outputs": [
        {
          "output_type": "execute_result",
          "data": {
            "text/plain": [
              "'default-256400'"
            ],
            "application/vnd.google.colaboratory.intrinsic+json": {
              "type": "string"
            }
          },
          "metadata": {},
          "execution_count": 3
        }
      ]
    },
    {
      "cell_type": "code",
      "source": [
        "os.environ[\"GOOGLE_CLOUD_PROJECT\"]"
      ],
      "metadata": {
        "colab": {
          "base_uri": "https://localhost:8080/",
          "height": 36
        },
        "id": "PV4pSBlxE3CI",
        "outputId": "5f464849-3ff4-4905-a0d5-39f35450d51b"
      },
      "execution_count": 4,
      "outputs": [
        {
          "output_type": "execute_result",
          "data": {
            "text/plain": [
              "'default-256400'"
            ],
            "application/vnd.google.colaboratory.intrinsic+json": {
              "type": "string"
            }
          },
          "metadata": {},
          "execution_count": 4
        }
      ]
    },
    {
      "cell_type": "code",
      "source": [
        "os.environ[\"GOOGLE_CLOUD_BUCKET\"]"
      ],
      "metadata": {
        "id": "JXU0CGL1dHKu",
        "outputId": "910211a7-6eeb-4206-b031-050667d53adb",
        "colab": {
          "base_uri": "https://localhost:8080/",
          "height": 36
        }
      },
      "execution_count": 5,
      "outputs": [
        {
          "output_type": "execute_result",
          "data": {
            "text/plain": [
              "'c11-ebird'"
            ],
            "application/vnd.google.colaboratory.intrinsic+json": {
              "type": "string"
            }
          },
          "metadata": {},
          "execution_count": 5
        }
      ]
    },
    {
      "cell_type": "markdown",
      "source": [
        "## Need to create a *bucket*"
      ],
      "metadata": {
        "id": "zXelL_8BKkPX"
      }
    },
    {
      "cell_type": "markdown",
      "source": [
        "Go to https://console.cloud.google.com/storage/browser\n",
        "\n",
        "\n"
      ],
      "metadata": {
        "id": "ISJUjKBAKnwp"
      }
    },
    {
      "cell_type": "markdown",
      "source": [
        "Got a bucket:\n",
        "\n",
        "- https://console.cloud.google.com/storage/browser/c11-ebird;tab=objects?project=default-256400&prefix=&forceOnObjectsSortingFiltering=false"
      ],
      "metadata": {
        "id": "6qoBd4D1MxA2"
      }
    },
    {
      "cell_type": "markdown",
      "source": [
        "## Phase 1:\n",
        "\n"
      ],
      "metadata": {
        "id": "-EddwSAHfFbA"
      }
    },
    {
      "cell_type": "markdown",
      "source": [
        "1. upload the CSV file to GS\n",
        "1. import into BQ\n",
        "\n"
      ],
      "metadata": {
        "id": "q7cOWIxrf_a1"
      }
    },
    {
      "cell_type": "code",
      "source": [
        "file = 'ebd_US-AL-101_202204_202204_relApr-2022_SAMPLE/ebd_US-AL-101_202204_202204_relApr-2022.txt'\n"
      ],
      "metadata": {
        "id": "-bp9tHYEJwiL"
      },
      "execution_count": null,
      "outputs": []
    },
    {
      "cell_type": "code",
      "source": [
        "!gcloud storage cp {file} gs://c11-ebird/"
      ],
      "metadata": {
        "colab": {
          "base_uri": "https://localhost:8080/"
        },
        "id": "R-gaMNVDNmF_",
        "outputId": "98a15157-9a5d-4245-eb40-c166690fc6bd"
      },
      "execution_count": null,
      "outputs": [
        {
          "output_type": "stream",
          "name": "stdout",
          "text": [
            "Copying file://ebd_US-AL-101_202204_202204_relApr-2022_SAMPLE/ebd_US-AL-101_202204_202204_relApr-2022.txt to gs://c11-ebird/ebd_US-AL-101_202204_202204_relApr-2022.txt\n"
          ]
        }
      ]
    },
    {
      "cell_type": "code",
      "source": [
        "%%bash\n",
        "gcloud storage ls -l gs://${GOOGLE_CLOUD_BUCKET}/"
      ],
      "metadata": {
        "colab": {
          "base_uri": "https://localhost:8080/"
        },
        "id": "QAe3QuxmJwfe",
        "outputId": "15524e89-51a4-4301-d1fb-a89fc3f9592e"
      },
      "execution_count": null,
      "outputs": [
        {
          "output_type": "stream",
          "name": "stdout",
          "text": [
            "    504698  2023-11-21T23:28:26Z  gs://c11-ebird/ebd_US-AL-101_202204_202204_relApr-2022.txt\n",
            "     60011  2023-11-22T00:57:52Z  gs://c11-ebird/ebd_US-AL-101_202204_202204_relApr-2022.txt.gz\n",
            "TOTAL: 2 objects, 564709 bytes (551.47kiB)\n"
          ]
        }
      ]
    },
    {
      "cell_type": "markdown",
      "source": [
        "### From web interface"
      ],
      "metadata": {
        "id": "zdWnWDtrgJMW"
      }
    },
    {
      "cell_type": "markdown",
      "source": [
        "Create a data set and import CSV to data set:\n",
        "\n",
        "- https://cloud.google.com/bigquery/docs/loading-data-cloud-storage-csv"
      ],
      "metadata": {
        "id": "LUZ5ZLajR42X"
      }
    },
    {
      "cell_type": "markdown",
      "source": [
        "### Repeat using bq command"
      ],
      "metadata": {
        "id": "7LmHdmfGSRxm"
      }
    },
    {
      "cell_type": "code",
      "source": [
        "!bq ls {project_id}:ebird"
      ],
      "metadata": {
        "colab": {
          "base_uri": "https://localhost:8080/"
        },
        "id": "ItOETiZCWcKL",
        "outputId": "10434287-e5f8-4e95-be66-0d8e5241f586"
      },
      "execution_count": null,
      "outputs": [
        {
          "output_type": "stream",
          "name": "stdout",
          "text": [
            "          tableId            Type    Labels   Time Partitioning   Clustered Fields  \n",
            " -------------------------- ------- -------- ------------------- ------------------ \n",
            "  ebd_NM_relSep_2023         TABLE                                                  \n",
            "  ebd_sampling_relSep_2023   TABLE                                                  \n",
            "  ebird_small                TABLE                                                  \n"
          ]
        }
      ]
    },
    {
      "cell_type": "code",
      "source": [
        "!bq rm -f {project_id}:ebird.ebird_small_2"
      ],
      "metadata": {
        "id": "X1GfXkqEd3WS"
      },
      "execution_count": null,
      "outputs": []
    },
    {
      "cell_type": "code",
      "source": [
        "%%bash\n",
        "bq --project_id=${GOOGLE_CLOUD_PROJECT} \\\n",
        "  load \\\n",
        "  --source_format=CSV \\\n",
        "  --field_delimiter='\\t' \\\n",
        "  --autodetect \\\n",
        "  --skip_leading_rows=1 \\\n",
        "  ebird.ebird_small_2 \\\n",
        "  gs://${GOOGLE_CLOUD_BUCKET}/ebd_US-AL-101_202204_202204_relApr-2022.txt\n"
      ],
      "metadata": {
        "colab": {
          "base_uri": "https://localhost:8080/"
        },
        "id": "m84nmmyfJwbl",
        "outputId": "52dcdf9e-cb58-45df-aebe-ce05db0160ee"
      },
      "execution_count": null,
      "outputs": [
        {
          "output_type": "stream",
          "name": "stderr",
          "text": [
            "\rWaiting on bqjob_r41bf882ca6d188fa_0000018bf8187ee7_1 ... (0s) Current status: RUNNING\r                                                                                      \rWaiting on bqjob_r41bf882ca6d188fa_0000018bf8187ee7_1 ... (0s) Current status: DONE   \n"
          ]
        }
      ]
    },
    {
      "cell_type": "code",
      "source": [
        "!bq ls {project_id}:ebird"
      ],
      "metadata": {
        "colab": {
          "base_uri": "https://localhost:8080/"
        },
        "id": "wJ9m7aQSgavu",
        "outputId": "008c496f-37fb-4723-8c0f-dbfbb99111c6"
      },
      "execution_count": null,
      "outputs": [
        {
          "output_type": "stream",
          "name": "stdout",
          "text": [
            "          tableId            Type    Labels   Time Partitioning   Clustered Fields  \n",
            " -------------------------- ------- -------- ------------------- ------------------ \n",
            "  ebd_NM_relSep_2023         TABLE                                                  \n",
            "  ebd_sampling_relSep_2023   TABLE                                                  \n",
            "  ebird_small                TABLE                                                  \n",
            "  ebird_small_2              TABLE                                                  \n"
          ]
        }
      ]
    },
    {
      "cell_type": "code",
      "source": [
        "!bq show {project_id}:ebird.ebird_small_2"
      ],
      "metadata": {
        "colab": {
          "base_uri": "https://localhost:8080/"
        },
        "id": "i9qGdwMFGQlo",
        "outputId": "aac29afb-6c91-42a4-f55f-f83066bc205e"
      },
      "execution_count": null,
      "outputs": [
        {
          "output_type": "stream",
          "name": "stdout",
          "text": [
            "Table default-256400:ebird.ebird_small_2\n",
            "\n",
            "   Last modified                   Schema                   Total Rows   Total Bytes   Expiration   Time Partitioning   Clustered Fields   Total Logical Bytes   Total Physical Bytes   Labels  \n",
            " ----------------- --------------------------------------- ------------ ------------- ------------ ------------------- ------------------ --------------------- ---------------------- -------- \n",
            "  22 Nov 17:33:58   |- GLOBAL_UNIQUE_IDENTIFIER: string     1399         534727                                                            534727                                               \n",
            "                    |- LAST_EDITED_DATE: timestamp                                                                                                                                              \n",
            "                    |- TAXONOMIC_ORDER: integer                                                                                                                                                 \n",
            "                    |- CATEGORY: string                                                                                                                                                         \n",
            "                    |- TAXON_CONCEPT_ID: string                                                                                                                                                 \n",
            "                    |- COMMON_NAME: string                                                                                                                                                      \n",
            "                    |- SCIENTIFIC_NAME: string                                                                                                                                                  \n",
            "                    |- SUBSPECIES_COMMON_NAME: string                                                                                                                                           \n",
            "                    |- SUBSPECIES_SCIENTIFIC_NAME: string                                                                                                                                       \n",
            "                    |- EXOTIC_CODE: boolean                                                                                                                                                     \n",
            "                    |- OBSERVATION_COUNT: integer                                                                                                                                               \n",
            "                    |- BREEDING_CODE: string                                                                                                                                                    \n",
            "                    |- BREEDING_CATEGORY: string                                                                                                                                                \n",
            "                    |- BEHAVIOR_CODE: string                                                                                                                                                    \n",
            "                    |- AGE_SEX: string                                                                                                                                                          \n",
            "                    |- COUNTRY: string                                                                                                                                                          \n",
            "                    |- COUNTRY_CODE: string                                                                                                                                                     \n",
            "                    |- STATE: string                                                                                                                                                            \n",
            "                    |- STATE_CODE: string                                                                                                                                                       \n",
            "                    |- COUNTY: string                                                                                                                                                           \n",
            "                    |- COUNTY_CODE: string                                                                                                                                                      \n",
            "                    |- IBA_CODE: string                                                                                                                                                         \n",
            "                    |- BCR_CODE: integer                                                                                                                                                        \n",
            "                    |- USFWS_CODE: string                                                                                                                                                       \n",
            "                    |- ATLAS_BLOCK: string                                                                                                                                                      \n",
            "                    |- LOCALITY: string                                                                                                                                                         \n",
            "                    |- LOCALITY_ID: string                                                                                                                                                      \n",
            "                    |- LOCALITY_TYPE: string                                                                                                                                                    \n",
            "                    |- LATITUDE: float                                                                                                                                                          \n",
            "                    |- LONGITUDE: float                                                                                                                                                         \n",
            "                    |- OBSERVATION_DATE: date                                                                                                                                                   \n",
            "                    |- TIME_OBSERVATIONS_STARTED: time                                                                                                                                          \n",
            "                    |- OBSERVER_ID: string                                                                                                                                                      \n",
            "                    |- SAMPLING_EVENT_IDENTIFIER: string                                                                                                                                        \n",
            "                    |- PROTOCOL_TYPE: string                                                                                                                                                    \n",
            "                    |- PROTOCOL_CODE: string                                                                                                                                                    \n",
            "                    |- PROJECT_CODE: string                                                                                                                                                     \n",
            "                    |- DURATION_MINUTES: integer                                                                                                                                                \n",
            "                    |- EFFORT_DISTANCE_KM: float                                                                                                                                                \n",
            "                    |- EFFORT_AREA_HA: string                                                                                                                                                   \n",
            "                    |- NUMBER_OBSERVERS: integer                                                                                                                                                \n",
            "                    |- ALL_SPECIES_REPORTED: integer                                                                                                                                            \n",
            "                    |- GROUP_IDENTIFIER: string                                                                                                                                                 \n",
            "                    |- HAS_MEDIA: integer                                                                                                                                                       \n",
            "                    |- APPROVED: integer                                                                                                                                                        \n",
            "                    |- REVIEWED: integer                                                                                                                                                        \n",
            "                    |- REASON: string                                                                                                                                                           \n",
            "                    |- TRIP_COMMENTS: string                                                                                                                                                    \n",
            "                    |- SPECIES_COMMENTS: string                                                                                                                                                 \n",
            "                    |- string_field_49: string                                                                                                                                                  \n",
            "\n"
          ]
        }
      ]
    },
    {
      "cell_type": "code",
      "source": [
        "!bq --project_id=${GOOGLE_CLOUD_PROJECT} query \"select * from ebird.ebird_small_2 limit 10\""
      ],
      "metadata": {
        "colab": {
          "base_uri": "https://localhost:8080/"
        },
        "id": "H0JnAxZwG-PM",
        "outputId": "dab6fde6-1044-48d8-8b0e-7fe4cf973ae5"
      },
      "execution_count": null,
      "outputs": [
        {
          "output_type": "stream",
          "name": "stdout",
          "text": [
            "+-------------------------------------------------+---------------------+-----------------+----------+------------------+------------------+----------------------+------------------------+----------------------------+-------------+-------------------+---------------+-------------------+---------------+---------+---------------+--------------+---------+------------+------------+-------------+----------+----------+------------+-------------+------------------------------------------------------------+-------------+---------------+-----------+-------------+------------------+---------------------------+-------------+---------------------------+---------------+---------------+--------------+------------------+--------------------+----------------+------------------+----------------------+------------------+-----------+----------+----------+--------+---------------+-----------------------------------------------------------------------------------------------------------------------------------------------------------------------------------------------------------------------------------------------------------------------------------------------------+-----------------+\n",
            "|            GLOBAL_UNIQUE_IDENTIFIER             |  LAST_EDITED_DATE   | TAXONOMIC_ORDER | CATEGORY | TAXON_CONCEPT_ID |   COMMON_NAME    |   SCIENTIFIC_NAME    | SUBSPECIES_COMMON_NAME | SUBSPECIES_SCIENTIFIC_NAME | EXOTIC_CODE | OBSERVATION_COUNT | BREEDING_CODE | BREEDING_CATEGORY | BEHAVIOR_CODE | AGE_SEX |    COUNTRY    | COUNTRY_CODE |  STATE  | STATE_CODE |   COUNTY   | COUNTY_CODE | IBA_CODE | BCR_CODE | USFWS_CODE | ATLAS_BLOCK |                          LOCALITY                          | LOCALITY_ID | LOCALITY_TYPE | LATITUDE  |  LONGITUDE  | OBSERVATION_DATE | TIME_OBSERVATIONS_STARTED | OBSERVER_ID | SAMPLING_EVENT_IDENTIFIER | PROTOCOL_TYPE | PROTOCOL_CODE | PROJECT_CODE | DURATION_MINUTES | EFFORT_DISTANCE_KM | EFFORT_AREA_HA | NUMBER_OBSERVERS | ALL_SPECIES_REPORTED | GROUP_IDENTIFIER | HAS_MEDIA | APPROVED | REVIEWED | REASON | TRIP_COMMENTS |                                                                                                                                          SPECIES_COMMENTS                                                                                                                                           | string_field_49 |\n",
            "+-------------------------------------------------+---------------------+-----------------+----------+------------------+------------------+----------------------+------------------------+----------------------------+-------------+-------------------+---------------+-------------------+---------------+---------+---------------+--------------+---------+------------+------------+-------------+----------+----------+------------+-------------+------------------------------------------------------------+-------------+---------------+-----------+-------------+------------------+---------------------------+-------------+---------------------------+---------------+---------------+--------------+------------------+--------------------+----------------+------------------+----------------------+------------------+-----------+----------+----------+--------+---------------+-----------------------------------------------------------------------------------------------------------------------------------------------------------------------------------------------------------------------------------------------------------------------------------------------------+-----------------+\n",
            "| URN:CornellLabOfOrnithology:EBIRD:OBS1380605933 | 2022-04-02 09:55:59 |           20496 | species  | avibase-1DA430B8 | Blue Jay         | Cyanocitta cristata  | NULL                   | NULL                       |        NULL |                 1 | NULL          | NULL              | NULL          | NULL    | United States | US           | Alabama | US-AL      | Montgomery | US-AL-101   | NULL     |       27 | NULL       | NULL        | 36043, Hope Hull US-AL 32.13361, -86.38094                 | L17652779   | P             | 32.133615 |  -86.380937 |       2022-04-02 |                  08:00:00 | obsr2929208 | S106074795                | Traveling     | P22           | EBIRD        |               53 |              1.529 | NULL           |                1 |                    1 | NULL             |         0 |        1 |        0 | NULL   | NULL          | NULL                                                                                                                                                                                                                                                                                                | NULL            |\n",
            "| URN:CornellLabOfOrnithology:EBIRD:OBS1380605935 | 2022-04-02 09:55:59 |            8773 | species  | avibase-7AA076EF | Barred Owl       | Strix varia          | NULL                   | NULL                       |        NULL |                 1 | NULL          | NULL              | NULL          | NULL    | United States | US           | Alabama | US-AL      | Montgomery | US-AL-101   | NULL     |       27 | NULL       | NULL        | 36043, Hope Hull US-AL 32.13361, -86.38094                 | L17652779   | P             | 32.133615 |  -86.380937 |       2022-04-02 |                  08:00:00 | obsr2929208 | S106074795                | Traveling     | P22           | EBIRD        |               53 |              1.529 | NULL           |                1 |                    1 | NULL             |         0 |        1 |        0 | NULL   | NULL          | NULL                                                                                                                                                                                                                                                                                                | NULL            |\n",
            "| URN:CornellLabOfOrnithology:EBIRD:OBS1380605934 | 2022-04-02 09:55:59 |            1180 | species  | avibase-9C5ED06A | Wild Turkey      | Meleagris gallopavo  | NULL                   | NULL                       |        NULL |                 2 | NULL          | NULL              | NULL          | NULL    | United States | US           | Alabama | US-AL      | Montgomery | US-AL-101   | NULL     |       27 | NULL       | NULL        | 36043, Hope Hull US-AL 32.13361, -86.38094                 | L17652779   | P             | 32.133615 |  -86.380937 |       2022-04-02 |                  08:00:00 | obsr2929208 | S106074795                | Traveling     | P22           | EBIRD        |               53 |              1.529 | NULL           |                1 |                    1 | NULL             |         0 |        1 |        0 | NULL   | NULL          | NULL                                                                                                                                                                                                                                                                                                | NULL            |\n",
            "| URN:CornellLabOfOrnithology:EBIRD:OBS1380605936 | 2022-04-02 09:55:59 |           27403 | species  | avibase-8E1D9327 | Wood Thrush      | Hylocichla mustelina | NULL                   | NULL                       |        NULL |                 1 | NULL          | NULL              | NULL          | NULL    | United States | US           | Alabama | US-AL      | Montgomery | US-AL-101   | NULL     |       27 | NULL       | NULL        | 36043, Hope Hull US-AL 32.13361, -86.38094                 | L17652779   | P             | 32.133615 |  -86.380937 |       2022-04-02 |                  08:00:00 | obsr2929208 | S106074795                | Traveling     | P22           | EBIRD        |               53 |              1.529 | NULL           |                1 |                    1 | NULL             |         0 |        1 |        0 | NULL   | NULL          | NULL                                                                                                                                                                                                                                                                                                | NULL            |\n",
            "| URN:CornellLabOfOrnithology:EBIRD:OBS1380683993 | 2022-04-02 11:12:42 |            7909 | species  | avibase-EB98812F | Cooper's Hawk    | Accipiter cooperii   | NULL                   | NULL                       |        NULL |                 1 | NULL          | NULL              | NULL          | NULL    | United States | US           | Alabama | US-AL      | Montgomery | US-AL-101   | NULL     |       27 | NULL       | NULL        | Henry farm                                                 | L18338521   | P             | 32.175779 |  -86.328285 |       2022-04-02 |                  10:11:00 | obsr2929208 | S106082711                | Incidental    | P20           | EBIRD        |             NULL |               NULL | NULL           |                1 |                    0 | NULL             |         0 |        1 |        0 | NULL   | NULL          | NULL                                                                                                                                                                                                                                                                                                | NULL            |\n",
            "| URN:CornellLabOfOrnithology:EBIRD:OBS1380953818 | 2022-04-02 14:41:30 |           31267 | species  | avibase-B4EE123D | Purple Finch     | Haemorhous purpureus | NULL                   | NULL                       |        NULL |                 1 | NULL          | NULL              | NULL          | NULL    | United States | US           | Alabama | US-AL      | Montgomery | US-AL-101   | NULL     |       27 | NULL       | NULL        | 1642 Meadow Oak Ct, Montgomery US-AL 32.34045, -86.18367   | L12957741   | P             | 32.340447 |  -86.183673 |       2022-04-02 |                  13:40:00 | obsr698531  | S106105608                | Incidental    | P20           | EBIRD        |             NULL |               NULL | NULL           |                1 |                    0 | NULL             |         0 |        1 |        0 | NULL   | NULL          | Male                                                                                                                                                                                                                                                                                                | NULL            |\n",
            "| URN:CornellLabOfOrnithology:EBIRD:OBS1380974027 | 2022-04-02 14:59:14 |            7412 | species  | avibase-4FF7DE80 | Black Vulture    | Coragyps atratus     | NULL                   | NULL                       |        NULL |                 1 | NULL          | NULL              | NULL          | NULL    | United States | US           | Alabama | US-AL      | Montgomery | US-AL-101   | NULL     |       27 | NULL       | NULL        | 17089 Troy Highway, Mathews, Alabama, US (32.131, -86.084) | L18343168   | P             | 32.130931 | -86.0838688 |       2022-04-02 |                  13:58:00 | obsr374184  | S106107369                | Incidental    | P20           | EBIRD        |             NULL |               NULL | NULL           |                1 |                    0 | NULL             |         0 |        1 |        0 | NULL   | NULL          | NULL                                                                                                                                                                                                                                                                                                | NULL            |\n",
            "| URN:CornellLabOfOrnithology:EBIRD:OBS1381139222 | 2022-04-02 17:46:33 |           31905 | species  | avibase-37E9CCDA | Chipping Sparrow | Spizella passerina   | NULL                   | NULL                       |        NULL |                 1 | NULL          | NULL              | NULL          | NULL    | United States | US           | Alabama | US-AL      | Montgomery | US-AL-101   | NULL     |       27 | NULL       | NULL        | 1642 Meadow Oak Ct, Montgomery US-AL 32.34041, -86.18372   | L12609462   | P             | 32.340411 |  -86.183722 |       2022-04-02 |                  16:46:00 | obsr698531  | S106123696                | Incidental    | P20           | EBIRD        |             NULL |               NULL | NULL           |                1 |                    0 | NULL             |         0 |        1 |        0 | NULL   | NULL          | NULL                                                                                                                                                                                                                                                                                                | NULL            |\n",
            "| URN:CornellLabOfOrnithology:EBIRD:OBS1383013775 | 2022-04-04 14:55:28 |           27389 | species  | avibase-B01E8BD4 | Hermit Thrush    | Catharus guttatus    | NULL                   | NULL                       |        NULL |                 1 | NULL          | NULL              | NULL          | NULL    | United States | US           | Alabama | US-AL      | Montgomery | US-AL-101   | NULL     |       27 | NULL       | NULL        | Dalraida                                                   | L13997239   | P             | 32.395143 |  -86.235939 |       2022-04-04 |                  13:54:00 | obsr2204176 | S106278178                | Incidental    | P20           | EBIRD        |             NULL |               NULL | NULL           |                2 |                    0 | NULL             |         0 |        1 |        0 | NULL   | NULL          | NULL                                                                                                                                                                                                                                                                                                | NULL            |\n",
            "| URN:CornellLabOfOrnithology:EBIRD:OBS1386285800 | 2022-04-08 15:53:44 |            1180 | species  | avibase-9C5ED06A | Wild Turkey      | Meleagris gallopavo  | NULL                   | NULL                       |        NULL |                 1 | NULL          | NULL              | NULL          | NULL    | United States | US           | Alabama | US-AL      | Montgomery | US-AL-101   | NULL     |       27 | NULL       | NULL        | 4025–4381 US-82, Mathews US-AL 32.16674, -86.06232         | L18418954   | P             | 32.166742 |  -86.062324 |       2022-04-08 |                  14:47:00 | obsr1036477 | S106549216                | Incidental    | P20           | EBIRD        |             NULL |               NULL | NULL           |                5 |                    0 | NULL             |         0 |        1 |        0 | NULL   | NULL          | Tall brown bird of classic turkey silhouette and posture crossed the road in clear view. About 2 feet tall and at least 2 ft. long from head to tail. heavy body with slender head and neck. Grayish head and neck with dark brown plumage over the rest of the body. Legs grayish. Wooded habitat. | NULL            |\n",
            "+-------------------------------------------------+---------------------+-----------------+----------+------------------+------------------+----------------------+------------------------+----------------------------+-------------+-------------------+---------------+-------------------+---------------+---------+---------------+--------------+---------+------------+------------+-------------+----------+----------+------------+-------------+------------------------------------------------------------+-------------+---------------+-----------+-------------+------------------+---------------------------+-------------+---------------------------+---------------+---------------+--------------+------------------+--------------------+----------------+------------------+----------------------+------------------+-----------+----------+----------+--------+---------------+-----------------------------------------------------------------------------------------------------------------------------------------------------------------------------------------------------------------------------------------------------------------------------------------------------+-----------------+\n"
          ]
        }
      ]
    },
    {
      "cell_type": "code",
      "source": [
        "%%bigquery df --project {project_id}\n",
        "select *\n",
        "from ebird.ebird_small_2\n",
        "limit 10"
      ],
      "metadata": {
        "colab": {
          "base_uri": "https://localhost:8080/",
          "height": 81,
          "referenced_widgets": [
            "2b6eb7d1f78940299aaacf2a66572ca7",
            "c0a72d8b28124cb4930208372e5c61c4",
            "8f9a601d2c474bd1abf217b1c0dfde49",
            "c45b637dda634f368eb0f9f58b6df7d8",
            "0a325149e4894b838120dd36315ac03e",
            "eec350c6284949fe802a47653d5c1df0",
            "3388bce2f7aa427d8bd6b4ec621b11b3",
            "e784c3c8512e44f5a67a89a8e7c1aabf",
            "0e1d22df51354db48aac24c3e0c72533",
            "6f212bc69e994dceb571cd3cfcb313ac",
            "523b8ba586a74bbea3b27f08eaf5e593",
            "72a1ae52b16b4a11aa23a6224b6734d3",
            "cf1e6a7ff9894abbbff388b9fd818b78",
            "1ecd5ca803314a3a82e989ae1c4a0acd",
            "8adab950f77a404dad0f4a1937f8c8c6",
            "fa5ac18a0ee242e7a08e84c550ad0b37",
            "7410e50d038a4c0d8fa7f5320bcc45bb",
            "32b04befa45a44bb850781830c2d17ab",
            "32f579c4a67f41a6aa99d6ff38734b84",
            "3f1a63214f5644d482a71941fa1f595f",
            "6174aa81e93b4d6296d6b6e5abbff076",
            "096a4f8c38dd42dfa8be71496b8e09a1"
          ]
        },
        "id": "cV7ZvIwLHmRW",
        "outputId": "adc968da-8582-4309-fceb-5a6dc0c62f63"
      },
      "execution_count": null,
      "outputs": [
        {
          "output_type": "display_data",
          "data": {
            "text/plain": [
              "Query is running:   0%|          |"
            ],
            "application/vnd.jupyter.widget-view+json": {
              "version_major": 2,
              "version_minor": 0,
              "model_id": "2b6eb7d1f78940299aaacf2a66572ca7"
            }
          },
          "metadata": {}
        },
        {
          "output_type": "display_data",
          "data": {
            "text/plain": [
              "Downloading:   0%|          |"
            ],
            "application/vnd.jupyter.widget-view+json": {
              "version_major": 2,
              "version_minor": 0,
              "model_id": "72a1ae52b16b4a11aa23a6224b6734d3"
            }
          },
          "metadata": {}
        }
      ]
    },
    {
      "cell_type": "code",
      "source": [
        "df"
      ],
      "metadata": {
        "colab": {
          "base_uri": "https://localhost:8080/",
          "height": 603
        },
        "id": "0a3OBY1WINxP",
        "outputId": "712ce5c9-c0d9-4254-8e61-309e33ee00ca"
      },
      "execution_count": null,
      "outputs": [
        {
          "output_type": "execute_result",
          "data": {
            "text/plain": [
              "                          GLOBAL_UNIQUE_IDENTIFIER  \\\n",
              "0  URN:CornellLabOfOrnithology:EBIRD:OBS1380605933   \n",
              "1  URN:CornellLabOfOrnithology:EBIRD:OBS1380605935   \n",
              "2  URN:CornellLabOfOrnithology:EBIRD:OBS1380605934   \n",
              "3  URN:CornellLabOfOrnithology:EBIRD:OBS1380605936   \n",
              "4  URN:CornellLabOfOrnithology:EBIRD:OBS1380683993   \n",
              "5  URN:CornellLabOfOrnithology:EBIRD:OBS1380953818   \n",
              "6  URN:CornellLabOfOrnithology:EBIRD:OBS1380974027   \n",
              "7  URN:CornellLabOfOrnithology:EBIRD:OBS1381139222   \n",
              "8  URN:CornellLabOfOrnithology:EBIRD:OBS1383013775   \n",
              "9  URN:CornellLabOfOrnithology:EBIRD:OBS1386285800   \n",
              "\n",
              "                  LAST_EDITED_DATE  TAXONOMIC_ORDER CATEGORY  \\\n",
              "0 2022-04-02 09:55:59.208261+00:00            20496  species   \n",
              "1 2022-04-02 09:55:59.212963+00:00             8773  species   \n",
              "2 2022-04-02 09:55:59.209422+00:00             1180  species   \n",
              "3 2022-04-02 09:55:59.214060+00:00            27403  species   \n",
              "4 2022-04-02 11:12:42.368739+00:00             7909  species   \n",
              "5 2022-04-02 14:41:30.486432+00:00            31267  species   \n",
              "6 2022-04-02 14:59:14.096444+00:00             7412  species   \n",
              "7 2022-04-02 17:46:33.220130+00:00            31905  species   \n",
              "8 2022-04-04 14:55:28.984346+00:00            27389  species   \n",
              "9 2022-04-08 15:53:44.167690+00:00             1180  species   \n",
              "\n",
              "   TAXON_CONCEPT_ID       COMMON_NAME       SCIENTIFIC_NAME  \\\n",
              "0  avibase-1DA430B8          Blue Jay   Cyanocitta cristata   \n",
              "1  avibase-7AA076EF        Barred Owl           Strix varia   \n",
              "2  avibase-9C5ED06A       Wild Turkey   Meleagris gallopavo   \n",
              "3  avibase-8E1D9327       Wood Thrush  Hylocichla mustelina   \n",
              "4  avibase-EB98812F     Cooper's Hawk    Accipiter cooperii   \n",
              "5  avibase-B4EE123D      Purple Finch  Haemorhous purpureus   \n",
              "6  avibase-4FF7DE80     Black Vulture      Coragyps atratus   \n",
              "7  avibase-37E9CCDA  Chipping Sparrow    Spizella passerina   \n",
              "8  avibase-B01E8BD4     Hermit Thrush     Catharus guttatus   \n",
              "9  avibase-9C5ED06A       Wild Turkey   Meleagris gallopavo   \n",
              "\n",
              "  SUBSPECIES_COMMON_NAME SUBSPECIES_SCIENTIFIC_NAME  EXOTIC_CODE  ...  \\\n",
              "0                   None                       None         <NA>  ...   \n",
              "1                   None                       None         <NA>  ...   \n",
              "2                   None                       None         <NA>  ...   \n",
              "3                   None                       None         <NA>  ...   \n",
              "4                   None                       None         <NA>  ...   \n",
              "5                   None                       None         <NA>  ...   \n",
              "6                   None                       None         <NA>  ...   \n",
              "7                   None                       None         <NA>  ...   \n",
              "8                   None                       None         <NA>  ...   \n",
              "9                   None                       None         <NA>  ...   \n",
              "\n",
              "   NUMBER_OBSERVERS ALL_SPECIES_REPORTED GROUP_IDENTIFIER HAS_MEDIA APPROVED  \\\n",
              "0                 1                    1             None         0        1   \n",
              "1                 1                    1             None         0        1   \n",
              "2                 1                    1             None         0        1   \n",
              "3                 1                    1             None         0        1   \n",
              "4                 1                    0             None         0        1   \n",
              "5                 1                    0             None         0        1   \n",
              "6                 1                    0             None         0        1   \n",
              "7                 1                    0             None         0        1   \n",
              "8                 2                    0             None         0        1   \n",
              "9                 5                    0             None         0        1   \n",
              "\n",
              "  REVIEWED REASON TRIP_COMMENTS  \\\n",
              "0        0   None          None   \n",
              "1        0   None          None   \n",
              "2        0   None          None   \n",
              "3        0   None          None   \n",
              "4        0   None          None   \n",
              "5        0   None          None   \n",
              "6        0   None          None   \n",
              "7        0   None          None   \n",
              "8        0   None          None   \n",
              "9        0   None          None   \n",
              "\n",
              "                                    SPECIES_COMMENTS string_field_49  \n",
              "0                                               None            None  \n",
              "1                                               None            None  \n",
              "2                                               None            None  \n",
              "3                                               None            None  \n",
              "4                                               None            None  \n",
              "5                                               Male            None  \n",
              "6                                               None            None  \n",
              "7                                               None            None  \n",
              "8                                               None            None  \n",
              "9  Tall brown bird of classic turkey silhouette a...            None  \n",
              "\n",
              "[10 rows x 50 columns]"
            ],
            "text/html": [
              "\n",
              "  <div id=\"df-206a626c-82f6-4b3a-b4ff-473bc46c4e91\" class=\"colab-df-container\">\n",
              "    <div>\n",
              "<style scoped>\n",
              "    .dataframe tbody tr th:only-of-type {\n",
              "        vertical-align: middle;\n",
              "    }\n",
              "\n",
              "    .dataframe tbody tr th {\n",
              "        vertical-align: top;\n",
              "    }\n",
              "\n",
              "    .dataframe thead th {\n",
              "        text-align: right;\n",
              "    }\n",
              "</style>\n",
              "<table border=\"1\" class=\"dataframe\">\n",
              "  <thead>\n",
              "    <tr style=\"text-align: right;\">\n",
              "      <th></th>\n",
              "      <th>GLOBAL_UNIQUE_IDENTIFIER</th>\n",
              "      <th>LAST_EDITED_DATE</th>\n",
              "      <th>TAXONOMIC_ORDER</th>\n",
              "      <th>CATEGORY</th>\n",
              "      <th>TAXON_CONCEPT_ID</th>\n",
              "      <th>COMMON_NAME</th>\n",
              "      <th>SCIENTIFIC_NAME</th>\n",
              "      <th>SUBSPECIES_COMMON_NAME</th>\n",
              "      <th>SUBSPECIES_SCIENTIFIC_NAME</th>\n",
              "      <th>EXOTIC_CODE</th>\n",
              "      <th>...</th>\n",
              "      <th>NUMBER_OBSERVERS</th>\n",
              "      <th>ALL_SPECIES_REPORTED</th>\n",
              "      <th>GROUP_IDENTIFIER</th>\n",
              "      <th>HAS_MEDIA</th>\n",
              "      <th>APPROVED</th>\n",
              "      <th>REVIEWED</th>\n",
              "      <th>REASON</th>\n",
              "      <th>TRIP_COMMENTS</th>\n",
              "      <th>SPECIES_COMMENTS</th>\n",
              "      <th>string_field_49</th>\n",
              "    </tr>\n",
              "  </thead>\n",
              "  <tbody>\n",
              "    <tr>\n",
              "      <th>0</th>\n",
              "      <td>URN:CornellLabOfOrnithology:EBIRD:OBS1380605933</td>\n",
              "      <td>2022-04-02 09:55:59.208261+00:00</td>\n",
              "      <td>20496</td>\n",
              "      <td>species</td>\n",
              "      <td>avibase-1DA430B8</td>\n",
              "      <td>Blue Jay</td>\n",
              "      <td>Cyanocitta cristata</td>\n",
              "      <td>None</td>\n",
              "      <td>None</td>\n",
              "      <td>&lt;NA&gt;</td>\n",
              "      <td>...</td>\n",
              "      <td>1</td>\n",
              "      <td>1</td>\n",
              "      <td>None</td>\n",
              "      <td>0</td>\n",
              "      <td>1</td>\n",
              "      <td>0</td>\n",
              "      <td>None</td>\n",
              "      <td>None</td>\n",
              "      <td>None</td>\n",
              "      <td>None</td>\n",
              "    </tr>\n",
              "    <tr>\n",
              "      <th>1</th>\n",
              "      <td>URN:CornellLabOfOrnithology:EBIRD:OBS1380605935</td>\n",
              "      <td>2022-04-02 09:55:59.212963+00:00</td>\n",
              "      <td>8773</td>\n",
              "      <td>species</td>\n",
              "      <td>avibase-7AA076EF</td>\n",
              "      <td>Barred Owl</td>\n",
              "      <td>Strix varia</td>\n",
              "      <td>None</td>\n",
              "      <td>None</td>\n",
              "      <td>&lt;NA&gt;</td>\n",
              "      <td>...</td>\n",
              "      <td>1</td>\n",
              "      <td>1</td>\n",
              "      <td>None</td>\n",
              "      <td>0</td>\n",
              "      <td>1</td>\n",
              "      <td>0</td>\n",
              "      <td>None</td>\n",
              "      <td>None</td>\n",
              "      <td>None</td>\n",
              "      <td>None</td>\n",
              "    </tr>\n",
              "    <tr>\n",
              "      <th>2</th>\n",
              "      <td>URN:CornellLabOfOrnithology:EBIRD:OBS1380605934</td>\n",
              "      <td>2022-04-02 09:55:59.209422+00:00</td>\n",
              "      <td>1180</td>\n",
              "      <td>species</td>\n",
              "      <td>avibase-9C5ED06A</td>\n",
              "      <td>Wild Turkey</td>\n",
              "      <td>Meleagris gallopavo</td>\n",
              "      <td>None</td>\n",
              "      <td>None</td>\n",
              "      <td>&lt;NA&gt;</td>\n",
              "      <td>...</td>\n",
              "      <td>1</td>\n",
              "      <td>1</td>\n",
              "      <td>None</td>\n",
              "      <td>0</td>\n",
              "      <td>1</td>\n",
              "      <td>0</td>\n",
              "      <td>None</td>\n",
              "      <td>None</td>\n",
              "      <td>None</td>\n",
              "      <td>None</td>\n",
              "    </tr>\n",
              "    <tr>\n",
              "      <th>3</th>\n",
              "      <td>URN:CornellLabOfOrnithology:EBIRD:OBS1380605936</td>\n",
              "      <td>2022-04-02 09:55:59.214060+00:00</td>\n",
              "      <td>27403</td>\n",
              "      <td>species</td>\n",
              "      <td>avibase-8E1D9327</td>\n",
              "      <td>Wood Thrush</td>\n",
              "      <td>Hylocichla mustelina</td>\n",
              "      <td>None</td>\n",
              "      <td>None</td>\n",
              "      <td>&lt;NA&gt;</td>\n",
              "      <td>...</td>\n",
              "      <td>1</td>\n",
              "      <td>1</td>\n",
              "      <td>None</td>\n",
              "      <td>0</td>\n",
              "      <td>1</td>\n",
              "      <td>0</td>\n",
              "      <td>None</td>\n",
              "      <td>None</td>\n",
              "      <td>None</td>\n",
              "      <td>None</td>\n",
              "    </tr>\n",
              "    <tr>\n",
              "      <th>4</th>\n",
              "      <td>URN:CornellLabOfOrnithology:EBIRD:OBS1380683993</td>\n",
              "      <td>2022-04-02 11:12:42.368739+00:00</td>\n",
              "      <td>7909</td>\n",
              "      <td>species</td>\n",
              "      <td>avibase-EB98812F</td>\n",
              "      <td>Cooper's Hawk</td>\n",
              "      <td>Accipiter cooperii</td>\n",
              "      <td>None</td>\n",
              "      <td>None</td>\n",
              "      <td>&lt;NA&gt;</td>\n",
              "      <td>...</td>\n",
              "      <td>1</td>\n",
              "      <td>0</td>\n",
              "      <td>None</td>\n",
              "      <td>0</td>\n",
              "      <td>1</td>\n",
              "      <td>0</td>\n",
              "      <td>None</td>\n",
              "      <td>None</td>\n",
              "      <td>None</td>\n",
              "      <td>None</td>\n",
              "    </tr>\n",
              "    <tr>\n",
              "      <th>5</th>\n",
              "      <td>URN:CornellLabOfOrnithology:EBIRD:OBS1380953818</td>\n",
              "      <td>2022-04-02 14:41:30.486432+00:00</td>\n",
              "      <td>31267</td>\n",
              "      <td>species</td>\n",
              "      <td>avibase-B4EE123D</td>\n",
              "      <td>Purple Finch</td>\n",
              "      <td>Haemorhous purpureus</td>\n",
              "      <td>None</td>\n",
              "      <td>None</td>\n",
              "      <td>&lt;NA&gt;</td>\n",
              "      <td>...</td>\n",
              "      <td>1</td>\n",
              "      <td>0</td>\n",
              "      <td>None</td>\n",
              "      <td>0</td>\n",
              "      <td>1</td>\n",
              "      <td>0</td>\n",
              "      <td>None</td>\n",
              "      <td>None</td>\n",
              "      <td>Male</td>\n",
              "      <td>None</td>\n",
              "    </tr>\n",
              "    <tr>\n",
              "      <th>6</th>\n",
              "      <td>URN:CornellLabOfOrnithology:EBIRD:OBS1380974027</td>\n",
              "      <td>2022-04-02 14:59:14.096444+00:00</td>\n",
              "      <td>7412</td>\n",
              "      <td>species</td>\n",
              "      <td>avibase-4FF7DE80</td>\n",
              "      <td>Black Vulture</td>\n",
              "      <td>Coragyps atratus</td>\n",
              "      <td>None</td>\n",
              "      <td>None</td>\n",
              "      <td>&lt;NA&gt;</td>\n",
              "      <td>...</td>\n",
              "      <td>1</td>\n",
              "      <td>0</td>\n",
              "      <td>None</td>\n",
              "      <td>0</td>\n",
              "      <td>1</td>\n",
              "      <td>0</td>\n",
              "      <td>None</td>\n",
              "      <td>None</td>\n",
              "      <td>None</td>\n",
              "      <td>None</td>\n",
              "    </tr>\n",
              "    <tr>\n",
              "      <th>7</th>\n",
              "      <td>URN:CornellLabOfOrnithology:EBIRD:OBS1381139222</td>\n",
              "      <td>2022-04-02 17:46:33.220130+00:00</td>\n",
              "      <td>31905</td>\n",
              "      <td>species</td>\n",
              "      <td>avibase-37E9CCDA</td>\n",
              "      <td>Chipping Sparrow</td>\n",
              "      <td>Spizella passerina</td>\n",
              "      <td>None</td>\n",
              "      <td>None</td>\n",
              "      <td>&lt;NA&gt;</td>\n",
              "      <td>...</td>\n",
              "      <td>1</td>\n",
              "      <td>0</td>\n",
              "      <td>None</td>\n",
              "      <td>0</td>\n",
              "      <td>1</td>\n",
              "      <td>0</td>\n",
              "      <td>None</td>\n",
              "      <td>None</td>\n",
              "      <td>None</td>\n",
              "      <td>None</td>\n",
              "    </tr>\n",
              "    <tr>\n",
              "      <th>8</th>\n",
              "      <td>URN:CornellLabOfOrnithology:EBIRD:OBS1383013775</td>\n",
              "      <td>2022-04-04 14:55:28.984346+00:00</td>\n",
              "      <td>27389</td>\n",
              "      <td>species</td>\n",
              "      <td>avibase-B01E8BD4</td>\n",
              "      <td>Hermit Thrush</td>\n",
              "      <td>Catharus guttatus</td>\n",
              "      <td>None</td>\n",
              "      <td>None</td>\n",
              "      <td>&lt;NA&gt;</td>\n",
              "      <td>...</td>\n",
              "      <td>2</td>\n",
              "      <td>0</td>\n",
              "      <td>None</td>\n",
              "      <td>0</td>\n",
              "      <td>1</td>\n",
              "      <td>0</td>\n",
              "      <td>None</td>\n",
              "      <td>None</td>\n",
              "      <td>None</td>\n",
              "      <td>None</td>\n",
              "    </tr>\n",
              "    <tr>\n",
              "      <th>9</th>\n",
              "      <td>URN:CornellLabOfOrnithology:EBIRD:OBS1386285800</td>\n",
              "      <td>2022-04-08 15:53:44.167690+00:00</td>\n",
              "      <td>1180</td>\n",
              "      <td>species</td>\n",
              "      <td>avibase-9C5ED06A</td>\n",
              "      <td>Wild Turkey</td>\n",
              "      <td>Meleagris gallopavo</td>\n",
              "      <td>None</td>\n",
              "      <td>None</td>\n",
              "      <td>&lt;NA&gt;</td>\n",
              "      <td>...</td>\n",
              "      <td>5</td>\n",
              "      <td>0</td>\n",
              "      <td>None</td>\n",
              "      <td>0</td>\n",
              "      <td>1</td>\n",
              "      <td>0</td>\n",
              "      <td>None</td>\n",
              "      <td>None</td>\n",
              "      <td>Tall brown bird of classic turkey silhouette a...</td>\n",
              "      <td>None</td>\n",
              "    </tr>\n",
              "  </tbody>\n",
              "</table>\n",
              "<p>10 rows × 50 columns</p>\n",
              "</div>\n",
              "    <div class=\"colab-df-buttons\">\n",
              "\n",
              "  <div class=\"colab-df-container\">\n",
              "    <button class=\"colab-df-convert\" onclick=\"convertToInteractive('df-206a626c-82f6-4b3a-b4ff-473bc46c4e91')\"\n",
              "            title=\"Convert this dataframe to an interactive table.\"\n",
              "            style=\"display:none;\">\n",
              "\n",
              "  <svg xmlns=\"http://www.w3.org/2000/svg\" height=\"24px\" viewBox=\"0 -960 960 960\">\n",
              "    <path d=\"M120-120v-720h720v720H120Zm60-500h600v-160H180v160Zm220 220h160v-160H400v160Zm0 220h160v-160H400v160ZM180-400h160v-160H180v160Zm440 0h160v-160H620v160ZM180-180h160v-160H180v160Zm440 0h160v-160H620v160Z\"/>\n",
              "  </svg>\n",
              "    </button>\n",
              "\n",
              "  <style>\n",
              "    .colab-df-container {\n",
              "      display:flex;\n",
              "      gap: 12px;\n",
              "    }\n",
              "\n",
              "    .colab-df-convert {\n",
              "      background-color: #E8F0FE;\n",
              "      border: none;\n",
              "      border-radius: 50%;\n",
              "      cursor: pointer;\n",
              "      display: none;\n",
              "      fill: #1967D2;\n",
              "      height: 32px;\n",
              "      padding: 0 0 0 0;\n",
              "      width: 32px;\n",
              "    }\n",
              "\n",
              "    .colab-df-convert:hover {\n",
              "      background-color: #E2EBFA;\n",
              "      box-shadow: 0px 1px 2px rgba(60, 64, 67, 0.3), 0px 1px 3px 1px rgba(60, 64, 67, 0.15);\n",
              "      fill: #174EA6;\n",
              "    }\n",
              "\n",
              "    .colab-df-buttons div {\n",
              "      margin-bottom: 4px;\n",
              "    }\n",
              "\n",
              "    [theme=dark] .colab-df-convert {\n",
              "      background-color: #3B4455;\n",
              "      fill: #D2E3FC;\n",
              "    }\n",
              "\n",
              "    [theme=dark] .colab-df-convert:hover {\n",
              "      background-color: #434B5C;\n",
              "      box-shadow: 0px 1px 3px 1px rgba(0, 0, 0, 0.15);\n",
              "      filter: drop-shadow(0px 1px 2px rgba(0, 0, 0, 0.3));\n",
              "      fill: #FFFFFF;\n",
              "    }\n",
              "  </style>\n",
              "\n",
              "    <script>\n",
              "      const buttonEl =\n",
              "        document.querySelector('#df-206a626c-82f6-4b3a-b4ff-473bc46c4e91 button.colab-df-convert');\n",
              "      buttonEl.style.display =\n",
              "        google.colab.kernel.accessAllowed ? 'block' : 'none';\n",
              "\n",
              "      async function convertToInteractive(key) {\n",
              "        const element = document.querySelector('#df-206a626c-82f6-4b3a-b4ff-473bc46c4e91');\n",
              "        const dataTable =\n",
              "          await google.colab.kernel.invokeFunction('convertToInteractive',\n",
              "                                                    [key], {});\n",
              "        if (!dataTable) return;\n",
              "\n",
              "        const docLinkHtml = 'Like what you see? Visit the ' +\n",
              "          '<a target=\"_blank\" href=https://colab.research.google.com/notebooks/data_table.ipynb>data table notebook</a>'\n",
              "          + ' to learn more about interactive tables.';\n",
              "        element.innerHTML = '';\n",
              "        dataTable['output_type'] = 'display_data';\n",
              "        await google.colab.output.renderOutput(dataTable, element);\n",
              "        const docLink = document.createElement('div');\n",
              "        docLink.innerHTML = docLinkHtml;\n",
              "        element.appendChild(docLink);\n",
              "      }\n",
              "    </script>\n",
              "  </div>\n",
              "\n",
              "\n",
              "<div id=\"df-900303f1-4f25-4b1b-a76b-eeae2211b722\">\n",
              "  <button class=\"colab-df-quickchart\" onclick=\"quickchart('df-900303f1-4f25-4b1b-a76b-eeae2211b722')\"\n",
              "            title=\"Suggest charts\"\n",
              "            style=\"display:none;\">\n",
              "\n",
              "<svg xmlns=\"http://www.w3.org/2000/svg\" height=\"24px\"viewBox=\"0 0 24 24\"\n",
              "     width=\"24px\">\n",
              "    <g>\n",
              "        <path d=\"M19 3H5c-1.1 0-2 .9-2 2v14c0 1.1.9 2 2 2h14c1.1 0 2-.9 2-2V5c0-1.1-.9-2-2-2zM9 17H7v-7h2v7zm4 0h-2V7h2v10zm4 0h-2v-4h2v4z\"/>\n",
              "    </g>\n",
              "</svg>\n",
              "  </button>\n",
              "\n",
              "<style>\n",
              "  .colab-df-quickchart {\n",
              "      --bg-color: #E8F0FE;\n",
              "      --fill-color: #1967D2;\n",
              "      --hover-bg-color: #E2EBFA;\n",
              "      --hover-fill-color: #174EA6;\n",
              "      --disabled-fill-color: #AAA;\n",
              "      --disabled-bg-color: #DDD;\n",
              "  }\n",
              "\n",
              "  [theme=dark] .colab-df-quickchart {\n",
              "      --bg-color: #3B4455;\n",
              "      --fill-color: #D2E3FC;\n",
              "      --hover-bg-color: #434B5C;\n",
              "      --hover-fill-color: #FFFFFF;\n",
              "      --disabled-bg-color: #3B4455;\n",
              "      --disabled-fill-color: #666;\n",
              "  }\n",
              "\n",
              "  .colab-df-quickchart {\n",
              "    background-color: var(--bg-color);\n",
              "    border: none;\n",
              "    border-radius: 50%;\n",
              "    cursor: pointer;\n",
              "    display: none;\n",
              "    fill: var(--fill-color);\n",
              "    height: 32px;\n",
              "    padding: 0;\n",
              "    width: 32px;\n",
              "  }\n",
              "\n",
              "  .colab-df-quickchart:hover {\n",
              "    background-color: var(--hover-bg-color);\n",
              "    box-shadow: 0 1px 2px rgba(60, 64, 67, 0.3), 0 1px 3px 1px rgba(60, 64, 67, 0.15);\n",
              "    fill: var(--button-hover-fill-color);\n",
              "  }\n",
              "\n",
              "  .colab-df-quickchart-complete:disabled,\n",
              "  .colab-df-quickchart-complete:disabled:hover {\n",
              "    background-color: var(--disabled-bg-color);\n",
              "    fill: var(--disabled-fill-color);\n",
              "    box-shadow: none;\n",
              "  }\n",
              "\n",
              "  .colab-df-spinner {\n",
              "    border: 2px solid var(--fill-color);\n",
              "    border-color: transparent;\n",
              "    border-bottom-color: var(--fill-color);\n",
              "    animation:\n",
              "      spin 1s steps(1) infinite;\n",
              "  }\n",
              "\n",
              "  @keyframes spin {\n",
              "    0% {\n",
              "      border-color: transparent;\n",
              "      border-bottom-color: var(--fill-color);\n",
              "      border-left-color: var(--fill-color);\n",
              "    }\n",
              "    20% {\n",
              "      border-color: transparent;\n",
              "      border-left-color: var(--fill-color);\n",
              "      border-top-color: var(--fill-color);\n",
              "    }\n",
              "    30% {\n",
              "      border-color: transparent;\n",
              "      border-left-color: var(--fill-color);\n",
              "      border-top-color: var(--fill-color);\n",
              "      border-right-color: var(--fill-color);\n",
              "    }\n",
              "    40% {\n",
              "      border-color: transparent;\n",
              "      border-right-color: var(--fill-color);\n",
              "      border-top-color: var(--fill-color);\n",
              "    }\n",
              "    60% {\n",
              "      border-color: transparent;\n",
              "      border-right-color: var(--fill-color);\n",
              "    }\n",
              "    80% {\n",
              "      border-color: transparent;\n",
              "      border-right-color: var(--fill-color);\n",
              "      border-bottom-color: var(--fill-color);\n",
              "    }\n",
              "    90% {\n",
              "      border-color: transparent;\n",
              "      border-bottom-color: var(--fill-color);\n",
              "    }\n",
              "  }\n",
              "</style>\n",
              "\n",
              "  <script>\n",
              "    async function quickchart(key) {\n",
              "      const quickchartButtonEl =\n",
              "        document.querySelector('#' + key + ' button');\n",
              "      quickchartButtonEl.disabled = true;  // To prevent multiple clicks.\n",
              "      quickchartButtonEl.classList.add('colab-df-spinner');\n",
              "      try {\n",
              "        const charts = await google.colab.kernel.invokeFunction(\n",
              "            'suggestCharts', [key], {});\n",
              "      } catch (error) {\n",
              "        console.error('Error during call to suggestCharts:', error);\n",
              "      }\n",
              "      quickchartButtonEl.classList.remove('colab-df-spinner');\n",
              "      quickchartButtonEl.classList.add('colab-df-quickchart-complete');\n",
              "    }\n",
              "    (() => {\n",
              "      let quickchartButtonEl =\n",
              "        document.querySelector('#df-900303f1-4f25-4b1b-a76b-eeae2211b722 button');\n",
              "      quickchartButtonEl.style.display =\n",
              "        google.colab.kernel.accessAllowed ? 'block' : 'none';\n",
              "    })();\n",
              "  </script>\n",
              "</div>\n",
              "    </div>\n",
              "  </div>\n"
            ]
          },
          "metadata": {},
          "execution_count": 18
        }
      ]
    },
    {
      "cell_type": "markdown",
      "source": [
        "## Phase 2:\n"
      ],
      "metadata": {
        "id": "lkpoRxk3fybv"
      }
    },
    {
      "cell_type": "markdown",
      "source": [
        "1. compress the CSV file with gzip\n",
        "1. upload the compressed CSV file to GS\n",
        "1. import into BQ\n",
        "\n"
      ],
      "metadata": {
        "id": "h5CT6kNghaDk"
      }
    },
    {
      "cell_type": "code",
      "source": [
        "!ls -la {file}"
      ],
      "metadata": {
        "id": "Dy-jVWCUhs5w",
        "outputId": "3ffd8c74-80e2-495e-b7cd-e2d9fb6e369a",
        "colab": {
          "base_uri": "https://localhost:8080/"
        }
      },
      "execution_count": null,
      "outputs": [
        {
          "output_type": "stream",
          "name": "stdout",
          "text": [
            "-rw-r--r-- 1 root root 504698 May 19  2022 ebd_US-AL-101_202204_202204_relApr-2022_SAMPLE/ebd_US-AL-101_202204_202204_relApr-2022.txt\n"
          ]
        }
      ]
    },
    {
      "cell_type": "code",
      "source": [
        "!gzip {file}"
      ],
      "metadata": {
        "id": "wK2pHlSchs2y"
      },
      "execution_count": null,
      "outputs": []
    },
    {
      "cell_type": "code",
      "source": [
        "!ls -la {file}.gz\n"
      ],
      "metadata": {
        "id": "PsiKTqgqhsze",
        "outputId": "966f2e52-cd27-4cb1-8ce6-f4e6cc8010c1",
        "colab": {
          "base_uri": "https://localhost:8080/"
        }
      },
      "execution_count": null,
      "outputs": [
        {
          "output_type": "stream",
          "name": "stdout",
          "text": [
            "-rw-r--r-- 1 root root 60011 May 19  2022 ebd_US-AL-101_202204_202204_relApr-2022_SAMPLE/ebd_US-AL-101_202204_202204_relApr-2022.txt.gz\n"
          ]
        }
      ]
    },
    {
      "cell_type": "code",
      "source": [
        "!gcloud storage cp {file}.gz gs://c11-ebird/"
      ],
      "metadata": {
        "outputId": "620d4abf-8467-4fda-c46b-aa73519d7679",
        "colab": {
          "base_uri": "https://localhost:8080/"
        },
        "id": "_Zm7mPkriFTs"
      },
      "execution_count": null,
      "outputs": [
        {
          "output_type": "stream",
          "name": "stdout",
          "text": [
            "Copying file://ebd_US-AL-101_202204_202204_relApr-2022_SAMPLE/ebd_US-AL-101_202204_202204_relApr-2022.txt.gz to gs://c11-ebird/ebd_US-AL-101_202204_202204_relApr-2022.txt.gz\n"
          ]
        }
      ]
    },
    {
      "cell_type": "code",
      "source": [
        "%%bash\n",
        "gcloud storage ls -l gs://${GOOGLE_CLOUD_BUCKET}/"
      ],
      "metadata": {
        "outputId": "4359882d-4eeb-44ac-f952-461148b9d5c7",
        "colab": {
          "base_uri": "https://localhost:8080/"
        },
        "id": "ZOUXwAYGiFT1"
      },
      "execution_count": null,
      "outputs": [
        {
          "output_type": "stream",
          "name": "stdout",
          "text": [
            "1032617810  2023-11-22T14:27:03Z  gs://c11-ebird/data.nm.txt.gz\n",
            "    504698  2023-11-21T23:28:26Z  gs://c11-ebird/ebd_US-AL-101_202204_202204_relApr-2022.txt\n",
            "27103974002  2023-11-22T08:07:44Z  gs://c11-ebird/ebd_sampling_relSep-2023.txt\n",
            "4815040900  2023-11-22T07:20:39Z  gs://c11-ebird/ebd_sampling_relSep-2023.txt.gz\n",
            "TOTAL: 4 objects, 32952137410 bytes (30.69GiB)\n"
          ]
        }
      ]
    },
    {
      "cell_type": "code",
      "source": [],
      "metadata": {
        "id": "QUyCl118h_My"
      },
      "execution_count": null,
      "outputs": []
    },
    {
      "cell_type": "code",
      "source": [
        "!bq ls {project_id}:ebird"
      ],
      "metadata": {
        "outputId": "1edad956-39c9-4b2c-9698-464cac4c2c09",
        "colab": {
          "base_uri": "https://localhost:8080/"
        },
        "id": "IgzimhdQiR6U"
      },
      "execution_count": null,
      "outputs": [
        {
          "output_type": "stream",
          "name": "stdout",
          "text": [
            "          tableId            Type    Labels   Time Partitioning   Clustered Fields  \n",
            " -------------------------- ------- -------- ------------------- ------------------ \n",
            "  ebd_NM_relSep_2023         TABLE                                                  \n",
            "  ebd_sampling_relSep_2023   TABLE                                                  \n",
            "  ebird_small                TABLE                                                  \n",
            "  ebird_small_2              TABLE                                                  \n"
          ]
        }
      ]
    },
    {
      "cell_type": "code",
      "source": [
        "!bq rm -f {project_id}:ebird.ebird_small_3"
      ],
      "metadata": {
        "id": "OEKCyir4iR6V"
      },
      "execution_count": null,
      "outputs": []
    },
    {
      "cell_type": "code",
      "source": [
        "%%bash\n",
        "bq --project_id=${GOOGLE_CLOUD_PROJECT} \\\n",
        "  load \\\n",
        "  --source_format=CSV \\\n",
        "  --field_delimiter='\\t' \\\n",
        "  --autodetect \\\n",
        "  --skip_leading_rows=1 \\\n",
        "  ebird.ebird_small_3 \\\n",
        "  gs://${GOOGLE_CLOUD_BUCKET}/ebd_US-AL-101_202204_202204_relApr-2022.txt.gz\n"
      ],
      "metadata": {
        "outputId": "4ebfc192-c3da-4fbd-9241-ac9af3a01ed1",
        "colab": {
          "base_uri": "https://localhost:8080/",
          "height": 494
        },
        "id": "J8iY2pAqiR6W"
      },
      "execution_count": null,
      "outputs": [
        {
          "output_type": "stream",
          "name": "stdout",
          "text": [
            "BigQuery error in load operation: Error processing job\n",
            "'default-256400:bqjob_r6fc80c33e33569d1_0000018bf824e293_1': Not found: URI\n",
            "gs://c11-ebird/ebd_US-AL-101_202204_202204_relApr-2022.txt.gz\n"
          ]
        },
        {
          "output_type": "stream",
          "name": "stderr",
          "text": [
            "\rWaiting on bqjob_r6fc80c33e33569d1_0000018bf824e293_1 ... (0s) Current status: DONE   \n"
          ]
        },
        {
          "output_type": "error",
          "ename": "CalledProcessError",
          "evalue": "ignored",
          "traceback": [
            "\u001b[0;31m---------------------------------------------------------------------------\u001b[0m",
            "\u001b[0;31mCalledProcessError\u001b[0m                        Traceback (most recent call last)",
            "\u001b[0;32m<ipython-input-20-8c4dcf900e50>\u001b[0m in \u001b[0;36m<cell line: 1>\u001b[0;34m()\u001b[0m\n\u001b[0;32m----> 1\u001b[0;31m \u001b[0mget_ipython\u001b[0m\u001b[0;34m(\u001b[0m\u001b[0;34m)\u001b[0m\u001b[0;34m.\u001b[0m\u001b[0mrun_cell_magic\u001b[0m\u001b[0;34m(\u001b[0m\u001b[0;34m'bash'\u001b[0m\u001b[0;34m,\u001b[0m \u001b[0;34m''\u001b[0m\u001b[0;34m,\u001b[0m \u001b[0;34m\"bq --project_id=${GOOGLE_CLOUD_PROJECT} \\\\\\n  load \\\\\\n  --source_format=CSV \\\\\\n  --field_delimiter='\\\\t' \\\\\\n  --autodetect \\\\\\n  --skip_leading_rows=1 \\\\\\n  ebird.ebird_small_3 \\\\\\n  gs://c11-ebird/ebd_US-AL-101_202204_202204_relApr-2022.txt.gz\\n\"\u001b[0m\u001b[0;34m)\u001b[0m\u001b[0;34m\u001b[0m\u001b[0;34m\u001b[0m\u001b[0m\n\u001b[0m",
            "\u001b[0;32m/usr/local/lib/python3.10/dist-packages/google/colab/_shell.py\u001b[0m in \u001b[0;36mrun_cell_magic\u001b[0;34m(self, magic_name, line, cell)\u001b[0m\n\u001b[1;32m    332\u001b[0m     \u001b[0;32mif\u001b[0m \u001b[0mline\u001b[0m \u001b[0;32mand\u001b[0m \u001b[0;32mnot\u001b[0m \u001b[0mcell\u001b[0m\u001b[0;34m:\u001b[0m\u001b[0;34m\u001b[0m\u001b[0;34m\u001b[0m\u001b[0m\n\u001b[1;32m    333\u001b[0m       \u001b[0mcell\u001b[0m \u001b[0;34m=\u001b[0m \u001b[0;34m' '\u001b[0m\u001b[0;34m\u001b[0m\u001b[0;34m\u001b[0m\u001b[0m\n\u001b[0;32m--> 334\u001b[0;31m     \u001b[0;32mreturn\u001b[0m \u001b[0msuper\u001b[0m\u001b[0;34m(\u001b[0m\u001b[0;34m)\u001b[0m\u001b[0;34m.\u001b[0m\u001b[0mrun_cell_magic\u001b[0m\u001b[0;34m(\u001b[0m\u001b[0mmagic_name\u001b[0m\u001b[0;34m,\u001b[0m \u001b[0mline\u001b[0m\u001b[0;34m,\u001b[0m \u001b[0mcell\u001b[0m\u001b[0;34m)\u001b[0m\u001b[0;34m\u001b[0m\u001b[0;34m\u001b[0m\u001b[0m\n\u001b[0m\u001b[1;32m    335\u001b[0m \u001b[0;34m\u001b[0m\u001b[0m\n\u001b[1;32m    336\u001b[0m \u001b[0;34m\u001b[0m\u001b[0m\n",
            "\u001b[0;32m/usr/local/lib/python3.10/dist-packages/IPython/core/interactiveshell.py\u001b[0m in \u001b[0;36mrun_cell_magic\u001b[0;34m(self, magic_name, line, cell)\u001b[0m\n\u001b[1;32m   2471\u001b[0m             \u001b[0;32mwith\u001b[0m \u001b[0mself\u001b[0m\u001b[0;34m.\u001b[0m\u001b[0mbuiltin_trap\u001b[0m\u001b[0;34m:\u001b[0m\u001b[0;34m\u001b[0m\u001b[0;34m\u001b[0m\u001b[0m\n\u001b[1;32m   2472\u001b[0m                 \u001b[0margs\u001b[0m \u001b[0;34m=\u001b[0m \u001b[0;34m(\u001b[0m\u001b[0mmagic_arg_s\u001b[0m\u001b[0;34m,\u001b[0m \u001b[0mcell\u001b[0m\u001b[0;34m)\u001b[0m\u001b[0;34m\u001b[0m\u001b[0;34m\u001b[0m\u001b[0m\n\u001b[0;32m-> 2473\u001b[0;31m                 \u001b[0mresult\u001b[0m \u001b[0;34m=\u001b[0m \u001b[0mfn\u001b[0m\u001b[0;34m(\u001b[0m\u001b[0;34m*\u001b[0m\u001b[0margs\u001b[0m\u001b[0;34m,\u001b[0m \u001b[0;34m**\u001b[0m\u001b[0mkwargs\u001b[0m\u001b[0;34m)\u001b[0m\u001b[0;34m\u001b[0m\u001b[0;34m\u001b[0m\u001b[0m\n\u001b[0m\u001b[1;32m   2474\u001b[0m             \u001b[0;32mreturn\u001b[0m \u001b[0mresult\u001b[0m\u001b[0;34m\u001b[0m\u001b[0;34m\u001b[0m\u001b[0m\n\u001b[1;32m   2475\u001b[0m \u001b[0;34m\u001b[0m\u001b[0m\n",
            "\u001b[0;32m/usr/local/lib/python3.10/dist-packages/IPython/core/magics/script.py\u001b[0m in \u001b[0;36mnamed_script_magic\u001b[0;34m(line, cell)\u001b[0m\n\u001b[1;32m    140\u001b[0m             \u001b[0;32melse\u001b[0m\u001b[0;34m:\u001b[0m\u001b[0;34m\u001b[0m\u001b[0;34m\u001b[0m\u001b[0m\n\u001b[1;32m    141\u001b[0m                 \u001b[0mline\u001b[0m \u001b[0;34m=\u001b[0m \u001b[0mscript\u001b[0m\u001b[0;34m\u001b[0m\u001b[0;34m\u001b[0m\u001b[0m\n\u001b[0;32m--> 142\u001b[0;31m             \u001b[0;32mreturn\u001b[0m \u001b[0mself\u001b[0m\u001b[0;34m.\u001b[0m\u001b[0mshebang\u001b[0m\u001b[0;34m(\u001b[0m\u001b[0mline\u001b[0m\u001b[0;34m,\u001b[0m \u001b[0mcell\u001b[0m\u001b[0;34m)\u001b[0m\u001b[0;34m\u001b[0m\u001b[0;34m\u001b[0m\u001b[0m\n\u001b[0m\u001b[1;32m    143\u001b[0m \u001b[0;34m\u001b[0m\u001b[0m\n\u001b[1;32m    144\u001b[0m         \u001b[0;31m# write a basic docstring:\u001b[0m\u001b[0;34m\u001b[0m\u001b[0;34m\u001b[0m\u001b[0m\n",
            "\u001b[0;32m<decorator-gen-103>\u001b[0m in \u001b[0;36mshebang\u001b[0;34m(self, line, cell)\u001b[0m\n",
            "\u001b[0;32m/usr/local/lib/python3.10/dist-packages/IPython/core/magic.py\u001b[0m in \u001b[0;36m<lambda>\u001b[0;34m(f, *a, **k)\u001b[0m\n\u001b[1;32m    185\u001b[0m     \u001b[0;31m# but it's overkill for just that one bit of state.\u001b[0m\u001b[0;34m\u001b[0m\u001b[0;34m\u001b[0m\u001b[0m\n\u001b[1;32m    186\u001b[0m     \u001b[0;32mdef\u001b[0m \u001b[0mmagic_deco\u001b[0m\u001b[0;34m(\u001b[0m\u001b[0marg\u001b[0m\u001b[0;34m)\u001b[0m\u001b[0;34m:\u001b[0m\u001b[0;34m\u001b[0m\u001b[0;34m\u001b[0m\u001b[0m\n\u001b[0;32m--> 187\u001b[0;31m         \u001b[0mcall\u001b[0m \u001b[0;34m=\u001b[0m \u001b[0;32mlambda\u001b[0m \u001b[0mf\u001b[0m\u001b[0;34m,\u001b[0m \u001b[0;34m*\u001b[0m\u001b[0ma\u001b[0m\u001b[0;34m,\u001b[0m \u001b[0;34m**\u001b[0m\u001b[0mk\u001b[0m\u001b[0;34m:\u001b[0m \u001b[0mf\u001b[0m\u001b[0;34m(\u001b[0m\u001b[0;34m*\u001b[0m\u001b[0ma\u001b[0m\u001b[0;34m,\u001b[0m \u001b[0;34m**\u001b[0m\u001b[0mk\u001b[0m\u001b[0;34m)\u001b[0m\u001b[0;34m\u001b[0m\u001b[0;34m\u001b[0m\u001b[0m\n\u001b[0m\u001b[1;32m    188\u001b[0m \u001b[0;34m\u001b[0m\u001b[0m\n\u001b[1;32m    189\u001b[0m         \u001b[0;32mif\u001b[0m \u001b[0mcallable\u001b[0m\u001b[0;34m(\u001b[0m\u001b[0marg\u001b[0m\u001b[0;34m)\u001b[0m\u001b[0;34m:\u001b[0m\u001b[0;34m\u001b[0m\u001b[0;34m\u001b[0m\u001b[0m\n",
            "\u001b[0;32m/usr/local/lib/python3.10/dist-packages/IPython/core/magics/script.py\u001b[0m in \u001b[0;36mshebang\u001b[0;34m(self, line, cell)\u001b[0m\n\u001b[1;32m    243\u001b[0m             \u001b[0msys\u001b[0m\u001b[0;34m.\u001b[0m\u001b[0mstderr\u001b[0m\u001b[0;34m.\u001b[0m\u001b[0mflush\u001b[0m\u001b[0;34m(\u001b[0m\u001b[0;34m)\u001b[0m\u001b[0;34m\u001b[0m\u001b[0;34m\u001b[0m\u001b[0m\n\u001b[1;32m    244\u001b[0m         \u001b[0;32mif\u001b[0m \u001b[0margs\u001b[0m\u001b[0;34m.\u001b[0m\u001b[0mraise_error\u001b[0m \u001b[0;32mand\u001b[0m \u001b[0mp\u001b[0m\u001b[0;34m.\u001b[0m\u001b[0mreturncode\u001b[0m\u001b[0;34m!=\u001b[0m\u001b[0;36m0\u001b[0m\u001b[0;34m:\u001b[0m\u001b[0;34m\u001b[0m\u001b[0;34m\u001b[0m\u001b[0m\n\u001b[0;32m--> 245\u001b[0;31m             \u001b[0;32mraise\u001b[0m \u001b[0mCalledProcessError\u001b[0m\u001b[0;34m(\u001b[0m\u001b[0mp\u001b[0m\u001b[0;34m.\u001b[0m\u001b[0mreturncode\u001b[0m\u001b[0;34m,\u001b[0m \u001b[0mcell\u001b[0m\u001b[0;34m,\u001b[0m \u001b[0moutput\u001b[0m\u001b[0;34m=\u001b[0m\u001b[0mout\u001b[0m\u001b[0;34m,\u001b[0m \u001b[0mstderr\u001b[0m\u001b[0;34m=\u001b[0m\u001b[0merr\u001b[0m\u001b[0;34m)\u001b[0m\u001b[0;34m\u001b[0m\u001b[0;34m\u001b[0m\u001b[0m\n\u001b[0m\u001b[1;32m    246\u001b[0m \u001b[0;34m\u001b[0m\u001b[0m\n\u001b[1;32m    247\u001b[0m     \u001b[0;32mdef\u001b[0m \u001b[0m_run_script\u001b[0m\u001b[0;34m(\u001b[0m\u001b[0mself\u001b[0m\u001b[0;34m,\u001b[0m \u001b[0mp\u001b[0m\u001b[0;34m,\u001b[0m \u001b[0mcell\u001b[0m\u001b[0;34m,\u001b[0m \u001b[0mto_close\u001b[0m\u001b[0;34m)\u001b[0m\u001b[0;34m:\u001b[0m\u001b[0;34m\u001b[0m\u001b[0;34m\u001b[0m\u001b[0m\n",
            "\u001b[0;31mCalledProcessError\u001b[0m: Command 'b\"bq --project_id=${GOOGLE_CLOUD_PROJECT} \\\\\\n  load \\\\\\n  --source_format=CSV \\\\\\n  --field_delimiter='\\\\t' \\\\\\n  --autodetect \\\\\\n  --skip_leading_rows=1 \\\\\\n  ebird.ebird_small_3 \\\\\\n  gs://c11-ebird/ebd_US-AL-101_202204_202204_relApr-2022.txt.gz\\n\"' returned non-zero exit status 2."
          ]
        }
      ]
    },
    {
      "cell_type": "code",
      "source": [
        "!bq ls {project_id}:ebird"
      ],
      "metadata": {
        "outputId": "24bd44a0-6eb7-469a-c98b-5d18ef9b6691",
        "colab": {
          "base_uri": "https://localhost:8080/"
        },
        "id": "USt0zMNwiR6W"
      },
      "execution_count": null,
      "outputs": [
        {
          "output_type": "stream",
          "name": "stdout",
          "text": [
            "     tableId      Type    Labels   Time Partitioning   Clustered Fields  \n",
            " --------------- ------- -------- ------------------- ------------------ \n",
            "  ebird_small     TABLE                                                  \n",
            "  ebird_small_3   TABLE                                                  \n"
          ]
        }
      ]
    },
    {
      "cell_type": "code",
      "source": [
        "!bq rm -f {project_id}:ebird.ebird_small_3"
      ],
      "metadata": {
        "id": "5MsELpPQh-4Z"
      },
      "execution_count": null,
      "outputs": []
    },
    {
      "cell_type": "code",
      "source": [
        "!bq ls {project_id}:ebird"
      ],
      "metadata": {
        "id": "FDRM80n7h-1P",
        "outputId": "bb08c8cd-9b73-43ac-e9a4-02c362edf71f",
        "colab": {
          "base_uri": "https://localhost:8080/"
        }
      },
      "execution_count": null,
      "outputs": [
        {
          "output_type": "stream",
          "name": "stdout",
          "text": [
            "    tableId     Type    Labels   Time Partitioning   Clustered Fields  \n",
            " ------------- ------- -------- ------------------- ------------------ \n",
            "  ebird_small   TABLE                                                  \n"
          ]
        }
      ]
    },
    {
      "cell_type": "markdown",
      "source": [
        "## Phase 3:\n"
      ],
      "metadata": {
        "id": "juoFayQ5hTTc"
      }
    },
    {
      "cell_type": "markdown",
      "source": [
        "1. compress the CSV file with gzip\n",
        "1. create a tar file with the compressed CSV file\n",
        "1. untar and stream the compressed CSV file to GS\n",
        "1. import into BQ\n",
        "\n"
      ],
      "metadata": {
        "id": "9IBXXzOnhYH5"
      }
    },
    {
      "cell_type": "code",
      "source": [
        "!ls -la {file}.gz"
      ],
      "metadata": {
        "id": "ztY2o2P2jM_w",
        "outputId": "5c4c7ea0-e1c2-438b-b453-7a1a99afc030",
        "colab": {
          "base_uri": "https://localhost:8080/"
        }
      },
      "execution_count": null,
      "outputs": [
        {
          "output_type": "stream",
          "name": "stdout",
          "text": [
            "-rw-r--r-- 1 root root 60011 May 19  2022 ebd_US-AL-101_202204_202204_relApr-2022_SAMPLE/ebd_US-AL-101_202204_202204_relApr-2022.txt.gz\n"
          ]
        }
      ]
    },
    {
      "cell_type": "markdown",
      "source": [
        "Create the tar file"
      ],
      "metadata": {
        "id": "U50wz-0wxiFw"
      }
    },
    {
      "cell_type": "code",
      "source": [
        "path, file1 = file.split(\"/\")"
      ],
      "metadata": {
        "id": "AWMQd3BHxFgs"
      },
      "execution_count": null,
      "outputs": []
    },
    {
      "cell_type": "code",
      "source": [
        "!tar -cvf example.tar -C {path} {file1}.gz"
      ],
      "metadata": {
        "id": "miLiwAL8jM5e",
        "outputId": "4383615d-41b1-4853-8203-bffb345b2c77",
        "colab": {
          "base_uri": "https://localhost:8080/"
        }
      },
      "execution_count": null,
      "outputs": [
        {
          "output_type": "stream",
          "name": "stdout",
          "text": [
            "ebd_US-AL-101_202204_202204_relApr-2022.txt.gz\n"
          ]
        }
      ]
    },
    {
      "cell_type": "code",
      "source": [
        "!ls -la\n"
      ],
      "metadata": {
        "id": "iM6em1d2jMyt",
        "outputId": "fc4d6219-0b91-47fd-9c8e-7fdb05c0cd4e",
        "colab": {
          "base_uri": "https://localhost:8080/"
        }
      },
      "execution_count": null,
      "outputs": [
        {
          "output_type": "stream",
          "name": "stdout",
          "text": [
            "total 544\n",
            "drwxr-xr-x 3 root root   4096 Nov 22 06:37 .\n",
            "drwxr-xr-x 1 root root   4096 Nov 22 06:22 ..\n",
            "-rw-r--r-- 1 root root 466849 Nov 22 06:23 ebd-datafile-SAMPLE.zip\n",
            "drwxr-xr-x 2 root root   4096 Nov 22 06:25 ebd_US-AL-101_202204_202204_relApr-2022_SAMPLE\n",
            "-rw-r--r-- 1 root root  71680 Nov 22 06:44 example.tar\n"
          ]
        }
      ]
    },
    {
      "cell_type": "code",
      "source": [
        "!tar -tvf example.tar"
      ],
      "metadata": {
        "id": "dWfSlurujMsE",
        "outputId": "b094fbaf-1fc7-400a-fad8-af94750cd5ed",
        "colab": {
          "base_uri": "https://localhost:8080/"
        }
      },
      "execution_count": null,
      "outputs": [
        {
          "output_type": "stream",
          "name": "stdout",
          "text": [
            "-rw-r--r-- root/root     60011 2022-05-19 17:35 ebd_US-AL-101_202204_202204_relApr-2022.txt.gz\n"
          ]
        }
      ]
    },
    {
      "cell_type": "markdown",
      "source": [
        "Untar and stream to GS."
      ],
      "metadata": {
        "id": "pCO8FB5SxraG"
      }
    },
    {
      "cell_type": "code",
      "source": [
        "%%bash\n",
        "gcloud storage ls -l gs://${GOOGLE_CLOUD_BUCKET}/\n"
      ],
      "metadata": {
        "id": "64uFFbMZy28e",
        "outputId": "279dc502-3eae-48fc-b6b4-09414b52725f",
        "colab": {
          "base_uri": "https://localhost:8080/"
        }
      },
      "execution_count": null,
      "outputs": [
        {
          "output_type": "stream",
          "name": "stdout",
          "text": [
            "    504698  2023-11-21T23:28:26Z  gs://c11-ebird/ebd_US-AL-101_202204_202204_relApr-2022.txt\n",
            "     60011  2023-11-22T00:57:52Z  gs://c11-ebird/ebd_US-AL-101_202204_202204_relApr-2022.txt.gz\n",
            "TOTAL: 2 objects, 564709 bytes (551.47kiB)\n"
          ]
        }
      ]
    },
    {
      "cell_type": "code",
      "source": [
        "%%bash\n",
        "tar -O -xf example.tar ebd_US-AL-101_202204_202204_relApr-2022.txt.gz |\n",
        "gcloud storage cp - gs://${GOOGLE_CLOUD_BUCKET}/ebd_US-AL-101_202204_202204_relApr-2022.txt.v02.gz\n",
        "\n"
      ],
      "metadata": {
        "id": "3FKcLBsajMky",
        "outputId": "5f24fc9a-6ae9-4a74-cb77-b47229de13ac",
        "colab": {
          "base_uri": "https://localhost:8080/"
        }
      },
      "execution_count": null,
      "outputs": [
        {
          "output_type": "stream",
          "name": "stderr",
          "text": [
            "WARNING: Using sequential instead of parallel task execution to transfer from stdin.\n",
            "Copying file://- to gs://c11-ebird/ebd_US-AL-101_202204_202204_relApr-2022.txt.v02.gz\n",
            "  \n",
            "......\n"
          ]
        }
      ]
    },
    {
      "cell_type": "code",
      "source": [
        "%%bash\n",
        "gcloud storage ls -l gs://${GOOGLE_CLOUD_BUCKET}/"
      ],
      "metadata": {
        "colab": {
          "base_uri": "https://localhost:8080/"
        },
        "id": "MvBAWXIfy8y0",
        "outputId": "9edf69db-82f9-4f70-d42a-8a62311cde49"
      },
      "execution_count": null,
      "outputs": [
        {
          "output_type": "stream",
          "name": "stdout",
          "text": [
            "1032617810  2023-11-22T14:27:03Z  gs://c11-ebird/data.nm.txt.gz\n",
            "    504698  2023-11-21T23:28:26Z  gs://c11-ebird/ebd_US-AL-101_202204_202204_relApr-2022.txt\n",
            "27103974002  2023-11-22T08:07:44Z  gs://c11-ebird/ebd_sampling_relSep-2023.txt\n",
            "4815040900  2023-11-22T07:20:39Z  gs://c11-ebird/ebd_sampling_relSep-2023.txt.gz\n",
            "TOTAL: 4 objects, 32952137410 bytes (30.69GiB)\n"
          ]
        }
      ]
    },
    {
      "cell_type": "code",
      "source": [],
      "metadata": {
        "id": "mK7UPGwzzPW8"
      },
      "execution_count": null,
      "outputs": []
    },
    {
      "cell_type": "code",
      "source": [
        "!bq ls {project_id}:ebird"
      ],
      "metadata": {
        "outputId": "7789b8c0-a56a-4698-8fef-d93e43585bb8",
        "colab": {
          "base_uri": "https://localhost:8080/"
        },
        "id": "ehd-Wit-zPqK"
      },
      "execution_count": null,
      "outputs": [
        {
          "output_type": "stream",
          "name": "stdout",
          "text": [
            "          tableId            Type    Labels   Time Partitioning   Clustered Fields  \n",
            " -------------------------- ------- -------- ------------------- ------------------ \n",
            "  ebd_NM_relSep_2023         TABLE                                                  \n",
            "  ebd_sampling_relSep_2023   TABLE                                                  \n",
            "  ebird_small                TABLE                                                  \n",
            "  ebird_small_2              TABLE                                                  \n"
          ]
        }
      ]
    },
    {
      "cell_type": "code",
      "source": [
        "!bq rm -f {project_id}:ebird.ebird_small_4"
      ],
      "metadata": {
        "id": "_4ULmhzjzPqL"
      },
      "execution_count": null,
      "outputs": []
    },
    {
      "cell_type": "code",
      "source": [
        "%%bash\n",
        "bq --project_id=${GOOGLE_CLOUD_PROJECT} \\\n",
        "  load \\\n",
        "  --source_format=CSV \\\n",
        "  --field_delimiter='\\t' \\\n",
        "  --autodetect \\\n",
        "  --skip_leading_rows=1 \\\n",
        "  ebird.ebird_small_4 \\\n",
        "  gs://${GOOGLE_CLOUD_BUCKET}/ebd_US-AL-101_202204_202204_relApr-2022.txt.v02.gz\n"
      ],
      "metadata": {
        "outputId": "cc3d6be8-18ab-4dc6-d596-8d156b592dc3",
        "colab": {
          "base_uri": "https://localhost:8080/"
        },
        "id": "SWu_0rdhzPqL"
      },
      "execution_count": null,
      "outputs": [
        {
          "output_type": "stream",
          "name": "stderr",
          "text": [
            "\rWaiting on bqjob_r80dce339e5bf06_0000018bf5cd9540_1 ... (0s) Current status: RUNNING\r                                                                                    \rWaiting on bqjob_r80dce339e5bf06_0000018bf5cd9540_1 ... (1s) Current status: RUNNING\r                                                                                    \rWaiting on bqjob_r80dce339e5bf06_0000018bf5cd9540_1 ... (1s) Current status: DONE   \n"
          ]
        }
      ]
    },
    {
      "cell_type": "code",
      "source": [
        "!bq ls {project_id}:ebird"
      ],
      "metadata": {
        "outputId": "8debdbf0-bb3d-4f74-dbfd-871f143419ab",
        "colab": {
          "base_uri": "https://localhost:8080/"
        },
        "id": "L32BlbUgzPqM"
      },
      "execution_count": null,
      "outputs": [
        {
          "output_type": "stream",
          "name": "stdout",
          "text": [
            "     tableId      Type    Labels   Time Partitioning   Clustered Fields  \n",
            " --------------- ------- -------- ------------------- ------------------ \n",
            "  ebird_small     TABLE                                                  \n",
            "  ebird_small_4   TABLE                                                  \n"
          ]
        }
      ]
    },
    {
      "cell_type": "code",
      "source": [
        "!bq show {project_id}:ebird.ebird_small"
      ],
      "metadata": {
        "id": "5SqDjpqkzmq1"
      },
      "execution_count": null,
      "outputs": []
    },
    {
      "cell_type": "code",
      "source": [
        "!bq show {project_id}:ebird.ebird_small_4"
      ],
      "metadata": {
        "id": "xcYmTkC0zgj_"
      },
      "execution_count": null,
      "outputs": []
    },
    {
      "cell_type": "code",
      "source": [
        "!bq rm -f {project_id}:ebird.ebird_small_4"
      ],
      "metadata": {
        "id": "1-mUDZh3zPqM"
      },
      "execution_count": null,
      "outputs": []
    },
    {
      "cell_type": "markdown",
      "source": [
        "## Phase 4:\n",
        "\n"
      ],
      "metadata": {
        "id": "0BUllyQBhU54"
      }
    },
    {
      "cell_type": "markdown",
      "source": [
        "1. compress the CSV file with gzip\n",
        "1. create a tar file with the compressed CSV file\n",
        "1. upload the tar file to DO's object store\n",
        "1. get, untar, and stream the compressed CSV file to GS\n",
        "1. import into BQ\n"
      ],
      "metadata": {
        "id": "INxRHU9UhWoX"
      }
    },
    {
      "cell_type": "code",
      "source": [
        "!curl -I https://cnmi-ebird.sfo3.digitaloceanspaces.com/example.tar"
      ],
      "metadata": {
        "id": "WYrFoDfPJwYi",
        "outputId": "623042f9-6679-4bfe-f527-cd68a52c742f",
        "colab": {
          "base_uri": "https://localhost:8080/"
        }
      },
      "execution_count": null,
      "outputs": [
        {
          "output_type": "stream",
          "name": "stdout",
          "text": [
            "HTTP/2 200 \r\n",
            "\u001b[1mcontent-length\u001b[0m: 71680\r\n",
            "\u001b[1maccept-ranges\u001b[0m: bytes\r\n",
            "\u001b[1mlast-modified\u001b[0m: Wed, 22 Nov 2023 06:55:56 GMT\r\n",
            "\u001b[1mx-rgw-object-type\u001b[0m: Normal\r\n",
            "\u001b[1metag\u001b[0m: \"fb5a9186a43fc4d150feb7bfff027363\"\r\n",
            "\u001b[1mx-amz-request-id\u001b[0m: tx00000bee062f4ff82cacc-00655e3f9a-3c6f48c0-sfo3a\r\n",
            "\u001b[1mcontent-type\u001b[0m: application/x-tar\r\n",
            "\u001b[1mdate\u001b[0m: Wed, 22 Nov 2023 17:51:22 GMT\r\n",
            "\u001b[1mvary\u001b[0m: Origin, Access-Control-Request-Headers, Access-Control-Request-Method\r\n",
            "\u001b[1mstrict-transport-security\u001b[0m: max-age=15552000; includeSubDomains; preload\r\n",
            "\u001b[1mx-envoy-upstream-healthchecked-cluster\u001b[0m: \r\n",
            "\r\n"
          ]
        }
      ]
    },
    {
      "cell_type": "code",
      "source": [
        "%%bash\n",
        "curl -s https://cnmi-ebird.sfo3.digitaloceanspaces.com/example.tar |\n",
        "tar -O -xf - ebd_US-AL-101_202204_202204_relApr-2022.txt.gz |\n",
        "dd bs=1M status=progress |\n",
        "gcloud storage cp - gs://${GOOGLE_CLOUD_BUCKET}/ebd_US-AL-101_202204_202204_relApr-2022.txt.v03.gz\n"
      ],
      "metadata": {
        "id": "OTHerrp1JwVF",
        "outputId": "8ca1db17-9f54-4507-f194-d5fc5b0e8810",
        "colab": {
          "base_uri": "https://localhost:8080/"
        }
      },
      "execution_count": null,
      "outputs": [
        {
          "output_type": "stream",
          "name": "stderr",
          "text": [
            "0+5 records in\n",
            "0+5 records out\n",
            "60011 bytes (60 kB, 59 KiB) copied, 0.309062 s, 194 kB/s\n",
            "WARNING: Using sequential instead of parallel task execution to transfer from stdin.\n",
            "Copying file://- to gs://c11-ebird/ebd_US-AL-101_202204_202204_relApr-2022.txt.v03.gz\n",
            "  \n",
            "....\n"
          ]
        }
      ]
    },
    {
      "cell_type": "code",
      "source": [],
      "metadata": {
        "id": "5c0oOoEgJwRz",
        "outputId": "57b109be-dbad-4a72-ab95-73ac2dc57f79",
        "colab": {
          "base_uri": "https://localhost:8080/"
        }
      },
      "execution_count": null,
      "outputs": [
        {
          "output_type": "stream",
          "name": "stdout",
          "text": [
            "11100700672 bytes (11 GB, 10 GiB) copied, 25 s, 444 MB/s\n",
            "0+1751059 records in\n",
            "0+1751059 records out\n",
            "11479859200 bytes (11 GB, 11 GiB) copied, 25.8381 s, 444 MB/s\n",
            "^C\n"
          ]
        }
      ]
    },
    {
      "cell_type": "code",
      "source": [
        "%%bash\n",
        "gcloud storage ls -l gs://${GOOGLE_CLOUD_BUCKET}/"
      ],
      "metadata": {
        "outputId": "ed3cf1c6-7c95-43b7-9072-e0bba6fb4d5d",
        "colab": {
          "base_uri": "https://localhost:8080/"
        },
        "id": "2Z8SI0e72JlO"
      },
      "execution_count": null,
      "outputs": [
        {
          "output_type": "stream",
          "name": "stdout",
          "text": [
            "1032617810  2023-11-22T14:27:03Z  gs://c11-ebird/data.nm.txt.gz\n",
            "    504698  2023-11-21T23:28:26Z  gs://c11-ebird/ebd_US-AL-101_202204_202204_relApr-2022.txt\n",
            "     60011  2023-11-22T17:52:45Z  gs://c11-ebird/ebd_US-AL-101_202204_202204_relApr-2022.txt.v03.gz\n",
            "27103974002  2023-11-22T08:07:44Z  gs://c11-ebird/ebd_sampling_relSep-2023.txt\n",
            "4815040900  2023-11-22T07:20:39Z  gs://c11-ebird/ebd_sampling_relSep-2023.txt.gz\n",
            "TOTAL: 5 objects, 32952197421 bytes (30.69GiB)\n"
          ]
        }
      ]
    },
    {
      "cell_type": "code",
      "source": [
        "!curl -I https://cnmi-ebird.sfo3.digitaloceanspaces.com/ebd_relSep-2023.tar"
      ],
      "metadata": {
        "colab": {
          "base_uri": "https://localhost:8080/"
        },
        "id": "GGQeKdg2K1NM",
        "outputId": "c1e42e1c-a06d-4ec6-9625-8ecaec901f6f"
      },
      "execution_count": null,
      "outputs": [
        {
          "output_type": "stream",
          "name": "stdout",
          "text": [
            "HTTP/2 200 \r\n",
            "\u001b[1mcontent-length\u001b[0m: 200955054080\r\n",
            "\u001b[1maccept-ranges\u001b[0m: bytes\r\n",
            "\u001b[1mlast-modified\u001b[0m: Thu, 16 Nov 2023 17:18:22 GMT\r\n",
            "\u001b[1mx-rgw-object-type\u001b[0m: Normal\r\n",
            "\u001b[1metag\u001b[0m: \"61420aff1e69e47d679e92353ab0332f-913\"\r\n",
            "\u001b[1mx-amz-meta-s3cmd-attrs\u001b[0m: atime:1699546641/ctime:1699889200/gid:0/gname:root/md5:086921907fba6ecdf715782309a3e5d0/mode:33188/mtime:1699672342/uid:0/uname:root\r\n",
            "\u001b[1mx-amz-request-id\u001b[0m: tx0000002a239604640fa19-00655e4059-3c6f4933-sfo3a\r\n",
            "\u001b[1mcontent-type\u001b[0m: application/x-tar\r\n",
            "\u001b[1mdate\u001b[0m: Wed, 22 Nov 2023 17:54:33 GMT\r\n",
            "\u001b[1mvary\u001b[0m: Origin, Access-Control-Request-Headers, Access-Control-Request-Method\r\n",
            "\u001b[1mstrict-transport-security\u001b[0m: max-age=15552000; includeSubDomains; preload\r\n",
            "\u001b[1mx-envoy-upstream-healthchecked-cluster\u001b[0m: \r\n",
            "\r\n"
          ]
        }
      ]
    },
    {
      "cell_type": "code",
      "source": [
        "# 200,955,054,080"
      ],
      "metadata": {
        "id": "3vn1oacIK4kS"
      },
      "execution_count": null,
      "outputs": []
    },
    {
      "cell_type": "code",
      "source": [
        "!ls -la"
      ],
      "metadata": {
        "id": "vhhxHTnF2Jlk",
        "colab": {
          "base_uri": "https://localhost:8080/"
        },
        "outputId": "b028e9e4-20e2-4819-c5b9-6b186f772acf"
      },
      "execution_count": null,
      "outputs": [
        {
          "output_type": "stream",
          "name": "stdout",
          "text": [
            "total 24\n",
            "drwxr-xr-x 1 root root 4096 Nov 20 14:42 .\n",
            "drwxr-xr-x 1 root root 4096 Nov 22 17:24 ..\n",
            "drwxr-xr-x 1 root root 4096 Nov 22 17:31 .config\n",
            "drwxr-xr-x 1 root root 4096 Nov 20 14:42 sample_data\n"
          ]
        }
      ]
    },
    {
      "cell_type": "code",
      "source": [
        "!bq ls {project_id}:ebird"
      ],
      "metadata": {
        "outputId": "f26fe5f3-686e-4cea-bca7-1f98910f63b5",
        "colab": {
          "base_uri": "https://localhost:8080/"
        },
        "id": "Oe-U9kaP2Jll"
      },
      "execution_count": null,
      "outputs": [
        {
          "output_type": "stream",
          "name": "stdout",
          "text": [
            "          tableId            Type    Labels   Time Partitioning   Clustered Fields  \n",
            " -------------------------- ------- -------- ------------------- ------------------ \n",
            "  ebd_NM_relSep_2023         TABLE                                                  \n",
            "  ebd_sampling_relSep_2023   TABLE                                                  \n",
            "  ebird_small                TABLE                                                  \n",
            "  ebird_small_2              TABLE                                                  \n"
          ]
        }
      ]
    },
    {
      "cell_type": "code",
      "source": [
        "!bq rm -f {project_id}:ebird.ebird_small_5"
      ],
      "metadata": {
        "id": "BEpFyZoA2Jln"
      },
      "execution_count": null,
      "outputs": []
    },
    {
      "cell_type": "code",
      "source": [
        "%%bash\n",
        "bq --project_id=${GOOGLE_CLOUD_PROJECT} \\\n",
        "  load \\\n",
        "  --source_format=CSV \\\n",
        "  --field_delimiter='\\t' \\\n",
        "  --autodetect \\\n",
        "  --skip_leading_rows=1 \\\n",
        "  ebird.ebird_small_5 \\\n",
        "  gs://${GOOGLE_CLOUD_BUCKET}/ebd_US-AL-101_202204_202204_relApr-2022.txt.v03.gz\n"
      ],
      "metadata": {
        "outputId": "8393a6e1-b48a-495a-c495-e232fe70c1e2",
        "colab": {
          "base_uri": "https://localhost:8080/"
        },
        "id": "ZzlWgqj02Jln"
      },
      "execution_count": null,
      "outputs": [
        {
          "output_type": "stream",
          "name": "stderr",
          "text": [
            "\rWaiting on bqjob_r2512cc9f16e3a39b_0000018bf82e5fcc_1 ... (0s) Current status: RUNNING\r                                                                                      \rWaiting on bqjob_r2512cc9f16e3a39b_0000018bf82e5fcc_1 ... (1s) Current status: RUNNING\r                                                                                      \rWaiting on bqjob_r2512cc9f16e3a39b_0000018bf82e5fcc_1 ... (1s) Current status: DONE   \n"
          ]
        }
      ]
    },
    {
      "cell_type": "code",
      "source": [
        "!bq ls {project_id}:ebird"
      ],
      "metadata": {
        "outputId": "75560c88-f2b0-443c-f368-0cbb676a06be",
        "colab": {
          "base_uri": "https://localhost:8080/"
        },
        "id": "PAn6WOEu2Jlo"
      },
      "execution_count": null,
      "outputs": [
        {
          "output_type": "stream",
          "name": "stdout",
          "text": [
            "          tableId            Type    Labels   Time Partitioning   Clustered Fields  \n",
            " -------------------------- ------- -------- ------------------- ------------------ \n",
            "  ebd_NM_relSep_2023         TABLE                                                  \n",
            "  ebd_sampling_relSep_2023   TABLE                                                  \n",
            "  ebird_small                TABLE                                                  \n",
            "  ebird_small_2              TABLE                                                  \n",
            "  ebird_small_5              TABLE                                                  \n"
          ]
        }
      ]
    },
    {
      "cell_type": "code",
      "source": [
        "!bq show {project_id}:ebird.ebird_small"
      ],
      "metadata": {
        "id": "z-FJlqY52Jlo",
        "outputId": "44222fa9-013a-4d17-a5b7-7071e1839332",
        "colab": {
          "base_uri": "https://localhost:8080/"
        }
      },
      "execution_count": null,
      "outputs": [
        {
          "output_type": "stream",
          "name": "stdout",
          "text": [
            "Table default-256400:ebird.ebird_small\n",
            "\n",
            "   Last modified                   Schema                   Total Rows   Total Bytes   Expiration   Time Partitioning   Clustered Fields   Total Logical Bytes   Total Physical Bytes   Labels  \n",
            " ----------------- --------------------------------------- ------------ ------------- ------------ ------------------- ------------------ --------------------- ---------------------- -------- \n",
            "  21 Nov 23:41:57   |- GLOBAL_UNIQUE_IDENTIFIER: string     1399         534727                                                            534727                41452                          \n",
            "                    |- LAST_EDITED_DATE: timestamp                                                                                                                                              \n",
            "                    |- TAXONOMIC_ORDER: integer                                                                                                                                                 \n",
            "                    |- CATEGORY: string                                                                                                                                                         \n",
            "                    |- TAXON_CONCEPT_ID: string                                                                                                                                                 \n",
            "                    |- COMMON_NAME: string                                                                                                                                                      \n",
            "                    |- SCIENTIFIC_NAME: string                                                                                                                                                  \n",
            "                    |- SUBSPECIES_COMMON_NAME: string                                                                                                                                           \n",
            "                    |- SUBSPECIES_SCIENTIFIC_NAME: string                                                                                                                                       \n",
            "                    |- EXOTIC_CODE: boolean                                                                                                                                                     \n",
            "                    |- OBSERVATION_COUNT: integer                                                                                                                                               \n",
            "                    |- BREEDING_CODE: string                                                                                                                                                    \n",
            "                    |- BREEDING_CATEGORY: string                                                                                                                                                \n",
            "                    |- BEHAVIOR_CODE: string                                                                                                                                                    \n",
            "                    |- AGE_SEX: string                                                                                                                                                          \n",
            "                    |- COUNTRY: string                                                                                                                                                          \n",
            "                    |- COUNTRY_CODE: string                                                                                                                                                     \n",
            "                    |- STATE: string                                                                                                                                                            \n",
            "                    |- STATE_CODE: string                                                                                                                                                       \n",
            "                    |- COUNTY: string                                                                                                                                                           \n",
            "                    |- COUNTY_CODE: string                                                                                                                                                      \n",
            "                    |- IBA_CODE: string                                                                                                                                                         \n",
            "                    |- BCR_CODE: integer                                                                                                                                                        \n",
            "                    |- USFWS_CODE: string                                                                                                                                                       \n",
            "                    |- ATLAS_BLOCK: string                                                                                                                                                      \n",
            "                    |- LOCALITY: string                                                                                                                                                         \n",
            "                    |- LOCALITY_ID: string                                                                                                                                                      \n",
            "                    |- LOCALITY_TYPE: string                                                                                                                                                    \n",
            "                    |- LATITUDE: float                                                                                                                                                          \n",
            "                    |- LONGITUDE: float                                                                                                                                                         \n",
            "                    |- OBSERVATION_DATE: date                                                                                                                                                   \n",
            "                    |- TIME_OBSERVATIONS_STARTED: time                                                                                                                                          \n",
            "                    |- OBSERVER_ID: string                                                                                                                                                      \n",
            "                    |- SAMPLING_EVENT_IDENTIFIER: string                                                                                                                                        \n",
            "                    |- PROTOCOL_TYPE: string                                                                                                                                                    \n",
            "                    |- PROTOCOL_CODE: string                                                                                                                                                    \n",
            "                    |- PROJECT_CODE: string                                                                                                                                                     \n",
            "                    |- DURATION_MINUTES: integer                                                                                                                                                \n",
            "                    |- EFFORT_DISTANCE_KM: float                                                                                                                                                \n",
            "                    |- EFFORT_AREA_HA: string                                                                                                                                                   \n",
            "                    |- NUMBER_OBSERVERS: integer                                                                                                                                                \n",
            "                    |- ALL_SPECIES_REPORTED: integer                                                                                                                                            \n",
            "                    |- GROUP_IDENTIFIER: string                                                                                                                                                 \n",
            "                    |- HAS_MEDIA: integer                                                                                                                                                       \n",
            "                    |- APPROVED: integer                                                                                                                                                        \n",
            "                    |- REVIEWED: integer                                                                                                                                                        \n",
            "                    |- REASON: string                                                                                                                                                           \n",
            "                    |- TRIP_COMMENTS: string                                                                                                                                                    \n",
            "                    |- SPECIES_COMMENTS: string                                                                                                                                                 \n",
            "                    |- string_field_49: string                                                                                                                                                  \n",
            "\n"
          ]
        }
      ]
    },
    {
      "cell_type": "code",
      "source": [
        "!bq show {project_id}:ebird.ebird_small_5"
      ],
      "metadata": {
        "id": "_pce50XE2Jlo",
        "outputId": "5eeb9516-a852-4ff7-8d2a-5c03778ca685",
        "colab": {
          "base_uri": "https://localhost:8080/"
        }
      },
      "execution_count": null,
      "outputs": [
        {
          "output_type": "stream",
          "name": "stdout",
          "text": [
            "Table default-256400:ebird.ebird_small_5\n",
            "\n",
            "   Last modified                   Schema                   Total Rows   Total Bytes   Expiration   Time Partitioning   Clustered Fields   Total Logical Bytes   Total Physical Bytes   Labels  \n",
            " ----------------- --------------------------------------- ------------ ------------- ------------ ------------------- ------------------ --------------------- ---------------------- -------- \n",
            "  22 Nov 07:06:00   |- GLOBAL_UNIQUE_IDENTIFIER: string     1399         534727                                                            534727                                               \n",
            "                    |- LAST_EDITED_DATE: timestamp                                                                                                                                              \n",
            "                    |- TAXONOMIC_ORDER: integer                                                                                                                                                 \n",
            "                    |- CATEGORY: string                                                                                                                                                         \n",
            "                    |- TAXON_CONCEPT_ID: string                                                                                                                                                 \n",
            "                    |- COMMON_NAME: string                                                                                                                                                      \n",
            "                    |- SCIENTIFIC_NAME: string                                                                                                                                                  \n",
            "                    |- SUBSPECIES_COMMON_NAME: string                                                                                                                                           \n",
            "                    |- SUBSPECIES_SCIENTIFIC_NAME: string                                                                                                                                       \n",
            "                    |- EXOTIC_CODE: boolean                                                                                                                                                     \n",
            "                    |- OBSERVATION_COUNT: integer                                                                                                                                               \n",
            "                    |- BREEDING_CODE: string                                                                                                                                                    \n",
            "                    |- BREEDING_CATEGORY: string                                                                                                                                                \n",
            "                    |- BEHAVIOR_CODE: string                                                                                                                                                    \n",
            "                    |- AGE_SEX: string                                                                                                                                                          \n",
            "                    |- COUNTRY: string                                                                                                                                                          \n",
            "                    |- COUNTRY_CODE: string                                                                                                                                                     \n",
            "                    |- STATE: string                                                                                                                                                            \n",
            "                    |- STATE_CODE: string                                                                                                                                                       \n",
            "                    |- COUNTY: string                                                                                                                                                           \n",
            "                    |- COUNTY_CODE: string                                                                                                                                                      \n",
            "                    |- IBA_CODE: string                                                                                                                                                         \n",
            "                    |- BCR_CODE: integer                                                                                                                                                        \n",
            "                    |- USFWS_CODE: string                                                                                                                                                       \n",
            "                    |- ATLAS_BLOCK: string                                                                                                                                                      \n",
            "                    |- LOCALITY: string                                                                                                                                                         \n",
            "                    |- LOCALITY_ID: string                                                                                                                                                      \n",
            "                    |- LOCALITY_TYPE: string                                                                                                                                                    \n",
            "                    |- LATITUDE: float                                                                                                                                                          \n",
            "                    |- LONGITUDE: float                                                                                                                                                         \n",
            "                    |- OBSERVATION_DATE: date                                                                                                                                                   \n",
            "                    |- TIME_OBSERVATIONS_STARTED: time                                                                                                                                          \n",
            "                    |- OBSERVER_ID: string                                                                                                                                                      \n",
            "                    |- SAMPLING_EVENT_IDENTIFIER: string                                                                                                                                        \n",
            "                    |- PROTOCOL_TYPE: string                                                                                                                                                    \n",
            "                    |- PROTOCOL_CODE: string                                                                                                                                                    \n",
            "                    |- PROJECT_CODE: string                                                                                                                                                     \n",
            "                    |- DURATION_MINUTES: integer                                                                                                                                                \n",
            "                    |- EFFORT_DISTANCE_KM: float                                                                                                                                                \n",
            "                    |- EFFORT_AREA_HA: string                                                                                                                                                   \n",
            "                    |- NUMBER_OBSERVERS: integer                                                                                                                                                \n",
            "                    |- ALL_SPECIES_REPORTED: integer                                                                                                                                            \n",
            "                    |- GROUP_IDENTIFIER: string                                                                                                                                                 \n",
            "                    |- HAS_MEDIA: integer                                                                                                                                                       \n",
            "                    |- APPROVED: integer                                                                                                                                                        \n",
            "                    |- REVIEWED: integer                                                                                                                                                        \n",
            "                    |- REASON: string                                                                                                                                                           \n",
            "                    |- TRIP_COMMENTS: string                                                                                                                                                    \n",
            "                    |- SPECIES_COMMENTS: string                                                                                                                                                 \n",
            "                    |- string_field_49: string                                                                                                                                                  \n",
            "\n"
          ]
        }
      ]
    },
    {
      "cell_type": "code",
      "source": [
        "!bq rm -f {project_id}:ebird.ebird_small_5"
      ],
      "metadata": {
        "id": "Mp3P828p2Jlp"
      },
      "execution_count": null,
      "outputs": []
    },
    {
      "cell_type": "code",
      "source": [
        "%%bash\n",
        "gcloud storage ls -l gs://${GOOGLE_CLOUD_BUCKET}/*.gz"
      ],
      "metadata": {
        "colab": {
          "base_uri": "https://localhost:8080/"
        },
        "id": "pfq4d4SiL6NQ",
        "outputId": "f18bbbdd-325a-4fd6-a2bb-b59ba74bd383"
      },
      "execution_count": null,
      "outputs": [
        {
          "output_type": "stream",
          "name": "stdout",
          "text": [
            "1032617810  2023-11-22T14:27:03Z  gs://c11-ebird/data.nm.txt.gz\n",
            "     60011  2023-11-22T17:52:45Z  gs://c11-ebird/ebd_US-AL-101_202204_202204_relApr-2022.txt.v03.gz\n",
            "4815040900  2023-11-22T07:20:39Z  gs://c11-ebird/ebd_sampling_relSep-2023.txt.gz\n",
            "TOTAL: 3 objects, 5847718721 bytes (5.45GiB)\n"
          ]
        }
      ]
    },
    {
      "cell_type": "code",
      "source": [
        "# %%bash\n",
        "# gcloud storage rm gs://${GOOGLE_CLOUD_BUCKET}/*.gz"
      ],
      "metadata": {
        "id": "Z0_CX-olJwOb",
        "outputId": "cc58cd93-534e-4248-8c6d-1e2e320287ca",
        "colab": {
          "base_uri": "https://localhost:8080/"
        }
      },
      "execution_count": null,
      "outputs": [
        {
          "output_type": "stream",
          "name": "stdout",
          "text": [
            "Removing objects:\n",
            "Removing gs://c11-ebird/ebd_US-AL-101_202204_202204_relApr-2022.txt.gz...\n",
            "Removing gs://c11-ebird/ebd_US-AL-101_202204_202204_relApr-2022.txt.v02.gz...\n",
            "Removing gs://c11-ebird/ebd_US-AL-101_202204_202204_relApr-2022.txt.v03.gz...\n"
          ]
        }
      ]
    },
    {
      "cell_type": "code",
      "source": [],
      "metadata": {
        "id": "_kT9GE9a2nTf"
      },
      "execution_count": null,
      "outputs": []
    },
    {
      "cell_type": "markdown",
      "source": [
        "## Transfer 5GB eBird sampling file"
      ],
      "metadata": {
        "id": "ZKym86xM24BH"
      }
    },
    {
      "cell_type": "code",
      "source": [
        "%%bash\n",
        "curl -s https://cnmi-ebird.sfo3.digitaloceanspaces.com/ebd_sampling_relSep-2023.tar |\n",
        "dd bs=1M status=progress |\n",
        "tar -tvf -\n"
      ],
      "metadata": {
        "id": "fzTvi1OD28lu",
        "outputId": "39517cfa-3022-4dfa-8682-a5e7a5321ad1",
        "colab": {
          "base_uri": "https://localhost:8080/"
        }
      },
      "execution_count": null,
      "outputs": [
        {
          "output_type": "stream",
          "name": "stdout",
          "text": [
            "-rw-r--r-- ebdBuilder/ebdBuilder 4815040900 2023-10-15 18:45 ebd_sampling_relSep-2023.txt.gz\n",
            "-rwxr-xr-x ebdBuilder/ebdBuilder       1960 2023-10-15 10:00 BCRCodes.txt\n",
            "-rwxr-xr-x ebdBuilder/ebdBuilder     126957 2023-10-15 10:00 IBACodes.txt\n",
            "-rwxr-xr-x ebdBuilder/ebdBuilder      39670 2023-10-15 10:00 USFWSCodes.txt\n",
            "-rw-r--r-- ebdBuilder/ebdBuilder     431439 2023-10-15 10:00 eBird_Basic_Dataset_Metadata_v1.15.pdf\n",
            "-rwxr-xr-x ebdBuilder/ebdBuilder        103 2023-10-15 10:00 recommended_citation.txt\n",
            "-rwxr-xr-x ebdBuilder/ebdBuilder       6703 2023-10-15 10:00 terms_of_use.txt\n"
          ]
        },
        {
          "output_type": "stream",
          "name": "stderr",
          "text": [
            "  % Total    % Received % Xferd  Average Speed   Time    Time     Time  Current\n",
            "                                 Dload  Upload   Total   Spent    Left  Speed\n",
            "\r  0     0    0     0    0     0      0      0 --:--:-- --:--:-- --:--:--     0\r  0     0    0     0    0     0      0      0 --:--:-- --:--:-- --:--:--     0\r10010624 bytes (10 MB, 9.5 MiB) copied, 1 s, 9.7 MB/s\r  0 4592M    0 27.5M    0     0  19.6M      0  0:03:53  0:00:01  0:03:52 19.6M\r57651200 bytes (58 MB, 55 MiB) copied, 2 s, 28.8 MB/s\r  1 4592M    1 75.4M    0     0  31.1M      0  0:02:27  0:00:02  0:02:25 31.1M\r105046016 bytes (105 MB, 100 MiB) copied, 3 s, 34.8 MB/s\r  2 4592M    2  118M    0     0  34.8M      0  0:02:11  0:00:03  0:02:08 34.8M\r153063424 bytes (153 MB, 146 MiB) copied, 4 s, 38.1 MB/s\r  3 4592M    3  164M    0     0  37.6M      0  0:02:02  0:00:04  0:01:58 37.6M\r199786496 bytes (200 MB, 191 MiB) copied, 5 s, 39.8 MB/s\r  4 4592M    4  208M    0     0  38.6M      0  0:01:58  0:00:05  0:01:53 41.5M\r251236352 bytes (251 MB, 240 MiB) copied, 6 s, 41.5 MB/s\r  5 4592M    5  258M    0     0  40.2M      0  0:01:54  0:00:06  0:01:48 46.0M\r300326912 bytes (300 MB, 286 MiB) copied, 7 s, 42.8 MB/s\r  6 4592M    6  304M    0     0  41.2M      0  0:01:51  0:00:07  0:01:44 46.2M\r349564928 bytes (350 MB, 333 MiB) copied, 8 s, 43.5 MB/s\r  7 4592M    7  351M    0     0  41.8M      0  0:01:49  0:00:08  0:01:41 46.6M\r396734464 bytes (397 MB, 378 MiB) copied, 9 s, 44.1 MB/s\r  8 4592M    8  398M    0     0  42.3M      0  0:01:48  0:00:09  0:01:39 46.3M\r447963136 bytes (448 MB, 427 MiB) copied, 10 s, 44.7 MB/s\r  9 4592M    9  446M    0     0  43.0M      0  0:01:46  0:00:10  0:01:36 47.7M\r499175424 bytes (499 MB, 476 MiB) copied, 11 s, 45.2 MB/s\r 10 4592M   10  493M    0     0  43.3M      0  0:01:46  0:00:11  0:01:35 47.1M\r547184640 bytes (547 MB, 522 MiB) copied, 12 s, 45.5 MB/s\r 11 4592M   11  542M    0     0  43.6M      0  0:01:45  0:00:12  0:01:33 46.9M\r596066304 bytes (596 MB, 568 MiB) copied, 13 s, 45.8 MB/s\r 12 4592M   12  587M    0     0  43.8M      0  0:01:44  0:00:13  0:01:31 47.2M\r645435392 bytes (645 MB, 616 MiB) copied, 14 s, 45.9 MB/s\r 13 4592M   13  633M    0     0  43.9M      0  0:01:44  0:00:14  0:01:30 47.1M\r694128640 bytes (694 MB, 662 MiB) copied, 15 s, 46.2 MB/s\r 14 4592M   14  682M    0     0  44.2M      0  0:01:43  0:00:15  0:01:28 46.9M\r742715392 bytes (743 MB, 708 MiB) copied, 16 s, 46.4 MB/s\r 15 4592M   15  726M    0     0  44.1M      0  0:01:43  0:00:16  0:01:27 46.1M\r786911232 bytes (787 MB, 750 MiB) copied, 17 s, 46.2 MB/s\r 16 4592M   16  768M    0     0  44.2M      0  0:01:43  0:00:17  0:01:26 45.7M\r838156288 bytes (838 MB, 799 MiB) copied, 18 s, 46.4 MB/s\r 17 4592M   17  816M    0     0  44.3M      0  0:01:43  0:00:18  0:01:25 45.8M\r885727232 bytes (886 MB, 845 MiB) copied, 19 s, 46.6 MB/s\r 18 4592M   18  866M    0     0  44.6M      0  0:01:42  0:00:19  0:01:23 46.7M\r937754624 bytes (938 MB, 894 MiB) copied, 20 s, 46.8 MB/s\r 19 4592M   19  912M    0     0  44.7M      0  0:01:42  0:00:20  0:01:22 46.2M\r987402240 bytes (987 MB, 942 MiB) copied, 21 s, 47.0 MB/s\r 20 4592M   20  961M    0     0  44.8M      0  0:01:42  0:00:21  0:01:21 47.2M\r1037942784 bytes (1.0 GB, 990 MiB) copied, 22 s, 47.2 MB/s\r 21 4592M   21 1007M    0     0  45.0M      0  0:01:42  0:00:22  0:01:20 47.7M\r1090383872 bytes (1.1 GB, 1.0 GiB) copied, 23 s, 47.3 MB/s\r 23 4592M   23 1057M    0     0  45.2M      0  0:01:41  0:00:23  0:01:18 48.3M\r1137987584 bytes (1.1 GB, 1.1 GiB) copied, 24 s, 47.4 MB/s\r 24 4592M   24 1105M    0     0  45.2M      0  0:01:41  0:00:24  0:01:17 47.4M\r1187188736 bytes (1.2 GB, 1.1 GiB) copied, 25 s, 47.4 MB/s\r 25 4592M   25 1149M    0     0  45.2M      0  0:01:41  0:00:25  0:01:16 47.4M\r1237618688 bytes (1.2 GB, 1.2 GiB) copied, 26 s, 47.5 MB/s\r 26 4592M   26 1197M    0     0  45.3M      0  0:01:41  0:00:26  0:01:15 47.2M\r1284034560 bytes (1.3 GB, 1.2 GiB) copied, 27 s, 47.6 MB/s\r 27 4592M   27 1245M    0     0  45.3M      0  0:01:41  0:00:27  0:01:14 47.0M\r1334706176 bytes (1.3 GB, 1.2 GiB) copied, 28 s, 47.7 MB/s\r 28 4592M   28 1292M    0     0  45.5M      0  0:01:40  0:00:28  0:01:12 46.8M\r1384321024 bytes (1.4 GB, 1.3 GiB) copied, 29 s, 47.6 MB/s\r 29 4592M   29 1335M    0     0  45.4M      0  0:01:41  0:00:29  0:01:12 46.3M\r1428828160 bytes (1.4 GB, 1.3 GiB) copied, 30 s, 47.6 MB/s\r 30 4592M   30 1381M    0     0  45.4M      0  0:01:41  0:00:30  0:01:11 46.2M\r1476235264 bytes (1.5 GB, 1.4 GiB) copied, 31 s, 47.6 MB/s\r 31 4592M   31 1429M    0     0  45.4M      0  0:01:41  0:00:31  0:01:10 46.0M\r1528332288 bytes (1.5 GB, 1.4 GiB) copied, 32 s, 47.7 MB/s\r 32 4592M   32 1475M    0     0  45.5M      0  0:01:40  0:00:32  0:01:08 46.3M\r1577205760 bytes (1.6 GB, 1.5 GiB) copied, 33 s, 47.8 MB/s\r 33 4592M   33 1525M    0     0  45.6M      0  0:01:40  0:00:33  0:01:07 46.2M\r1630064640 bytes (1.6 GB, 1.5 GiB) copied, 34 s, 47.9 MB/s\r 34 4592M   34 1573M    0     0  45.7M      0  0:01:40  0:00:34  0:01:06 47.6M\r1680609280 bytes (1.7 GB, 1.6 GiB) copied, 35 s, 48.0 MB/s\r 35 4592M   35 1620M    0     0  45.7M      0  0:01:40  0:00:35  0:01:05 47.8M\r1728851968 bytes (1.7 GB, 1.6 GiB) copied, 36 s, 48.0 MB/s\r 36 4592M   36 1667M    0     0  45.8M      0  0:01:40  0:00:36  0:01:04 48.2M\r1780178944 bytes (1.8 GB, 1.7 GiB) copied, 37 s, 48.1 MB/s\r 37 4592M   37 1715M    0     0  45.8M      0  0:01:40  0:00:37  0:01:03 47.9M\r1828827136 bytes (1.8 GB, 1.7 GiB) copied, 38 s, 48.1 MB/s\r 38 4592M   38 1765M    0     0  45.9M      0  0:01:40  0:00:38  0:01:02 47.8M\r1879212032 bytes (1.9 GB, 1.8 GiB) copied, 39 s, 48.1 MB/s\r 39 4592M   39 1810M    0     0  45.9M      0  0:01:39  0:00:39  0:01:00 47.3M\r1928003584 bytes (1.9 GB, 1.8 GiB) copied, 40 s, 48.2 MB/s\r 40 4592M   40 1859M    0     0  45.9M      0  0:01:39  0:00:40  0:00:59 47.5M\r1977651200 bytes (2.0 GB, 1.8 GiB) copied, 41 s, 48.2 MB/s\r 41 4592M   41 1904M    0     0  46.0M      0  0:01:39  0:00:41  0:00:58 47.2M\r2023739392 bytes (2.0 GB, 1.9 GiB) copied, 42 s, 48.1 MB/s\r 42 4592M   42 1946M    0     0  45.9M      0  0:01:40  0:00:42  0:00:58 46.2M\r2069008384 bytes (2.1 GB, 1.9 GiB) copied, 43 s, 48.1 MB/s\r 43 4592M   43 1992M    0     0  45.8M      0  0:01:40  0:00:43  0:00:57 45.6M\r2117722112 bytes (2.1 GB, 2.0 GiB) copied, 44 s, 48.1 MB/s\r 44 4592M   44 2038M    0     0  45.8M      0  0:01:40  0:00:44  0:00:56 45.4M\r2167111680 bytes (2.2 GB, 2.0 GiB) copied, 45 s, 48.1 MB/s\r 45 4592M   45 2086M    0     0  45.9M      0  0:01:39  0:00:45  0:00:54 45.7M\r2218565632 bytes (2.2 GB, 2.1 GiB) copied, 46 s, 48.2 MB/s\r 46 4592M   46 2135M    0     0  46.0M      0  0:01:39  0:00:46  0:00:53 45.9M\r2267623424 bytes (2.3 GB, 2.1 GiB) copied, 47 s, 48.2 MB/s\r 47 4592M   47 2182M    0     0  46.0M      0  0:01:39  0:00:47  0:00:52 47.0M\r2316685312 bytes (2.3 GB, 2.2 GiB) copied, 48 s, 48.2 MB/s\r 48 4592M   48 2227M    0     0  46.0M      0  0:01:39  0:00:48  0:00:51 47.3M\r2366603264 bytes (2.4 GB, 2.2 GiB) copied, 49 s, 48.3 MB/s\r 49 4592M   49 2276M    0     0  46.0M      0  0:01:39  0:00:49  0:00:50 47.5M\r2415923200 bytes (2.4 GB, 2.3 GiB) copied, 50 s, 48.3 MB/s\r 50 4592M   50 2323M    0     0  46.0M      0  0:01:39  0:00:50  0:00:49 47.2M\r2464980992 bytes (2.5 GB, 2.3 GiB) copied, 51 s, 48.3 MB/s\r 51 4592M   51 2369M    0     0  46.1M      0  0:01:39  0:00:51  0:00:48 47.0M\r2516176896 bytes (2.5 GB, 2.3 GiB) copied, 52 s, 48.3 MB/s\r 52 4592M   52 2417M    0     0  46.1M      0  0:01:39  0:00:52  0:00:47 47.0M\r2564792320 bytes (2.6 GB, 2.4 GiB) copied, 53 s, 48.4 MB/s\r 53 4592M   53 2465M    0     0  46.1M      0  0:01:39  0:00:53  0:00:46 47.5M\r2614128640 bytes (2.6 GB, 2.4 GiB) copied, 54 s, 48.4 MB/s\r 54 4592M   54 2512M    0     0  46.1M      0  0:01:39  0:00:54  0:00:45 47.2M\r2663436288 bytes (2.7 GB, 2.5 GiB) copied, 55 s, 48.4 MB/s\r 55 4592M   55 2558M    0     0  46.1M      0  0:01:39  0:00:55  0:00:44 46.9M\r2709131264 bytes (2.7 GB, 2.5 GiB) copied, 56 s, 48.4 MB/s\r 56 4592M   56 2602M    0     0  46.1M      0  0:01:39  0:00:56  0:00:43 46.3M\r2757255168 bytes (2.8 GB, 2.6 GiB) copied, 57 s, 48.4 MB/s\r 57 4592M   57 2647M    0     0  46.1M      0  0:01:39  0:00:57  0:00:42 46.1M\r2807799808 bytes (2.8 GB, 2.6 GiB) copied, 58 s, 48.4 MB/s\r 58 4592M   58 2695M    0     0  46.1M      0  0:01:39  0:00:58  0:00:41 45.7M\r2854211584 bytes (2.9 GB, 2.7 GiB) copied, 59 s, 48.4 MB/s\r 59 4592M   59 2742M    0     0  46.1M      0  0:01:39  0:00:59  0:00:40 46.2M\r2904788992 bytes (2.9 GB, 2.7 GiB) copied, 60 s, 48.4 MB/s\r 60 4592M   60 2788M    0     0  46.1M      0  0:01:39  0:01:00  0:00:39 46.2M\r2952540160 bytes (3.0 GB, 2.7 GiB) copied, 61 s, 48.4 MB/s\r 61 4592M   61 2837M    0     0  46.1M      0  0:01:39  0:01:01  0:00:38 46.7M\r3003199488 bytes (3.0 GB, 2.8 GiB) copied, 62 s, 48.4 MB/s\r 62 4592M   62 2883M    0     0  46.2M      0  0:01:39  0:01:02  0:00:37 47.0M\r3053383680 bytes (3.1 GB, 2.8 GiB) copied, 63 s, 48.4 MB/s\r 63 4592M   63 2929M    0     0  46.2M      0  0:01:39  0:01:03  0:00:36 46.9M\r3100352512 bytes (3.1 GB, 2.9 GiB) copied, 64 s, 48.4 MB/s\r 64 4592M   64 2978M    0     0  46.2M      0  0:01:39  0:01:04  0:00:35 46.8M\r3152564224 bytes (3.2 GB, 2.9 GiB) copied, 65 s, 48.5 MB/s\r 65 4592M   65 3025M    0     0  46.2M      0  0:01:39  0:01:05  0:00:34 47.3M\r3203530752 bytes (3.2 GB, 3.0 GiB) copied, 66 s, 48.5 MB/s\r 66 4592M   66 3072M    0     0  46.2M      0  0:01:39  0:01:06  0:00:33 47.3M\r3251425280 bytes (3.3 GB, 3.0 GiB) copied, 67 s, 48.5 MB/s\r 67 4592M   67 3116M    0     0  46.2M      0  0:01:39  0:01:07  0:00:32 46.6M\r3296227328 bytes (3.3 GB, 3.1 GiB) copied, 68 s, 48.5 MB/s\r 68 4592M   68 3161M    0     0  46.2M      0  0:01:39  0:01:08  0:00:31 46.5M\r3342917632 bytes (3.3 GB, 3.1 GiB) copied, 69 s, 48.4 MB/s\r 69 4592M   69 3206M    0     0  46.1M      0  0:01:39  0:01:09  0:00:30 45.4M\r3389313024 bytes (3.4 GB, 3.2 GiB) copied, 70 s, 48.4 MB/s\r 70 4592M   70 3250M    0     0  46.1M      0  0:01:39  0:01:10  0:00:29 45.1M\r3438702592 bytes (3.4 GB, 3.2 GiB) copied, 71 s, 48.4 MB/s\r 71 4592M   71 3297M    0     0  46.1M      0  0:01:39  0:01:11  0:00:28 45.0M\r3487887360 bytes (3.5 GB, 3.2 GiB) copied, 72 s, 48.4 MB/s\r 72 4592M   72 3343M    0     0  46.1M      0  0:01:39  0:01:12  0:00:27 45.3M\r3535134720 bytes (3.5 GB, 3.3 GiB) copied, 73 s, 48.4 MB/s\r 73 4592M   73 3393M    0     0  46.2M      0  0:01:39  0:01:13  0:00:26 45.9M\r3586248704 bytes (3.6 GB, 3.3 GiB) copied, 74 s, 48.4 MB/s\r 74 4592M   74 3437M    0     0  46.2M      0  0:01:39  0:01:14  0:00:25 46.7M\r3637637120 bytes (3.6 GB, 3.4 GiB) copied, 75 s, 48.5 MB/s\r 75 4592M   75 3486M    0     0  46.2M      0  0:01:39  0:01:15  0:00:24 46.8M\r3684003840 bytes (3.7 GB, 3.4 GiB) copied, 76 s, 48.5 MB/s\r 76 4592M   76 3533M    0     0  46.2M      0  0:01:39  0:01:16  0:00:23 46.9M\r3733778432 bytes (3.7 GB, 3.5 GiB) copied, 77 s, 48.5 MB/s\r 78 4592M   78 3582M    0     0  46.2M      0  0:01:39  0:01:17  0:00:22 47.6M\r3785515008 bytes (3.8 GB, 3.5 GiB) copied, 78 s, 48.5 MB/s\r 79 4592M   79 3629M    0     0  46.2M      0  0:01:39  0:01:18  0:00:21 47.6M\r3837100032 bytes (3.8 GB, 3.6 GiB) copied, 79 s, 48.6 MB/s\r 80 4592M   80 3676M    0     0  46.3M      0  0:01:39  0:01:19  0:00:20 47.6M\r3884285952 bytes (3.9 GB, 3.6 GiB) copied, 80 s, 48.6 MB/s\r 81 4592M   81 3721M    0     0  46.2M      0  0:01:39  0:01:20  0:00:19 47.0M\r3930341376 bytes (3.9 GB, 3.7 GiB) copied, 81 s, 48.5 MB/s\r 82 4592M   82 3768M    0     0  46.2M      0  0:01:39  0:01:21  0:00:18 47.1M\r3979612160 bytes (4.0 GB, 3.7 GiB) copied, 82 s, 48.5 MB/s\r 83 4592M   83 3811M    0     0  46.2M      0  0:01:39  0:01:22  0:00:17 46.2M\r4029186048 bytes (4.0 GB, 3.8 GiB) copied, 83 s, 48.5 MB/s\r 84 4592M   84 3860M    0     0  46.2M      0  0:01:39  0:01:23  0:00:16 46.1M\r4077789184 bytes (4.1 GB, 3.8 GiB) copied, 84 s, 48.5 MB/s\r 85 4592M   85 3909M    0     0  46.3M      0  0:01:39  0:01:24  0:00:15 46.5M\r4128612352 bytes (4.1 GB, 3.8 GiB) copied, 85 s, 48.6 MB/s\r 86 4592M   86 3956M    0     0  46.3M      0  0:01:39  0:01:25  0:00:14 47.2M\r4178452480 bytes (4.2 GB, 3.9 GiB) copied, 86 s, 48.6 MB/s\r 87 4592M   87 4005M    0     0  46.3M      0  0:01:39  0:01:26  0:00:13 47.3M\r4230742016 bytes (4.2 GB, 3.9 GiB) copied, 87 s, 48.6 MB/s\r 88 4592M   88 4053M    0     0  46.3M      0  0:01:39  0:01:27  0:00:12 48.3M\r4281544704 bytes (4.3 GB, 4.0 GiB) copied, 88 s, 48.6 MB/s\r 89 4592M   89 4100M    0     0  46.3M      0  0:01:39  0:01:28  0:00:11 47.9M\r4328841216 bytes (4.3 GB, 4.0 GiB) copied, 89 s, 48.6 MB/s\r 90 4592M   90 4149M    0     0  46.3M      0  0:01:38  0:01:29  0:00:09 47.6M\r4379975680 bytes (4.4 GB, 4.1 GiB) copied, 90 s, 48.7 MB/s\r 91 4592M   91 4195M    0     0  46.4M      0  0:01:38  0:01:30  0:00:08 47.7M\r4431036416 bytes (4.4 GB, 4.1 GiB) copied, 91 s, 48.7 MB/s\r 92 4592M   92 4244M    0     0  46.4M      0  0:01:38  0:01:31  0:00:07 48.0M\r4481208320 bytes (4.5 GB, 4.2 GiB) copied, 92 s, 48.7 MB/s\r 93 4592M   93 4292M    0     0  46.4M      0  0:01:38  0:01:32  0:00:06 47.8M\r4531769344 bytes (4.5 GB, 4.2 GiB) copied, 93 s, 48.7 MB/s\r 94 4592M   94 4340M    0     0  46.4M      0  0:01:38  0:01:33  0:00:05 47.8M\r4578390016 bytes (4.6 GB, 4.3 GiB) copied, 94 s, 48.7 MB/s\r 95 4592M   95 4385M    0     0  46.4M      0  0:01:38  0:01:34  0:00:04 47.3M\r4624752640 bytes (4.6 GB, 4.3 GiB) copied, 95 s, 48.7 MB/s\r 96 4592M   96 4428M    0     0  46.4M      0  0:01:38  0:01:35  0:00:03 46.7M\r4675235840 bytes (4.7 GB, 4.4 GiB) copied, 96 s, 48.7 MB/s\r 97 4592M   97 4477M    0     0  46.4M      0  0:01:38  0:01:36  0:00:02 46.4M\r4723785728 bytes (4.7 GB, 4.4 GiB) copied, 97 s, 48.7 MB/s\r 98 4592M   98 4525M    0     0  46.4M      0  0:01:38  0:01:37  0:00:01 46.2M\r4774162432 bytes (4.8 GB, 4.4 GiB) copied, 98 s, 48.7 MB/s\r 99 4592M   99 4571M    0     0  46.4M      0  0:01:38  0:01:38 --:--:-- 46.6M\r100 4592M  100 4592M    0     0  46.4M      0  0:01:38  0:01:38 --:--:-- 46.9M\n",
            "\n",
            "0+337897 records in\n",
            "0+337897 records out\n",
            "4815656960 bytes (4.8 GB, 4.5 GiB) copied, 98.8393 s, 48.7 MB/s\n"
          ]
        }
      ]
    },
    {
      "cell_type": "code",
      "source": [
        "%%bash\n",
        "curl -s https://cnmi-ebird.sfo3.digitaloceanspaces.com/ebd_sampling_relSep-2023.tar |\n",
        "tar -O -xf - ebd_sampling_relSep-2023.txt.gz |\n",
        "dd bs=1M status=progress |\n",
        "gcloud storage cp - gs://${GOOGLE_CLOUD_BUCKET}/ebd_sampling_relSep-2023.txt.gz\n"
      ],
      "metadata": {
        "id": "ZBWLWpVd27GW",
        "outputId": "ae9a8f71-8dd9-4a22-de74-e8064403e6fc",
        "colab": {
          "base_uri": "https://localhost:8080/"
        }
      },
      "execution_count": null,
      "outputs": [
        {
          "output_type": "stream",
          "name": "stderr",
          "text": [
            "WARNING: Using sequential instead of parallel task execution to transfer from stdin.\n",
            "Copying file://- to gs://c11-ebird/ebd_sampling_relSep-2023.txt.gz\n",
            "  \n",
            "\r71168 bytes (71 kB, 70 KiB) copied, 4 s, 18.3 kB/s\r136704 bytes (137 kB, 134 KiB) copied, 4 s, 35.1 kB/s\r142848 bytes (143 kB, 140 KiB) copied, 4 s, 36.7 kB/s\r972288 bytes (972 kB, 950 KiB) copied, 4 s, 241 kB/s \r24667648 bytes (25 MB, 24 MiB) copied, 5 s, 4.9 MB/s\r69600768 bytes (70 MB, 66 MiB) copied, 6 s, 11.6 MB/s\r104977920 bytes (105 MB, 100 MiB) copied, 10 s, 11.0 MB/s\r105043456 bytes (105 MB, 100 MiB) copied, 10 s, 11.0 MB/s\r105108992 bytes (105 MB, 100 MiB) copied, 10 s, 11.0 MB/s\r114343424 bytes (114 MB, 109 MiB) copied, 10 s, 11.4 MB/s\r160214528 bytes (160 MB, 153 MiB) copied, 11 s, 14.6 MB/s\r205536768 bytes (206 MB, 196 MiB) copied, 12 s, 17.1 MB/s\r209786368 bytes (210 MB, 200 MiB) copied, 15 s, 13.9 MB/s\r209851904 bytes (210 MB, 200 MiB) copied, 15 s, 13.9 MB/s\r209917440 bytes (210 MB, 200 MiB) copied, 15 s, 14.0 MB/s\r233881088 bytes (234 MB, 223 MiB) copied, 16 s, 14.6 MB/s\r277759488 bytes (278 MB, 265 MiB) copied, 17 s, 16.3 MB/s\r314643968 bytes (315 MB, 300 MiB) copied, 21 s, 15.2 MB/s\r314709504 bytes (315 MB, 300 MiB) copied, 21 s, 15.2 MB/s\r314775040 bytes (315 MB, 300 MiB) copied, 21 s, 15.2 MB/s\r320398848 bytes (320 MB, 306 MiB) copied, 21 s, 15.2 MB/s\r357539328 bytes (358 MB, 341 MiB) copied, 22 s, 16.2 MB/s\r406998528 bytes (407 MB, 388 MiB) copied, 23 s, 17.7 MB/s\r419548672 bytes (420 MB, 400 MiB) copied, 26 s, 16.0 MB/s\r419614208 bytes (420 MB, 400 MiB) copied, 26 s, 16.0 MB/s\r419679744 bytes (420 MB, 400 MiB) copied, 26 s, 16.0 MB/s\r441128448 bytes (441 MB, 421 MiB) copied, 27 s, 16.3 MB/s\r486061568 bytes (486 MB, 464 MiB) copied, 28 s, 17.4 MB/s\r524369408 bytes (524 MB, 500 MiB) copied, 32 s, 16.4 MB/s\r524434944 bytes (524 MB, 500 MiB) copied, 32 s, 16.4 MB/s\r524500480 bytes (525 MB, 500 MiB) copied, 32 s, 16.4 MB/s\r529653248 bytes (530 MB, 505 MiB) copied, 32 s, 16.6 MB/s\r558099968 bytes (558 MB, 532 MiB) copied, 33 s, 16.9 MB/s\r606873088 bytes (607 MB, 579 MiB) copied, 34 s, 17.8 MB/s\r629216768 bytes (629 MB, 600 MiB) copied, 37 s, 16.9 MB/s\r629282304 bytes (629 MB, 600 MiB) copied, 37 s, 16.9 MB/s\r629347840 bytes (629 MB, 600 MiB) copied, 37 s, 16.9 MB/s\r651478528 bytes (651 MB, 621 MiB) copied, 38 s, 17.1 MB/s\r697097728 bytes (697 MB, 665 MiB) copied, 39 s, 17.9 MB/s\r734094848 bytes (734 MB, 700 MiB) copied, 43 s, 17.2 MB/s\r734160384 bytes (734 MB, 700 MiB) copied, 43 s, 17.2 MB/s\r734225920 bytes (734 MB, 700 MiB) copied, 43 s, 17.2 MB/s\r739706368 bytes (740 MB, 705 MiB) copied, 43 s, 17.2 MB/s\r777707008 bytes (778 MB, 742 MiB) copied, 44 s, 17.7 MB/s\r827616768 bytes (828 MB, 789 MiB) copied, 45 s, 18.4 MB/s\r838931968 bytes (839 MB, 800 MiB) copied, 48 s, 17.4 MB/s\r838997504 bytes (839 MB, 800 MiB) copied, 48 s, 17.4 MB/s\r839063040 bytes (839 MB, 800 MiB) copied, 48 s, 17.4 MB/s\r864491008 bytes (864 MB, 824 MiB) copied, 49 s, 17.6 MB/s\r912045568 bytes (912 MB, 870 MiB) copied, 50 s, 18.2 MB/s\r943789568 bytes (944 MB, 900 MiB) copied, 54 s, 17.6 MB/s\r943855104 bytes (944 MB, 900 MiB) copied, 54 s, 17.6 MB/s\r943920640 bytes (944 MB, 900 MiB) copied, 54 s, 17.6 MB/s\r951008768 bytes (951 MB, 907 MiB) copied, 54 s, 17.6 MB/s\r990852608 bytes (991 MB, 945 MiB) copied, 55 s, 18.0 MB/s\r1036676608 bytes (1.0 GB, 989 MiB) copied, 56 s, 18.5 MB/s\r1048647168 bytes (1.0 GB, 1000 MiB) copied, 59 s, 17.7 MB/s\r1048712704 bytes (1.0 GB, 1000 MiB) copied, 59 s, 17.7 MB/s\r1048778240 bytes (1.0 GB, 1000 MiB) copied, 59 s, 17.7 MB/s\r1074195968 bytes (1.1 GB, 1.0 GiB) copied, 60 s, 17.9 MB/s \r1123419648 bytes (1.1 GB, 1.0 GiB) copied, 61 s, 18.4 MB/s\r1153504768 bytes (1.2 GB, 1.1 GiB) copied, 64 s, 17.9 MB/s\r1153570304 bytes (1.2 GB, 1.1 GiB) copied, 64 s, 17.9 MB/s\r1153635840 bytes (1.2 GB, 1.1 GiB) copied, 64 s, 17.9 MB/s\r1162966528 bytes (1.2 GB, 1.1 GiB) copied, 65 s, 17.9 MB/s\r1210562048 bytes (1.2 GB, 1.1 GiB) copied, 66 s, 18.3 MB/s\r1256027648 bytes (1.3 GB, 1.2 GiB) copied, 67 s, 18.7 MB/s\r1258362368 bytes (1.3 GB, 1.2 GiB) copied, 70 s, 17.9 MB/s\r1258427904 bytes (1.3 GB, 1.2 GiB) copied, 70 s, 17.9 MB/s\r1258493440 bytes (1.3 GB, 1.2 GiB) copied, 70 s, 17.9 MB/s\r1272841728 bytes (1.3 GB, 1.2 GiB) copied, 71 s, 17.9 MB/s\r1323140608 bytes (1.3 GB, 1.2 GiB) copied, 72 s, 18.4 MB/s\r1363219968 bytes (1.4 GB, 1.3 GiB) copied, 76 s, 18.0 MB/s\r1363285504 bytes (1.4 GB, 1.3 GiB) copied, 76 s, 18.0 MB/s\r1363351040 bytes (1.4 GB, 1.3 GiB) copied, 76 s, 18.0 MB/s\r1369527808 bytes (1.4 GB, 1.3 GiB) copied, 76 s, 18.0 MB/s\r1414399488 bytes (1.4 GB, 1.3 GiB) copied, 77 s, 18.4 MB/s\r1465947648 bytes (1.5 GB, 1.4 GiB) copied, 78 s, 18.8 MB/s\r1468077568 bytes (1.5 GB, 1.4 GiB) copied, 81 s, 18.1 MB/s\r1468143104 bytes (1.5 GB, 1.4 GiB) copied, 81 s, 18.1 MB/s\r1473371648 bytes (1.5 GB, 1.4 GiB) copied, 81 s, 18.2 MB/s\r1505893888 bytes (1.5 GB, 1.4 GiB) copied, 82 s, 18.4 MB/s\r1551738368 bytes (1.6 GB, 1.4 GiB) copied, 83 s, 18.7 MB/s\r1572935168 bytes (1.6 GB, 1.5 GiB) copied, 86 s, 18.2 MB/s\r1573000704 bytes (1.6 GB, 1.5 GiB) copied, 86 s, 18.2 MB/s\r1573066240 bytes (1.6 GB, 1.5 GiB) copied, 86 s, 18.2 MB/s\r1591162368 bytes (1.6 GB, 1.5 GiB) copied, 87 s, 18.3 MB/s\r1640928768 bytes (1.6 GB, 1.5 GiB) copied, 88 s, 18.6 MB/s\r1677792768 bytes (1.7 GB, 1.6 GiB) copied, 92 s, 18.3 MB/s\r1677858304 bytes (1.7 GB, 1.6 GiB) copied, 92 s, 18.3 MB/s\r1677923840 bytes (1.7 GB, 1.6 GiB) copied, 92 s, 18.3 MB/s\r1686916608 bytes (1.7 GB, 1.6 GiB) copied, 92 s, 18.3 MB/s\r1731972608 bytes (1.7 GB, 1.6 GiB) copied, 93 s, 18.6 MB/s\r1778636288 bytes (1.8 GB, 1.7 GiB) copied, 94 s, 18.9 MB/s\r1782650368 bytes (1.8 GB, 1.7 GiB) copied, 97 s, 18.4 MB/s\r1782715904 bytes (1.8 GB, 1.7 GiB) copied, 97 s, 18.4 MB/s\r1782781440 bytes (1.8 GB, 1.7 GiB) copied, 97 s, 18.4 MB/s\r1807984128 bytes (1.8 GB, 1.7 GiB) copied, 98 s, 18.4 MB/s\r1854340608 bytes (1.9 GB, 1.7 GiB) copied, 99 s, 18.7 MB/s\r1887546880 bytes (1.9 GB, 1.8 GiB) copied, 103 s, 18.4 MB/s\r1887612416 bytes (1.9 GB, 1.8 GiB) copied, 103 s, 18.4 MB/s\r1887677952 bytes (1.9 GB, 1.8 GiB) copied, 103 s, 18.4 MB/s\r1896959488 bytes (1.9 GB, 1.8 GiB) copied, 103 s, 18.4 MB/s\r1945476608 bytes (1.9 GB, 1.8 GiB) copied, 104 s, 18.7 MB/s\r1992365568 bytes (2.0 GB, 1.9 GiB) copied, 108 s, 18.4 MB/s\r1992431104 bytes (2.0 GB, 1.9 GiB) copied, 108 s, 18.4 MB/s\r1992496640 bytes (2.0 GB, 1.9 GiB) copied, 108 s, 18.4 MB/s\r1992560128 bytes (2.0 GB, 1.9 GiB) copied, 108 s, 18.4 MB/s\r2010224128 bytes (2.0 GB, 1.9 GiB) copied, 109 s, 18.4 MB/s\r2058997248 bytes (2.1 GB, 1.9 GiB) copied, 110 s, 18.7 MB/s\r2097278464 bytes (2.1 GB, 2.0 GiB) copied, 114 s, 18.4 MB/s\r2097344000 bytes (2.1 GB, 2.0 GiB) copied, 114 s, 18.4 MB/s\r2097346048 bytes (2.1 GB, 2.0 GiB) copied, 114 s, 18.4 MB/s\r2103346688 bytes (2.1 GB, 2.0 GiB) copied, 114 s, 18.4 MB/s\r2146600448 bytes (2.1 GB, 2.0 GiB) copied, 115 s, 18.7 MB/s\r2194451968 bytes (2.2 GB, 2.0 GiB) copied, 116 s, 18.9 MB/s\r2202091008 bytes (2.2 GB, 2.1 GiB) copied, 119 s, 18.5 MB/s\r2202156544 bytes (2.2 GB, 2.1 GiB) copied, 119 s, 18.5 MB/s\r2202222080 bytes (2.2 GB, 2.1 GiB) copied, 119 s, 18.5 MB/s\r2225919488 bytes (2.2 GB, 2.1 GiB) copied, 120 s, 18.5 MB/s\r2270299648 bytes (2.3 GB, 2.1 GiB) copied, 121 s, 18.8 MB/s\r2306938368 bytes (2.3 GB, 2.1 GiB) copied, 125 s, 18.5 MB/s\r2307003904 bytes (2.3 GB, 2.1 GiB) copied, 125 s, 18.5 MB/s\r2307069440 bytes (2.3 GB, 2.1 GiB) copied, 125 s, 18.5 MB/s\r2312601088 bytes (2.3 GB, 2.2 GiB) copied, 125 s, 18.5 MB/s\r2352475648 bytes (2.4 GB, 2.2 GiB) copied, 126 s, 18.7 MB/s\r2400413184 bytes (2.4 GB, 2.2 GiB) copied, 127 s, 18.9 MB/s\r2411851264 bytes (2.4 GB, 2.2 GiB) copied, 130 s, 18.5 MB/s\r2411916800 bytes (2.4 GB, 2.2 GiB) copied, 130 s, 18.5 MB/s\r2411982336 bytes (2.4 GB, 2.2 GiB) copied, 130 s, 18.5 MB/s\r2441338368 bytes (2.4 GB, 2.3 GiB) copied, 131 s, 18.6 MB/s\r2487797248 bytes (2.5 GB, 2.3 GiB) copied, 132 s, 18.8 MB/s\r2516653568 bytes (2.5 GB, 2.3 GiB) copied, 136 s, 18.5 MB/s\r2516719104 bytes (2.5 GB, 2.3 GiB) copied, 136 s, 18.5 MB/s\r2516784640 bytes (2.5 GB, 2.3 GiB) copied, 136 s, 18.5 MB/s\r2521763328 bytes (2.5 GB, 2.3 GiB) copied, 136 s, 18.5 MB/s\r2551500288 bytes (2.6 GB, 2.4 GiB) copied, 137 s, 18.6 MB/s\r2600508928 bytes (2.6 GB, 2.4 GiB) copied, 138 s, 18.8 MB/s\r2621511168 bytes (2.6 GB, 2.4 GiB) copied, 141 s, 18.6 MB/s\r2621576704 bytes (2.6 GB, 2.4 GiB) copied, 141 s, 18.6 MB/s\r2621642240 bytes (2.6 GB, 2.4 GiB) copied, 141 s, 18.6 MB/s\r2642923008 bytes (2.6 GB, 2.5 GiB) copied, 142 s, 18.6 MB/s\r2691122688 bytes (2.7 GB, 2.5 GiB) copied, 143 s, 18.8 MB/s\r2726368768 bytes (2.7 GB, 2.5 GiB) copied, 147 s, 18.6 MB/s\r2726434304 bytes (2.7 GB, 2.5 GiB) copied, 147 s, 18.6 MB/s\r2726499840 bytes (2.7 GB, 2.5 GiB) copied, 147 s, 18.6 MB/s\r2731734528 bytes (2.7 GB, 2.5 GiB) copied, 147 s, 18.6 MB/s\r2763017728 bytes (2.8 GB, 2.6 GiB) copied, 148 s, 18.7 MB/s\r2811821568 bytes (2.8 GB, 2.6 GiB) copied, 149 s, 18.9 MB/s\r2831226368 bytes (2.8 GB, 2.6 GiB) copied, 152 s, 18.6 MB/s\r2831291904 bytes (2.8 GB, 2.6 GiB) copied, 152 s, 18.6 MB/s\r2831357440 bytes (2.8 GB, 2.6 GiB) copied, 152 s, 18.6 MB/s\r2852146688 bytes (2.9 GB, 2.7 GiB) copied, 153 s, 18.6 MB/s\r2901810688 bytes (2.9 GB, 2.7 GiB) copied, 154 s, 18.8 MB/s\r2936108544 bytes (2.9 GB, 2.7 GiB) copied, 158 s, 18.6 MB/s\r2936174080 bytes (2.9 GB, 2.7 GiB) copied, 158 s, 18.6 MB/s\r2936239616 bytes (2.9 GB, 2.7 GiB) copied, 158 s, 18.6 MB/s\r2943118848 bytes (2.9 GB, 2.7 GiB) copied, 158 s, 18.6 MB/s\r2982635008 bytes (3.0 GB, 2.8 GiB) copied, 159 s, 18.8 MB/s\r3025622528 bytes (3.0 GB, 2.8 GiB) copied, 160 s, 18.9 MB/s\r3040941568 bytes (3.0 GB, 2.8 GiB) copied, 163 s, 18.6 MB/s\r3041007104 bytes (3.0 GB, 2.8 GiB) copied, 163 s, 18.6 MB/s\r3041072640 bytes (3.0 GB, 2.8 GiB) copied, 163 s, 18.6 MB/s\r3061267968 bytes (3.1 GB, 2.9 GiB) copied, 164 s, 18.7 MB/s\r3110522368 bytes (3.1 GB, 2.9 GiB) copied, 165 s, 18.8 MB/s\r3145799168 bytes (3.1 GB, 2.9 GiB) copied, 169 s, 18.7 MB/s\r3145864704 bytes (3.1 GB, 2.9 GiB) copied, 169 s, 18.7 MB/s\r3145930240 bytes (3.1 GB, 2.9 GiB) copied, 169 s, 18.7 MB/s\r3153939968 bytes (3.2 GB, 2.9 GiB) copied, 169 s, 18.7 MB/s\r3201639936 bytes (3.2 GB, 3.0 GiB) copied, 170 s, 18.8 MB/s\r3248557568 bytes (3.2 GB, 3.0 GiB) copied, 171 s, 19.0 MB/s\r3250656768 bytes (3.3 GB, 3.0 GiB) copied, 174 s, 18.7 MB/s\r3250722304 bytes (3.3 GB, 3.0 GiB) copied, 174 s, 18.7 MB/s\r3255735808 bytes (3.3 GB, 3.0 GiB) copied, 174 s, 18.7 MB/s\r3280127488 bytes (3.3 GB, 3.1 GiB) copied, 175 s, 18.7 MB/s\r3327958528 bytes (3.3 GB, 3.1 GiB) copied, 176 s, 18.9 MB/s\r3355514368 bytes (3.4 GB, 3.1 GiB) copied, 179 s, 18.7 MB/s\r3355579904 bytes (3.4 GB, 3.1 GiB) copied, 179 s, 18.7 MB/s\r3355645440 bytes (3.4 GB, 3.1 GiB) copied, 179 s, 18.7 MB/s\r3369778688 bytes (3.4 GB, 3.1 GiB) copied, 180 s, 18.7 MB/s\r3416708608 bytes (3.4 GB, 3.2 GiB) copied, 181 s, 18.9 MB/s\r3460371968 bytes (3.5 GB, 3.2 GiB) copied, 185 s, 18.7 MB/s\r3460437504 bytes (3.5 GB, 3.2 GiB) copied, 185 s, 18.7 MB/s\r3460503040 bytes (3.5 GB, 3.2 GiB) copied, 185 s, 18.7 MB/s\r3465348608 bytes (3.5 GB, 3.2 GiB) copied, 185 s, 18.7 MB/s\r3486402048 bytes (3.5 GB, 3.2 GiB) copied, 186 s, 18.7 MB/s\r3530556928 bytes (3.5 GB, 3.3 GiB) copied, 187 s, 18.9 MB/s\r3565229568 bytes (3.6 GB, 3.3 GiB) copied, 191 s, 18.7 MB/s\r3565295104 bytes (3.6 GB, 3.3 GiB) copied, 191 s, 18.7 MB/s\r3565360640 bytes (3.6 GB, 3.3 GiB) copied, 191 s, 18.7 MB/s\r3571578368 bytes (3.6 GB, 3.3 GiB) copied, 191 s, 18.7 MB/s\r3613296128 bytes (3.6 GB, 3.4 GiB) copied, 192 s, 18.8 MB/s\r3661280768 bytes (3.7 GB, 3.4 GiB) copied, 193 s, 19.0 MB/s\r3670087168 bytes (3.7 GB, 3.4 GiB) copied, 196 s, 18.7 MB/s\r3670152704 bytes (3.7 GB, 3.4 GiB) copied, 196 s, 18.7 MB/s\r3670199808 bytes (3.7 GB, 3.4 GiB) copied, 196 s, 18.7 MB/s\r3702240768 bytes (3.7 GB, 3.4 GiB) copied, 197 s, 18.8 MB/s\r3749723648 bytes (3.7 GB, 3.5 GiB) copied, 198 s, 18.9 MB/s\r3774955008 bytes (3.8 GB, 3.5 GiB) copied, 202 s, 18.7 MB/s\r3775020544 bytes (3.8 GB, 3.5 GiB) copied, 202 s, 18.7 MB/s\r3775086080 bytes (3.8 GB, 3.5 GiB) copied, 202 s, 18.7 MB/s\r3781815808 bytes (3.8 GB, 3.5 GiB) copied, 202 s, 18.7 MB/s\r3825059328 bytes (3.8 GB, 3.6 GiB) copied, 203 s, 18.8 MB/s\r3874835968 bytes (3.9 GB, 3.6 GiB) copied, 204 s, 19.0 MB/s\r3879802368 bytes (3.9 GB, 3.6 GiB) copied, 207 s, 18.7 MB/s\r3879867904 bytes (3.9 GB, 3.6 GiB) copied, 207 s, 18.7 MB/s\r3884983808 bytes (3.9 GB, 3.6 GiB) copied, 207 s, 18.8 MB/s\r3910379008 bytes (3.9 GB, 3.6 GiB) copied, 208 s, 18.8 MB/s\r3960647168 bytes (4.0 GB, 3.7 GiB) copied, 209 s, 18.9 MB/s\r3984659968 bytes (4.0 GB, 3.7 GiB) copied, 212 s, 18.8 MB/s\r3984725504 bytes (4.0 GB, 3.7 GiB) copied, 212 s, 18.8 MB/s\r3984791040 bytes (4.0 GB, 3.7 GiB) copied, 212 s, 18.8 MB/s\r3999548928 bytes (4.0 GB, 3.7 GiB) copied, 213 s, 18.8 MB/s\r4045444608 bytes (4.0 GB, 3.8 GiB) copied, 214 s, 18.9 MB/s\r4089517568 bytes (4.1 GB, 3.8 GiB) copied, 217 s, 18.8 MB/s\r4089583104 bytes (4.1 GB, 3.8 GiB) copied, 217 s, 18.8 MB/s\r4089648640 bytes (4.1 GB, 3.8 GiB) copied, 217 s, 18.8 MB/s\r4104130048 bytes (4.1 GB, 3.8 GiB) copied, 218 s, 18.8 MB/s\r4150517248 bytes (4.2 GB, 3.9 GiB) copied, 219 s, 19.0 MB/s\r4194375168 bytes (4.2 GB, 3.9 GiB) copied, 223 s, 18.8 MB/s\r4194440704 bytes (4.2 GB, 3.9 GiB) copied, 223 s, 18.8 MB/s\r4194506240 bytes (4.2 GB, 3.9 GiB) copied, 223 s, 18.8 MB/s\r4199812608 bytes (4.2 GB, 3.9 GiB) copied, 223 s, 18.8 MB/s\r4237997568 bytes (4.2 GB, 3.9 GiB) copied, 224 s, 18.9 MB/s\r4281456128 bytes (4.3 GB, 4.0 GiB) copied, 225 s, 19.0 MB/s\r4299232768 bytes (4.3 GB, 4.0 GiB) copied, 229 s, 18.8 MB/s\r4299298304 bytes (4.3 GB, 4.0 GiB) copied, 229 s, 18.8 MB/s\r4299363840 bytes (4.3 GB, 4.0 GiB) copied, 229 s, 18.8 MB/s\r4304793088 bytes (4.3 GB, 4.0 GiB) copied, 229 s, 18.8 MB/s\r4347135488 bytes (4.3 GB, 4.0 GiB) copied, 230 s, 18.9 MB/s\r4393471488 bytes (4.4 GB, 4.1 GiB) copied, 231 s, 19.0 MB/s\r4404131328 bytes (4.4 GB, 4.1 GiB) copied, 235 s, 18.8 MB/s\r4404196864 bytes (4.4 GB, 4.1 GiB) copied, 235 s, 18.8 MB/s\r4404262400 bytes (4.4 GB, 4.1 GiB) copied, 235 s, 18.8 MB/s\r4409353728 bytes (4.4 GB, 4.1 GiB) copied, 235 s, 18.8 MB/s\r4450180608 bytes (4.5 GB, 4.1 GiB) copied, 236 s, 18.9 MB/s\r4497622528 bytes (4.5 GB, 4.2 GiB) copied, 237 s, 19.0 MB/s\r4508947968 bytes (4.5 GB, 4.2 GiB) copied, 240 s, 18.8 MB/s\r4509013504 bytes (4.5 GB, 4.2 GiB) copied, 240 s, 18.8 MB/s\r4509079040 bytes (4.5 GB, 4.2 GiB) copied, 240 s, 18.8 MB/s\r4523918848 bytes (4.5 GB, 4.2 GiB) copied, 241 s, 18.8 MB/s\r4573326848 bytes (4.6 GB, 4.3 GiB) copied, 242 s, 18.9 MB/s\r4613805568 bytes (4.6 GB, 4.3 GiB) copied, 246 s, 18.8 MB/s\r4613871104 bytes (4.6 GB, 4.3 GiB) copied, 246 s, 18.8 MB/s\r4613936640 bytes (4.6 GB, 4.3 GiB) copied, 246 s, 18.8 MB/s\r4619304448 bytes (4.6 GB, 4.3 GiB) copied, 246 s, 18.8 MB/s\r4652994048 bytes (4.7 GB, 4.3 GiB) copied, 247 s, 18.8 MB/s\r4701808128 bytes (4.7 GB, 4.4 GiB) copied, 248 s, 19.0 MB/s\r4718673408 bytes (4.7 GB, 4.4 GiB) copied, 251 s, 18.8 MB/s\r4718738944 bytes (4.7 GB, 4.4 GiB) copied, 251 s, 18.8 MB/s\r4718804480 bytes (4.7 GB, 4.4 GiB) copied, 251 s, 18.8 MB/s\r4736163328 bytes (4.7 GB, 4.4 GiB) copied, 252 s, 18.8 MB/s\r4780635648 bytes (4.8 GB, 4.5 GiB) copied, 253 s, 18.9 MB/s\n",
            "0+326225 records in\n",
            "0+326225 records out\n",
            "4815040900 bytes (4.8 GB, 4.5 GiB) copied, 253.737 s, 19.0 MB/s\n",
            "..................................................................................................................................................................................................................................................................................................................................................................................................................................................................................................................................................................................................................................................................................................................................................................................................................................................................................................................................................................................................................................................................................................................................................................................................................................................................................................................\n",
            "\n",
            "Average throughput: 18.4MiB/s\n"
          ]
        }
      ]
    },
    {
      "cell_type": "code",
      "source": [
        "%%bash\n",
        "gcloud storage ls -l gs://${GOOGLE_CLOUD_BUCKET}/"
      ],
      "metadata": {
        "id": "hyDlDgmI4xNo",
        "outputId": "b2623f19-8c74-40e7-dd00-d74a8fe97957",
        "colab": {
          "base_uri": "https://localhost:8080/"
        }
      },
      "execution_count": null,
      "outputs": [
        {
          "output_type": "stream",
          "name": "stdout",
          "text": [
            "1032617810  2023-11-22T14:27:03Z  gs://c11-ebird/data.nm.txt.gz\n",
            "    504698  2023-11-21T23:28:26Z  gs://c11-ebird/ebd_US-AL-101_202204_202204_relApr-2022.txt\n",
            "     60011  2023-11-22T17:52:45Z  gs://c11-ebird/ebd_US-AL-101_202204_202204_relApr-2022.txt.v03.gz\n",
            "27103974002  2023-11-22T08:07:44Z  gs://c11-ebird/ebd_sampling_relSep-2023.txt\n",
            "4815040900  2023-11-22T07:20:39Z  gs://c11-ebird/ebd_sampling_relSep-2023.txt.gz\n",
            "TOTAL: 5 objects, 32952197421 bytes (30.69GiB)\n"
          ]
        }
      ]
    },
    {
      "cell_type": "code",
      "source": [
        "%%bash\n",
        "gsutil cp gs://${GOOGLE_CLOUD_BUCKET}/ebd_sampling_relSep-2023.txt.gz - |\n",
        "gunzip |\n",
        "dd bs=1M status=progress |\n",
        "gsutil cp - gs://${GOOGLE_CLOUD_BUCKET}/ebd_sampling_relSep-2023.txt\n"
      ],
      "metadata": {
        "id": "BNDnA-piBKrY",
        "outputId": "05144765-cb73-465e-89c5-05c892eaa999",
        "colab": {
          "base_uri": "https://localhost:8080/"
        }
      },
      "execution_count": null,
      "outputs": [
        {
          "output_type": "stream",
          "name": "stderr",
          "text": [
            "Copying from <STDIN>...\n",
            "/ [0 files][    0.0 B/    0.0 B]                                                \r/ [0 files][264.0 KiB/    0.0 B]                                                \r/ [0 files][ 20.4 MiB/    0.0 B]                                                \r/ [0 files][ 86.6 MiB/    0.0 B]                                                \r/ [0 files][100.0 MiB/    0.0 B]                                                \r/ [0 files][125.6 MiB/    0.0 B]                                                \r/ [0 files][176.9 MiB/    0.0 B]                                                \r/ [0 files][200.1 MiB/    0.0 B]                                                \r/ [0 files][225.3 MiB/    0.0 B]                                                \r/ [0 files][276.9 MiB/    0.0 B]                                                \r/ [0 files][300.1 MiB/    0.0 B]   21.9 MiB/s                                   \r/ [0 files][323.8 MiB/    0.0 B]   26.3 MiB/s                                   \r/ [0 files][392.1 MiB/    0.0 B]   36.3 MiB/s                                   \r/ [0 files][400.1 MiB/    0.0 B]   25.8 MiB/s                                   \r/ [0 files][430.8 MiB/    0.0 B]   31.2 MiB/s                                   \r/ [0 files][486.0 MiB/    0.0 B]   38.0 MiB/s                                   \r/ [0 files][500.2 MiB/    0.0 B]   26.7 MiB/s                                   \r/ [0 files][531.1 MiB/    0.0 B]   29.5 MiB/s                                   \r/ [0 files][589.4 MiB/    0.0 B]   37.2 MiB/s                                   \r/ [0 files][600.2 MiB/    0.0 B]   25.8 MiB/s                                   \r/ [0 files][638.6 MiB/    0.0 B]   32.2 MiB/s                                   \r/ [0 files][697.6 MiB/    0.0 B]   39.0 MiB/s                                   \r/ [0 files][700.2 MiB/    0.0 B]   28.3 MiB/s                                   \r/ [0 files][738.6 MiB/    0.0 B]   33.2 MiB/s                                   \r/ [0 files][800.2 MiB/    0.0 B]   30.0 MiB/s                                   \r/ [0 files][837.6 MiB/    0.0 B]   34.1 MiB/s                                   \r/ [0 files][900.0 MiB/    0.0 B]   29.0 MiB/s                                   \r/ [0 files][945.4 MiB/    0.0 B]   34.4 MiB/s                                   \r/ [0 files][ 1000 MiB/    0.0 B]   28.7 MiB/s                                   \r/ [0 files][  1.0 GiB/    0.0 B]   32.5 MiB/s                                   \r/ [0 files][  1.1 GiB/    0.0 B]   38.0 MiB/s                                   \r/ [0 files][  1.1 GiB/    0.0 B]   25.6 MiB/s                                   \r/ [0 files][  1.1 GiB/    0.0 B]   30.6 MiB/s                                   \r/ [0 files][  1.2 GiB/    0.0 B]   37.6 MiB/s                                   \r/ [0 files][  1.2 GiB/    0.0 B]   26.0 MiB/s                                   \r/ [0 files][  1.2 GiB/    0.0 B]   32.0 MiB/s                                   \r/ [0 files][  1.3 GiB/    0.0 B]   28.3 MiB/s                                   \r/ [0 files][  1.3 GiB/    0.0 B]   34.1 MiB/s                                   \r/ [0 files][  1.4 GiB/    0.0 B]   27.8 MiB/s                                   \r/ [0 files][  1.4 GiB/    0.0 B]   31.9 MiB/s                                   \r/ [0 files][  1.5 GiB/    0.0 B]   38.9 MiB/s                                   \r/ [0 files][  1.5 GiB/    0.0 B]   25.6 MiB/s                                   \r/ [0 files][  1.5 GiB/    0.0 B]   30.8 MiB/s                                   \r/ [0 files][  1.6 GiB/    0.0 B]   37.5 MiB/s                                   \r/ [0 files][  1.6 GiB/    0.0 B]   25.1 MiB/s                                   \r/ [0 files][  1.6 GiB/    0.0 B]   31.8 MiB/s                                   \r/ [0 files][  1.7 GiB/    0.0 B]   28.3 MiB/s                                   \r/ [0 files][  1.7 GiB/    0.0 B]   31.6 MiB/s                                   \r/ [0 files][  1.8 GiB/    0.0 B]   37.8 MiB/s                                   \r/ [0 files][  1.8 GiB/    0.0 B]   23.6 MiB/s                                   \r/ [0 files][  1.8 GiB/    0.0 B]   30.6 MiB/s                                   \r/ [0 files][  1.9 GiB/    0.0 B]   25.5 MiB/s                                   \r/ [0 files][  1.9 GiB/    0.0 B]   33.7 MiB/s                                   \r/ [0 files][  2.0 GiB/    0.0 B]   29.0 MiB/s                                   \r/ [0 files][  2.0 GiB/    0.0 B]   35.1 MiB/s                                   \r/ [0 files][  2.0 GiB/    0.0 B]   30.9 MiB/s                                   \r/ [0 files][  2.1 GiB/    0.0 B]   33.5 MiB/s                                   \r/ [0 files][  2.2 GiB/    0.0 B]   39.8 MiB/s                                   \r/ [0 files][  2.2 GiB/    0.0 B]   28.5 MiB/s                                   \r/ [0 files][  2.2 GiB/    0.0 B]   29.9 MiB/s                                   \r/ [0 files][  2.2 GiB/    0.0 B]   35.4 MiB/s                                   \r/ [0 files][  2.2 GiB/    0.0 B]   20.5 MiB/s                                   \r/ [0 files][  2.3 GiB/    0.0 B]   28.4 MiB/s                                   \r/ [0 files][  2.3 GiB/    0.0 B]   36.2 MiB/s                                   \r/ [0 files][  2.3 GiB/    0.0 B]   23.4 MiB/s                                   \r/ [0 files][  2.4 GiB/    0.0 B]   32.6 MiB/s                                   \r/ [0 files][  2.4 GiB/    0.0 B]   28.6 MiB/s                                   \r/ [0 files][  2.5 GiB/    0.0 B]   32.7 MiB/s                                   \r/ [0 files][  2.5 GiB/    0.0 B]   39.0 MiB/s                                   \r/ [0 files][  2.5 GiB/    0.0 B]   27.4 MiB/s                                   \r/ [0 files][  2.6 GiB/    0.0 B]   31.0 MiB/s                                   \r/ [0 files][  2.6 GiB/    0.0 B]   38.3 MiB/s                                   \r/ [0 files][  2.6 GiB/    0.0 B]   24.3 MiB/s                                   \r/ [0 files][  2.7 GiB/    0.0 B]   30.1 MiB/s                                   \r/ [0 files][  2.7 GiB/    0.0 B]   37.8 MiB/s                                   \r/ [0 files][  2.7 GiB/    0.0 B]   23.0 MiB/s                                   \r/ [0 files][  2.8 GiB/    0.0 B]   31.9 MiB/s                                   \r/ [0 files][  2.8 GiB/    0.0 B]   27.9 MiB/s                                   \r/ [0 files][  2.9 GiB/    0.0 B]   34.8 MiB/s                                   \r/ [0 files][  2.9 GiB/    0.0 B]   31.4 MiB/s                                   \r/ [0 files][  3.0 GiB/    0.0 B]   34.7 MiB/s                                   \r/ [0 files][  3.0 GiB/    0.0 B]   30.3 MiB/s                                   \r/ [0 files][  3.1 GiB/    0.0 B]   32.3 MiB/s                                   \r/ [0 files][  3.1 GiB/    0.0 B]   38.6 MiB/s                                   \r/ [0 files][  3.1 GiB/    0.0 B]   24.9 MiB/s                                   \r/ [0 files][  3.2 GiB/    0.0 B]   31.5 MiB/s                                   \r/ [0 files][  3.2 GiB/    0.0 B]   26.6 MiB/s                                   \r/ [0 files][  3.3 GiB/    0.0 B]   32.4 MiB/s                                   \r/ [0 files][  3.3 GiB/    0.0 B]   39.2 MiB/s                                   \r/ [0 files][  3.3 GiB/    0.0 B]   27.1 MiB/s                                   \r/ [0 files][  3.4 GiB/    0.0 B]   32.5 MiB/s                                   \r/ [0 files][  3.4 GiB/    0.0 B]   28.8 MiB/s                                   \r/ [0 files][  3.5 GiB/    0.0 B]   33.8 MiB/s                                   \r/ [0 files][  3.5 GiB/    0.0 B]   29.1 MiB/s                                   \r/ [0 files][  3.6 GiB/    0.0 B]   33.0 MiB/s                                   \r/ [0 files][  3.6 GiB/    0.0 B]   38.9 MiB/s                                   \r/ [0 files][  3.6 GiB/    0.0 B]   27.0 MiB/s                                   \r/ [0 files][  3.6 GiB/    0.0 B]   30.7 MiB/s                                   \r/ [0 files][  3.7 GiB/    0.0 B]   36.4 MiB/s                                   \r/ [0 files][  3.7 GiB/    0.0 B]   24.3 MiB/s                                   \r/ [0 files][  3.8 GiB/    0.0 B]   31.7 MiB/s                                   \r/ [0 files][  3.8 GiB/    0.0 B]   28.0 MiB/s                                   \r/ [0 files][  3.8 GiB/    0.0 B]   32.6 MiB/s                                   \r/ [0 files][  3.9 GiB/    0.0 B]   38.5 MiB/s                                   \r/ [0 files][  3.9 GiB/    0.0 B]   24.1 MiB/s                                   \r/ [0 files][  3.9 GiB/    0.0 B]   30.6 MiB/s                                   \r/ [0 files][  4.0 GiB/    0.0 B]   38.5 MiB/s                                   \r/ [0 files][  4.0 GiB/    0.0 B]   23.0 MiB/s                                   \r/ [0 files][  4.0 GiB/    0.0 B]   30.5 MiB/s                                   \r/ [0 files][  4.1 GiB/    0.0 B]   37.6 MiB/s                                   \r/ [0 files][  4.1 GiB/    0.0 B]   24.4 MiB/s                                   \r/ [0 files][  4.1 GiB/    0.0 B]   32.2 MiB/s                                   \r/ [0 files][  4.2 GiB/    0.0 B]   28.5 MiB/s                                   \r/ [0 files][  4.2 GiB/    0.0 B]   34.4 MiB/s                                   \r/ [0 files][  4.3 GiB/    0.0 B]   30.6 MiB/s                                   \r/ [0 files][  4.3 GiB/    0.0 B]   32.3 MiB/s                                   \r/ [0 files][  4.4 GiB/    0.0 B]   37.8 MiB/s                                   \r/ [0 files][  4.4 GiB/    0.0 B]   24.0 MiB/s                                   \r/ [0 files][  4.4 GiB/    0.0 B]   30.7 MiB/s                                   \r/ [0 files][  4.5 GiB/    0.0 B]   27.3 MiB/s                                   \r/ [0 files][  4.5 GiB/    0.0 B]   35.1 MiB/s                                   \r/ [0 files][  4.6 GiB/    0.0 B]   31.6 MiB/s                                   \r/ [0 files][  4.6 GiB/    0.0 B]   33.7 MiB/s                                   \r/ [0 files][  4.7 GiB/    0.0 B]   39.3 MiB/s                                   \r/ [0 files][  4.7 GiB/    0.0 B]   28.6 MiB/s                                   \r/ [0 files][  4.7 GiB/    0.0 B]   33.1 MiB/s                                   \r/ [0 files][  4.8 GiB/    0.0 B]   25.8 MiB/s                                   \r/ [0 files][  4.8 GiB/    0.0 B]   32.1 MiB/s                                   \r/ [0 files][  4.9 GiB/    0.0 B]   23.3 MiB/s                                   \r/ [0 files][  4.9 GiB/    0.0 B]   32.6 MiB/s                                   \r/ [0 files][  5.0 GiB/    0.0 B]   26.0 MiB/s                                   \r/ [0 files][  5.0 GiB/    0.0 B]   33.6 MiB/s                                   \r/ [0 files][  5.1 GiB/    0.0 B]   28.5 MiB/s                                   \r/ [0 files][  5.1 GiB/    0.0 B]   32.3 MiB/s                                   \r/ [0 files][  5.2 GiB/    0.0 B]   37.5 MiB/s                                   \r/ [0 files][  5.2 GiB/    0.0 B]   26.4 MiB/s                                   \r/ [0 files][  5.2 GiB/    0.0 B]   32.6 MiB/s                                   \r/ [0 files][  5.3 GiB/    0.0 B]   27.5 MiB/s                                   \r/ [0 files][  5.3 GiB/    0.0 B]   32.0 MiB/s                                   \r/ [0 files][  5.4 GiB/    0.0 B]   38.1 MiB/s                                   \r/ [0 files][  5.4 GiB/    0.0 B]   26.4 MiB/s                                   \r/ [0 files][  5.4 GiB/    0.0 B]   31.7 MiB/s                                   \r/ [0 files][  5.5 GiB/    0.0 B]   37.8 MiB/s                                   \r/ [0 files][  5.5 GiB/    0.0 B]   27.1 MiB/s                                   \r/ [0 files][  5.5 GiB/    0.0 B]   30.9 MiB/s                                   \r/ [0 files][  5.6 GiB/    0.0 B]   36.4 MiB/s                                   \r/ [0 files][  5.6 GiB/    0.0 B]   24.9 MiB/s                                   \r/ [0 files][  5.6 GiB/    0.0 B]   31.6 MiB/s                                   \r/ [0 files][  5.7 GiB/    0.0 B]   27.4 MiB/s                                   \r/ [0 files][  5.7 GiB/    0.0 B]   34.8 MiB/s                                   \r/ [0 files][  5.8 GiB/    0.0 B]   27.6 MiB/s                                   \r/ [0 files][  5.8 GiB/    0.0 B]   34.2 MiB/s                                   \r/ [0 files][  5.9 GiB/    0.0 B]   27.8 MiB/s                                   \r/ [0 files][  5.9 GiB/    0.0 B]   34.4 MiB/s                                   \r/ [0 files][  6.0 GiB/    0.0 B]   28.3 MiB/s                                   \r/ [0 files][  6.0 GiB/    0.0 B]   33.2 MiB/s                                   \r/ [0 files][  6.0 GiB/    0.0 B]   27.6 MiB/s                                   \r/ [0 files][  6.1 GiB/    0.0 B]   30.6 MiB/s                                   \r/ [0 files][  6.1 GiB/    0.0 B]   36.2 MiB/s                                   \r/ [0 files][  6.2 GiB/    0.0 B]   23.0 MiB/s                                   \r/ [0 files][  6.2 GiB/    0.0 B]   29.8 MiB/s                                   \r/ [0 files][  6.2 GiB/    0.0 B]   37.5 MiB/s                                   \r/ [0 files][  6.2 GiB/    0.0 B]   25.4 MiB/s                                   \r/ [0 files][  6.3 GiB/    0.0 B]   32.4 MiB/s                                   \r/ [0 files][  6.4 GiB/    0.0 B]   28.2 MiB/s                                   \r/ [0 files][  6.4 GiB/    0.0 B]   32.4 MiB/s                                   \r/ [0 files][  6.4 GiB/    0.0 B]   38.3 MiB/s                                   \r/ [0 files][  6.4 GiB/    0.0 B]   27.3 MiB/s                                   \r/ [0 files][  6.5 GiB/    0.0 B]   33.9 MiB/s                                   \r/ [0 files][  6.5 GiB/    0.0 B]   28.3 MiB/s                                   \r/ [0 files][  6.6 GiB/    0.0 B]   31.2 MiB/s                                   \r/ [0 files][  6.6 GiB/    0.0 B]   36.1 MiB/s                                   \r/ [0 files][  6.6 GiB/    0.0 B]   22.5 MiB/s                                   \r/ [0 files][  6.7 GiB/    0.0 B]   30.4 MiB/s                                   \r/ [0 files][  6.7 GiB/    0.0 B]   38.3 MiB/s                                   \r/ [0 files][  6.7 GiB/    0.0 B]   25.7 MiB/s                                   \r/ [0 files][  6.8 GiB/    0.0 B]   32.3 MiB/s                                   \r/ [0 files][  6.8 GiB/    0.0 B]   39.1 MiB/s                                   \r/ [0 files][  6.8 GiB/    0.0 B]   27.8 MiB/s                                   \r/ [0 files][  6.9 GiB/    0.0 B]   33.9 MiB/s                                   \r/ [0 files][  6.9 GiB/    0.0 B]   30.3 MiB/s                                   \r/ [0 files][  7.0 GiB/    0.0 B]   36.6 MiB/s                                   \r/ [0 files][  7.0 GiB/    0.0 B]   29.6 MiB/s                                   \r/ [0 files][  7.1 GiB/    0.0 B]   33.8 MiB/s                                   \r/ [0 files][  7.1 GiB/    0.0 B]   26.0 MiB/s                                   \r/ [0 files][  7.2 GiB/    0.0 B]   31.9 MiB/s                                   \r/ [0 files][  7.2 GiB/    0.0 B]   38.0 MiB/s                                   \r/ [0 files][  7.2 GiB/    0.0 B]   24.4 MiB/s                                   \r/ [0 files][  7.3 GiB/    0.0 B]   30.2 MiB/s                                   \r/ [0 files][  7.3 GiB/    0.0 B]   37.6 MiB/s                                   \r/ [0 files][  7.3 GiB/    0.0 B]   23.6 MiB/s                                   \r/ [0 files][  7.4 GiB/    0.0 B]   31.9 MiB/s                                   \r/ [0 files][  7.4 GiB/    0.0 B]   25.5 MiB/s                                   \r/ [0 files][  7.4 GiB/    0.0 B]   30.9 MiB/s                                   \r/ [0 files][  7.5 GiB/    0.0 B]   37.3 MiB/s                                   \r/ [0 files][  7.5 GiB/    0.0 B]   23.9 MiB/s                                   \r/ [0 files][  7.6 GiB/    0.0 B]   32.2 MiB/s                                   \r/ [0 files][  7.6 GiB/    0.0 B]   28.2 MiB/s                                   \r/ [0 files][  7.6 GiB/    0.0 B]   33.5 MiB/s                                   \r/ [0 files][  7.7 GiB/    0.0 B]   39.0 MiB/s                                   \r/ [0 files][  7.7 GiB/    0.0 B]   27.6 MiB/s                                   \r/ [0 files][  7.8 GiB/    0.0 B]   32.9 MiB/s                                   \r/ [0 files][  7.8 GiB/    0.0 B]   29.2 MiB/s                                   \r/ [0 files][  7.8 GiB/    0.0 B]   33.0 MiB/s                                   \r/ [0 files][  7.9 GiB/    0.0 B]   39.2 MiB/s                                   \r/ [0 files][  7.9 GiB/    0.0 B]   26.3 MiB/s                                   \r/ [0 files][  8.0 GiB/    0.0 B]   31.6 MiB/s                                   \r/ [0 files][  8.0 GiB/    0.0 B]   27.4 MiB/s                                   \r/ [0 files][  8.0 GiB/    0.0 B]   35.1 MiB/s                                   \r/ [0 files][  8.1 GiB/    0.0 B]   31.5 MiB/s                                   \r/ [0 files][  8.1 GiB/    0.0 B]   33.8 MiB/s                                   \r/ [0 files][  8.2 GiB/    0.0 B]   39.1 MiB/s                                   \r/ [0 files][  8.2 GiB/    0.0 B]   28.4 MiB/s                                   \r/ [0 files][  8.2 GiB/    0.0 B]   33.3 MiB/s                                   \r/ [0 files][  8.3 GiB/    0.0 B]   27.6 MiB/s                                   \r/ [0 files][  8.3 GiB/    0.0 B]   33.2 MiB/s                                   \r/ [0 files][  8.4 GiB/    0.0 B]   26.7 MiB/s                                   \r/ [0 files][  8.4 GiB/    0.0 B]   31.1 MiB/s                                   \r/ [0 files][  8.5 GiB/    0.0 B]   36.0 MiB/s                                   \r/ [0 files][  8.5 GiB/    0.0 B]   21.6 MiB/s                                   \r/ [0 files][  8.5 GiB/    0.0 B]   30.5 MiB/s                                   \r/ [0 files][  8.6 GiB/    0.0 B]   25.2 MiB/s                                   \r/ [0 files][  8.6 GiB/    0.0 B]   31.8 MiB/s                                   \r/ [0 files][  8.7 GiB/    0.0 B]   38.5 MiB/s                                   \r/ [0 files][  8.7 GiB/    0.0 B]   22.8 MiB/s                                   \r/ [0 files][  8.7 GiB/    0.0 B]   28.4 MiB/s                                   \r/ [0 files][  8.8 GiB/    0.0 B]   34.8 MiB/s                                   \r/ [0 files][  8.8 GiB/    0.0 B]   25.6 MiB/s                                   \r/ [0 files][  8.8 GiB/    0.0 B]   28.4 MiB/s                                   \r/ [0 files][  8.9 GiB/    0.0 B]   22.1 MiB/s                                   \r/ [0 files][  8.9 GiB/    0.0 B]   33.0 MiB/s                                   \r/ [0 files][  9.0 GiB/    0.0 B]   27.2 MiB/s                                   \r/ [0 files][  9.0 GiB/    0.0 B]   32.6 MiB/s                                   \r/ [0 files][  9.1 GiB/    0.0 B]   37.7 MiB/s                                   \r/ [0 files][  9.1 GiB/    0.0 B]   26.0 MiB/s                                   \r/ [0 files][  9.1 GiB/    0.0 B]   32.8 MiB/s                                   \r/ [0 files][  9.2 GiB/    0.0 B]   28.3 MiB/s                                   \r/ [0 files][  9.2 GiB/    0.0 B]   31.6 MiB/s                                   \r/ [0 files][  9.3 GiB/    0.0 B]   36.7 MiB/s                                   \r/ [0 files][  9.3 GiB/    0.0 B]   24.5 MiB/s                                   \r/ [0 files][  9.3 GiB/    0.0 B]   30.6 MiB/s                                   \r/ [0 files][  9.4 GiB/    0.0 B]   37.8 MiB/s                                   \r/ [0 files][  9.4 GiB/    0.0 B]   26.6 MiB/s                                   \r/ [0 files][  9.4 GiB/    0.0 B]   32.0 MiB/s                                   \r/ [0 files][  9.5 GiB/    0.0 B]   39.1 MiB/s                                   \r/ [0 files][  9.5 GiB/    0.0 B]   27.8 MiB/s                                   \r/ [0 files][  9.5 GiB/    0.0 B]   31.9 MiB/s                                   \r/ [0 files][  9.6 GiB/    0.0 B]   38.2 MiB/s                                   \r/ [0 files][  9.6 GiB/    0.0 B]   25.6 MiB/s                                   \r/ [0 files][  9.6 GiB/    0.0 B]   31.1 MiB/s                                   \r/ [0 files][  9.7 GiB/    0.0 B]   38.0 MiB/s                                   \r/ [0 files][  9.7 GiB/    0.0 B]   24.9 MiB/s                                   \r/ [0 files][  9.7 GiB/    0.0 B]   34.0 MiB/s                                   \r/ [0 files][  9.8 GiB/    0.0 B]   29.7 MiB/s                                   \r/ [0 files][  9.8 GiB/    0.0 B]   35.2 MiB/s                                   \r/ [0 files][  9.9 GiB/    0.0 B]   40.3 MiB/s                                   \r/ [0 files][  9.9 GiB/    0.0 B]   28.9 MiB/s                                   \r/ [0 files][  9.9 GiB/    0.0 B]   34.2 MiB/s                                   \r/ [0 files][ 10.0 GiB/    0.0 B]   29.6 MiB/s                                   \r/ [0 files][ 10.0 GiB/    0.0 B]   34.3 MiB/s                                   \r/ [0 files][ 10.1 GiB/    0.0 B]   39.6 MiB/s                                   \r/ [0 files][ 10.1 GiB/    0.0 B]   26.4 MiB/s                                   \r/ [0 files][ 10.1 GiB/    0.0 B]   33.7 MiB/s                                   \r/ [0 files][ 10.2 GiB/    0.0 B]   28.8 MiB/s                                   \r/ [0 files][ 10.2 GiB/    0.0 B]   34.9 MiB/s                                   \r/ [0 files][ 10.2 GiB/    0.0 B]   40.0 MiB/s                                   \r/ [0 files][ 10.2 GiB/    0.0 B]   27.2 MiB/s                                   \r/ [0 files][ 10.3 GiB/    0.0 B]   33.6 MiB/s                                   \r/ [0 files][ 10.4 GiB/    0.0 B]   27.2 MiB/s                                   \r/ [0 files][ 10.4 GiB/    0.0 B]   35.7 MiB/s                                   \r/ [0 files][ 10.4 GiB/    0.0 B]   25.0 MiB/s                                   \r/ [0 files][ 10.5 GiB/    0.0 B]   33.7 MiB/s                                   \r/ [0 files][ 10.6 GiB/    0.0 B]   22.2 MiB/s                                   \r/ [0 files][ 10.6 GiB/    0.0 B]   33.0 MiB/s                                   \r/ [0 files][ 10.6 GiB/    0.0 B]   23.1 MiB/s                                   \r/ [0 files][ 10.7 GiB/    0.0 B]   32.4 MiB/s                                   \r/ [0 files][ 10.7 GiB/    0.0 B]   38.9 MiB/s                                   \r/ [0 files][ 10.7 GiB/    0.0 B]   23.9 MiB/s                                   \r/ [0 files][ 10.8 GiB/    0.0 B]   33.2 MiB/s                                   \r/ [0 files][ 10.8 GiB/    0.0 B]   27.4 MiB/s                                   \r/ [0 files][ 10.9 GiB/    0.0 B]   34.0 MiB/s                                   \r/ [0 files][ 10.9 GiB/    0.0 B]   40.1 MiB/s                                   \r/ [0 files][ 10.9 GiB/    0.0 B]   23.3 MiB/s                                   \r/ [0 files][ 11.0 GiB/    0.0 B]   31.9 MiB/s                                   \r/ [0 files][ 11.0 GiB/    0.0 B]   25.3 MiB/s                                   \r/ [0 files][ 11.1 GiB/    0.0 B]   36.0 MiB/s                                   \r/ [0 files][ 11.1 GiB/    0.0 B]   31.1 MiB/s                                   \r/ [0 files][ 11.2 GiB/    0.0 B]   36.8 MiB/s                                   \r/ [0 files][ 11.2 GiB/    0.0 B]   31.6 MiB/s                                   \r/ [0 files][ 11.3 GiB/    0.0 B]   35.7 MiB/s                                   \r/ [0 files][ 11.3 GiB/    0.0 B]   29.6 MiB/s                                   \r/ [0 files][ 11.4 GiB/    0.0 B]   34.9 MiB/s                                   \r/ [0 files][ 11.4 GiB/    0.0 B]   27.9 MiB/s                                   \r/ [0 files][ 11.5 GiB/    0.0 B]   35.4 MiB/s                                   \r/ [0 files][ 11.5 GiB/    0.0 B]   30.4 MiB/s                                   \r/ [0 files][ 11.6 GiB/    0.0 B]   35.6 MiB/s                                   \r/ [0 files][ 11.6 GiB/    0.0 B]   29.7 MiB/s                                   \r/ [0 files][ 11.7 GiB/    0.0 B]   34.2 MiB/s                                   \r/ [0 files][ 11.7 GiB/    0.0 B]   29.1 MiB/s                                   \r/ [0 files][ 11.8 GiB/    0.0 B]   35.3 MiB/s                                   \r/ [0 files][ 11.8 GiB/    0.0 B]   29.6 MiB/s                                   \r/ [0 files][ 11.9 GiB/    0.0 B]   36.0 MiB/s                                   \r/ [0 files][ 11.9 GiB/    0.0 B]   29.2 MiB/s                                   \r/ [0 files][ 12.0 GiB/    0.0 B]   36.3 MiB/s                                   \r/ [0 files][ 12.0 GiB/    0.0 B]   30.6 MiB/s                                   \r/ [0 files][ 12.0 GiB/    0.0 B]   35.4 MiB/s                                   \r/ [0 files][ 12.1 GiB/    0.0 B]   29.6 MiB/s                                   \r/ [0 files][ 12.2 GiB/    0.0 B]   34.9 MiB/s                                   \r/ [0 files][ 12.2 GiB/    0.0 B]   30.5 MiB/s                                   \r/ [0 files][ 12.2 GiB/    0.0 B]   36.5 MiB/s                                   \r/ [0 files][ 12.3 GiB/    0.0 B]   30.1 MiB/s                                   \r/ [0 files][ 12.3 GiB/    0.0 B]   33.8 MiB/s                                   \r/ [0 files][ 12.4 GiB/    0.0 B]   38.6 MiB/s                                   \r/ [0 files][ 12.4 GiB/    0.0 B]   26.3 MiB/s                                   \r/ [0 files][ 12.4 GiB/    0.0 B]   33.9 MiB/s                                   \r/ [0 files][ 12.5 GiB/    0.0 B]   27.8 MiB/s                                   \r/ [0 files][ 12.5 GiB/    0.0 B]   34.4 MiB/s                                   \r/ [0 files][ 12.6 GiB/    0.0 B]   26.5 MiB/s                                   \r/ [0 files][ 12.6 GiB/    0.0 B]   34.5 MiB/s                                   \r/ [0 files][ 12.7 GiB/    0.0 B]   24.5 MiB/s                                   \r/ [0 files][ 12.7 GiB/    0.0 B]   33.6 MiB/s                                   \r/ [0 files][ 12.8 GiB/    0.0 B]   23.2 MiB/s                                   \r/ [0 files][ 12.8 GiB/    0.0 B]   31.2 MiB/s                                   \r/ [0 files][ 12.9 GiB/    0.0 B]   37.1 MiB/s                                   \r/ [0 files][ 12.9 GiB/    0.0 B]   28.0 MiB/s                                   \r/ [0 files][ 12.9 GiB/    0.0 B]   31.0 MiB/s                                   \r/ [0 files][ 13.0 GiB/    0.0 B]   23.9 MiB/s                                   \r/ [0 files][ 13.0 GiB/    0.0 B]   32.1 MiB/s                                   \r/ [0 files][ 13.1 GiB/    0.0 B]   38.5 MiB/s                                   \r/ [0 files][ 13.1 GiB/    0.0 B]   24.8 MiB/s                                   \r/ [0 files][ 13.1 GiB/    0.0 B]   33.6 MiB/s                                   \r/ [0 files][ 13.2 GiB/    0.0 B]   25.1 MiB/s                                   \r/ [0 files][ 13.2 GiB/    0.0 B]   33.4 MiB/s                                   \r/ [0 files][ 13.3 GiB/    0.0 B]   25.3 MiB/s                                   \r/ [0 files][ 13.3 GiB/    0.0 B]   33.7 MiB/s                                   \r/ [0 files][ 13.4 GiB/    0.0 B]   39.7 MiB/s                                   \r/ [0 files][ 13.4 GiB/    0.0 B]   25.6 MiB/s                                   \r/ [0 files][ 13.4 GiB/    0.0 B]   34.3 MiB/s                                   \r/ [0 files][ 13.5 GiB/    0.0 B]   27.5 MiB/s                                   \r/ [0 files][ 13.5 GiB/    0.0 B]   34.0 MiB/s                                   \r/ [0 files][ 13.6 GiB/    0.0 B]   22.4 MiB/s                                   \r/ [0 files][ 13.6 GiB/    0.0 B]   32.9 MiB/s                                   \r/ [0 files][ 13.7 GiB/    0.0 B]   22.3 MiB/s                                   \r/ [0 files][ 13.7 GiB/    0.0 B]   32.4 MiB/s                                   \r/ [0 files][ 13.8 GiB/    0.0 B]   38.8 MiB/s                                   \r/ [0 files][ 13.8 GiB/    0.0 B]   21.6 MiB/s                                   \r/ [0 files][ 13.8 GiB/    0.0 B]   31.7 MiB/s                                   \r/ [0 files][ 13.9 GiB/    0.0 B]   38.2 MiB/s                                   \r/ [0 files][ 13.9 GiB/    0.0 B]   22.6 MiB/s                                   \r/ [0 files][ 13.9 GiB/    0.0 B]   32.5 MiB/s                                   \r/ [0 files][ 14.0 GiB/    0.0 B]   25.2 MiB/s                                   \r/ [0 files][ 14.0 GiB/    0.0 B]   33.9 MiB/s                                   \r/ [0 files][ 14.1 GiB/    0.0 B]   26.2 MiB/s                                   \r/ [0 files][ 14.1 GiB/    0.0 B]   33.0 MiB/s                                   \r/ [0 files][ 14.2 GiB/    0.0 B]   39.1 MiB/s                                   \r/ [0 files][ 14.2 GiB/    0.0 B]   26.9 MiB/s                                   \r/ [0 files][ 14.2 GiB/    0.0 B]   34.6 MiB/s                                   \r/ [0 files][ 14.3 GiB/    0.0 B]   31.2 MiB/s                                   \r/ [0 files][ 14.3 GiB/    0.0 B]   35.6 MiB/s                                   \r/ [0 files][ 14.4 GiB/    0.0 B]   30.8 MiB/s                                   \r/ [0 files][ 14.4 GiB/    0.0 B]   35.4 MiB/s                                   \r/ [0 files][ 14.4 GiB/    0.0 B]   29.7 MiB/s                                   \r/ [0 files][ 14.5 GiB/    0.0 B]   35.3 MiB/s                                   \r/ [0 files][ 14.6 GiB/    0.0 B]   28.5 MiB/s                                   \r/ [0 files][ 14.6 GiB/    0.0 B]   32.7 MiB/s                                   \r/ [0 files][ 14.6 GiB/    0.0 B]   37.6 MiB/s                                   \r/ [0 files][ 14.6 GiB/    0.0 B]   25.0 MiB/s                                   \r/ [0 files][ 14.7 GiB/    0.0 B]   31.8 MiB/s                                   \r/ [0 files][ 14.8 GiB/    0.0 B]   39.0 MiB/s                                   \r/ [0 files][ 14.8 GiB/    0.0 B]   27.1 MiB/s                                   \r/ [0 files][ 14.8 GiB/    0.0 B]   34.8 MiB/s                                   \r/ [0 files][ 14.8 GiB/    0.0 B]   29.9 MiB/s                                   \r/ [0 files][ 14.9 GiB/    0.0 B]   34.5 MiB/s                                   \r/ [0 files][ 14.9 GiB/    0.0 B]   39.1 MiB/s                                   \r/ [0 files][ 14.9 GiB/    0.0 B]   26.9 MiB/s                                   \r/ [0 files][ 15.0 GiB/    0.0 B]   32.1 MiB/s                                   \r/ [0 files][ 15.0 GiB/    0.0 B]   27.1 MiB/s                                   \r/ [0 files][ 15.1 GiB/    0.0 B]   33.7 MiB/s                                   \r/ [0 files][ 15.1 GiB/    0.0 B]   29.1 MiB/s                                   \r/ [0 files][ 15.2 GiB/    0.0 B]   33.6 MiB/s                                   \r/ [0 files][ 15.2 GiB/    0.0 B]   39.5 MiB/s                                   \r/ [0 files][ 15.2 GiB/    0.0 B]   28.6 MiB/s                                   \r/ [0 files][ 15.3 GiB/    0.0 B]   34.2 MiB/s                                   \r/ [0 files][ 15.3 GiB/    0.0 B]   27.5 MiB/s                                   \r/ [0 files][ 15.4 GiB/    0.0 B]   33.4 MiB/s                                   \r/ [0 files][ 15.4 GiB/    0.0 B]   26.3 MiB/s                                   \r/ [0 files][ 15.5 GiB/    0.0 B]   34.5 MiB/s                                   \r/ [0 files][ 15.5 GiB/    0.0 B]   29.5 MiB/s                                   \r/ [0 files][ 15.6 GiB/    0.0 B]   34.1 MiB/s                                   \r/ [0 files][ 15.6 GiB/    0.0 B]   38.9 MiB/s                                   \r/ [0 files][ 15.6 GiB/    0.0 B]   27.4 MiB/s                                   \r/ [0 files][ 15.7 GiB/    0.0 B]   33.4 MiB/s                                   \r/ [0 files][ 15.7 GiB/    0.0 B]   28.7 MiB/s                                   \r/ [0 files][ 15.8 GiB/    0.0 B]   32.3 MiB/s                                   \r/ [0 files][ 15.8 GiB/    0.0 B]   37.4 MiB/s                                   \r/ [0 files][ 15.8 GiB/    0.0 B]   22.8 MiB/s                                   \r/ [0 files][ 15.9 GiB/    0.0 B]   30.0 MiB/s                                   \r/ [0 files][ 15.9 GiB/    0.0 B]   37.4 MiB/s                                   \r/ [0 files][ 15.9 GiB/    0.0 B]   24.7 MiB/s                                   \r/ [0 files][ 16.0 GiB/    0.0 B]   34.0 MiB/s                                   \r/ [0 files][ 16.0 GiB/    0.0 B]   29.2 MiB/s                                   \r/ [0 files][ 16.1 GiB/    0.0 B]   35.5 MiB/s                                   \r/ [0 files][ 16.1 GiB/    0.0 B]   29.3 MiB/s                                   \r/ [0 files][ 16.2 GiB/    0.0 B]   36.0 MiB/s                                   \r/ [0 files][ 16.2 GiB/    0.0 B]   27.6 MiB/s                                   \r/ [0 files][ 16.2 GiB/    0.0 B]   34.0 MiB/s                                   \r/ [0 files][ 16.3 GiB/    0.0 B]   22.0 MiB/s                                   \r/ [0 files][ 16.4 GiB/    0.0 B]   32.2 MiB/s                                   \r/ [0 files][ 16.4 GiB/    0.0 B]   23.9 MiB/s                                   \r/ [0 files][ 16.4 GiB/    0.0 B]   32.4 MiB/s                                   \r/ [0 files][ 16.5 GiB/    0.0 B]   38.0 MiB/s                                   \r/ [0 files][ 16.5 GiB/    0.0 B]   22.4 MiB/s                                   \r/ [0 files][ 16.6 GiB/    0.0 B]   32.5 MiB/s                                   \r/ [0 files][ 16.6 GiB/    0.0 B]   25.0 MiB/s                                   \r/ [0 files][ 16.6 GiB/    0.0 B]   35.1 MiB/s                                   \r/ [0 files][ 16.7 GiB/    0.0 B]   24.2 MiB/s                                   \r/ [0 files][ 16.7 GiB/    0.0 B]   33.3 MiB/s                                   \r/ [0 files][ 16.8 GiB/    0.0 B]   23.7 MiB/s                                   \r/ [0 files][ 16.8 GiB/    0.0 B]   34.4 MiB/s                                   \r/ [0 files][ 16.9 GiB/    0.0 B]   26.5 MiB/s                                   \r/ [0 files][ 16.9 GiB/    0.0 B]   34.4 MiB/s                                   \r/ [0 files][ 17.0 GiB/    0.0 B]   26.4 MiB/s                                   \r/ [0 files][ 17.0 GiB/    0.0 B]   34.9 MiB/s                                   \r/ [0 files][ 17.1 GiB/    0.0 B]   24.4 MiB/s                                   \r/ [0 files][ 17.1 GiB/    0.0 B]   30.4 MiB/s                                   \r/ [0 files][ 17.2 GiB/    0.0 B]   36.0 MiB/s                                   \r/ [0 files][ 17.2 GiB/    0.0 B]   26.4 MiB/s                                   \r/ [0 files][ 17.2 GiB/    0.0 B]   28.4 MiB/s                                   \r/ [0 files][ 17.3 GiB/    0.0 B]   34.9 MiB/s                                   \r/ [0 files][ 17.3 GiB/    0.0 B]   22.0 MiB/s                                   \r/ [0 files][ 17.3 GiB/    0.0 B]   34.4 MiB/s                                   \r/ [0 files][ 17.4 GiB/    0.0 B]   30.6 MiB/s                                   \r/ [0 files][ 17.4 GiB/    0.0 B]   35.3 MiB/s                                   \r/ [0 files][ 17.5 GiB/    0.0 B]   40.1 MiB/s                                   \r/ [0 files][ 17.5 GiB/    0.0 B]   28.4 MiB/s                                   \r/ [0 files][ 17.5 GiB/    0.0 B]   32.0 MiB/s                                   \r/ [0 files][ 17.6 GiB/    0.0 B]   38.4 MiB/s                                   \r/ [0 files][ 17.6 GiB/    0.0 B]   25.2 MiB/s                                   \r/ [0 files][ 17.6 GiB/    0.0 B]   33.5 MiB/s                                   \r/ [0 files][ 17.7 GiB/    0.0 B]   28.9 MiB/s                                   \r/ [0 files][ 17.7 GiB/    0.0 B]   34.2 MiB/s                                   \r/ [0 files][ 17.8 GiB/    0.0 B]   39.0 MiB/s                                   \r/ [0 files][ 17.8 GiB/    0.0 B]   27.3 MiB/s                                   \r/ [0 files][ 17.8 GiB/    0.0 B]   30.8 MiB/s                                   \r/ [0 files][ 17.9 GiB/    0.0 B]   36.5 MiB/s                                   \r/ [0 files][ 17.9 GiB/    0.0 B]   24.1 MiB/s                                   \r/ [0 files][ 17.9 GiB/    0.0 B]   30.9 MiB/s                                   \r/ [0 files][ 18.0 GiB/    0.0 B]   38.4 MiB/s                                   \r/ [0 files][ 18.0 GiB/    0.0 B]   24.9 MiB/s                                   \r/ [0 files][ 18.0 GiB/    0.0 B]   33.9 MiB/s                                   \r/ [0 files][ 18.1 GiB/    0.0 B]   28.3 MiB/s                                   \r/ [0 files][ 18.1 GiB/    0.0 B]   34.4 MiB/s                                   \r/ [0 files][ 18.2 GiB/    0.0 B]   38.8 MiB/s                                   \r/ [0 files][ 18.2 GiB/    0.0 B]   27.4 MiB/s                                   \r/ [0 files][ 18.2 GiB/    0.0 B]   32.6 MiB/s                                   \r/ [0 files][ 18.3 GiB/    0.0 B]   38.8 MiB/s                                   \r/ [0 files][ 18.3 GiB/    0.0 B]   26.9 MiB/s                                   \r/ [0 files][ 18.3 GiB/    0.0 B]   34.0 MiB/s                                   \r/ [0 files][ 18.4 GiB/    0.0 B]   29.4 MiB/s                                   \r/ [0 files][ 18.4 GiB/    0.0 B]   36.0 MiB/s                                   \r/ [0 files][ 18.5 GiB/    0.0 B]   29.0 MiB/s                                   \r/ [0 files][ 18.5 GiB/    0.0 B]   35.0 MiB/s                                   \r/ [0 files][ 18.6 GiB/    0.0 B]   29.1 MiB/s                                   \r/ [0 files][ 18.6 GiB/    0.0 B]   34.1 MiB/s                                   \r/ [0 files][ 18.6 GiB/    0.0 B]   39.0 MiB/s                                   \r/ [0 files][ 18.6 GiB/    0.0 B]   27.0 MiB/s                                   \r/ [0 files][ 18.7 GiB/    0.0 B]   33.7 MiB/s                                   \r/ [0 files][ 18.8 GiB/    0.0 B]   29.1 MiB/s                                   \r/ [0 files][ 18.8 GiB/    0.0 B]   33.9 MiB/s                                   \r/ [0 files][ 18.8 GiB/    0.0 B]   38.4 MiB/s                                   \r/ [0 files][ 18.8 GiB/    0.0 B]   24.9 MiB/s                                   \r/ [0 files][ 18.9 GiB/    0.0 B]   30.6 MiB/s                                   \r/ [0 files][ 18.9 GiB/    0.0 B]   37.9 MiB/s                                   \r/ [0 files][ 19.0 GiB/    0.0 B]   23.7 MiB/s                                   \r/ [0 files][ 19.0 GiB/    0.0 B]   33.8 MiB/s                                   \r/ [0 files][ 19.0 GiB/    0.0 B]   28.8 MiB/s                                   \r/ [0 files][ 19.1 GiB/    0.0 B]   37.0 MiB/s                                   \r/ [0 files][ 19.1 GiB/    0.0 B]   31.4 MiB/s                                   \r/ [0 files][ 19.2 GiB/    0.0 B]   35.3 MiB/s                                   \r/ [0 files][ 19.2 GiB/    0.0 B]   28.3 MiB/s                                   \r/ [0 files][ 19.3 GiB/    0.0 B]   32.8 MiB/s                                   \r/ [0 files][ 19.3 GiB/    0.0 B]   38.9 MiB/s                                   \r/ [0 files][ 19.3 GiB/    0.0 B]   24.8 MiB/s                                   \r/ [0 files][ 19.4 GiB/    0.0 B]   32.1 MiB/s                                   \r/ [0 files][ 19.4 GiB/    0.0 B]   25.2 MiB/s                                   \r/ [0 files][ 19.5 GiB/    0.0 B]   33.0 MiB/s                                   \r/ [0 files][ 19.5 GiB/    0.0 B]   39.3 MiB/s                                   \r/ [0 files][ 19.5 GiB/    0.0 B]   26.5 MiB/s                                   \r/ [0 files][ 19.6 GiB/    0.0 B]   32.7 MiB/s                                   \r/ [0 files][ 19.6 GiB/    0.0 B]   38.8 MiB/s                                   \r/ [0 files][ 19.6 GiB/    0.0 B]   25.8 MiB/s                                   \r/ [0 files][ 19.7 GiB/    0.0 B]   33.7 MiB/s                                   \r/ [0 files][ 19.7 GiB/    0.0 B]   25.6 MiB/s                                   \r/ [0 files][ 19.8 GiB/    0.0 B]   34.2 MiB/s                                   \r/ [0 files][ 19.8 GiB/    0.0 B]   23.9 MiB/s                                   \r/ [0 files][ 19.9 GiB/    0.0 B]   33.7 MiB/s                                   \r/ [0 files][ 19.9 GiB/    0.0 B]   24.4 MiB/s                                   \r/ [0 files][ 20.0 GiB/    0.0 B]   32.6 MiB/s                                   \r/ [0 files][ 20.0 GiB/    0.0 B]   38.4 MiB/s                                   \r/ [0 files][ 20.0 GiB/    0.0 B]   23.2 MiB/s                                   \r/ [0 files][ 20.0 GiB/    0.0 B]   30.3 MiB/s                                   \r/ [0 files][ 20.1 GiB/    0.0 B]   38.2 MiB/s                                   \r/ [0 files][ 20.1 GiB/    0.0 B]   22.8 MiB/s                                   \r/ [0 files][ 20.2 GiB/    0.0 B]   32.8 MiB/s                                   \r/ [0 files][ 20.2 GiB/    0.0 B]   24.0 MiB/s                                   \r/ [0 files][ 20.2 GiB/    0.0 B]   31.5 MiB/s                                   \r/ [0 files][ 20.3 GiB/    0.0 B]   37.7 MiB/s                                   \r/ [0 files][ 20.3 GiB/    0.0 B]   20.2 MiB/s                                   \r/ [0 files][ 20.3 GiB/    0.0 B]   28.9 MiB/s                                   \r/ [0 files][ 20.4 GiB/    0.0 B]   35.3 MiB/s                                   \r/ [0 files][ 20.4 GiB/    0.0 B]   27.3 MiB/s                                   \r/ [0 files][ 20.4 GiB/    0.0 B]   29.9 MiB/s                                   \r/ [0 files][ 20.5 GiB/    0.0 B]   23.5 MiB/s                                   \r/ [0 files][ 20.5 GiB/    0.0 B]   32.0 MiB/s                                   \r/ [0 files][ 20.6 GiB/    0.0 B]   38.6 MiB/s                                   \r/ [0 files][ 20.6 GiB/    0.0 B]   21.2 MiB/s                                   \r/ [0 files][ 20.6 GiB/    0.0 B]   31.4 MiB/s                                   \r/ [0 files][ 20.7 GiB/    0.0 B]   23.5 MiB/s                                   \r/ [0 files][ 20.7 GiB/    0.0 B]   32.7 MiB/s                                   \r/ [0 files][ 20.8 GiB/    0.0 B]   38.5 MiB/s                                   \r/ [0 files][ 20.8 GiB/    0.0 B]   24.6 MiB/s                                   \r/ [0 files][ 20.8 GiB/    0.0 B]   33.2 MiB/s                                   \r/ [0 files][ 20.9 GiB/    0.0 B]   28.2 MiB/s                                   \r/ [0 files][ 20.9 GiB/    0.0 B]   36.1 MiB/s                                   \r/ [0 files][ 21.0 GiB/    0.0 B]   29.6 MiB/s                                   \r/ [0 files][ 21.0 GiB/    0.0 B]   33.4 MiB/s                                   \r/ [0 files][ 21.1 GiB/    0.0 B]   37.8 MiB/s                                   \r/ [0 files][ 21.1 GiB/    0.0 B]   23.2 MiB/s                                   \r/ [0 files][ 21.1 GiB/    0.0 B]   32.0 MiB/s                                   \r/ [0 files][ 21.2 GiB/    0.0 B]   27.3 MiB/s                                   \r/ [0 files][ 21.2 GiB/    0.0 B]   33.7 MiB/s                                   \r/ [0 files][ 21.3 GiB/    0.0 B]   39.0 MiB/s                                   \r/ [0 files][ 21.3 GiB/    0.0 B]   26.8 MiB/s                                   \r/ [0 files][ 21.3 GiB/    0.0 B]   33.3 MiB/s                                   \r/ [0 files][ 21.4 GiB/    0.0 B]   28.8 MiB/s                                   \r/ [0 files][ 21.4 GiB/    0.0 B]   35.9 MiB/s                                   \r/ [0 files][ 21.5 GiB/    0.0 B]   28.8 MiB/s                                   \r/ [0 files][ 21.5 GiB/    0.0 B]   34.8 MiB/s                                   \r/ [0 files][ 21.6 GiB/    0.0 B]   29.0 MiB/s                                   \r/ [0 files][ 21.6 GiB/    0.0 B]   36.9 MiB/s                                   \r/ [0 files][ 21.7 GiB/    0.0 B]   31.3 MiB/s                                   \r/ [0 files][ 21.7 GiB/    0.0 B]   35.1 MiB/s                                   \r/ [0 files][ 21.8 GiB/    0.0 B]   28.6 MiB/s                                   \r/ [0 files][ 21.8 GiB/    0.0 B]   35.0 MiB/s                                   \r/ [0 files][ 21.9 GiB/    0.0 B]   29.5 MiB/s                                   \r/ [0 files][ 21.9 GiB/    0.0 B]   33.9 MiB/s                                   \r/ [0 files][ 22.0 GiB/    0.0 B]   39.2 MiB/s                                   \r/ [0 files][ 22.0 GiB/    0.0 B]   25.2 MiB/s                                   \r/ [0 files][ 22.0 GiB/    0.0 B]   31.7 MiB/s                                   \r/ [0 files][ 22.1 GiB/    0.0 B]   38.9 MiB/s                                   \r/ [0 files][ 22.1 GiB/    0.0 B]   25.6 MiB/s                                   \r/ [0 files][ 22.1 GiB/    0.0 B]   35.2 MiB/s                                   \r/ [0 files][ 22.2 GiB/    0.0 B]   29.9 MiB/s                                   \r/ [0 files][ 22.2 GiB/    0.0 B]   35.9 MiB/s                                   \r/ [0 files][ 22.3 GiB/    0.0 B]   29.6 MiB/s                                   \r/ [0 files][ 22.3 GiB/    0.0 B]   33.8 MiB/s                                   \r/ [0 files][ 22.4 GiB/    0.0 B]   39.8 MiB/s                                   \r/ [0 files][ 22.4 GiB/    0.0 B]   26.0 MiB/s                                   \r/ [0 files][ 22.4 GiB/    0.0 B]   33.3 MiB/s                                   \r/ [0 files][ 22.5 GiB/    0.0 B]   26.7 MiB/s                                   \r/ [0 files][ 22.5 GiB/    0.0 B]   33.8 MiB/s                                   \r/ [0 files][ 22.6 GiB/    0.0 B]   27.2 MiB/s                                   \r/ [0 files][ 22.6 GiB/    0.0 B]   34.8 MiB/s                                   \r/ [0 files][ 22.7 GiB/    0.0 B]   29.6 MiB/s                                   \r/ [0 files][ 22.7 GiB/    0.0 B]   35.7 MiB/s                                   \r/ [0 files][ 22.8 GiB/    0.0 B]   29.6 MiB/s                                   \r/ [0 files][ 22.8 GiB/    0.0 B]   33.1 MiB/s                                   \r/ [0 files][ 22.8 GiB/    0.0 B]   38.0 MiB/s                                   \r/ [0 files][ 22.8 GiB/    0.0 B]   22.7 MiB/s                                   \r/ [0 files][ 22.9 GiB/    0.0 B]   29.8 MiB/s                                   \r/ [0 files][ 22.9 GiB/    0.0 B]   36.7 MiB/s                                   \r/ [0 files][ 23.0 GiB/    0.0 B]   22.8 MiB/s                                   \r/ [0 files][ 23.0 GiB/    0.0 B]   31.1 MiB/s                                   \r/ [0 files][ 23.0 GiB/    0.0 B]   37.8 MiB/s                                   \r/ [0 files][ 23.0 GiB/    0.0 B]   24.5 MiB/s                                   \r/ [0 files][ 23.1 GiB/    0.0 B]   31.6 MiB/s                                   \r/ [0 files][ 23.1 GiB/    0.0 B]   38.8 MiB/s                                   \r/ [0 files][ 23.1 GiB/    0.0 B]   25.5 MiB/s                                   \r/ [0 files][ 23.2 GiB/    0.0 B]   30.7 MiB/s                                   \r/ [0 files][ 23.2 GiB/    0.0 B]   37.2 MiB/s                                   \r/ [0 files][ 23.2 GiB/    0.0 B]   21.8 MiB/s                                   \r/ [0 files][ 23.3 GiB/    0.0 B]   29.9 MiB/s                                   \r/ [0 files][ 23.3 GiB/    0.0 B]   22.9 MiB/s                                   \r/ [0 files][ 23.4 GiB/    0.0 B]   32.4 MiB/s                                   \r/ [0 files][ 23.4 GiB/    0.0 B]   24.6 MiB/s                                   \r/ [0 files][ 23.5 GiB/    0.0 B]   29.9 MiB/s                                   \r/ [0 files][ 23.5 GiB/    0.0 B]   36.0 MiB/s                                   \r/ [0 files][ 23.5 GiB/    0.0 B]   27.2 MiB/s                                   \r/ [0 files][ 23.6 GiB/    0.0 B]   30.0 MiB/s                                   \r/ [0 files][ 23.6 GiB/    0.0 B]   22.3 MiB/s                                   \r/ [0 files][ 23.7 GiB/    0.0 B]   31.4 MiB/s                                   \r/ [0 files][ 23.7 GiB/    0.0 B]   38.7 MiB/s                                   \r/ [0 files][ 23.7 GiB/    0.0 B]   21.4 MiB/s                                   \r/ [0 files][ 23.8 GiB/    0.0 B]   32.1 MiB/s                                   \r/ [0 files][ 23.8 GiB/    0.0 B]   38.6 MiB/s                                   \r/ [0 files][ 23.8 GiB/    0.0 B]   23.0 MiB/s                                   \r/ [0 files][ 23.9 GiB/    0.0 B]   31.3 MiB/s                                   \r/ [0 files][ 23.9 GiB/    0.0 B]   38.1 MiB/s                                   \r/ [0 files][ 23.9 GiB/    0.0 B]   22.6 MiB/s                                   \r/ [0 files][ 24.0 GiB/    0.0 B]   32.7 MiB/s                                   \r/ [0 files][ 24.0 GiB/    0.0 B]   23.7 MiB/s                                   \r/ [0 files][ 24.1 GiB/    0.0 B]   31.2 MiB/s                                   \r/ [0 files][ 24.1 GiB/    0.0 B]   37.6 MiB/s                                   \r/ [0 files][ 24.1 GiB/    0.0 B]   27.4 MiB/s                                   \r/ [0 files][ 24.2 GiB/    0.0 B]   30.7 MiB/s                                   \r/ [0 files][ 24.2 GiB/    0.0 B]   24.5 MiB/s                                   \r/ [0 files][ 24.2 GiB/    0.0 B]   32.3 MiB/s                                   \r/ [0 files][ 24.3 GiB/    0.0 B]   37.0 MiB/s                                   \r/ [0 files][ 24.3 GiB/    0.0 B]   24.8 MiB/s                                   \r/ [0 files][ 24.4 GiB/    0.0 B]   31.0 MiB/s                                   \r/ [0 files][ 24.4 GiB/    0.0 B]   38.6 MiB/s                                   \r/ [0 files][ 24.4 GiB/    0.0 B]   26.1 MiB/s                                   \r/ [0 files][ 24.5 GiB/    0.0 B]   34.0 MiB/s                                   \r/ [0 files][ 24.5 GiB/    0.0 B]   27.7 MiB/s                                   \r/ [0 files][ 24.6 GiB/    0.0 B]   34.4 MiB/s                                   \r/ [0 files][ 24.6 GiB/    0.0 B]   28.1 MiB/s                                   \r/ [0 files][ 24.6 GiB/    0.0 B]   35.2 MiB/s                                   \r/ [0 files][ 24.7 GiB/    0.0 B]   29.7 MiB/s                                   \r/ [0 files][ 24.7 GiB/    0.0 B]   34.2 MiB/s                                   \r/ [0 files][ 24.8 GiB/    0.0 B]   28.0 MiB/s                                   \r/ [0 files][ 24.8 GiB/    0.0 B]   35.0 MiB/s                                   \r/ [0 files][ 24.9 GiB/    0.0 B]   28.2 MiB/s                                   \r/ [0 files][ 24.9 GiB/    0.0 B]   32.7 MiB/s                                   \r/ [0 files][ 25.0 GiB/    0.0 B]   37.9 MiB/s                                   \r/ [0 files][ 25.0 GiB/    0.0 B]   22.7 MiB/s                                   \r/ [0 files][ 25.0 GiB/    0.0 B]   32.8 MiB/s                                   \r/ [0 files][ 25.1 GiB/    0.0 B]   27.2 MiB/s                                   \r/ [0 files][ 25.1 GiB/    0.0 B]   36.4 MiB/s                                   \r/ [0 files][ 25.2 GiB/    0.0 B]   32.9 MiB/s                                   \r/ [0 files][ 25.2 GiB/    0.0 B]   37.8 MiB/s                                   \r/ [1 files][    0.0 B/    0.0 B]      0.0 B/s                                   \r\n",
            "Operation completed over 1 objects.                                              \n"
          ]
        }
      ]
    },
    {
      "cell_type": "code",
      "source": [
        "%%bash\n",
        "gcloud storage ls -l gs://${GOOGLE_CLOUD_BUCKET}/"
      ],
      "metadata": {
        "colab": {
          "base_uri": "https://localhost:8080/"
        },
        "id": "5n8akuRmRvLw",
        "outputId": "1f0fc617-248b-4461-e95b-513068def186"
      },
      "execution_count": null,
      "outputs": [
        {
          "output_type": "stream",
          "name": "stdout",
          "text": [
            "1032617810  2023-11-22T14:27:03Z  gs://c11-ebird/data.nm.txt.gz\n",
            "    504698  2023-11-21T23:28:26Z  gs://c11-ebird/ebd_US-AL-101_202204_202204_relApr-2022.txt\n",
            "     60011  2023-11-22T17:52:45Z  gs://c11-ebird/ebd_US-AL-101_202204_202204_relApr-2022.txt.v03.gz\n",
            "27103974002  2023-11-22T08:07:44Z  gs://c11-ebird/ebd_sampling_relSep-2023.txt\n",
            "4815040900  2023-11-22T07:20:39Z  gs://c11-ebird/ebd_sampling_relSep-2023.txt.gz\n",
            "TOTAL: 5 objects, 32952197421 bytes (30.69GiB)\n"
          ]
        }
      ]
    },
    {
      "cell_type": "code",
      "source": [
        "%%bash\n",
        "bq --project_id=${GOOGLE_CLOUD_PROJECT} \\\n",
        "  load \\\n",
        "  --source_format=CSV \\\n",
        "  --field_delimiter='\\t' \\\n",
        "  --autodetect \\\n",
        "  --skip_leading_rows=1 \\\n",
        "  ebird.ebd_sampling_relSep_2023 \\\n",
        "  gs://${GOOGLE_CLOUD_BUCKET}/ebd_sampling_relSep-2023.txt\n"
      ],
      "metadata": {
        "id": "y_otZ2on5_f5",
        "outputId": "0321ac4f-f971-44e6-a82f-383a9064804d",
        "colab": {
          "base_uri": "https://localhost:8080/"
        }
      },
      "execution_count": null,
      "outputs": [
        {
          "output_type": "stream",
          "name": "stderr",
          "text": [
            "\rWaiting on bqjob_r220523e18874cbcb_0000018bf7675d17_1 ... (0s) Current status: RUNNING\r                                                                                      \rWaiting on bqjob_r220523e18874cbcb_0000018bf7675d17_1 ... (1s) Current status: RUNNING\r                                                                                      \rWaiting on bqjob_r220523e18874cbcb_0000018bf7675d17_1 ... (2s) Current status: RUNNING\r                                                                                      \rWaiting on bqjob_r220523e18874cbcb_0000018bf7675d17_1 ... (3s) Current status: RUNNING\r                                                                                      \rWaiting on bqjob_r220523e18874cbcb_0000018bf7675d17_1 ... (4s) Current status: RUNNING\r                                                                                      \rWaiting on bqjob_r220523e18874cbcb_0000018bf7675d17_1 ... (5s) Current status: RUNNING\r                                                                                      \rWaiting on bqjob_r220523e18874cbcb_0000018bf7675d17_1 ... (7s) Current status: RUNNING\r                                                                                      \rWaiting on bqjob_r220523e18874cbcb_0000018bf7675d17_1 ... (8s) Current status: RUNNING\r                                                                                      \rWaiting on bqjob_r220523e18874cbcb_0000018bf7675d17_1 ... (9s) Current status: RUNNING\r                                                                                      \rWaiting on bqjob_r220523e18874cbcb_0000018bf7675d17_1 ... (10s) Current status: RUNNING\r                                                                                       \rWaiting on bqjob_r220523e18874cbcb_0000018bf7675d17_1 ... (11s) Current status: RUNNING\r                                                                                       \rWaiting on bqjob_r220523e18874cbcb_0000018bf7675d17_1 ... (12s) Current status: RUNNING\r                                                                                       \rWaiting on bqjob_r220523e18874cbcb_0000018bf7675d17_1 ... (13s) Current status: RUNNING\r                                                                                       \rWaiting on bqjob_r220523e18874cbcb_0000018bf7675d17_1 ... (14s) Current status: RUNNING\r                                                                                       \rWaiting on bqjob_r220523e18874cbcb_0000018bf7675d17_1 ... (15s) Current status: RUNNING\r                                                                                       \rWaiting on bqjob_r220523e18874cbcb_0000018bf7675d17_1 ... (15s) Current status: DONE   \n"
          ]
        }
      ]
    },
    {
      "cell_type": "code",
      "source": [
        "!bq ls {project_id}:ebird"
      ],
      "metadata": {
        "outputId": "fdf6031f-adb8-4905-b740-97dc84ba08f6",
        "colab": {
          "base_uri": "https://localhost:8080/"
        },
        "id": "bdi5-cO6aEQr"
      },
      "execution_count": null,
      "outputs": [
        {
          "output_type": "stream",
          "name": "stdout",
          "text": [
            "          tableId            Type    Labels   Time Partitioning   Clustered Fields  \n",
            " -------------------------- ------- -------- ------------------- ------------------ \n",
            "  ebd_NM_relSep_2023         TABLE                                                  \n",
            "  ebd_sampling_relSep_2023   TABLE                                                  \n",
            "  ebird_small                TABLE                                                  \n",
            "  ebird_small_2              TABLE                                                  \n"
          ]
        }
      ]
    },
    {
      "cell_type": "code",
      "source": [
        "!bq show {project_id}:ebird.ebd_sampling_relSep_2023"
      ],
      "metadata": {
        "outputId": "dec1aba2-d440-4013-afaa-d40036489bd1",
        "colab": {
          "base_uri": "https://localhost:8080/"
        },
        "id": "8F9KmHFqaEQw"
      },
      "execution_count": null,
      "outputs": [
        {
          "output_type": "stream",
          "name": "stdout",
          "text": [
            "Table default-256400:ebird.ebd_sampling_relSep_2023\n",
            "\n",
            "   Last modified                   Schema                  Total Rows   Total Bytes   Expiration   Time Partitioning   Clustered Fields   Total Logical Bytes   Total Physical Bytes   Labels  \n",
            " ----------------- -------------------------------------- ------------ ------------- ------------ ------------------- ------------------ --------------------- ---------------------- -------- \n",
            "  22 Nov 14:20:43   |- LAST_EDITED_DATE: timestamp         111388197    27063315375                                                       27063315375           0                              \n",
            "                    |- country: string                                                                                                                                                         \n",
            "                    |- COUNTRY_CODE: string                                                                                                                                                    \n",
            "                    |- STATE: string                                                                                                                                                           \n",
            "                    |- STATE_CODE: string                                                                                                                                                      \n",
            "                    |- COUNTY: string                                                                                                                                                          \n",
            "                    |- COUNTY_CODE: string                                                                                                                                                     \n",
            "                    |- IBA_CODE: string                                                                                                                                                        \n",
            "                    |- BCR_CODE: integer                                                                                                                                                       \n",
            "                    |- USFWS_CODE: string                                                                                                                                                      \n",
            "                    |- ATLAS_BLOCK: string                                                                                                                                                     \n",
            "                    |- LOCALITY: string                                                                                                                                                        \n",
            "                    |- LOCALITY_ID: string                                                                                                                                                     \n",
            "                    |- LOCALITY_TYPE: string                                                                                                                                                   \n",
            "                    |- LATITUDE: float                                                                                                                                                         \n",
            "                    |- LONGITUDE: float                                                                                                                                                        \n",
            "                    |- OBSERVATION_DATE: date                                                                                                                                                  \n",
            "                    |- TIME_OBSERVATIONS_STARTED: time                                                                                                                                         \n",
            "                    |- OBSERVER_ID: string                                                                                                                                                     \n",
            "                    |- SAMPLING_EVENT_IDENTIFIER: string                                                                                                                                       \n",
            "                    |- PROTOCOL_TYPE: string                                                                                                                                                   \n",
            "                    |- PROTOCOL_CODE: string                                                                                                                                                   \n",
            "                    |- PROJECT_CODE: string                                                                                                                                                    \n",
            "                    |- DURATION_MINUTES: integer                                                                                                                                               \n",
            "                    |- EFFORT_DISTANCE_KM: float                                                                                                                                               \n",
            "                    |- EFFORT_AREA_HA: float                                                                                                                                                   \n",
            "                    |- NUMBER_OBSERVERS: integer                                                                                                                                               \n",
            "                    |- ALL_SPECIES_REPORTED: integer                                                                                                                                           \n",
            "                    |- GROUP_IDENTIFIER: string                                                                                                                                                \n",
            "                    |- TRIP_COMMENTS: string                                                                                                                                                   \n",
            "\n"
          ]
        }
      ]
    },
    {
      "cell_type": "markdown",
      "source": [
        "## New Mexico observations"
      ],
      "metadata": {
        "id": "HSdhN53VaeIv"
      }
    },
    {
      "cell_type": "code",
      "source": [
        "!curl -I https://cnmi-ebird.sfo3.digitaloceanspaces.com/data.nm.txt.gz\n",
        "\n",
        "# 1,032,617,810"
      ],
      "metadata": {
        "id": "4KzCy_zUa2RE",
        "outputId": "89fe23a3-f2a2-47e9-ab58-69fe708f961e",
        "colab": {
          "base_uri": "https://localhost:8080/"
        }
      },
      "execution_count": null,
      "outputs": [
        {
          "output_type": "stream",
          "name": "stdout",
          "text": [
            "HTTP/2 200 \r\n",
            "\u001b[1mcontent-length\u001b[0m: 1032617810\r\n",
            "\u001b[1maccept-ranges\u001b[0m: bytes\r\n",
            "\u001b[1mlast-modified\u001b[0m: Thu, 16 Nov 2023 17:18:22 GMT\r\n",
            "\u001b[1mx-rgw-object-type\u001b[0m: Normal\r\n",
            "\u001b[1metag\u001b[0m: \"f65095637a2e54553346a337547e3b82-66\"\r\n",
            "\u001b[1mx-amz-meta-s3cmd-attrs\u001b[0m: atime:1700146076/ctime:1700146258/gid:0/gname:root/md5:c7ce3b4dbaf87bac3fca0f5d6d592f5c/mode:33188/mtime:1700146258/uid:0/uname:root\r\n",
            "\u001b[1mx-amz-request-id\u001b[0m: tx000000aea1807f1f75728-00655e0f40-3c6f48c0-sfo3a\r\n",
            "\u001b[1mcontent-type\u001b[0m: application/gzip\r\n",
            "\u001b[1mdate\u001b[0m: Wed, 22 Nov 2023 14:25:04 GMT\r\n",
            "\u001b[1mvary\u001b[0m: Origin, Access-Control-Request-Headers, Access-Control-Request-Method\r\n",
            "\u001b[1mstrict-transport-security\u001b[0m: max-age=15552000; includeSubDomains; preload\r\n",
            "\u001b[1mx-envoy-upstream-healthchecked-cluster\u001b[0m: \r\n",
            "\r\n"
          ]
        }
      ]
    },
    {
      "cell_type": "code",
      "source": [
        "%%bash\n",
        "curl -s https://cnmi-ebird.sfo3.digitaloceanspaces.com/data.nm.txt.gz |\n",
        "dd bs=1M status=progress |\n",
        "gcloud storage cp - gs://${GOOGLE_CLOUD_BUCKET}/data.nm.txt.gz\n"
      ],
      "metadata": {
        "id": "TD3vMwRbZ1Il",
        "outputId": "3e1fbcf6-9273-4724-af06-7ddf54cbdadb",
        "colab": {
          "base_uri": "https://localhost:8080/"
        }
      },
      "execution_count": null,
      "outputs": [
        {
          "output_type": "stream",
          "name": "stderr",
          "text": [
            "WARNING: Using sequential instead of parallel task execution to transfer from stdin.\n",
            "Copying file://- to gs://c11-ebird/data.nm.txt.gz\n",
            "  \n",
            "\r94208 bytes (94 kB, 92 KiB) copied, 3 s, 28.9 kB/s\r159744 bytes (160 kB, 156 KiB) copied, 3 s, 49.0 kB/s\r225280 bytes (225 kB, 220 KiB) copied, 3 s, 69.1 kB/s\r33894400 bytes (34 MB, 32 MiB) copied, 4 s, 8.5 MB/s \r104927232 bytes (105 MB, 100 MiB) copied, 7 s, 15.2 MB/s\r104992768 bytes (105 MB, 100 MiB) copied, 7 s, 15.2 MB/s\r110399488 bytes (110 MB, 105 MiB) copied, 7 s, 15.7 MB/s\r184999936 bytes (185 MB, 176 MiB) copied, 8 s, 23.1 MB/s\r209784832 bytes (210 MB, 200 MiB) copied, 11 s, 19.7 MB/s\r209850368 bytes (210 MB, 200 MiB) copied, 11 s, 19.7 MB/s\r225570816 bytes (226 MB, 215 MiB) copied, 11 s, 20.5 MB/s\r312340480 bytes (312 MB, 298 MiB) copied, 12 s, 26.0 MB/s\r314642432 bytes (315 MB, 300 MiB) copied, 14 s, 21.7 MB/s\r314707968 bytes (315 MB, 300 MiB) copied, 14 s, 21.7 MB/s\r342028288 bytes (342 MB, 326 MiB) copied, 15 s, 22.8 MB/s\r419500032 bytes (420 MB, 400 MiB) copied, 18 s, 22.8 MB/s\r419565568 bytes (420 MB, 400 MiB) copied, 18 s, 22.8 MB/s\r419631104 bytes (420 MB, 400 MiB) copied, 18 s, 22.8 MB/s\r456024064 bytes (456 MB, 435 MiB) copied, 19 s, 24.0 MB/s\r524369920 bytes (524 MB, 500 MiB) copied, 22 s, 23.6 MB/s\r524435456 bytes (524 MB, 500 MiB) copied, 22 s, 23.6 MB/s\r524484608 bytes (524 MB, 500 MiB) copied, 22 s, 23.6 MB/s\r572661760 bytes (573 MB, 546 MiB) copied, 23 s, 24.9 MB/s\r629276672 bytes (629 MB, 600 MiB) copied, 26 s, 24.1 MB/s\r629342208 bytes (629 MB, 600 MiB) copied, 26 s, 24.1 MB/s\r629407744 bytes (629 MB, 600 MiB) copied, 26 s, 24.1 MB/s\r686247936 bytes (686 MB, 654 MiB) copied, 27 s, 25.4 MB/s\r734081024 bytes (734 MB, 700 MiB) copied, 30 s, 24.6 MB/s\r734146560 bytes (734 MB, 700 MiB) copied, 30 s, 24.6 MB/s\r740122624 bytes (740 MB, 706 MiB) copied, 30 s, 24.6 MB/s\r814100480 bytes (814 MB, 776 MiB) copied, 31 s, 26.2 MB/s\r838938624 bytes (839 MB, 800 MiB) copied, 34 s, 25.0 MB/s\r839004160 bytes (839 MB, 800 MiB) copied, 34 s, 25.0 MB/s\r858652672 bytes (859 MB, 819 MiB) copied, 34 s, 25.3 MB/s\r940843008 bytes (941 MB, 897 MiB) copied, 35 s, 26.9 MB/s\r943792128 bytes (944 MB, 900 MiB) copied, 37 s, 25.4 MB/s\r943857664 bytes (944 MB, 900 MiB) copied, 37 s, 25.4 MB/s\r998744064 bytes (999 MB, 952 MiB) copied, 38 s, 26.3 MB/s\n",
            "0+83921 records in\n",
            "0+83921 records out\n",
            "1032617810 bytes (1.0 GB, 985 MiB) copied, 38.3915 s, 26.9 MB/s\n",
            ".............................................................................................................................................................................................\n",
            "\n",
            "Average throughput: 27.7MiB/s\n"
          ]
        }
      ]
    },
    {
      "cell_type": "code",
      "source": [],
      "metadata": {
        "id": "JhhGpLTnbMCq"
      },
      "execution_count": null,
      "outputs": []
    },
    {
      "cell_type": "code",
      "source": [
        "%%bash\n",
        "gcloud storage ls -l gs://${GOOGLE_CLOUD_BUCKET}"
      ],
      "metadata": {
        "outputId": "fd553c1a-9f48-4bf6-c62b-870d607d3ee1",
        "colab": {
          "base_uri": "https://localhost:8080/"
        },
        "id": "JuLkGGRgbd2S"
      },
      "execution_count": null,
      "outputs": [
        {
          "output_type": "stream",
          "name": "stdout",
          "text": [
            "1032617810  2023-11-22T14:27:03Z  gs://c11-ebird/data.nm.txt.gz\n",
            "    504698  2023-11-21T23:28:26Z  gs://c11-ebird/ebd_US-AL-101_202204_202204_relApr-2022.txt\n",
            "     60011  2023-11-22T17:52:45Z  gs://c11-ebird/ebd_US-AL-101_202204_202204_relApr-2022.txt.v03.gz\n",
            "27103974002  2023-11-22T08:07:44Z  gs://c11-ebird/ebd_sampling_relSep-2023.txt\n",
            "4815040900  2023-11-22T07:20:39Z  gs://c11-ebird/ebd_sampling_relSep-2023.txt.gz\n",
            "TOTAL: 5 objects, 32952197421 bytes (30.69GiB)\n"
          ]
        }
      ]
    },
    {
      "cell_type": "code",
      "source": [
        "%%bash\n",
        "bq --project_id=${GOOGLE_CLOUD_PROJECT} \\\n",
        "  load \\\n",
        "  --source_format=CSV \\\n",
        "  --field_delimiter='\\t' \\\n",
        "  --autodetect \\\n",
        "  --skip_leading_rows=1 \\\n",
        "  ebird.ebd_NM_relSep_2023 \\\n",
        "  gs://${GOOGLE_CLOUD_BUCKET}/data.nm.txt.gz\n"
      ],
      "metadata": {
        "outputId": "9c272716-cb46-4979-83d0-2409340e2e0d",
        "colab": {
          "base_uri": "https://localhost:8080/"
        },
        "id": "HsTn6Ojobd2t"
      },
      "execution_count": null,
      "outputs": [
        {
          "output_type": "stream",
          "name": "stderr",
          "text": [
            "\rWaiting on bqjob_r8dae043b2db7705_0000018bf76f58ec_1 ... (0s) Current status: RUNNING\r                                                                                     \rWaiting on bqjob_r8dae043b2db7705_0000018bf76f58ec_1 ... (1s) Current status: RUNNING\r                                                                                     \rWaiting on bqjob_r8dae043b2db7705_0000018bf76f58ec_1 ... (2s) Current status: RUNNING\r                                                                                     \rWaiting on bqjob_r8dae043b2db7705_0000018bf76f58ec_1 ... (3s) Current status: RUNNING\r                                                                                     \rWaiting on bqjob_r8dae043b2db7705_0000018bf76f58ec_1 ... (4s) Current status: RUNNING\r                                                                                     \rWaiting on bqjob_r8dae043b2db7705_0000018bf76f58ec_1 ... (5s) Current status: RUNNING\r                                                                                     \rWaiting on bqjob_r8dae043b2db7705_0000018bf76f58ec_1 ... (7s) Current status: RUNNING\r                                                                                     \rWaiting on bqjob_r8dae043b2db7705_0000018bf76f58ec_1 ... (8s) Current status: RUNNING\r                                                                                     \rWaiting on bqjob_r8dae043b2db7705_0000018bf76f58ec_1 ... (9s) Current status: RUNNING\r                                                                                     \rWaiting on bqjob_r8dae043b2db7705_0000018bf76f58ec_1 ... (10s) Current status: RUNNING\r                                                                                      \rWaiting on bqjob_r8dae043b2db7705_0000018bf76f58ec_1 ... (11s) Current status: RUNNING\r                                                                                      \rWaiting on bqjob_r8dae043b2db7705_0000018bf76f58ec_1 ... (12s) Current status: RUNNING\r                                                                                      \rWaiting on bqjob_r8dae043b2db7705_0000018bf76f58ec_1 ... (13s) Current status: RUNNING\r                                                                                      \rWaiting on bqjob_r8dae043b2db7705_0000018bf76f58ec_1 ... (14s) Current status: RUNNING\r                                                                                      \rWaiting on bqjob_r8dae043b2db7705_0000018bf76f58ec_1 ... (15s) Current status: RUNNING\r                                                                                      \rWaiting on bqjob_r8dae043b2db7705_0000018bf76f58ec_1 ... (16s) Current status: RUNNING\r                                                                                      \rWaiting on bqjob_r8dae043b2db7705_0000018bf76f58ec_1 ... (17s) Current status: RUNNING\r                                                                                      \rWaiting on bqjob_r8dae043b2db7705_0000018bf76f58ec_1 ... (18s) Current status: RUNNING\r                                                                                      \rWaiting on bqjob_r8dae043b2db7705_0000018bf76f58ec_1 ... (19s) Current status: RUNNING\r                                                                                      \rWaiting on bqjob_r8dae043b2db7705_0000018bf76f58ec_1 ... (20s) Current status: RUNNING\r                                                                                      \rWaiting on bqjob_r8dae043b2db7705_0000018bf76f58ec_1 ... (21s) Current status: RUNNING\r                                                                                      \rWaiting on bqjob_r8dae043b2db7705_0000018bf76f58ec_1 ... (22s) Current status: RUNNING\r                                                                                      \rWaiting on bqjob_r8dae043b2db7705_0000018bf76f58ec_1 ... (23s) Current status: RUNNING\r                                                                                      \rWaiting on bqjob_r8dae043b2db7705_0000018bf76f58ec_1 ... (24s) Current status: RUNNING\r                                                                                      \rWaiting on bqjob_r8dae043b2db7705_0000018bf76f58ec_1 ... (25s) Current status: RUNNING\r                                                                                      \rWaiting on bqjob_r8dae043b2db7705_0000018bf76f58ec_1 ... (26s) Current status: RUNNING\r                                                                                      \rWaiting on bqjob_r8dae043b2db7705_0000018bf76f58ec_1 ... (27s) Current status: RUNNING\r                                                                                      \rWaiting on bqjob_r8dae043b2db7705_0000018bf76f58ec_1 ... (28s) Current status: RUNNING\r                                                                                      \rWaiting on bqjob_r8dae043b2db7705_0000018bf76f58ec_1 ... (29s) Current status: RUNNING\r                                                                                      \rWaiting on bqjob_r8dae043b2db7705_0000018bf76f58ec_1 ... (30s) Current status: RUNNING\r                                                                                      \rWaiting on bqjob_r8dae043b2db7705_0000018bf76f58ec_1 ... (31s) Current status: RUNNING\r                                                                                      \rWaiting on bqjob_r8dae043b2db7705_0000018bf76f58ec_1 ... (32s) Current status: RUNNING\r                                                                                      \rWaiting on bqjob_r8dae043b2db7705_0000018bf76f58ec_1 ... (33s) Current status: RUNNING\r                                                                                      \rWaiting on bqjob_r8dae043b2db7705_0000018bf76f58ec_1 ... (34s) Current status: RUNNING\r                                                                                      \rWaiting on bqjob_r8dae043b2db7705_0000018bf76f58ec_1 ... (35s) Current status: RUNNING\r                                                                                      \rWaiting on bqjob_r8dae043b2db7705_0000018bf76f58ec_1 ... (36s) Current status: RUNNING\r                                                                                      \rWaiting on bqjob_r8dae043b2db7705_0000018bf76f58ec_1 ... (37s) Current status: RUNNING\r                                                                                      \rWaiting on bqjob_r8dae043b2db7705_0000018bf76f58ec_1 ... (38s) Current status: RUNNING\r                                                                                      \rWaiting on bqjob_r8dae043b2db7705_0000018bf76f58ec_1 ... (39s) Current status: RUNNING\r                                                                                      \rWaiting on bqjob_r8dae043b2db7705_0000018bf76f58ec_1 ... (40s) Current status: RUNNING\r                                                                                      \rWaiting on bqjob_r8dae043b2db7705_0000018bf76f58ec_1 ... (41s) Current status: RUNNING\r                                                                                      \rWaiting on bqjob_r8dae043b2db7705_0000018bf76f58ec_1 ... (42s) Current status: RUNNING\r                                                                                      \rWaiting on bqjob_r8dae043b2db7705_0000018bf76f58ec_1 ... (43s) Current status: RUNNING\r                                                                                      \rWaiting on bqjob_r8dae043b2db7705_0000018bf76f58ec_1 ... (44s) Current status: RUNNING\r                                                                                      \rWaiting on bqjob_r8dae043b2db7705_0000018bf76f58ec_1 ... (45s) Current status: RUNNING\r                                                                                      \rWaiting on bqjob_r8dae043b2db7705_0000018bf76f58ec_1 ... (46s) Current status: RUNNING\r                                                                                      \rWaiting on bqjob_r8dae043b2db7705_0000018bf76f58ec_1 ... (47s) Current status: RUNNING\r                                                                                      \rWaiting on bqjob_r8dae043b2db7705_0000018bf76f58ec_1 ... (48s) Current status: RUNNING\r                                                                                      \rWaiting on bqjob_r8dae043b2db7705_0000018bf76f58ec_1 ... (50s) Current status: RUNNING\r                                                                                      \rWaiting on bqjob_r8dae043b2db7705_0000018bf76f58ec_1 ... (51s) Current status: RUNNING\r                                                                                      \rWaiting on bqjob_r8dae043b2db7705_0000018bf76f58ec_1 ... (52s) Current status: RUNNING\r                                                                                      \rWaiting on bqjob_r8dae043b2db7705_0000018bf76f58ec_1 ... (53s) Current status: RUNNING\r                                                                                      \rWaiting on bqjob_r8dae043b2db7705_0000018bf76f58ec_1 ... (54s) Current status: RUNNING\r                                                                                      \rWaiting on bqjob_r8dae043b2db7705_0000018bf76f58ec_1 ... (55s) Current status: RUNNING\r                                                                                      \rWaiting on bqjob_r8dae043b2db7705_0000018bf76f58ec_1 ... (56s) Current status: RUNNING\r                                                                                      \rWaiting on bqjob_r8dae043b2db7705_0000018bf76f58ec_1 ... (57s) Current status: RUNNING\r                                                                                      \rWaiting on bqjob_r8dae043b2db7705_0000018bf76f58ec_1 ... (58s) Current status: RUNNING\r                                                                                      \rWaiting on bqjob_r8dae043b2db7705_0000018bf76f58ec_1 ... (59s) Current status: RUNNING\r                                                                                      \rWaiting on bqjob_r8dae043b2db7705_0000018bf76f58ec_1 ... (60s) Current status: RUNNING\r                                                                                      \rWaiting on bqjob_r8dae043b2db7705_0000018bf76f58ec_1 ... (61s) Current status: RUNNING\r                                                                                      \rWaiting on bqjob_r8dae043b2db7705_0000018bf76f58ec_1 ... (62s) Current status: RUNNING\r                                                                                      \rWaiting on bqjob_r8dae043b2db7705_0000018bf76f58ec_1 ... (63s) Current status: RUNNING\r                                                                                      \rWaiting on bqjob_r8dae043b2db7705_0000018bf76f58ec_1 ... (64s) Current status: RUNNING\r                                                                                      \rWaiting on bqjob_r8dae043b2db7705_0000018bf76f58ec_1 ... (65s) Current status: RUNNING\r                                                                                      \rWaiting on bqjob_r8dae043b2db7705_0000018bf76f58ec_1 ... (66s) Current status: RUNNING\r                                                                                      \rWaiting on bqjob_r8dae043b2db7705_0000018bf76f58ec_1 ... (67s) Current status: RUNNING\r                                                                                      \rWaiting on bqjob_r8dae043b2db7705_0000018bf76f58ec_1 ... (68s) Current status: RUNNING\r                                                                                      \rWaiting on bqjob_r8dae043b2db7705_0000018bf76f58ec_1 ... (69s) Current status: RUNNING\r                                                                                      \rWaiting on bqjob_r8dae043b2db7705_0000018bf76f58ec_1 ... (70s) Current status: RUNNING\r                                                                                      \rWaiting on bqjob_r8dae043b2db7705_0000018bf76f58ec_1 ... (71s) Current status: RUNNING\r                                                                                      \rWaiting on bqjob_r8dae043b2db7705_0000018bf76f58ec_1 ... (72s) Current status: RUNNING\r                                                                                      \rWaiting on bqjob_r8dae043b2db7705_0000018bf76f58ec_1 ... (73s) Current status: RUNNING\r                                                                                      \rWaiting on bqjob_r8dae043b2db7705_0000018bf76f58ec_1 ... (74s) Current status: RUNNING\r                                                                                      \rWaiting on bqjob_r8dae043b2db7705_0000018bf76f58ec_1 ... (75s) Current status: RUNNING\r                                                                                      \rWaiting on bqjob_r8dae043b2db7705_0000018bf76f58ec_1 ... (76s) Current status: RUNNING\r                                                                                      \rWaiting on bqjob_r8dae043b2db7705_0000018bf76f58ec_1 ... (77s) Current status: RUNNING\r                                                                                      \rWaiting on bqjob_r8dae043b2db7705_0000018bf76f58ec_1 ... (78s) Current status: RUNNING\r                                                                                      \rWaiting on bqjob_r8dae043b2db7705_0000018bf76f58ec_1 ... (79s) Current status: RUNNING\r                                                                                      \rWaiting on bqjob_r8dae043b2db7705_0000018bf76f58ec_1 ... (80s) Current status: RUNNING\r                                                                                      \rWaiting on bqjob_r8dae043b2db7705_0000018bf76f58ec_1 ... (81s) Current status: RUNNING\r                                                                                      \rWaiting on bqjob_r8dae043b2db7705_0000018bf76f58ec_1 ... (82s) Current status: RUNNING\r                                                                                      \rWaiting on bqjob_r8dae043b2db7705_0000018bf76f58ec_1 ... (83s) Current status: RUNNING\r                                                                                      \rWaiting on bqjob_r8dae043b2db7705_0000018bf76f58ec_1 ... (84s) Current status: RUNNING\r                                                                                      \rWaiting on bqjob_r8dae043b2db7705_0000018bf76f58ec_1 ... (85s) Current status: RUNNING\r                                                                                      \rWaiting on bqjob_r8dae043b2db7705_0000018bf76f58ec_1 ... (86s) Current status: RUNNING\r                                                                                      \rWaiting on bqjob_r8dae043b2db7705_0000018bf76f58ec_1 ... (87s) Current status: RUNNING\r                                                                                      \rWaiting on bqjob_r8dae043b2db7705_0000018bf76f58ec_1 ... (88s) Current status: RUNNING\r                                                                                      \rWaiting on bqjob_r8dae043b2db7705_0000018bf76f58ec_1 ... (89s) Current status: RUNNING\r                                                                                      \rWaiting on bqjob_r8dae043b2db7705_0000018bf76f58ec_1 ... (90s) Current status: RUNNING\r                                                                                      \rWaiting on bqjob_r8dae043b2db7705_0000018bf76f58ec_1 ... (91s) Current status: RUNNING\r                                                                                      \rWaiting on bqjob_r8dae043b2db7705_0000018bf76f58ec_1 ... (92s) Current status: RUNNING\r                                                                                      \rWaiting on bqjob_r8dae043b2db7705_0000018bf76f58ec_1 ... (93s) Current status: RUNNING\r                                                                                      \rWaiting on bqjob_r8dae043b2db7705_0000018bf76f58ec_1 ... (94s) Current status: RUNNING\r                                                                                      \rWaiting on bqjob_r8dae043b2db7705_0000018bf76f58ec_1 ... (95s) Current status: RUNNING\r                                                                                      \rWaiting on bqjob_r8dae043b2db7705_0000018bf76f58ec_1 ... (96s) Current status: RUNNING\r                                                                                      \rWaiting on bqjob_r8dae043b2db7705_0000018bf76f58ec_1 ... (97s) Current status: RUNNING\r                                                                                      \rWaiting on bqjob_r8dae043b2db7705_0000018bf76f58ec_1 ... (98s) Current status: RUNNING\r                                                                                      \rWaiting on bqjob_r8dae043b2db7705_0000018bf76f58ec_1 ... (99s) Current status: RUNNING\r                                                                                      \rWaiting on bqjob_r8dae043b2db7705_0000018bf76f58ec_1 ... (100s) Current status: RUNNING\r                                                                                       \rWaiting on bqjob_r8dae043b2db7705_0000018bf76f58ec_1 ... (101s) Current status: RUNNING\r                                                                                       \rWaiting on bqjob_r8dae043b2db7705_0000018bf76f58ec_1 ... (102s) Current status: RUNNING\r                                                                                       \rWaiting on bqjob_r8dae043b2db7705_0000018bf76f58ec_1 ... (103s) Current status: RUNNING\r                                                                                       \rWaiting on bqjob_r8dae043b2db7705_0000018bf76f58ec_1 ... (104s) Current status: RUNNING\r                                                                                       \rWaiting on bqjob_r8dae043b2db7705_0000018bf76f58ec_1 ... (105s) Current status: RUNNING\r                                                                                       \rWaiting on bqjob_r8dae043b2db7705_0000018bf76f58ec_1 ... (106s) Current status: RUNNING\r                                                                                       \rWaiting on bqjob_r8dae043b2db7705_0000018bf76f58ec_1 ... (107s) Current status: RUNNING\r                                                                                       \rWaiting on bqjob_r8dae043b2db7705_0000018bf76f58ec_1 ... (108s) Current status: RUNNING\r                                                                                       \rWaiting on bqjob_r8dae043b2db7705_0000018bf76f58ec_1 ... (109s) Current status: RUNNING\r                                                                                       \rWaiting on bqjob_r8dae043b2db7705_0000018bf76f58ec_1 ... (110s) Current status: RUNNING\r                                                                                       \rWaiting on bqjob_r8dae043b2db7705_0000018bf76f58ec_1 ... (111s) Current status: RUNNING\r                                                                                       \rWaiting on bqjob_r8dae043b2db7705_0000018bf76f58ec_1 ... (112s) Current status: RUNNING\r                                                                                       \rWaiting on bqjob_r8dae043b2db7705_0000018bf76f58ec_1 ... (113s) Current status: RUNNING\r                                                                                       \rWaiting on bqjob_r8dae043b2db7705_0000018bf76f58ec_1 ... (114s) Current status: RUNNING\r                                                                                       \rWaiting on bqjob_r8dae043b2db7705_0000018bf76f58ec_1 ... (115s) Current status: RUNNING\r                                                                                       \rWaiting on bqjob_r8dae043b2db7705_0000018bf76f58ec_1 ... (116s) Current status: RUNNING\r                                                                                       \rWaiting on bqjob_r8dae043b2db7705_0000018bf76f58ec_1 ... (117s) Current status: RUNNING\r                                                                                       \rWaiting on bqjob_r8dae043b2db7705_0000018bf76f58ec_1 ... (118s) Current status: RUNNING\r                                                                                       \rWaiting on bqjob_r8dae043b2db7705_0000018bf76f58ec_1 ... (119s) Current status: RUNNING\r                                                                                       \rWaiting on bqjob_r8dae043b2db7705_0000018bf76f58ec_1 ... (120s) Current status: RUNNING\r                                                                                       \rWaiting on bqjob_r8dae043b2db7705_0000018bf76f58ec_1 ... (121s) Current status: RUNNING\r                                                                                       \rWaiting on bqjob_r8dae043b2db7705_0000018bf76f58ec_1 ... (122s) Current status: RUNNING\r                                                                                       \rWaiting on bqjob_r8dae043b2db7705_0000018bf76f58ec_1 ... (123s) Current status: RUNNING\r                                                                                       \rWaiting on bqjob_r8dae043b2db7705_0000018bf76f58ec_1 ... (124s) Current status: RUNNING\r                                                                                       \rWaiting on bqjob_r8dae043b2db7705_0000018bf76f58ec_1 ... (125s) Current status: RUNNING\r                                                                                       \rWaiting on bqjob_r8dae043b2db7705_0000018bf76f58ec_1 ... (126s) Current status: RUNNING\r                                                                                       \rWaiting on bqjob_r8dae043b2db7705_0000018bf76f58ec_1 ... (127s) Current status: RUNNING\r                                                                                       \rWaiting on bqjob_r8dae043b2db7705_0000018bf76f58ec_1 ... (128s) Current status: RUNNING\r                                                                                       \rWaiting on bqjob_r8dae043b2db7705_0000018bf76f58ec_1 ... (129s) Current status: RUNNING\r                                                                                       \rWaiting on bqjob_r8dae043b2db7705_0000018bf76f58ec_1 ... (130s) Current status: RUNNING\r                                                                                       \rWaiting on bqjob_r8dae043b2db7705_0000018bf76f58ec_1 ... (131s) Current status: RUNNING\r                                                                                       \rWaiting on bqjob_r8dae043b2db7705_0000018bf76f58ec_1 ... (132s) Current status: RUNNING\r                                                                                       \rWaiting on bqjob_r8dae043b2db7705_0000018bf76f58ec_1 ... (133s) Current status: RUNNING\r                                                                                       \rWaiting on bqjob_r8dae043b2db7705_0000018bf76f58ec_1 ... (134s) Current status: RUNNING\r                                                                                       \rWaiting on bqjob_r8dae043b2db7705_0000018bf76f58ec_1 ... (135s) Current status: RUNNING\r                                                                                       \rWaiting on bqjob_r8dae043b2db7705_0000018bf76f58ec_1 ... (136s) Current status: RUNNING\r                                                                                       \rWaiting on bqjob_r8dae043b2db7705_0000018bf76f58ec_1 ... (137s) Current status: RUNNING\r                                                                                       \rWaiting on bqjob_r8dae043b2db7705_0000018bf76f58ec_1 ... (138s) Current status: RUNNING\r                                                                                       \rWaiting on bqjob_r8dae043b2db7705_0000018bf76f58ec_1 ... (139s) Current status: RUNNING\r                                                                                       \rWaiting on bqjob_r8dae043b2db7705_0000018bf76f58ec_1 ... (140s) Current status: RUNNING\r                                                                                       \rWaiting on bqjob_r8dae043b2db7705_0000018bf76f58ec_1 ... (141s) Current status: RUNNING\r                                                                                       \rWaiting on bqjob_r8dae043b2db7705_0000018bf76f58ec_1 ... (142s) Current status: RUNNING\r                                                                                       \rWaiting on bqjob_r8dae043b2db7705_0000018bf76f58ec_1 ... (143s) Current status: RUNNING\r                                                                                       \rWaiting on bqjob_r8dae043b2db7705_0000018bf76f58ec_1 ... (144s) Current status: RUNNING\r                                                                                       \rWaiting on bqjob_r8dae043b2db7705_0000018bf76f58ec_1 ... (145s) Current status: RUNNING\r                                                                                       \rWaiting on bqjob_r8dae043b2db7705_0000018bf76f58ec_1 ... (146s) Current status: RUNNING\r                                                                                       \rWaiting on bqjob_r8dae043b2db7705_0000018bf76f58ec_1 ... (147s) Current status: RUNNING\r                                                                                       \rWaiting on bqjob_r8dae043b2db7705_0000018bf76f58ec_1 ... (148s) Current status: RUNNING\r                                                                                       \rWaiting on bqjob_r8dae043b2db7705_0000018bf76f58ec_1 ... (149s) Current status: RUNNING\r                                                                                       \rWaiting on bqjob_r8dae043b2db7705_0000018bf76f58ec_1 ... (150s) Current status: RUNNING\r                                                                                       \rWaiting on bqjob_r8dae043b2db7705_0000018bf76f58ec_1 ... (151s) Current status: RUNNING\r                                                                                       \rWaiting on bqjob_r8dae043b2db7705_0000018bf76f58ec_1 ... (152s) Current status: RUNNING\r                                                                                       \rWaiting on bqjob_r8dae043b2db7705_0000018bf76f58ec_1 ... (153s) Current status: RUNNING\r                                                                                       \rWaiting on bqjob_r8dae043b2db7705_0000018bf76f58ec_1 ... (154s) Current status: RUNNING\r                                                                                       \rWaiting on bqjob_r8dae043b2db7705_0000018bf76f58ec_1 ... (155s) Current status: RUNNING\r                                                                                       \rWaiting on bqjob_r8dae043b2db7705_0000018bf76f58ec_1 ... (156s) Current status: RUNNING\r                                                                                       \rWaiting on bqjob_r8dae043b2db7705_0000018bf76f58ec_1 ... (157s) Current status: RUNNING\r                                                                                       \rWaiting on bqjob_r8dae043b2db7705_0000018bf76f58ec_1 ... (158s) Current status: RUNNING\r                                                                                       \rWaiting on bqjob_r8dae043b2db7705_0000018bf76f58ec_1 ... (159s) Current status: RUNNING\r                                                                                       \rWaiting on bqjob_r8dae043b2db7705_0000018bf76f58ec_1 ... (160s) Current status: RUNNING\r                                                                                       \rWaiting on bqjob_r8dae043b2db7705_0000018bf76f58ec_1 ... (161s) Current status: RUNNING\r                                                                                       \rWaiting on bqjob_r8dae043b2db7705_0000018bf76f58ec_1 ... (162s) Current status: RUNNING\r                                                                                       \rWaiting on bqjob_r8dae043b2db7705_0000018bf76f58ec_1 ... (163s) Current status: RUNNING\r                                                                                       \rWaiting on bqjob_r8dae043b2db7705_0000018bf76f58ec_1 ... (164s) Current status: RUNNING\r                                                                                       \rWaiting on bqjob_r8dae043b2db7705_0000018bf76f58ec_1 ... (165s) Current status: RUNNING\r                                                                                       \rWaiting on bqjob_r8dae043b2db7705_0000018bf76f58ec_1 ... (166s) Current status: RUNNING\r                                                                                       \rWaiting on bqjob_r8dae043b2db7705_0000018bf76f58ec_1 ... (167s) Current status: RUNNING\r                                                                                       \rWaiting on bqjob_r8dae043b2db7705_0000018bf76f58ec_1 ... (168s) Current status: RUNNING\r                                                                                       \rWaiting on bqjob_r8dae043b2db7705_0000018bf76f58ec_1 ... (169s) Current status: RUNNING\r                                                                                       \rWaiting on bqjob_r8dae043b2db7705_0000018bf76f58ec_1 ... (170s) Current status: RUNNING\r                                                                                       \rWaiting on bqjob_r8dae043b2db7705_0000018bf76f58ec_1 ... (171s) Current status: RUNNING\r                                                                                       \rWaiting on bqjob_r8dae043b2db7705_0000018bf76f58ec_1 ... (172s) Current status: RUNNING\r                                                                                       \rWaiting on bqjob_r8dae043b2db7705_0000018bf76f58ec_1 ... (173s) Current status: RUNNING\r                                                                                       \rWaiting on bqjob_r8dae043b2db7705_0000018bf76f58ec_1 ... (174s) Current status: RUNNING\r                                                                                       \rWaiting on bqjob_r8dae043b2db7705_0000018bf76f58ec_1 ... (175s) Current status: RUNNING\r                                                                                       \rWaiting on bqjob_r8dae043b2db7705_0000018bf76f58ec_1 ... (176s) Current status: RUNNING\r                                                                                       \rWaiting on bqjob_r8dae043b2db7705_0000018bf76f58ec_1 ... (177s) Current status: RUNNING\r                                                                                       \rWaiting on bqjob_r8dae043b2db7705_0000018bf76f58ec_1 ... (178s) Current status: RUNNING\r                                                                                       \rWaiting on bqjob_r8dae043b2db7705_0000018bf76f58ec_1 ... (179s) Current status: RUNNING\r                                                                                       \rWaiting on bqjob_r8dae043b2db7705_0000018bf76f58ec_1 ... (180s) Current status: RUNNING\r                                                                                       \rWaiting on bqjob_r8dae043b2db7705_0000018bf76f58ec_1 ... (181s) Current status: RUNNING\r                                                                                       \rWaiting on bqjob_r8dae043b2db7705_0000018bf76f58ec_1 ... (182s) Current status: RUNNING\r                                                                                       \rWaiting on bqjob_r8dae043b2db7705_0000018bf76f58ec_1 ... (183s) Current status: RUNNING\r                                                                                       \rWaiting on bqjob_r8dae043b2db7705_0000018bf76f58ec_1 ... (184s) Current status: RUNNING\r                                                                                       \rWaiting on bqjob_r8dae043b2db7705_0000018bf76f58ec_1 ... (185s) Current status: RUNNING\r                                                                                       \rWaiting on bqjob_r8dae043b2db7705_0000018bf76f58ec_1 ... (186s) Current status: RUNNING\r                                                                                       \rWaiting on bqjob_r8dae043b2db7705_0000018bf76f58ec_1 ... (187s) Current status: RUNNING\r                                                                                       \rWaiting on bqjob_r8dae043b2db7705_0000018bf76f58ec_1 ... (188s) Current status: RUNNING\r                                                                                       \rWaiting on bqjob_r8dae043b2db7705_0000018bf76f58ec_1 ... (189s) Current status: RUNNING\r                                                                                       \rWaiting on bqjob_r8dae043b2db7705_0000018bf76f58ec_1 ... (190s) Current status: RUNNING\r                                                                                       \rWaiting on bqjob_r8dae043b2db7705_0000018bf76f58ec_1 ... (191s) Current status: RUNNING\r                                                                                       \rWaiting on bqjob_r8dae043b2db7705_0000018bf76f58ec_1 ... (192s) Current status: RUNNING\r                                                                                       \rWaiting on bqjob_r8dae043b2db7705_0000018bf76f58ec_1 ... (193s) Current status: RUNNING\r                                                                                       \rWaiting on bqjob_r8dae043b2db7705_0000018bf76f58ec_1 ... (194s) Current status: RUNNING\r                                                                                       \rWaiting on bqjob_r8dae043b2db7705_0000018bf76f58ec_1 ... (194s) Current status: DONE   \n"
          ]
        }
      ]
    },
    {
      "cell_type": "code",
      "source": [
        "!bq ls {project_id}:ebird"
      ],
      "metadata": {
        "outputId": "437397c1-fea6-4dcf-9944-65441330cdc5",
        "colab": {
          "base_uri": "https://localhost:8080/"
        },
        "id": "X5PTnIpUbd2u"
      },
      "execution_count": null,
      "outputs": [
        {
          "output_type": "stream",
          "name": "stdout",
          "text": [
            "          tableId            Type    Labels   Time Partitioning   Clustered Fields  \n",
            " -------------------------- ------- -------- ------------------- ------------------ \n",
            "  ebd_NM_relSep_2023         TABLE                                                  \n",
            "  ebd_sampling_relSep_2023   TABLE                                                  \n",
            "  ebird_small                TABLE                                                  \n"
          ]
        }
      ]
    },
    {
      "cell_type": "code",
      "source": [
        "!bq show {project_id}:ebird.ebd_NM_relSep_2023"
      ],
      "metadata": {
        "outputId": "70447844-0bd3-422c-d234-2ec72e4e97db",
        "colab": {
          "base_uri": "https://localhost:8080/"
        },
        "id": "VJFx3mTpbd2v"
      },
      "execution_count": null,
      "outputs": [
        {
          "output_type": "stream",
          "name": "stdout",
          "text": [
            "Table default-256400:ebird.ebd_NM_relSep_2023\n",
            "\n",
            "   Last modified                   Schema                   Total Rows   Total Bytes   Expiration   Time Partitioning   Clustered Fields   Total Logical Bytes   Total Physical Bytes   Labels  \n",
            " ----------------- --------------------------------------- ------------ ------------- ------------ ------------------- ------------------ --------------------- ---------------------- -------- \n",
            "  22 Nov 14:32:01   |- GLOBAL_UNIQUE_IDENTIFIER: string     10170370     4151731058                                                        4151731058                                           \n",
            "                    |- LAST_EDITED_DATE: timestamp                                                                                                                                              \n",
            "                    |- TAXONOMIC_ORDER: integer                                                                                                                                                 \n",
            "                    |- CATEGORY: string                                                                                                                                                         \n",
            "                    |- TAXON_CONCEPT_ID: string                                                                                                                                                 \n",
            "                    |- COMMON_NAME: string                                                                                                                                                      \n",
            "                    |- SCIENTIFIC_NAME: string                                                                                                                                                  \n",
            "                    |- SUBSPECIES_COMMON_NAME: string                                                                                                                                           \n",
            "                    |- SUBSPECIES_SCIENTIFIC_NAME: string                                                                                                                                       \n",
            "                    |- EXOTIC_CODE: string                                                                                                                                                      \n",
            "                    |- OBSERVATION_COUNT: string                                                                                                                                                \n",
            "                    |- BREEDING_CODE: string                                                                                                                                                    \n",
            "                    |- BREEDING_CATEGORY: string                                                                                                                                                \n",
            "                    |- BEHAVIOR_CODE: string                                                                                                                                                    \n",
            "                    |- AGE_SEX: string                                                                                                                                                          \n",
            "                    |- COUNTRY: string                                                                                                                                                          \n",
            "                    |- COUNTRY_CODE: string                                                                                                                                                     \n",
            "                    |- STATE: string                                                                                                                                                            \n",
            "                    |- STATE_CODE: string                                                                                                                                                       \n",
            "                    |- COUNTY: string                                                                                                                                                           \n",
            "                    |- COUNTY_CODE: string                                                                                                                                                      \n",
            "                    |- IBA_CODE: string                                                                                                                                                         \n",
            "                    |- BCR_CODE: integer                                                                                                                                                        \n",
            "                    |- USFWS_CODE: string                                                                                                                                                       \n",
            "                    |- ATLAS_BLOCK: string                                                                                                                                                      \n",
            "                    |- LOCALITY: string                                                                                                                                                         \n",
            "                    |- LOCALITY_ID: string                                                                                                                                                      \n",
            "                    |- LOCALITY_TYPE: string                                                                                                                                                    \n",
            "                    |- LATITUDE: float                                                                                                                                                          \n",
            "                    |- LONGITUDE: float                                                                                                                                                         \n",
            "                    |- OBSERVATION_DATE: date                                                                                                                                                   \n",
            "                    |- TIME_OBSERVATIONS_STARTED: time                                                                                                                                          \n",
            "                    |- OBSERVER_ID: string                                                                                                                                                      \n",
            "                    |- SAMPLING_EVENT_IDENTIFIER: string                                                                                                                                        \n",
            "                    |- PROTOCOL_TYPE: string                                                                                                                                                    \n",
            "                    |- PROTOCOL_CODE: string                                                                                                                                                    \n",
            "                    |- PROJECT_CODE: string                                                                                                                                                     \n",
            "                    |- DURATION_MINUTES: integer                                                                                                                                                \n",
            "                    |- EFFORT_DISTANCE_KM: float                                                                                                                                                \n",
            "                    |- EFFORT_AREA_HA: float                                                                                                                                                    \n",
            "                    |- NUMBER_OBSERVERS: integer                                                                                                                                                \n",
            "                    |- ALL_SPECIES_REPORTED: integer                                                                                                                                            \n",
            "                    |- GROUP_IDENTIFIER: string                                                                                                                                                 \n",
            "                    |- HAS_MEDIA: integer                                                                                                                                                       \n",
            "                    |- APPROVED: integer                                                                                                                                                        \n",
            "                    |- REVIEWED: integer                                                                                                                                                        \n",
            "                    |- REASON: string                                                                                                                                                           \n",
            "                    |- TRIP_COMMENTS: string                                                                                                                                                    \n",
            "                    |- SPECIES_COMMENTS: string                                                                                                                                                 \n",
            "\n"
          ]
        }
      ]
    },
    {
      "cell_type": "code",
      "source": [
        "%%bigquery df --project {project_id}\n",
        "select *\n",
        "from ebird.ebd_NM_relSep_2023\n",
        "limit 1000"
      ],
      "metadata": {
        "id": "IMTQCsbdcnum",
        "colab": {
          "base_uri": "https://localhost:8080/",
          "height": 81,
          "referenced_widgets": [
            "027a1eca9f1a4721969ac34aa5be4c93",
            "8b5b1df5d416407b89e8bae198872f68",
            "c29c614b014842fdb7ee5e6a7ccbc00d",
            "9ea0b0a9dd0141d2a2e021040d72ec1d",
            "30ad844458fe4e53be015338f9d60a14",
            "b5b1b521b8424067a112314f6a484efe",
            "dbc3f321fd1a48109e3fe36659f91612",
            "c826e3c0d5b54e9183133f801efb1219",
            "3b02a39256904a9ea1878503a814c135",
            "67732066c67a4e53acfbe474958e8121",
            "660fb653889d4d158d08b82f955ec747",
            "b65eb055612a424da04c6216d0fb1282",
            "7029a4639cb94cb489d2a665c04ca43e",
            "5c009c55fd1b474985e1cb02a8bb3e74",
            "15a071bc1ba24eba92a2161404a05cfe",
            "f447c71e66d24d21b68d9caa359835da",
            "ed66da5775a2433aad9564d5f214d365",
            "773940f3bc304e1e87c6d540804e16d5",
            "908137353e964b61ada164511fc01f3e",
            "2273182e3c36496496ef28bd7bc19cdf",
            "e0968872f904440fa29b8133e941b8a5",
            "cb0ba11ea1b342b9acb8ca4a5d9f0aac"
          ]
        },
        "outputId": "b8f91d44-f2ed-4996-9211-7d4acd2b77a6"
      },
      "execution_count": null,
      "outputs": [
        {
          "output_type": "display_data",
          "data": {
            "text/plain": [
              "Query is running:   0%|          |"
            ],
            "application/vnd.jupyter.widget-view+json": {
              "version_major": 2,
              "version_minor": 0,
              "model_id": "027a1eca9f1a4721969ac34aa5be4c93"
            }
          },
          "metadata": {}
        },
        {
          "output_type": "display_data",
          "data": {
            "text/plain": [
              "Downloading:   0%|          |"
            ],
            "application/vnd.jupyter.widget-view+json": {
              "version_major": 2,
              "version_minor": 0,
              "model_id": "b65eb055612a424da04c6216d0fb1282"
            }
          },
          "metadata": {}
        }
      ]
    },
    {
      "cell_type": "code",
      "source": [
        "df"
      ],
      "metadata": {
        "colab": {
          "base_uri": "https://localhost:8080/",
          "height": 652
        },
        "id": "36Qyh_gKOmN6",
        "outputId": "ee24f41d-06d3-46c7-95cb-de8c1701e6c9"
      },
      "execution_count": null,
      "outputs": [
        {
          "output_type": "execute_result",
          "data": {
            "text/plain": [
              "                            GLOBAL_UNIQUE_IDENTIFIER  \\\n",
              "0      URN:CornellLabOfOrnithology:EBIRD:OBS22089322   \n",
              "1    URN:CornellLabOfOrnithology:EBIRD:OBS1352217352   \n",
              "2      URN:CornellLabOfOrnithology:EBIRD:OBS33720336   \n",
              "3     URN:CornellLabOfOrnithology:EBIRD:OBS262951408   \n",
              "4     URN:CornellLabOfOrnithology:EBIRD:OBS553681096   \n",
              "..                                               ...   \n",
              "995    URN:CornellLabOfOrnithology:EBIRD:OBS42623066   \n",
              "996   URN:CornellLabOfOrnithology:EBIRD:OBS551225513   \n",
              "997  URN:CornellLabOfOrnithology:EBIRD:OBS1724503013   \n",
              "998   URN:CornellLabOfOrnithology:EBIRD:OBS263555463   \n",
              "999   URN:CornellLabOfOrnithology:EBIRD:OBS321026333   \n",
              "\n",
              "                    LAST_EDITED_DATE  TAXONOMIC_ORDER CATEGORY  \\\n",
              "0   2021-03-26 05:56:39.420466+00:00            33853  species   \n",
              "1   2022-02-25 16:11:27.244439+00:00            21054  species   \n",
              "2   2021-03-26 05:57:55.198592+00:00            26546  species   \n",
              "3          2020-04-11 17:42:55+00:00            23610  species   \n",
              "4          2017-12-01 09:51:07+00:00            31648  species   \n",
              "..                               ...              ...      ...   \n",
              "995        2018-11-07 15:06:08+00:00            11110  species   \n",
              "996 2021-01-10 09:49:23.659195+00:00             8062  species   \n",
              "997 2023-05-13 22:22:33.446387+00:00            33855  species   \n",
              "998        2014-07-13 12:31:24+00:00            33188  species   \n",
              "999        2015-05-18 18:21:38+00:00            33175  species   \n",
              "\n",
              "     TAXON_CONCEPT_ID             COMMON_NAME            SCIENTIFIC_NAME  \\\n",
              "0    avibase-7C2FCB13  Rose-breasted Grosbeak    Pheucticus ludovicianus   \n",
              "1    avibase-69544B59           American Crow      Corvus brachyrhynchos   \n",
              "2    avibase-A15C5071   Blue-gray Gnatcatcher        Polioptila caerulea   \n",
              "3    avibase-58C502EA            Barn Swallow            Hirundo rustica   \n",
              "4    avibase-89431E9F             House Finch       Haemorhous mexicanus   \n",
              "..                ...                     ...                        ...   \n",
              "995  avibase-9D06AF89        Hairy Woodpecker         Dryobates villosus   \n",
              "996  avibase-420850D6        Northern Goshawk         Accipiter gentilis   \n",
              "997  avibase-824361E5   Black-headed Grosbeak  Pheucticus melanocephalus   \n",
              "998  avibase-5CBA3391    Great-tailed Grackle        Quiscalus mexicanus   \n",
              "999  avibase-EA5E858A      Brewer's Blackbird     Euphagus cyanocephalus   \n",
              "\n",
              "    SUBSPECIES_COMMON_NAME SUBSPECIES_SCIENTIFIC_NAME EXOTIC_CODE  ...  \\\n",
              "0                     None                       None        None  ...   \n",
              "1                     None                       None        None  ...   \n",
              "2                     None                       None        None  ...   \n",
              "3                     None                       None        None  ...   \n",
              "4                     None                       None        None  ...   \n",
              "..                     ...                        ...         ...  ...   \n",
              "995                   None                       None        None  ...   \n",
              "996                   None                       None        None  ...   \n",
              "997                   None                       None        None  ...   \n",
              "998                   None                       None        None  ...   \n",
              "999                   None                       None        None  ...   \n",
              "\n",
              "    EFFORT_AREA_HA NUMBER_OBSERVERS ALL_SPECIES_REPORTED GROUP_IDENTIFIER  \\\n",
              "0              NaN             <NA>                    1             None   \n",
              "1              NaN                1                    0             None   \n",
              "2              NaN             <NA>                    1             None   \n",
              "3              NaN                2                    1          G951347   \n",
              "4              NaN                2                    0             None   \n",
              "..             ...              ...                  ...              ...   \n",
              "995            NaN                3                    1             None   \n",
              "996            NaN                1                    0             None   \n",
              "997            NaN                1                    0             None   \n",
              "998            NaN                1                    0             None   \n",
              "999            NaN                1                    1             None   \n",
              "\n",
              "    HAS_MEDIA APPROVED REVIEWED REASON TRIP_COMMENTS SPECIES_COMMENTS  \n",
              "0           0        1        0   None          None             None  \n",
              "1           0        1        0   None          None             None  \n",
              "2           0        1        0   None          None             None  \n",
              "3           0        1        0   None          None             None  \n",
              "4           0        1        0   None          None             None  \n",
              "..        ...      ...      ...    ...           ...              ...  \n",
              "995         0        1        0   None          None             None  \n",
              "996         0        1        0   None          None             None  \n",
              "997         0        1        0   None          None             None  \n",
              "998         0        1        0   None          None             None  \n",
              "999         0        1        0   None          None             None  \n",
              "\n",
              "[1000 rows x 49 columns]"
            ],
            "text/html": [
              "\n",
              "  <div id=\"df-1b78ee47-6b0e-4899-ba01-1d7167a28c92\" class=\"colab-df-container\">\n",
              "    <div>\n",
              "<style scoped>\n",
              "    .dataframe tbody tr th:only-of-type {\n",
              "        vertical-align: middle;\n",
              "    }\n",
              "\n",
              "    .dataframe tbody tr th {\n",
              "        vertical-align: top;\n",
              "    }\n",
              "\n",
              "    .dataframe thead th {\n",
              "        text-align: right;\n",
              "    }\n",
              "</style>\n",
              "<table border=\"1\" class=\"dataframe\">\n",
              "  <thead>\n",
              "    <tr style=\"text-align: right;\">\n",
              "      <th></th>\n",
              "      <th>GLOBAL_UNIQUE_IDENTIFIER</th>\n",
              "      <th>LAST_EDITED_DATE</th>\n",
              "      <th>TAXONOMIC_ORDER</th>\n",
              "      <th>CATEGORY</th>\n",
              "      <th>TAXON_CONCEPT_ID</th>\n",
              "      <th>COMMON_NAME</th>\n",
              "      <th>SCIENTIFIC_NAME</th>\n",
              "      <th>SUBSPECIES_COMMON_NAME</th>\n",
              "      <th>SUBSPECIES_SCIENTIFIC_NAME</th>\n",
              "      <th>EXOTIC_CODE</th>\n",
              "      <th>...</th>\n",
              "      <th>EFFORT_AREA_HA</th>\n",
              "      <th>NUMBER_OBSERVERS</th>\n",
              "      <th>ALL_SPECIES_REPORTED</th>\n",
              "      <th>GROUP_IDENTIFIER</th>\n",
              "      <th>HAS_MEDIA</th>\n",
              "      <th>APPROVED</th>\n",
              "      <th>REVIEWED</th>\n",
              "      <th>REASON</th>\n",
              "      <th>TRIP_COMMENTS</th>\n",
              "      <th>SPECIES_COMMENTS</th>\n",
              "    </tr>\n",
              "  </thead>\n",
              "  <tbody>\n",
              "    <tr>\n",
              "      <th>0</th>\n",
              "      <td>URN:CornellLabOfOrnithology:EBIRD:OBS22089322</td>\n",
              "      <td>2021-03-26 05:56:39.420466+00:00</td>\n",
              "      <td>33853</td>\n",
              "      <td>species</td>\n",
              "      <td>avibase-7C2FCB13</td>\n",
              "      <td>Rose-breasted Grosbeak</td>\n",
              "      <td>Pheucticus ludovicianus</td>\n",
              "      <td>None</td>\n",
              "      <td>None</td>\n",
              "      <td>None</td>\n",
              "      <td>...</td>\n",
              "      <td>NaN</td>\n",
              "      <td>&lt;NA&gt;</td>\n",
              "      <td>1</td>\n",
              "      <td>None</td>\n",
              "      <td>0</td>\n",
              "      <td>1</td>\n",
              "      <td>0</td>\n",
              "      <td>None</td>\n",
              "      <td>None</td>\n",
              "      <td>None</td>\n",
              "    </tr>\n",
              "    <tr>\n",
              "      <th>1</th>\n",
              "      <td>URN:CornellLabOfOrnithology:EBIRD:OBS1352217352</td>\n",
              "      <td>2022-02-25 16:11:27.244439+00:00</td>\n",
              "      <td>21054</td>\n",
              "      <td>species</td>\n",
              "      <td>avibase-69544B59</td>\n",
              "      <td>American Crow</td>\n",
              "      <td>Corvus brachyrhynchos</td>\n",
              "      <td>None</td>\n",
              "      <td>None</td>\n",
              "      <td>None</td>\n",
              "      <td>...</td>\n",
              "      <td>NaN</td>\n",
              "      <td>1</td>\n",
              "      <td>0</td>\n",
              "      <td>None</td>\n",
              "      <td>0</td>\n",
              "      <td>1</td>\n",
              "      <td>0</td>\n",
              "      <td>None</td>\n",
              "      <td>None</td>\n",
              "      <td>None</td>\n",
              "    </tr>\n",
              "    <tr>\n",
              "      <th>2</th>\n",
              "      <td>URN:CornellLabOfOrnithology:EBIRD:OBS33720336</td>\n",
              "      <td>2021-03-26 05:57:55.198592+00:00</td>\n",
              "      <td>26546</td>\n",
              "      <td>species</td>\n",
              "      <td>avibase-A15C5071</td>\n",
              "      <td>Blue-gray Gnatcatcher</td>\n",
              "      <td>Polioptila caerulea</td>\n",
              "      <td>None</td>\n",
              "      <td>None</td>\n",
              "      <td>None</td>\n",
              "      <td>...</td>\n",
              "      <td>NaN</td>\n",
              "      <td>&lt;NA&gt;</td>\n",
              "      <td>1</td>\n",
              "      <td>None</td>\n",
              "      <td>0</td>\n",
              "      <td>1</td>\n",
              "      <td>0</td>\n",
              "      <td>None</td>\n",
              "      <td>None</td>\n",
              "      <td>None</td>\n",
              "    </tr>\n",
              "    <tr>\n",
              "      <th>3</th>\n",
              "      <td>URN:CornellLabOfOrnithology:EBIRD:OBS262951408</td>\n",
              "      <td>2020-04-11 17:42:55+00:00</td>\n",
              "      <td>23610</td>\n",
              "      <td>species</td>\n",
              "      <td>avibase-58C502EA</td>\n",
              "      <td>Barn Swallow</td>\n",
              "      <td>Hirundo rustica</td>\n",
              "      <td>None</td>\n",
              "      <td>None</td>\n",
              "      <td>None</td>\n",
              "      <td>...</td>\n",
              "      <td>NaN</td>\n",
              "      <td>2</td>\n",
              "      <td>1</td>\n",
              "      <td>G951347</td>\n",
              "      <td>0</td>\n",
              "      <td>1</td>\n",
              "      <td>0</td>\n",
              "      <td>None</td>\n",
              "      <td>None</td>\n",
              "      <td>None</td>\n",
              "    </tr>\n",
              "    <tr>\n",
              "      <th>4</th>\n",
              "      <td>URN:CornellLabOfOrnithology:EBIRD:OBS553681096</td>\n",
              "      <td>2017-12-01 09:51:07+00:00</td>\n",
              "      <td>31648</td>\n",
              "      <td>species</td>\n",
              "      <td>avibase-89431E9F</td>\n",
              "      <td>House Finch</td>\n",
              "      <td>Haemorhous mexicanus</td>\n",
              "      <td>None</td>\n",
              "      <td>None</td>\n",
              "      <td>None</td>\n",
              "      <td>...</td>\n",
              "      <td>NaN</td>\n",
              "      <td>2</td>\n",
              "      <td>0</td>\n",
              "      <td>None</td>\n",
              "      <td>0</td>\n",
              "      <td>1</td>\n",
              "      <td>0</td>\n",
              "      <td>None</td>\n",
              "      <td>None</td>\n",
              "      <td>None</td>\n",
              "    </tr>\n",
              "    <tr>\n",
              "      <th>...</th>\n",
              "      <td>...</td>\n",
              "      <td>...</td>\n",
              "      <td>...</td>\n",
              "      <td>...</td>\n",
              "      <td>...</td>\n",
              "      <td>...</td>\n",
              "      <td>...</td>\n",
              "      <td>...</td>\n",
              "      <td>...</td>\n",
              "      <td>...</td>\n",
              "      <td>...</td>\n",
              "      <td>...</td>\n",
              "      <td>...</td>\n",
              "      <td>...</td>\n",
              "      <td>...</td>\n",
              "      <td>...</td>\n",
              "      <td>...</td>\n",
              "      <td>...</td>\n",
              "      <td>...</td>\n",
              "      <td>...</td>\n",
              "      <td>...</td>\n",
              "    </tr>\n",
              "    <tr>\n",
              "      <th>995</th>\n",
              "      <td>URN:CornellLabOfOrnithology:EBIRD:OBS42623066</td>\n",
              "      <td>2018-11-07 15:06:08+00:00</td>\n",
              "      <td>11110</td>\n",
              "      <td>species</td>\n",
              "      <td>avibase-9D06AF89</td>\n",
              "      <td>Hairy Woodpecker</td>\n",
              "      <td>Dryobates villosus</td>\n",
              "      <td>None</td>\n",
              "      <td>None</td>\n",
              "      <td>None</td>\n",
              "      <td>...</td>\n",
              "      <td>NaN</td>\n",
              "      <td>3</td>\n",
              "      <td>1</td>\n",
              "      <td>None</td>\n",
              "      <td>0</td>\n",
              "      <td>1</td>\n",
              "      <td>0</td>\n",
              "      <td>None</td>\n",
              "      <td>None</td>\n",
              "      <td>None</td>\n",
              "    </tr>\n",
              "    <tr>\n",
              "      <th>996</th>\n",
              "      <td>URN:CornellLabOfOrnithology:EBIRD:OBS551225513</td>\n",
              "      <td>2021-01-10 09:49:23.659195+00:00</td>\n",
              "      <td>8062</td>\n",
              "      <td>species</td>\n",
              "      <td>avibase-420850D6</td>\n",
              "      <td>Northern Goshawk</td>\n",
              "      <td>Accipiter gentilis</td>\n",
              "      <td>None</td>\n",
              "      <td>None</td>\n",
              "      <td>None</td>\n",
              "      <td>...</td>\n",
              "      <td>NaN</td>\n",
              "      <td>1</td>\n",
              "      <td>0</td>\n",
              "      <td>None</td>\n",
              "      <td>0</td>\n",
              "      <td>1</td>\n",
              "      <td>0</td>\n",
              "      <td>None</td>\n",
              "      <td>None</td>\n",
              "      <td>None</td>\n",
              "    </tr>\n",
              "    <tr>\n",
              "      <th>997</th>\n",
              "      <td>URN:CornellLabOfOrnithology:EBIRD:OBS1724503013</td>\n",
              "      <td>2023-05-13 22:22:33.446387+00:00</td>\n",
              "      <td>33855</td>\n",
              "      <td>species</td>\n",
              "      <td>avibase-824361E5</td>\n",
              "      <td>Black-headed Grosbeak</td>\n",
              "      <td>Pheucticus melanocephalus</td>\n",
              "      <td>None</td>\n",
              "      <td>None</td>\n",
              "      <td>None</td>\n",
              "      <td>...</td>\n",
              "      <td>NaN</td>\n",
              "      <td>1</td>\n",
              "      <td>0</td>\n",
              "      <td>None</td>\n",
              "      <td>0</td>\n",
              "      <td>1</td>\n",
              "      <td>0</td>\n",
              "      <td>None</td>\n",
              "      <td>None</td>\n",
              "      <td>None</td>\n",
              "    </tr>\n",
              "    <tr>\n",
              "      <th>998</th>\n",
              "      <td>URN:CornellLabOfOrnithology:EBIRD:OBS263555463</td>\n",
              "      <td>2014-07-13 12:31:24+00:00</td>\n",
              "      <td>33188</td>\n",
              "      <td>species</td>\n",
              "      <td>avibase-5CBA3391</td>\n",
              "      <td>Great-tailed Grackle</td>\n",
              "      <td>Quiscalus mexicanus</td>\n",
              "      <td>None</td>\n",
              "      <td>None</td>\n",
              "      <td>None</td>\n",
              "      <td>...</td>\n",
              "      <td>NaN</td>\n",
              "      <td>1</td>\n",
              "      <td>0</td>\n",
              "      <td>None</td>\n",
              "      <td>0</td>\n",
              "      <td>1</td>\n",
              "      <td>0</td>\n",
              "      <td>None</td>\n",
              "      <td>None</td>\n",
              "      <td>None</td>\n",
              "    </tr>\n",
              "    <tr>\n",
              "      <th>999</th>\n",
              "      <td>URN:CornellLabOfOrnithology:EBIRD:OBS321026333</td>\n",
              "      <td>2015-05-18 18:21:38+00:00</td>\n",
              "      <td>33175</td>\n",
              "      <td>species</td>\n",
              "      <td>avibase-EA5E858A</td>\n",
              "      <td>Brewer's Blackbird</td>\n",
              "      <td>Euphagus cyanocephalus</td>\n",
              "      <td>None</td>\n",
              "      <td>None</td>\n",
              "      <td>None</td>\n",
              "      <td>...</td>\n",
              "      <td>NaN</td>\n",
              "      <td>1</td>\n",
              "      <td>1</td>\n",
              "      <td>None</td>\n",
              "      <td>0</td>\n",
              "      <td>1</td>\n",
              "      <td>0</td>\n",
              "      <td>None</td>\n",
              "      <td>None</td>\n",
              "      <td>None</td>\n",
              "    </tr>\n",
              "  </tbody>\n",
              "</table>\n",
              "<p>1000 rows × 49 columns</p>\n",
              "</div>\n",
              "    <div class=\"colab-df-buttons\">\n",
              "\n",
              "  <div class=\"colab-df-container\">\n",
              "    <button class=\"colab-df-convert\" onclick=\"convertToInteractive('df-1b78ee47-6b0e-4899-ba01-1d7167a28c92')\"\n",
              "            title=\"Convert this dataframe to an interactive table.\"\n",
              "            style=\"display:none;\">\n",
              "\n",
              "  <svg xmlns=\"http://www.w3.org/2000/svg\" height=\"24px\" viewBox=\"0 -960 960 960\">\n",
              "    <path d=\"M120-120v-720h720v720H120Zm60-500h600v-160H180v160Zm220 220h160v-160H400v160Zm0 220h160v-160H400v160ZM180-400h160v-160H180v160Zm440 0h160v-160H620v160ZM180-180h160v-160H180v160Zm440 0h160v-160H620v160Z\"/>\n",
              "  </svg>\n",
              "    </button>\n",
              "\n",
              "  <style>\n",
              "    .colab-df-container {\n",
              "      display:flex;\n",
              "      gap: 12px;\n",
              "    }\n",
              "\n",
              "    .colab-df-convert {\n",
              "      background-color: #E8F0FE;\n",
              "      border: none;\n",
              "      border-radius: 50%;\n",
              "      cursor: pointer;\n",
              "      display: none;\n",
              "      fill: #1967D2;\n",
              "      height: 32px;\n",
              "      padding: 0 0 0 0;\n",
              "      width: 32px;\n",
              "    }\n",
              "\n",
              "    .colab-df-convert:hover {\n",
              "      background-color: #E2EBFA;\n",
              "      box-shadow: 0px 1px 2px rgba(60, 64, 67, 0.3), 0px 1px 3px 1px rgba(60, 64, 67, 0.15);\n",
              "      fill: #174EA6;\n",
              "    }\n",
              "\n",
              "    .colab-df-buttons div {\n",
              "      margin-bottom: 4px;\n",
              "    }\n",
              "\n",
              "    [theme=dark] .colab-df-convert {\n",
              "      background-color: #3B4455;\n",
              "      fill: #D2E3FC;\n",
              "    }\n",
              "\n",
              "    [theme=dark] .colab-df-convert:hover {\n",
              "      background-color: #434B5C;\n",
              "      box-shadow: 0px 1px 3px 1px rgba(0, 0, 0, 0.15);\n",
              "      filter: drop-shadow(0px 1px 2px rgba(0, 0, 0, 0.3));\n",
              "      fill: #FFFFFF;\n",
              "    }\n",
              "  </style>\n",
              "\n",
              "    <script>\n",
              "      const buttonEl =\n",
              "        document.querySelector('#df-1b78ee47-6b0e-4899-ba01-1d7167a28c92 button.colab-df-convert');\n",
              "      buttonEl.style.display =\n",
              "        google.colab.kernel.accessAllowed ? 'block' : 'none';\n",
              "\n",
              "      async function convertToInteractive(key) {\n",
              "        const element = document.querySelector('#df-1b78ee47-6b0e-4899-ba01-1d7167a28c92');\n",
              "        const dataTable =\n",
              "          await google.colab.kernel.invokeFunction('convertToInteractive',\n",
              "                                                    [key], {});\n",
              "        if (!dataTable) return;\n",
              "\n",
              "        const docLinkHtml = 'Like what you see? Visit the ' +\n",
              "          '<a target=\"_blank\" href=https://colab.research.google.com/notebooks/data_table.ipynb>data table notebook</a>'\n",
              "          + ' to learn more about interactive tables.';\n",
              "        element.innerHTML = '';\n",
              "        dataTable['output_type'] = 'display_data';\n",
              "        await google.colab.output.renderOutput(dataTable, element);\n",
              "        const docLink = document.createElement('div');\n",
              "        docLink.innerHTML = docLinkHtml;\n",
              "        element.appendChild(docLink);\n",
              "      }\n",
              "    </script>\n",
              "  </div>\n",
              "\n",
              "\n",
              "<div id=\"df-6f5615a4-f310-4aed-857f-a56ce4bd0d45\">\n",
              "  <button class=\"colab-df-quickchart\" onclick=\"quickchart('df-6f5615a4-f310-4aed-857f-a56ce4bd0d45')\"\n",
              "            title=\"Suggest charts\"\n",
              "            style=\"display:none;\">\n",
              "\n",
              "<svg xmlns=\"http://www.w3.org/2000/svg\" height=\"24px\"viewBox=\"0 0 24 24\"\n",
              "     width=\"24px\">\n",
              "    <g>\n",
              "        <path d=\"M19 3H5c-1.1 0-2 .9-2 2v14c0 1.1.9 2 2 2h14c1.1 0 2-.9 2-2V5c0-1.1-.9-2-2-2zM9 17H7v-7h2v7zm4 0h-2V7h2v10zm4 0h-2v-4h2v4z\"/>\n",
              "    </g>\n",
              "</svg>\n",
              "  </button>\n",
              "\n",
              "<style>\n",
              "  .colab-df-quickchart {\n",
              "      --bg-color: #E8F0FE;\n",
              "      --fill-color: #1967D2;\n",
              "      --hover-bg-color: #E2EBFA;\n",
              "      --hover-fill-color: #174EA6;\n",
              "      --disabled-fill-color: #AAA;\n",
              "      --disabled-bg-color: #DDD;\n",
              "  }\n",
              "\n",
              "  [theme=dark] .colab-df-quickchart {\n",
              "      --bg-color: #3B4455;\n",
              "      --fill-color: #D2E3FC;\n",
              "      --hover-bg-color: #434B5C;\n",
              "      --hover-fill-color: #FFFFFF;\n",
              "      --disabled-bg-color: #3B4455;\n",
              "      --disabled-fill-color: #666;\n",
              "  }\n",
              "\n",
              "  .colab-df-quickchart {\n",
              "    background-color: var(--bg-color);\n",
              "    border: none;\n",
              "    border-radius: 50%;\n",
              "    cursor: pointer;\n",
              "    display: none;\n",
              "    fill: var(--fill-color);\n",
              "    height: 32px;\n",
              "    padding: 0;\n",
              "    width: 32px;\n",
              "  }\n",
              "\n",
              "  .colab-df-quickchart:hover {\n",
              "    background-color: var(--hover-bg-color);\n",
              "    box-shadow: 0 1px 2px rgba(60, 64, 67, 0.3), 0 1px 3px 1px rgba(60, 64, 67, 0.15);\n",
              "    fill: var(--button-hover-fill-color);\n",
              "  }\n",
              "\n",
              "  .colab-df-quickchart-complete:disabled,\n",
              "  .colab-df-quickchart-complete:disabled:hover {\n",
              "    background-color: var(--disabled-bg-color);\n",
              "    fill: var(--disabled-fill-color);\n",
              "    box-shadow: none;\n",
              "  }\n",
              "\n",
              "  .colab-df-spinner {\n",
              "    border: 2px solid var(--fill-color);\n",
              "    border-color: transparent;\n",
              "    border-bottom-color: var(--fill-color);\n",
              "    animation:\n",
              "      spin 1s steps(1) infinite;\n",
              "  }\n",
              "\n",
              "  @keyframes spin {\n",
              "    0% {\n",
              "      border-color: transparent;\n",
              "      border-bottom-color: var(--fill-color);\n",
              "      border-left-color: var(--fill-color);\n",
              "    }\n",
              "    20% {\n",
              "      border-color: transparent;\n",
              "      border-left-color: var(--fill-color);\n",
              "      border-top-color: var(--fill-color);\n",
              "    }\n",
              "    30% {\n",
              "      border-color: transparent;\n",
              "      border-left-color: var(--fill-color);\n",
              "      border-top-color: var(--fill-color);\n",
              "      border-right-color: var(--fill-color);\n",
              "    }\n",
              "    40% {\n",
              "      border-color: transparent;\n",
              "      border-right-color: var(--fill-color);\n",
              "      border-top-color: var(--fill-color);\n",
              "    }\n",
              "    60% {\n",
              "      border-color: transparent;\n",
              "      border-right-color: var(--fill-color);\n",
              "    }\n",
              "    80% {\n",
              "      border-color: transparent;\n",
              "      border-right-color: var(--fill-color);\n",
              "      border-bottom-color: var(--fill-color);\n",
              "    }\n",
              "    90% {\n",
              "      border-color: transparent;\n",
              "      border-bottom-color: var(--fill-color);\n",
              "    }\n",
              "  }\n",
              "</style>\n",
              "\n",
              "  <script>\n",
              "    async function quickchart(key) {\n",
              "      const quickchartButtonEl =\n",
              "        document.querySelector('#' + key + ' button');\n",
              "      quickchartButtonEl.disabled = true;  // To prevent multiple clicks.\n",
              "      quickchartButtonEl.classList.add('colab-df-spinner');\n",
              "      try {\n",
              "        const charts = await google.colab.kernel.invokeFunction(\n",
              "            'suggestCharts', [key], {});\n",
              "      } catch (error) {\n",
              "        console.error('Error during call to suggestCharts:', error);\n",
              "      }\n",
              "      quickchartButtonEl.classList.remove('colab-df-spinner');\n",
              "      quickchartButtonEl.classList.add('colab-df-quickchart-complete');\n",
              "    }\n",
              "    (() => {\n",
              "      let quickchartButtonEl =\n",
              "        document.querySelector('#df-6f5615a4-f310-4aed-857f-a56ce4bd0d45 button');\n",
              "      quickchartButtonEl.style.display =\n",
              "        google.colab.kernel.accessAllowed ? 'block' : 'none';\n",
              "    })();\n",
              "  </script>\n",
              "</div>\n",
              "    </div>\n",
              "  </div>\n"
            ]
          },
          "metadata": {},
          "execution_count": 40
        }
      ]
    },
    {
      "cell_type": "code",
      "source": [
        "%%bash\n",
        "bq show \\\n",
        "   --format=prettyjson \\\n",
        "   ${GOOGLE_CLOUD_PROJECT}:ebird\n"
      ],
      "metadata": {
        "id": "9tFN1qBGa01l",
        "outputId": "8763192a-a460-45c6-909c-d3b05c2242f6",
        "colab": {
          "base_uri": "https://localhost:8080/"
        }
      },
      "execution_count": null,
      "outputs": [
        {
          "output_type": "stream",
          "name": "stdout",
          "text": [
            "{\n",
            "  \"access\": [\n",
            "    {\n",
            "      \"role\": \"WRITER\",\n",
            "      \"specialGroup\": \"projectWriters\"\n",
            "    },\n",
            "    {\n",
            "      \"role\": \"OWNER\",\n",
            "      \"specialGroup\": \"projectOwners\"\n",
            "    },\n",
            "    {\n",
            "      \"role\": \"OWNER\",\n",
            "      \"userByEmail\": \"Robert.Citek@gmail.com\"\n",
            "    },\n",
            "    {\n",
            "      \"role\": \"READER\",\n",
            "      \"specialGroup\": \"projectReaders\"\n",
            "    },\n",
            "    {\n",
            "      \"role\": \"READER\",\n",
            "      \"userByEmail\": \"brooksburkhead7@gmail.com\"\n",
            "    },\n",
            "    {\n",
            "      \"role\": \"READER\",\n",
            "      \"userByEmail\": \"crthebroker@gmail.com\"\n",
            "    },\n",
            "    {\n",
            "      \"dataset\": {\n",
            "        \"dataset\": {\n",
            "          \"datasetId\": \"ebird\",\n",
            "          \"projectId\": \"default-256400\"\n",
            "        },\n",
            "        \"targetTypes\": [\n",
            "          \"VIEWS\"\n",
            "        ]\n",
            "      }\n",
            "    }\n",
            "  ],\n",
            "  \"creationTime\": \"1700609524317\",\n",
            "  \"datasetReference\": {\n",
            "    \"datasetId\": \"ebird\",\n",
            "    \"projectId\": \"default-256400\"\n",
            "  },\n",
            "  \"etag\": \"KtVEyfZC+UcXJUc7NGiMQw==\",\n",
            "  \"id\": \"default-256400:ebird\",\n",
            "  \"isCaseInsensitive\": false,\n",
            "  \"kind\": \"bigquery#dataset\",\n",
            "  \"lastModifiedTime\": \"1700678240429\",\n",
            "  \"location\": \"us-west4\",\n",
            "  \"maxTimeTravelHours\": \"168\",\n",
            "  \"selfLink\": \"https://bigquery.googleapis.com/bigquery/v2/projects/default-256400/datasets/ebird\",\n",
            "  \"storageBillingModel\": \"LOGICAL\",\n",
            "  \"type\": \"DEFAULT\"\n",
            "}\n"
          ]
        }
      ]
    },
    {
      "cell_type": "code",
      "source": [],
      "metadata": {
        "id": "vEEIGLWPbCEh"
      },
      "execution_count": null,
      "outputs": []
    },
    {
      "cell_type": "markdown",
      "source": [],
      "metadata": {
        "id": "d0PystZ77cks"
      }
    },
    {
      "cell_type": "markdown",
      "source": [
        "## All observations"
      ],
      "metadata": {
        "id": "lIh1-PNr7dkQ"
      }
    },
    {
      "cell_type": "code",
      "source": [
        "!curl -I https://cnmi-ebird.sfo3.digitaloceanspaces.com/ebd_relSep-2023.tar\n",
        "\n",
        "# 200,955,054,080"
      ],
      "metadata": {
        "outputId": "67e5df3f-3346-4527-9536-646163fdc961",
        "colab": {
          "base_uri": "https://localhost:8080/"
        },
        "id": "Cm_mlmfR7dkR"
      },
      "execution_count": null,
      "outputs": [
        {
          "output_type": "stream",
          "name": "stdout",
          "text": [
            "HTTP/2 200 \r\n",
            "\u001b[1mcontent-length\u001b[0m: 200955054080\r\n",
            "\u001b[1maccept-ranges\u001b[0m: bytes\r\n",
            "\u001b[1mlast-modified\u001b[0m: Thu, 16 Nov 2023 17:18:22 GMT\r\n",
            "\u001b[1mx-rgw-object-type\u001b[0m: Normal\r\n",
            "\u001b[1metag\u001b[0m: \"61420aff1e69e47d679e92353ab0332f-913\"\r\n",
            "\u001b[1mx-amz-meta-s3cmd-attrs\u001b[0m: atime:1699546641/ctime:1699889200/gid:0/gname:root/md5:086921907fba6ecdf715782309a3e5d0/mode:33188/mtime:1699672342/uid:0/uname:root\r\n",
            "\u001b[1mx-amz-request-id\u001b[0m: tx0000013ed84124d3dfaf0-00655fba1b-3c6f48ac-sfo3a\r\n",
            "\u001b[1mcontent-type\u001b[0m: application/x-tar\r\n",
            "\u001b[1mdate\u001b[0m: Thu, 23 Nov 2023 20:46:19 GMT\r\n",
            "\u001b[1mvary\u001b[0m: Origin, Access-Control-Request-Headers, Access-Control-Request-Method\r\n",
            "\u001b[1mstrict-transport-security\u001b[0m: max-age=15552000; includeSubDomains; preload\r\n",
            "\u001b[1mx-envoy-upstream-healthchecked-cluster\u001b[0m: \r\n",
            "\r\n"
          ]
        }
      ]
    },
    {
      "cell_type": "markdown",
      "source": [
        "These code blocks did not work in CoLab, but worked just fine in a GCP instance."
      ],
      "metadata": {
        "id": "baqmylxlGgnL"
      }
    },
    {
      "cell_type": "code",
      "source": [
        "# %%bash\n",
        "# curl -s https://cnmi-ebird.sfo3.digitaloceanspaces.com/ebd_relSep-2023.tar |\n",
        "# tar -tf -\n"
      ],
      "metadata": {
        "id": "mahAEXqW8Z5R",
        "outputId": "fe80256c-829b-4047-942f-181f3e69c7ab",
        "colab": {
          "base_uri": "https://localhost:8080/"
        }
      },
      "execution_count": null,
      "outputs": [
        {
          "output_type": "stream",
          "name": "stdout",
          "text": [
            "Process is interrupted.\n"
          ]
        }
      ]
    },
    {
      "cell_type": "code",
      "source": [
        "# %%bash\n",
        "# curl -s https://cnmi-ebird.sfo3.digitaloceanspaces.com/ebd_relSep-2023.tar |\n",
        "# tar -O -xf - ebd_relSep-2023.txt.gz |\n",
        "# zcat |\n",
        "# dd bs=1M status=progress |\n",
        "# gcloud storage cp - gs://${GOOGLE_CLOUD_BUCKET}/ebd_relSep-2023.txt\n"
      ],
      "metadata": {
        "id": "51ZxljTF7dkT"
      },
      "execution_count": null,
      "outputs": []
    },
    {
      "cell_type": "markdown",
      "source": [
        "```bash\n",
        "557616562176 bytes (558 GB, 519 GiB) copied, 58965 s, 9.5 MB/s\n",
        "0+16895278 records in\n",
        "0+16895278 records out\n",
        "557617963097 bytes (558 GB, 519 GiB) copied, 58965 s, 9.5 MB/s\n",
        "```"
      ],
      "metadata": {
        "id": "sLEgnsW2GpFG"
      }
    },
    {
      "cell_type": "code",
      "source": [],
      "metadata": {
        "id": "TQGeM9bM7dkT"
      },
      "execution_count": null,
      "outputs": []
    },
    {
      "cell_type": "code",
      "source": [
        "%%bash\n",
        "gcloud storage ls -l gs://${GOOGLE_CLOUD_BUCKET}"
      ],
      "metadata": {
        "id": "SoQkZuB87dkU",
        "outputId": "dcc402e1-8d75-473f-ed9d-948cf95d4c5a",
        "colab": {
          "base_uri": "https://localhost:8080/"
        }
      },
      "execution_count": 6,
      "outputs": [
        {
          "output_type": "stream",
          "name": "stdout",
          "text": [
            "1032617810  2023-11-22T14:27:03Z  gs://c11-ebird/data.nm.txt.gz\n",
            "    504698  2023-11-21T23:28:26Z  gs://c11-ebird/ebd_US-AL-101_202204_202204_relApr-2022.txt\n",
            "     60011  2023-11-27T16:27:27Z  gs://c11-ebird/ebd_US-AL-101_202204_202204_relApr-2022.txt.v03.gz\n",
            "557617963097  2023-11-28T08:50:57Z  gs://c11-ebird/ebd_relSep-2023.txt\n",
            "27103974002  2023-11-22T08:07:44Z  gs://c11-ebird/ebd_sampling_relSep-2023.txt\n",
            "4815040900  2023-11-22T07:20:39Z  gs://c11-ebird/ebd_sampling_relSep-2023.txt.gz\n",
            "TOTAL: 6 objects, 590570160518 bytes (550.01GiB)\n"
          ]
        }
      ]
    },
    {
      "cell_type": "code",
      "source": [
        "%%bash\n",
        "bq --project_id=${GOOGLE_CLOUD_PROJECT} \\\n",
        "  load \\\n",
        "    --source_format=CSV \\\n",
        "    --field_delimiter='\\t' \\\n",
        "    --autodetect \\\n",
        "    --skip_leading_rows=1 \\\n",
        "  ebird.ebd_relSep_2023 \\\n",
        "  gs://${GOOGLE_CLOUD_BUCKET}/ebd_relSep-2023.txt\n"
      ],
      "metadata": {
        "id": "inJCKJGN7dkU",
        "outputId": "75db2586-2a8c-496b-afaa-8029f50ba8fb",
        "colab": {
          "base_uri": "https://localhost:8080/"
        }
      },
      "execution_count": 7,
      "outputs": [
        {
          "output_type": "stream",
          "name": "stderr",
          "text": [
            "\rWaiting on bqjob_r5028faf55fb14f56_0000018c161c52af_1 ... (0s) Current status: RUNNING\r                                                                                      \rWaiting on bqjob_r5028faf55fb14f56_0000018c161c52af_1 ... (1s) Current status: RUNNING\r                                                                                      \rWaiting on bqjob_r5028faf55fb14f56_0000018c161c52af_1 ... (2s) Current status: RUNNING\r                                                                                      \rWaiting on bqjob_r5028faf55fb14f56_0000018c161c52af_1 ... (3s) Current status: RUNNING\r                                                                                      \rWaiting on bqjob_r5028faf55fb14f56_0000018c161c52af_1 ... (4s) Current status: RUNNING\r                                                                                      \rWaiting on bqjob_r5028faf55fb14f56_0000018c161c52af_1 ... (5s) Current status: RUNNING\r                                                                                      \rWaiting on bqjob_r5028faf55fb14f56_0000018c161c52af_1 ... (6s) Current status: RUNNING\r                                                                                      \rWaiting on bqjob_r5028faf55fb14f56_0000018c161c52af_1 ... (7s) Current status: RUNNING\r                                                                                      \rWaiting on bqjob_r5028faf55fb14f56_0000018c161c52af_1 ... (9s) Current status: RUNNING\r                                                                                      \rWaiting on bqjob_r5028faf55fb14f56_0000018c161c52af_1 ... (10s) Current status: RUNNING\r                                                                                       \rWaiting on bqjob_r5028faf55fb14f56_0000018c161c52af_1 ... (11s) Current status: RUNNING\r                                                                                       \rWaiting on bqjob_r5028faf55fb14f56_0000018c161c52af_1 ... (12s) Current status: RUNNING\r                                                                                       \rWaiting on bqjob_r5028faf55fb14f56_0000018c161c52af_1 ... (13s) Current status: RUNNING\r                                                                                       \rWaiting on bqjob_r5028faf55fb14f56_0000018c161c52af_1 ... (14s) Current status: RUNNING\r                                                                                       \rWaiting on bqjob_r5028faf55fb14f56_0000018c161c52af_1 ... (15s) Current status: RUNNING\r                                                                                       \rWaiting on bqjob_r5028faf55fb14f56_0000018c161c52af_1 ... (16s) Current status: RUNNING\r                                                                                       \rWaiting on bqjob_r5028faf55fb14f56_0000018c161c52af_1 ... (17s) Current status: RUNNING\r                                                                                       \rWaiting on bqjob_r5028faf55fb14f56_0000018c161c52af_1 ... (18s) Current status: RUNNING\r                                                                                       \rWaiting on bqjob_r5028faf55fb14f56_0000018c161c52af_1 ... (19s) Current status: RUNNING\r                                                                                       \rWaiting on bqjob_r5028faf55fb14f56_0000018c161c52af_1 ... (20s) Current status: RUNNING\r                                                                                       \rWaiting on bqjob_r5028faf55fb14f56_0000018c161c52af_1 ... (21s) Current status: RUNNING\r                                                                                       \rWaiting on bqjob_r5028faf55fb14f56_0000018c161c52af_1 ... (22s) Current status: RUNNING\r                                                                                       \rWaiting on bqjob_r5028faf55fb14f56_0000018c161c52af_1 ... (23s) Current status: RUNNING\r                                                                                       \rWaiting on bqjob_r5028faf55fb14f56_0000018c161c52af_1 ... (24s) Current status: RUNNING\r                                                                                       \rWaiting on bqjob_r5028faf55fb14f56_0000018c161c52af_1 ... (25s) Current status: RUNNING\r                                                                                       \rWaiting on bqjob_r5028faf55fb14f56_0000018c161c52af_1 ... (26s) Current status: RUNNING\r                                                                                       \rWaiting on bqjob_r5028faf55fb14f56_0000018c161c52af_1 ... (27s) Current status: RUNNING\r                                                                                       \rWaiting on bqjob_r5028faf55fb14f56_0000018c161c52af_1 ... (28s) Current status: RUNNING\r                                                                                       \rWaiting on bqjob_r5028faf55fb14f56_0000018c161c52af_1 ... (29s) Current status: RUNNING\r                                                                                       \rWaiting on bqjob_r5028faf55fb14f56_0000018c161c52af_1 ... (30s) Current status: RUNNING\r                                                                                       \rWaiting on bqjob_r5028faf55fb14f56_0000018c161c52af_1 ... (31s) Current status: RUNNING\r                                                                                       \rWaiting on bqjob_r5028faf55fb14f56_0000018c161c52af_1 ... (32s) Current status: RUNNING\r                                                                                       \rWaiting on bqjob_r5028faf55fb14f56_0000018c161c52af_1 ... (33s) Current status: RUNNING\r                                                                                       \rWaiting on bqjob_r5028faf55fb14f56_0000018c161c52af_1 ... (34s) Current status: RUNNING\r                                                                                       \rWaiting on bqjob_r5028faf55fb14f56_0000018c161c52af_1 ... (35s) Current status: RUNNING\r                                                                                       \rWaiting on bqjob_r5028faf55fb14f56_0000018c161c52af_1 ... (36s) Current status: RUNNING\r                                                                                       \rWaiting on bqjob_r5028faf55fb14f56_0000018c161c52af_1 ... (37s) Current status: RUNNING\r                                                                                       \rWaiting on bqjob_r5028faf55fb14f56_0000018c161c52af_1 ... (38s) Current status: RUNNING\r                                                                                       \rWaiting on bqjob_r5028faf55fb14f56_0000018c161c52af_1 ... (39s) Current status: RUNNING\r                                                                                       \rWaiting on bqjob_r5028faf55fb14f56_0000018c161c52af_1 ... (40s) Current status: RUNNING\r                                                                                       \rWaiting on bqjob_r5028faf55fb14f56_0000018c161c52af_1 ... (41s) Current status: RUNNING\r                                                                                       \rWaiting on bqjob_r5028faf55fb14f56_0000018c161c52af_1 ... (42s) Current status: RUNNING\r                                                                                       \rWaiting on bqjob_r5028faf55fb14f56_0000018c161c52af_1 ... (43s) Current status: RUNNING\r                                                                                       \rWaiting on bqjob_r5028faf55fb14f56_0000018c161c52af_1 ... (44s) Current status: RUNNING\r                                                                                       \rWaiting on bqjob_r5028faf55fb14f56_0000018c161c52af_1 ... (45s) Current status: RUNNING\r                                                                                       \rWaiting on bqjob_r5028faf55fb14f56_0000018c161c52af_1 ... (46s) Current status: RUNNING\r                                                                                       \rWaiting on bqjob_r5028faf55fb14f56_0000018c161c52af_1 ... (47s) Current status: RUNNING\r                                                                                       \rWaiting on bqjob_r5028faf55fb14f56_0000018c161c52af_1 ... (48s) Current status: RUNNING\r                                                                                       \rWaiting on bqjob_r5028faf55fb14f56_0000018c161c52af_1 ... (49s) Current status: RUNNING\r                                                                                       \rWaiting on bqjob_r5028faf55fb14f56_0000018c161c52af_1 ... (50s) Current status: RUNNING\r                                                                                       \rWaiting on bqjob_r5028faf55fb14f56_0000018c161c52af_1 ... (51s) Current status: RUNNING\r                                                                                       \rWaiting on bqjob_r5028faf55fb14f56_0000018c161c52af_1 ... (52s) Current status: RUNNING\r                                                                                       \rWaiting on bqjob_r5028faf55fb14f56_0000018c161c52af_1 ... (53s) Current status: RUNNING\r                                                                                       \rWaiting on bqjob_r5028faf55fb14f56_0000018c161c52af_1 ... (54s) Current status: RUNNING\r                                                                                       \rWaiting on bqjob_r5028faf55fb14f56_0000018c161c52af_1 ... (55s) Current status: RUNNING\r                                                                                       \rWaiting on bqjob_r5028faf55fb14f56_0000018c161c52af_1 ... (56s) Current status: RUNNING\r                                                                                       \rWaiting on bqjob_r5028faf55fb14f56_0000018c161c52af_1 ... (57s) Current status: RUNNING\r                                                                                       \rWaiting on bqjob_r5028faf55fb14f56_0000018c161c52af_1 ... (58s) Current status: RUNNING\r                                                                                       \rWaiting on bqjob_r5028faf55fb14f56_0000018c161c52af_1 ... (59s) Current status: RUNNING\r                                                                                       \rWaiting on bqjob_r5028faf55fb14f56_0000018c161c52af_1 ... (60s) Current status: RUNNING\r                                                                                       \rWaiting on bqjob_r5028faf55fb14f56_0000018c161c52af_1 ... (61s) Current status: RUNNING\r                                                                                       \rWaiting on bqjob_r5028faf55fb14f56_0000018c161c52af_1 ... (62s) Current status: RUNNING\r                                                                                       \rWaiting on bqjob_r5028faf55fb14f56_0000018c161c52af_1 ... (63s) Current status: RUNNING\r                                                                                       \rWaiting on bqjob_r5028faf55fb14f56_0000018c161c52af_1 ... (64s) Current status: RUNNING\r                                                                                       \rWaiting on bqjob_r5028faf55fb14f56_0000018c161c52af_1 ... (65s) Current status: RUNNING\r                                                                                       \rWaiting on bqjob_r5028faf55fb14f56_0000018c161c52af_1 ... (65s) Current status: DONE   \n"
          ]
        }
      ]
    },
    {
      "cell_type": "code",
      "source": [
        "!bq ls {project_id}:ebird"
      ],
      "metadata": {
        "id": "zG2hOkTO7dkV",
        "outputId": "c788d6ca-7628-444d-e63b-6db171d589b0",
        "colab": {
          "base_uri": "https://localhost:8080/"
        }
      },
      "execution_count": 8,
      "outputs": [
        {
          "output_type": "stream",
          "name": "stdout",
          "text": [
            "          tableId            Type    Labels   Time Partitioning   Clustered Fields  \n",
            " -------------------------- ------- -------- ------------------- ------------------ \n",
            "  ebd_NM_relSep_2023         TABLE                                                  \n",
            "  ebd_relSep_2023            TABLE                                                  \n",
            "  ebd_sampling_relSep_2023   TABLE                                                  \n",
            "  ebird_small                TABLE                                                  \n",
            "  ebird_small_2              TABLE                                                  \n"
          ]
        }
      ]
    },
    {
      "cell_type": "code",
      "source": [
        "!bq show {project_id}:ebird.ebd_relSep_2023"
      ],
      "metadata": {
        "id": "QBY6dCEQ7dkV",
        "outputId": "107c661a-a7fa-4554-aec7-4b6406b92470",
        "colab": {
          "base_uri": "https://localhost:8080/"
        }
      },
      "execution_count": 9,
      "outputs": [
        {
          "output_type": "stream",
          "name": "stdout",
          "text": [
            "Table default-256400:ebird.ebd_relSep_2023\n",
            "\n",
            "   Last modified                   Schema                   Total Rows   Total Bytes    Expiration   Time Partitioning   Clustered Fields   Total Logical Bytes   Total Physical Bytes   Labels  \n",
            " ----------------- --------------------------------------- ------------ -------------- ------------ ------------------- ------------------ --------------------- ---------------------- -------- \n",
            "  28 Nov 13:27:40   |- GLOBAL_UNIQUE_IDENTIFIER: string     1472745160   584150792669                                                       584150792669                                         \n",
            "                    |- LAST_EDITED_DATE: timestamp                                                                                                                                               \n",
            "                    |- TAXONOMIC_ORDER: integer                                                                                                                                                  \n",
            "                    |- CATEGORY: string                                                                                                                                                          \n",
            "                    |- TAXON_CONCEPT_ID: string                                                                                                                                                  \n",
            "                    |- COMMON_NAME: string                                                                                                                                                       \n",
            "                    |- SCIENTIFIC_NAME: string                                                                                                                                                   \n",
            "                    |- SUBSPECIES_COMMON_NAME: string                                                                                                                                            \n",
            "                    |- SUBSPECIES_SCIENTIFIC_NAME: string                                                                                                                                        \n",
            "                    |- EXOTIC_CODE: string                                                                                                                                                       \n",
            "                    |- OBSERVATION_COUNT: string                                                                                                                                                 \n",
            "                    |- BREEDING_CODE: string                                                                                                                                                     \n",
            "                    |- BREEDING_CATEGORY: string                                                                                                                                                 \n",
            "                    |- BEHAVIOR_CODE: string                                                                                                                                                     \n",
            "                    |- AGE_SEX: string                                                                                                                                                           \n",
            "                    |- COUNTRY: string                                                                                                                                                           \n",
            "                    |- COUNTRY_CODE: string                                                                                                                                                      \n",
            "                    |- STATE: string                                                                                                                                                             \n",
            "                    |- STATE_CODE: string                                                                                                                                                        \n",
            "                    |- COUNTY: string                                                                                                                                                            \n",
            "                    |- COUNTY_CODE: string                                                                                                                                                       \n",
            "                    |- IBA_CODE: string                                                                                                                                                          \n",
            "                    |- BCR_CODE: integer                                                                                                                                                         \n",
            "                    |- USFWS_CODE: string                                                                                                                                                        \n",
            "                    |- ATLAS_BLOCK: string                                                                                                                                                       \n",
            "                    |- LOCALITY: string                                                                                                                                                          \n",
            "                    |- LOCALITY_ID: string                                                                                                                                                       \n",
            "                    |- LOCALITY_TYPE: string                                                                                                                                                     \n",
            "                    |- LATITUDE: float                                                                                                                                                           \n",
            "                    |- LONGITUDE: float                                                                                                                                                          \n",
            "                    |- OBSERVATION_DATE: date                                                                                                                                                    \n",
            "                    |- TIME_OBSERVATIONS_STARTED: time                                                                                                                                           \n",
            "                    |- OBSERVER_ID: string                                                                                                                                                       \n",
            "                    |- SAMPLING_EVENT_IDENTIFIER: string                                                                                                                                         \n",
            "                    |- PROTOCOL_TYPE: string                                                                                                                                                     \n",
            "                    |- PROTOCOL_CODE: string                                                                                                                                                     \n",
            "                    |- PROJECT_CODE: string                                                                                                                                                      \n",
            "                    |- DURATION_MINUTES: integer                                                                                                                                                 \n",
            "                    |- EFFORT_DISTANCE_KM: float                                                                                                                                                 \n",
            "                    |- EFFORT_AREA_HA: float                                                                                                                                                     \n",
            "                    |- NUMBER_OBSERVERS: integer                                                                                                                                                 \n",
            "                    |- ALL_SPECIES_REPORTED: integer                                                                                                                                             \n",
            "                    |- GROUP_IDENTIFIER: string                                                                                                                                                  \n",
            "                    |- HAS_MEDIA: integer                                                                                                                                                        \n",
            "                    |- APPROVED: integer                                                                                                                                                         \n",
            "                    |- REVIEWED: integer                                                                                                                                                         \n",
            "                    |- REASON: string                                                                                                                                                            \n",
            "                    |- TRIP_COMMENTS: string                                                                                                                                                     \n",
            "                    |- SPECIES_COMMENTS: string                                                                                                                                                  \n",
            "\n"
          ]
        }
      ]
    },
    {
      "cell_type": "markdown",
      "source": [
        "Number of rows: 1,472,745,160"
      ],
      "metadata": {
        "id": "PI2svncoHgXw"
      }
    },
    {
      "cell_type": "code",
      "source": [
        "%%bigquery df --project {project_id}\n",
        "select count(1)\n",
        "from ebird.ebd_relSep_2023\n"
      ],
      "metadata": {
        "id": "WcKAqXQR7dkW",
        "outputId": "5bdd4074-a5dc-4cee-b394-d2cfc5d42ca6",
        "colab": {
          "base_uri": "https://localhost:8080/",
          "height": 81,
          "referenced_widgets": [
            "441a07ee4eba4f45aac534d1dfcae3e8",
            "e89501401fb04d71b28ce0c168ce032d",
            "928447e488d449ce8f2682dc434152b3",
            "fd3b3bee2f8249fbbf4b7bf4901f6203",
            "cc115c9776b9463984a199926dff0828",
            "4c3ff4a0c8d747caa59e177398d82223",
            "6fdc5670d1a941bc912e422700f3f138",
            "3a638b09a3df47baae6941a2533b3e6b",
            "b3ff36db75054a5094e538b904fc4e56",
            "0dd901000ec646db9f259d5810a8253a",
            "0be82112dc3c4af49df37d211b62fbaf",
            "bd0dff1fed2945b986cfc4b4ab0c06e0",
            "ac6fb3627a024c089468af09f14cbdd0",
            "218b338e0947478a847219c5efd4a1ab",
            "e37e3ee964934186945b54103210042e",
            "a61528622d4349e998da781ad60375d8",
            "9651ada3612846ce8d1be142affdfdd3",
            "fc7dc49140d148b093cb6d3fff8a7caa",
            "10bffc4ff58d4580bd12ec89093cfc4f",
            "b21de30484b047b2843eebe1b39c2e3a",
            "5bcaef2a7de5416a8fe69bd67fc636ec",
            "d4a74cffd0bb4e529f6e399e88eb105a"
          ]
        }
      },
      "execution_count": 10,
      "outputs": [
        {
          "output_type": "display_data",
          "data": {
            "text/plain": [
              "Query is running:   0%|          |"
            ],
            "application/vnd.jupyter.widget-view+json": {
              "version_major": 2,
              "version_minor": 0,
              "model_id": "441a07ee4eba4f45aac534d1dfcae3e8"
            }
          },
          "metadata": {}
        },
        {
          "output_type": "display_data",
          "data": {
            "text/plain": [
              "Downloading:   0%|          |"
            ],
            "application/vnd.jupyter.widget-view+json": {
              "version_major": 2,
              "version_minor": 0,
              "model_id": "bd0dff1fed2945b986cfc4b4ab0c06e0"
            }
          },
          "metadata": {}
        }
      ]
    },
    {
      "cell_type": "code",
      "source": [
        "df"
      ],
      "metadata": {
        "id": "QIqi1Ufc7dkW",
        "outputId": "c9db77f3-2809-4fa5-d91e-996781e25397",
        "colab": {
          "base_uri": "https://localhost:8080/",
          "height": 81
        }
      },
      "execution_count": 11,
      "outputs": [
        {
          "output_type": "execute_result",
          "data": {
            "text/plain": [
              "          f0_\n",
              "0  1472745160"
            ],
            "text/html": [
              "\n",
              "  <div id=\"df-cd02d0e7-d10d-482e-88bd-3909ceb6d6ae\" class=\"colab-df-container\">\n",
              "    <div>\n",
              "<style scoped>\n",
              "    .dataframe tbody tr th:only-of-type {\n",
              "        vertical-align: middle;\n",
              "    }\n",
              "\n",
              "    .dataframe tbody tr th {\n",
              "        vertical-align: top;\n",
              "    }\n",
              "\n",
              "    .dataframe thead th {\n",
              "        text-align: right;\n",
              "    }\n",
              "</style>\n",
              "<table border=\"1\" class=\"dataframe\">\n",
              "  <thead>\n",
              "    <tr style=\"text-align: right;\">\n",
              "      <th></th>\n",
              "      <th>f0_</th>\n",
              "    </tr>\n",
              "  </thead>\n",
              "  <tbody>\n",
              "    <tr>\n",
              "      <th>0</th>\n",
              "      <td>1472745160</td>\n",
              "    </tr>\n",
              "  </tbody>\n",
              "</table>\n",
              "</div>\n",
              "    <div class=\"colab-df-buttons\">\n",
              "\n",
              "  <div class=\"colab-df-container\">\n",
              "    <button class=\"colab-df-convert\" onclick=\"convertToInteractive('df-cd02d0e7-d10d-482e-88bd-3909ceb6d6ae')\"\n",
              "            title=\"Convert this dataframe to an interactive table.\"\n",
              "            style=\"display:none;\">\n",
              "\n",
              "  <svg xmlns=\"http://www.w3.org/2000/svg\" height=\"24px\" viewBox=\"0 -960 960 960\">\n",
              "    <path d=\"M120-120v-720h720v720H120Zm60-500h600v-160H180v160Zm220 220h160v-160H400v160Zm0 220h160v-160H400v160ZM180-400h160v-160H180v160Zm440 0h160v-160H620v160ZM180-180h160v-160H180v160Zm440 0h160v-160H620v160Z\"/>\n",
              "  </svg>\n",
              "    </button>\n",
              "\n",
              "  <style>\n",
              "    .colab-df-container {\n",
              "      display:flex;\n",
              "      gap: 12px;\n",
              "    }\n",
              "\n",
              "    .colab-df-convert {\n",
              "      background-color: #E8F0FE;\n",
              "      border: none;\n",
              "      border-radius: 50%;\n",
              "      cursor: pointer;\n",
              "      display: none;\n",
              "      fill: #1967D2;\n",
              "      height: 32px;\n",
              "      padding: 0 0 0 0;\n",
              "      width: 32px;\n",
              "    }\n",
              "\n",
              "    .colab-df-convert:hover {\n",
              "      background-color: #E2EBFA;\n",
              "      box-shadow: 0px 1px 2px rgba(60, 64, 67, 0.3), 0px 1px 3px 1px rgba(60, 64, 67, 0.15);\n",
              "      fill: #174EA6;\n",
              "    }\n",
              "\n",
              "    .colab-df-buttons div {\n",
              "      margin-bottom: 4px;\n",
              "    }\n",
              "\n",
              "    [theme=dark] .colab-df-convert {\n",
              "      background-color: #3B4455;\n",
              "      fill: #D2E3FC;\n",
              "    }\n",
              "\n",
              "    [theme=dark] .colab-df-convert:hover {\n",
              "      background-color: #434B5C;\n",
              "      box-shadow: 0px 1px 3px 1px rgba(0, 0, 0, 0.15);\n",
              "      filter: drop-shadow(0px 1px 2px rgba(0, 0, 0, 0.3));\n",
              "      fill: #FFFFFF;\n",
              "    }\n",
              "  </style>\n",
              "\n",
              "    <script>\n",
              "      const buttonEl =\n",
              "        document.querySelector('#df-cd02d0e7-d10d-482e-88bd-3909ceb6d6ae button.colab-df-convert');\n",
              "      buttonEl.style.display =\n",
              "        google.colab.kernel.accessAllowed ? 'block' : 'none';\n",
              "\n",
              "      async function convertToInteractive(key) {\n",
              "        const element = document.querySelector('#df-cd02d0e7-d10d-482e-88bd-3909ceb6d6ae');\n",
              "        const dataTable =\n",
              "          await google.colab.kernel.invokeFunction('convertToInteractive',\n",
              "                                                    [key], {});\n",
              "        if (!dataTable) return;\n",
              "\n",
              "        const docLinkHtml = 'Like what you see? Visit the ' +\n",
              "          '<a target=\"_blank\" href=https://colab.research.google.com/notebooks/data_table.ipynb>data table notebook</a>'\n",
              "          + ' to learn more about interactive tables.';\n",
              "        element.innerHTML = '';\n",
              "        dataTable['output_type'] = 'display_data';\n",
              "        await google.colab.output.renderOutput(dataTable, element);\n",
              "        const docLink = document.createElement('div');\n",
              "        docLink.innerHTML = docLinkHtml;\n",
              "        element.appendChild(docLink);\n",
              "      }\n",
              "    </script>\n",
              "  </div>\n",
              "\n",
              "    </div>\n",
              "  </div>\n"
            ]
          },
          "metadata": {},
          "execution_count": 11
        }
      ]
    },
    {
      "cell_type": "code",
      "source": [
        "%%bash\n",
        "bq show \\\n",
        "   --format=prettyjson \\\n",
        "   ${GOOGLE_CLOUD_PROJECT}:ebird\n"
      ],
      "metadata": {
        "id": "eBAQoqiM7dkX",
        "outputId": "dc5e4834-1838-495e-fc77-968e254ee95f",
        "colab": {
          "base_uri": "https://localhost:8080/"
        }
      },
      "execution_count": 12,
      "outputs": [
        {
          "output_type": "stream",
          "name": "stdout",
          "text": [
            "{\n",
            "  \"access\": [\n",
            "    {\n",
            "      \"role\": \"WRITER\",\n",
            "      \"specialGroup\": \"projectWriters\"\n",
            "    },\n",
            "    {\n",
            "      \"role\": \"OWNER\",\n",
            "      \"specialGroup\": \"projectOwners\"\n",
            "    },\n",
            "    {\n",
            "      \"role\": \"OWNER\",\n",
            "      \"userByEmail\": \"Robert.Citek@gmail.com\"\n",
            "    },\n",
            "    {\n",
            "      \"role\": \"READER\",\n",
            "      \"specialGroup\": \"projectReaders\"\n",
            "    },\n",
            "    {\n",
            "      \"role\": \"READER\",\n",
            "      \"userByEmail\": \"brooksburkhead7@gmail.com\"\n",
            "    },\n",
            "    {\n",
            "      \"role\": \"READER\",\n",
            "      \"userByEmail\": \"crthebroker@gmail.com\"\n",
            "    },\n",
            "    {\n",
            "      \"dataset\": {\n",
            "        \"dataset\": {\n",
            "          \"datasetId\": \"ebird\",\n",
            "          \"projectId\": \"default-256400\"\n",
            "        },\n",
            "        \"targetTypes\": [\n",
            "          \"VIEWS\"\n",
            "        ]\n",
            "      }\n",
            "    }\n",
            "  ],\n",
            "  \"creationTime\": \"1700609524317\",\n",
            "  \"datasetReference\": {\n",
            "    \"datasetId\": \"ebird\",\n",
            "    \"projectId\": \"default-256400\"\n",
            "  },\n",
            "  \"etag\": \"KtVEyfZC+UcXJUc7NGiMQw==\",\n",
            "  \"id\": \"default-256400:ebird\",\n",
            "  \"isCaseInsensitive\": false,\n",
            "  \"kind\": \"bigquery#dataset\",\n",
            "  \"lastModifiedTime\": \"1700678240429\",\n",
            "  \"location\": \"us-west4\",\n",
            "  \"maxTimeTravelHours\": \"168\",\n",
            "  \"selfLink\": \"https://bigquery.googleapis.com/bigquery/v2/projects/default-256400/datasets/ebird\",\n",
            "  \"storageBillingModel\": \"LOGICAL\",\n",
            "  \"type\": \"DEFAULT\"\n",
            "}\n"
          ]
        }
      ]
    },
    {
      "cell_type": "code",
      "source": [],
      "metadata": {
        "id": "5rqNcvI17dkY"
      },
      "execution_count": null,
      "outputs": []
    }
  ],
  "metadata": {
    "colab": {
      "provenance": [],
      "toc_visible": true,
      "include_colab_link": true
    },
    "kernelspec": {
      "display_name": "Python 3",
      "name": "python3"
    },
    "language_info": {
      "codemirror_mode": {
        "name": "ipython",
        "version": 3
      },
      "file_extension": ".py",
      "mimetype": "text/x-python",
      "name": "python",
      "nbconvert_exporter": "python",
      "pygments_lexer": "ipython3",
      "version": "3.10.8"
    },
    "widgets": {
      "application/vnd.jupyter.widget-state+json": {
        "2b6eb7d1f78940299aaacf2a66572ca7": {
          "model_module": "@jupyter-widgets/controls",
          "model_name": "HBoxModel",
          "model_module_version": "1.5.0",
          "state": {
            "_dom_classes": [],
            "_model_module": "@jupyter-widgets/controls",
            "_model_module_version": "1.5.0",
            "_model_name": "HBoxModel",
            "_view_count": null,
            "_view_module": "@jupyter-widgets/controls",
            "_view_module_version": "1.5.0",
            "_view_name": "HBoxView",
            "box_style": "",
            "children": [
              "IPY_MODEL_c0a72d8b28124cb4930208372e5c61c4",
              "IPY_MODEL_8f9a601d2c474bd1abf217b1c0dfde49",
              "IPY_MODEL_c45b637dda634f368eb0f9f58b6df7d8"
            ],
            "layout": "IPY_MODEL_0a325149e4894b838120dd36315ac03e"
          }
        },
        "c0a72d8b28124cb4930208372e5c61c4": {
          "model_module": "@jupyter-widgets/controls",
          "model_name": "HTMLModel",
          "model_module_version": "1.5.0",
          "state": {
            "_dom_classes": [],
            "_model_module": "@jupyter-widgets/controls",
            "_model_module_version": "1.5.0",
            "_model_name": "HTMLModel",
            "_view_count": null,
            "_view_module": "@jupyter-widgets/controls",
            "_view_module_version": "1.5.0",
            "_view_name": "HTMLView",
            "description": "",
            "description_tooltip": null,
            "layout": "IPY_MODEL_eec350c6284949fe802a47653d5c1df0",
            "placeholder": "​",
            "style": "IPY_MODEL_3388bce2f7aa427d8bd6b4ec621b11b3",
            "value": "Job ID 745617d9-cf40-4309-ba35-ff7f59a6abdc successfully executed: 100%"
          }
        },
        "8f9a601d2c474bd1abf217b1c0dfde49": {
          "model_module": "@jupyter-widgets/controls",
          "model_name": "FloatProgressModel",
          "model_module_version": "1.5.0",
          "state": {
            "_dom_classes": [],
            "_model_module": "@jupyter-widgets/controls",
            "_model_module_version": "1.5.0",
            "_model_name": "FloatProgressModel",
            "_view_count": null,
            "_view_module": "@jupyter-widgets/controls",
            "_view_module_version": "1.5.0",
            "_view_name": "ProgressView",
            "bar_style": "success",
            "description": "",
            "description_tooltip": null,
            "layout": "IPY_MODEL_e784c3c8512e44f5a67a89a8e7c1aabf",
            "max": 1,
            "min": 0,
            "orientation": "horizontal",
            "style": "IPY_MODEL_0e1d22df51354db48aac24c3e0c72533",
            "value": 1
          }
        },
        "c45b637dda634f368eb0f9f58b6df7d8": {
          "model_module": "@jupyter-widgets/controls",
          "model_name": "HTMLModel",
          "model_module_version": "1.5.0",
          "state": {
            "_dom_classes": [],
            "_model_module": "@jupyter-widgets/controls",
            "_model_module_version": "1.5.0",
            "_model_name": "HTMLModel",
            "_view_count": null,
            "_view_module": "@jupyter-widgets/controls",
            "_view_module_version": "1.5.0",
            "_view_name": "HTMLView",
            "description": "",
            "description_tooltip": null,
            "layout": "IPY_MODEL_6f212bc69e994dceb571cd3cfcb313ac",
            "placeholder": "​",
            "style": "IPY_MODEL_523b8ba586a74bbea3b27f08eaf5e593",
            "value": ""
          }
        },
        "0a325149e4894b838120dd36315ac03e": {
          "model_module": "@jupyter-widgets/base",
          "model_name": "LayoutModel",
          "model_module_version": "1.2.0",
          "state": {
            "_model_module": "@jupyter-widgets/base",
            "_model_module_version": "1.2.0",
            "_model_name": "LayoutModel",
            "_view_count": null,
            "_view_module": "@jupyter-widgets/base",
            "_view_module_version": "1.2.0",
            "_view_name": "LayoutView",
            "align_content": null,
            "align_items": null,
            "align_self": null,
            "border": null,
            "bottom": null,
            "display": null,
            "flex": null,
            "flex_flow": null,
            "grid_area": null,
            "grid_auto_columns": null,
            "grid_auto_flow": null,
            "grid_auto_rows": null,
            "grid_column": null,
            "grid_gap": null,
            "grid_row": null,
            "grid_template_areas": null,
            "grid_template_columns": null,
            "grid_template_rows": null,
            "height": null,
            "justify_content": null,
            "justify_items": null,
            "left": null,
            "margin": null,
            "max_height": null,
            "max_width": null,
            "min_height": null,
            "min_width": null,
            "object_fit": null,
            "object_position": null,
            "order": null,
            "overflow": null,
            "overflow_x": null,
            "overflow_y": null,
            "padding": null,
            "right": null,
            "top": null,
            "visibility": null,
            "width": null
          }
        },
        "eec350c6284949fe802a47653d5c1df0": {
          "model_module": "@jupyter-widgets/base",
          "model_name": "LayoutModel",
          "model_module_version": "1.2.0",
          "state": {
            "_model_module": "@jupyter-widgets/base",
            "_model_module_version": "1.2.0",
            "_model_name": "LayoutModel",
            "_view_count": null,
            "_view_module": "@jupyter-widgets/base",
            "_view_module_version": "1.2.0",
            "_view_name": "LayoutView",
            "align_content": null,
            "align_items": null,
            "align_self": null,
            "border": null,
            "bottom": null,
            "display": null,
            "flex": null,
            "flex_flow": null,
            "grid_area": null,
            "grid_auto_columns": null,
            "grid_auto_flow": null,
            "grid_auto_rows": null,
            "grid_column": null,
            "grid_gap": null,
            "grid_row": null,
            "grid_template_areas": null,
            "grid_template_columns": null,
            "grid_template_rows": null,
            "height": null,
            "justify_content": null,
            "justify_items": null,
            "left": null,
            "margin": null,
            "max_height": null,
            "max_width": null,
            "min_height": null,
            "min_width": null,
            "object_fit": null,
            "object_position": null,
            "order": null,
            "overflow": null,
            "overflow_x": null,
            "overflow_y": null,
            "padding": null,
            "right": null,
            "top": null,
            "visibility": null,
            "width": null
          }
        },
        "3388bce2f7aa427d8bd6b4ec621b11b3": {
          "model_module": "@jupyter-widgets/controls",
          "model_name": "DescriptionStyleModel",
          "model_module_version": "1.5.0",
          "state": {
            "_model_module": "@jupyter-widgets/controls",
            "_model_module_version": "1.5.0",
            "_model_name": "DescriptionStyleModel",
            "_view_count": null,
            "_view_module": "@jupyter-widgets/base",
            "_view_module_version": "1.2.0",
            "_view_name": "StyleView",
            "description_width": ""
          }
        },
        "e784c3c8512e44f5a67a89a8e7c1aabf": {
          "model_module": "@jupyter-widgets/base",
          "model_name": "LayoutModel",
          "model_module_version": "1.2.0",
          "state": {
            "_model_module": "@jupyter-widgets/base",
            "_model_module_version": "1.2.0",
            "_model_name": "LayoutModel",
            "_view_count": null,
            "_view_module": "@jupyter-widgets/base",
            "_view_module_version": "1.2.0",
            "_view_name": "LayoutView",
            "align_content": null,
            "align_items": null,
            "align_self": null,
            "border": null,
            "bottom": null,
            "display": null,
            "flex": null,
            "flex_flow": null,
            "grid_area": null,
            "grid_auto_columns": null,
            "grid_auto_flow": null,
            "grid_auto_rows": null,
            "grid_column": null,
            "grid_gap": null,
            "grid_row": null,
            "grid_template_areas": null,
            "grid_template_columns": null,
            "grid_template_rows": null,
            "height": null,
            "justify_content": null,
            "justify_items": null,
            "left": null,
            "margin": null,
            "max_height": null,
            "max_width": null,
            "min_height": null,
            "min_width": null,
            "object_fit": null,
            "object_position": null,
            "order": null,
            "overflow": null,
            "overflow_x": null,
            "overflow_y": null,
            "padding": null,
            "right": null,
            "top": null,
            "visibility": null,
            "width": null
          }
        },
        "0e1d22df51354db48aac24c3e0c72533": {
          "model_module": "@jupyter-widgets/controls",
          "model_name": "ProgressStyleModel",
          "model_module_version": "1.5.0",
          "state": {
            "_model_module": "@jupyter-widgets/controls",
            "_model_module_version": "1.5.0",
            "_model_name": "ProgressStyleModel",
            "_view_count": null,
            "_view_module": "@jupyter-widgets/base",
            "_view_module_version": "1.2.0",
            "_view_name": "StyleView",
            "bar_color": null,
            "description_width": ""
          }
        },
        "6f212bc69e994dceb571cd3cfcb313ac": {
          "model_module": "@jupyter-widgets/base",
          "model_name": "LayoutModel",
          "model_module_version": "1.2.0",
          "state": {
            "_model_module": "@jupyter-widgets/base",
            "_model_module_version": "1.2.0",
            "_model_name": "LayoutModel",
            "_view_count": null,
            "_view_module": "@jupyter-widgets/base",
            "_view_module_version": "1.2.0",
            "_view_name": "LayoutView",
            "align_content": null,
            "align_items": null,
            "align_self": null,
            "border": null,
            "bottom": null,
            "display": null,
            "flex": null,
            "flex_flow": null,
            "grid_area": null,
            "grid_auto_columns": null,
            "grid_auto_flow": null,
            "grid_auto_rows": null,
            "grid_column": null,
            "grid_gap": null,
            "grid_row": null,
            "grid_template_areas": null,
            "grid_template_columns": null,
            "grid_template_rows": null,
            "height": null,
            "justify_content": null,
            "justify_items": null,
            "left": null,
            "margin": null,
            "max_height": null,
            "max_width": null,
            "min_height": null,
            "min_width": null,
            "object_fit": null,
            "object_position": null,
            "order": null,
            "overflow": null,
            "overflow_x": null,
            "overflow_y": null,
            "padding": null,
            "right": null,
            "top": null,
            "visibility": null,
            "width": null
          }
        },
        "523b8ba586a74bbea3b27f08eaf5e593": {
          "model_module": "@jupyter-widgets/controls",
          "model_name": "DescriptionStyleModel",
          "model_module_version": "1.5.0",
          "state": {
            "_model_module": "@jupyter-widgets/controls",
            "_model_module_version": "1.5.0",
            "_model_name": "DescriptionStyleModel",
            "_view_count": null,
            "_view_module": "@jupyter-widgets/base",
            "_view_module_version": "1.2.0",
            "_view_name": "StyleView",
            "description_width": ""
          }
        },
        "72a1ae52b16b4a11aa23a6224b6734d3": {
          "model_module": "@jupyter-widgets/controls",
          "model_name": "HBoxModel",
          "model_module_version": "1.5.0",
          "state": {
            "_dom_classes": [],
            "_model_module": "@jupyter-widgets/controls",
            "_model_module_version": "1.5.0",
            "_model_name": "HBoxModel",
            "_view_count": null,
            "_view_module": "@jupyter-widgets/controls",
            "_view_module_version": "1.5.0",
            "_view_name": "HBoxView",
            "box_style": "",
            "children": [
              "IPY_MODEL_cf1e6a7ff9894abbbff388b9fd818b78",
              "IPY_MODEL_1ecd5ca803314a3a82e989ae1c4a0acd",
              "IPY_MODEL_8adab950f77a404dad0f4a1937f8c8c6"
            ],
            "layout": "IPY_MODEL_fa5ac18a0ee242e7a08e84c550ad0b37"
          }
        },
        "cf1e6a7ff9894abbbff388b9fd818b78": {
          "model_module": "@jupyter-widgets/controls",
          "model_name": "HTMLModel",
          "model_module_version": "1.5.0",
          "state": {
            "_dom_classes": [],
            "_model_module": "@jupyter-widgets/controls",
            "_model_module_version": "1.5.0",
            "_model_name": "HTMLModel",
            "_view_count": null,
            "_view_module": "@jupyter-widgets/controls",
            "_view_module_version": "1.5.0",
            "_view_name": "HTMLView",
            "description": "",
            "description_tooltip": null,
            "layout": "IPY_MODEL_7410e50d038a4c0d8fa7f5320bcc45bb",
            "placeholder": "​",
            "style": "IPY_MODEL_32b04befa45a44bb850781830c2d17ab",
            "value": "Downloading: 100%"
          }
        },
        "1ecd5ca803314a3a82e989ae1c4a0acd": {
          "model_module": "@jupyter-widgets/controls",
          "model_name": "FloatProgressModel",
          "model_module_version": "1.5.0",
          "state": {
            "_dom_classes": [],
            "_model_module": "@jupyter-widgets/controls",
            "_model_module_version": "1.5.0",
            "_model_name": "FloatProgressModel",
            "_view_count": null,
            "_view_module": "@jupyter-widgets/controls",
            "_view_module_version": "1.5.0",
            "_view_name": "ProgressView",
            "bar_style": "success",
            "description": "",
            "description_tooltip": null,
            "layout": "IPY_MODEL_32f579c4a67f41a6aa99d6ff38734b84",
            "max": 10,
            "min": 0,
            "orientation": "horizontal",
            "style": "IPY_MODEL_3f1a63214f5644d482a71941fa1f595f",
            "value": 10
          }
        },
        "8adab950f77a404dad0f4a1937f8c8c6": {
          "model_module": "@jupyter-widgets/controls",
          "model_name": "HTMLModel",
          "model_module_version": "1.5.0",
          "state": {
            "_dom_classes": [],
            "_model_module": "@jupyter-widgets/controls",
            "_model_module_version": "1.5.0",
            "_model_name": "HTMLModel",
            "_view_count": null,
            "_view_module": "@jupyter-widgets/controls",
            "_view_module_version": "1.5.0",
            "_view_name": "HTMLView",
            "description": "",
            "description_tooltip": null,
            "layout": "IPY_MODEL_6174aa81e93b4d6296d6b6e5abbff076",
            "placeholder": "​",
            "style": "IPY_MODEL_096a4f8c38dd42dfa8be71496b8e09a1",
            "value": ""
          }
        },
        "fa5ac18a0ee242e7a08e84c550ad0b37": {
          "model_module": "@jupyter-widgets/base",
          "model_name": "LayoutModel",
          "model_module_version": "1.2.0",
          "state": {
            "_model_module": "@jupyter-widgets/base",
            "_model_module_version": "1.2.0",
            "_model_name": "LayoutModel",
            "_view_count": null,
            "_view_module": "@jupyter-widgets/base",
            "_view_module_version": "1.2.0",
            "_view_name": "LayoutView",
            "align_content": null,
            "align_items": null,
            "align_self": null,
            "border": null,
            "bottom": null,
            "display": null,
            "flex": null,
            "flex_flow": null,
            "grid_area": null,
            "grid_auto_columns": null,
            "grid_auto_flow": null,
            "grid_auto_rows": null,
            "grid_column": null,
            "grid_gap": null,
            "grid_row": null,
            "grid_template_areas": null,
            "grid_template_columns": null,
            "grid_template_rows": null,
            "height": null,
            "justify_content": null,
            "justify_items": null,
            "left": null,
            "margin": null,
            "max_height": null,
            "max_width": null,
            "min_height": null,
            "min_width": null,
            "object_fit": null,
            "object_position": null,
            "order": null,
            "overflow": null,
            "overflow_x": null,
            "overflow_y": null,
            "padding": null,
            "right": null,
            "top": null,
            "visibility": null,
            "width": null
          }
        },
        "7410e50d038a4c0d8fa7f5320bcc45bb": {
          "model_module": "@jupyter-widgets/base",
          "model_name": "LayoutModel",
          "model_module_version": "1.2.0",
          "state": {
            "_model_module": "@jupyter-widgets/base",
            "_model_module_version": "1.2.0",
            "_model_name": "LayoutModel",
            "_view_count": null,
            "_view_module": "@jupyter-widgets/base",
            "_view_module_version": "1.2.0",
            "_view_name": "LayoutView",
            "align_content": null,
            "align_items": null,
            "align_self": null,
            "border": null,
            "bottom": null,
            "display": null,
            "flex": null,
            "flex_flow": null,
            "grid_area": null,
            "grid_auto_columns": null,
            "grid_auto_flow": null,
            "grid_auto_rows": null,
            "grid_column": null,
            "grid_gap": null,
            "grid_row": null,
            "grid_template_areas": null,
            "grid_template_columns": null,
            "grid_template_rows": null,
            "height": null,
            "justify_content": null,
            "justify_items": null,
            "left": null,
            "margin": null,
            "max_height": null,
            "max_width": null,
            "min_height": null,
            "min_width": null,
            "object_fit": null,
            "object_position": null,
            "order": null,
            "overflow": null,
            "overflow_x": null,
            "overflow_y": null,
            "padding": null,
            "right": null,
            "top": null,
            "visibility": null,
            "width": null
          }
        },
        "32b04befa45a44bb850781830c2d17ab": {
          "model_module": "@jupyter-widgets/controls",
          "model_name": "DescriptionStyleModel",
          "model_module_version": "1.5.0",
          "state": {
            "_model_module": "@jupyter-widgets/controls",
            "_model_module_version": "1.5.0",
            "_model_name": "DescriptionStyleModel",
            "_view_count": null,
            "_view_module": "@jupyter-widgets/base",
            "_view_module_version": "1.2.0",
            "_view_name": "StyleView",
            "description_width": ""
          }
        },
        "32f579c4a67f41a6aa99d6ff38734b84": {
          "model_module": "@jupyter-widgets/base",
          "model_name": "LayoutModel",
          "model_module_version": "1.2.0",
          "state": {
            "_model_module": "@jupyter-widgets/base",
            "_model_module_version": "1.2.0",
            "_model_name": "LayoutModel",
            "_view_count": null,
            "_view_module": "@jupyter-widgets/base",
            "_view_module_version": "1.2.0",
            "_view_name": "LayoutView",
            "align_content": null,
            "align_items": null,
            "align_self": null,
            "border": null,
            "bottom": null,
            "display": null,
            "flex": null,
            "flex_flow": null,
            "grid_area": null,
            "grid_auto_columns": null,
            "grid_auto_flow": null,
            "grid_auto_rows": null,
            "grid_column": null,
            "grid_gap": null,
            "grid_row": null,
            "grid_template_areas": null,
            "grid_template_columns": null,
            "grid_template_rows": null,
            "height": null,
            "justify_content": null,
            "justify_items": null,
            "left": null,
            "margin": null,
            "max_height": null,
            "max_width": null,
            "min_height": null,
            "min_width": null,
            "object_fit": null,
            "object_position": null,
            "order": null,
            "overflow": null,
            "overflow_x": null,
            "overflow_y": null,
            "padding": null,
            "right": null,
            "top": null,
            "visibility": null,
            "width": null
          }
        },
        "3f1a63214f5644d482a71941fa1f595f": {
          "model_module": "@jupyter-widgets/controls",
          "model_name": "ProgressStyleModel",
          "model_module_version": "1.5.0",
          "state": {
            "_model_module": "@jupyter-widgets/controls",
            "_model_module_version": "1.5.0",
            "_model_name": "ProgressStyleModel",
            "_view_count": null,
            "_view_module": "@jupyter-widgets/base",
            "_view_module_version": "1.2.0",
            "_view_name": "StyleView",
            "bar_color": null,
            "description_width": ""
          }
        },
        "6174aa81e93b4d6296d6b6e5abbff076": {
          "model_module": "@jupyter-widgets/base",
          "model_name": "LayoutModel",
          "model_module_version": "1.2.0",
          "state": {
            "_model_module": "@jupyter-widgets/base",
            "_model_module_version": "1.2.0",
            "_model_name": "LayoutModel",
            "_view_count": null,
            "_view_module": "@jupyter-widgets/base",
            "_view_module_version": "1.2.0",
            "_view_name": "LayoutView",
            "align_content": null,
            "align_items": null,
            "align_self": null,
            "border": null,
            "bottom": null,
            "display": null,
            "flex": null,
            "flex_flow": null,
            "grid_area": null,
            "grid_auto_columns": null,
            "grid_auto_flow": null,
            "grid_auto_rows": null,
            "grid_column": null,
            "grid_gap": null,
            "grid_row": null,
            "grid_template_areas": null,
            "grid_template_columns": null,
            "grid_template_rows": null,
            "height": null,
            "justify_content": null,
            "justify_items": null,
            "left": null,
            "margin": null,
            "max_height": null,
            "max_width": null,
            "min_height": null,
            "min_width": null,
            "object_fit": null,
            "object_position": null,
            "order": null,
            "overflow": null,
            "overflow_x": null,
            "overflow_y": null,
            "padding": null,
            "right": null,
            "top": null,
            "visibility": null,
            "width": null
          }
        },
        "096a4f8c38dd42dfa8be71496b8e09a1": {
          "model_module": "@jupyter-widgets/controls",
          "model_name": "DescriptionStyleModel",
          "model_module_version": "1.5.0",
          "state": {
            "_model_module": "@jupyter-widgets/controls",
            "_model_module_version": "1.5.0",
            "_model_name": "DescriptionStyleModel",
            "_view_count": null,
            "_view_module": "@jupyter-widgets/base",
            "_view_module_version": "1.2.0",
            "_view_name": "StyleView",
            "description_width": ""
          }
        },
        "027a1eca9f1a4721969ac34aa5be4c93": {
          "model_module": "@jupyter-widgets/controls",
          "model_name": "HBoxModel",
          "model_module_version": "1.5.0",
          "state": {
            "_dom_classes": [],
            "_model_module": "@jupyter-widgets/controls",
            "_model_module_version": "1.5.0",
            "_model_name": "HBoxModel",
            "_view_count": null,
            "_view_module": "@jupyter-widgets/controls",
            "_view_module_version": "1.5.0",
            "_view_name": "HBoxView",
            "box_style": "",
            "children": [
              "IPY_MODEL_8b5b1df5d416407b89e8bae198872f68",
              "IPY_MODEL_c29c614b014842fdb7ee5e6a7ccbc00d",
              "IPY_MODEL_9ea0b0a9dd0141d2a2e021040d72ec1d"
            ],
            "layout": "IPY_MODEL_30ad844458fe4e53be015338f9d60a14"
          }
        },
        "8b5b1df5d416407b89e8bae198872f68": {
          "model_module": "@jupyter-widgets/controls",
          "model_name": "HTMLModel",
          "model_module_version": "1.5.0",
          "state": {
            "_dom_classes": [],
            "_model_module": "@jupyter-widgets/controls",
            "_model_module_version": "1.5.0",
            "_model_name": "HTMLModel",
            "_view_count": null,
            "_view_module": "@jupyter-widgets/controls",
            "_view_module_version": "1.5.0",
            "_view_name": "HTMLView",
            "description": "",
            "description_tooltip": null,
            "layout": "IPY_MODEL_b5b1b521b8424067a112314f6a484efe",
            "placeholder": "​",
            "style": "IPY_MODEL_dbc3f321fd1a48109e3fe36659f91612",
            "value": "Job ID a1614008-cb2c-404f-9c5d-86929ec16b16 successfully executed: 100%"
          }
        },
        "c29c614b014842fdb7ee5e6a7ccbc00d": {
          "model_module": "@jupyter-widgets/controls",
          "model_name": "FloatProgressModel",
          "model_module_version": "1.5.0",
          "state": {
            "_dom_classes": [],
            "_model_module": "@jupyter-widgets/controls",
            "_model_module_version": "1.5.0",
            "_model_name": "FloatProgressModel",
            "_view_count": null,
            "_view_module": "@jupyter-widgets/controls",
            "_view_module_version": "1.5.0",
            "_view_name": "ProgressView",
            "bar_style": "success",
            "description": "",
            "description_tooltip": null,
            "layout": "IPY_MODEL_c826e3c0d5b54e9183133f801efb1219",
            "max": 1,
            "min": 0,
            "orientation": "horizontal",
            "style": "IPY_MODEL_3b02a39256904a9ea1878503a814c135",
            "value": 1
          }
        },
        "9ea0b0a9dd0141d2a2e021040d72ec1d": {
          "model_module": "@jupyter-widgets/controls",
          "model_name": "HTMLModel",
          "model_module_version": "1.5.0",
          "state": {
            "_dom_classes": [],
            "_model_module": "@jupyter-widgets/controls",
            "_model_module_version": "1.5.0",
            "_model_name": "HTMLModel",
            "_view_count": null,
            "_view_module": "@jupyter-widgets/controls",
            "_view_module_version": "1.5.0",
            "_view_name": "HTMLView",
            "description": "",
            "description_tooltip": null,
            "layout": "IPY_MODEL_67732066c67a4e53acfbe474958e8121",
            "placeholder": "​",
            "style": "IPY_MODEL_660fb653889d4d158d08b82f955ec747",
            "value": ""
          }
        },
        "30ad844458fe4e53be015338f9d60a14": {
          "model_module": "@jupyter-widgets/base",
          "model_name": "LayoutModel",
          "model_module_version": "1.2.0",
          "state": {
            "_model_module": "@jupyter-widgets/base",
            "_model_module_version": "1.2.0",
            "_model_name": "LayoutModel",
            "_view_count": null,
            "_view_module": "@jupyter-widgets/base",
            "_view_module_version": "1.2.0",
            "_view_name": "LayoutView",
            "align_content": null,
            "align_items": null,
            "align_self": null,
            "border": null,
            "bottom": null,
            "display": null,
            "flex": null,
            "flex_flow": null,
            "grid_area": null,
            "grid_auto_columns": null,
            "grid_auto_flow": null,
            "grid_auto_rows": null,
            "grid_column": null,
            "grid_gap": null,
            "grid_row": null,
            "grid_template_areas": null,
            "grid_template_columns": null,
            "grid_template_rows": null,
            "height": null,
            "justify_content": null,
            "justify_items": null,
            "left": null,
            "margin": null,
            "max_height": null,
            "max_width": null,
            "min_height": null,
            "min_width": null,
            "object_fit": null,
            "object_position": null,
            "order": null,
            "overflow": null,
            "overflow_x": null,
            "overflow_y": null,
            "padding": null,
            "right": null,
            "top": null,
            "visibility": null,
            "width": null
          }
        },
        "b5b1b521b8424067a112314f6a484efe": {
          "model_module": "@jupyter-widgets/base",
          "model_name": "LayoutModel",
          "model_module_version": "1.2.0",
          "state": {
            "_model_module": "@jupyter-widgets/base",
            "_model_module_version": "1.2.0",
            "_model_name": "LayoutModel",
            "_view_count": null,
            "_view_module": "@jupyter-widgets/base",
            "_view_module_version": "1.2.0",
            "_view_name": "LayoutView",
            "align_content": null,
            "align_items": null,
            "align_self": null,
            "border": null,
            "bottom": null,
            "display": null,
            "flex": null,
            "flex_flow": null,
            "grid_area": null,
            "grid_auto_columns": null,
            "grid_auto_flow": null,
            "grid_auto_rows": null,
            "grid_column": null,
            "grid_gap": null,
            "grid_row": null,
            "grid_template_areas": null,
            "grid_template_columns": null,
            "grid_template_rows": null,
            "height": null,
            "justify_content": null,
            "justify_items": null,
            "left": null,
            "margin": null,
            "max_height": null,
            "max_width": null,
            "min_height": null,
            "min_width": null,
            "object_fit": null,
            "object_position": null,
            "order": null,
            "overflow": null,
            "overflow_x": null,
            "overflow_y": null,
            "padding": null,
            "right": null,
            "top": null,
            "visibility": null,
            "width": null
          }
        },
        "dbc3f321fd1a48109e3fe36659f91612": {
          "model_module": "@jupyter-widgets/controls",
          "model_name": "DescriptionStyleModel",
          "model_module_version": "1.5.0",
          "state": {
            "_model_module": "@jupyter-widgets/controls",
            "_model_module_version": "1.5.0",
            "_model_name": "DescriptionStyleModel",
            "_view_count": null,
            "_view_module": "@jupyter-widgets/base",
            "_view_module_version": "1.2.0",
            "_view_name": "StyleView",
            "description_width": ""
          }
        },
        "c826e3c0d5b54e9183133f801efb1219": {
          "model_module": "@jupyter-widgets/base",
          "model_name": "LayoutModel",
          "model_module_version": "1.2.0",
          "state": {
            "_model_module": "@jupyter-widgets/base",
            "_model_module_version": "1.2.0",
            "_model_name": "LayoutModel",
            "_view_count": null,
            "_view_module": "@jupyter-widgets/base",
            "_view_module_version": "1.2.0",
            "_view_name": "LayoutView",
            "align_content": null,
            "align_items": null,
            "align_self": null,
            "border": null,
            "bottom": null,
            "display": null,
            "flex": null,
            "flex_flow": null,
            "grid_area": null,
            "grid_auto_columns": null,
            "grid_auto_flow": null,
            "grid_auto_rows": null,
            "grid_column": null,
            "grid_gap": null,
            "grid_row": null,
            "grid_template_areas": null,
            "grid_template_columns": null,
            "grid_template_rows": null,
            "height": null,
            "justify_content": null,
            "justify_items": null,
            "left": null,
            "margin": null,
            "max_height": null,
            "max_width": null,
            "min_height": null,
            "min_width": null,
            "object_fit": null,
            "object_position": null,
            "order": null,
            "overflow": null,
            "overflow_x": null,
            "overflow_y": null,
            "padding": null,
            "right": null,
            "top": null,
            "visibility": null,
            "width": null
          }
        },
        "3b02a39256904a9ea1878503a814c135": {
          "model_module": "@jupyter-widgets/controls",
          "model_name": "ProgressStyleModel",
          "model_module_version": "1.5.0",
          "state": {
            "_model_module": "@jupyter-widgets/controls",
            "_model_module_version": "1.5.0",
            "_model_name": "ProgressStyleModel",
            "_view_count": null,
            "_view_module": "@jupyter-widgets/base",
            "_view_module_version": "1.2.0",
            "_view_name": "StyleView",
            "bar_color": null,
            "description_width": ""
          }
        },
        "67732066c67a4e53acfbe474958e8121": {
          "model_module": "@jupyter-widgets/base",
          "model_name": "LayoutModel",
          "model_module_version": "1.2.0",
          "state": {
            "_model_module": "@jupyter-widgets/base",
            "_model_module_version": "1.2.0",
            "_model_name": "LayoutModel",
            "_view_count": null,
            "_view_module": "@jupyter-widgets/base",
            "_view_module_version": "1.2.0",
            "_view_name": "LayoutView",
            "align_content": null,
            "align_items": null,
            "align_self": null,
            "border": null,
            "bottom": null,
            "display": null,
            "flex": null,
            "flex_flow": null,
            "grid_area": null,
            "grid_auto_columns": null,
            "grid_auto_flow": null,
            "grid_auto_rows": null,
            "grid_column": null,
            "grid_gap": null,
            "grid_row": null,
            "grid_template_areas": null,
            "grid_template_columns": null,
            "grid_template_rows": null,
            "height": null,
            "justify_content": null,
            "justify_items": null,
            "left": null,
            "margin": null,
            "max_height": null,
            "max_width": null,
            "min_height": null,
            "min_width": null,
            "object_fit": null,
            "object_position": null,
            "order": null,
            "overflow": null,
            "overflow_x": null,
            "overflow_y": null,
            "padding": null,
            "right": null,
            "top": null,
            "visibility": null,
            "width": null
          }
        },
        "660fb653889d4d158d08b82f955ec747": {
          "model_module": "@jupyter-widgets/controls",
          "model_name": "DescriptionStyleModel",
          "model_module_version": "1.5.0",
          "state": {
            "_model_module": "@jupyter-widgets/controls",
            "_model_module_version": "1.5.0",
            "_model_name": "DescriptionStyleModel",
            "_view_count": null,
            "_view_module": "@jupyter-widgets/base",
            "_view_module_version": "1.2.0",
            "_view_name": "StyleView",
            "description_width": ""
          }
        },
        "b65eb055612a424da04c6216d0fb1282": {
          "model_module": "@jupyter-widgets/controls",
          "model_name": "HBoxModel",
          "model_module_version": "1.5.0",
          "state": {
            "_dom_classes": [],
            "_model_module": "@jupyter-widgets/controls",
            "_model_module_version": "1.5.0",
            "_model_name": "HBoxModel",
            "_view_count": null,
            "_view_module": "@jupyter-widgets/controls",
            "_view_module_version": "1.5.0",
            "_view_name": "HBoxView",
            "box_style": "",
            "children": [
              "IPY_MODEL_7029a4639cb94cb489d2a665c04ca43e",
              "IPY_MODEL_5c009c55fd1b474985e1cb02a8bb3e74",
              "IPY_MODEL_15a071bc1ba24eba92a2161404a05cfe"
            ],
            "layout": "IPY_MODEL_f447c71e66d24d21b68d9caa359835da"
          }
        },
        "7029a4639cb94cb489d2a665c04ca43e": {
          "model_module": "@jupyter-widgets/controls",
          "model_name": "HTMLModel",
          "model_module_version": "1.5.0",
          "state": {
            "_dom_classes": [],
            "_model_module": "@jupyter-widgets/controls",
            "_model_module_version": "1.5.0",
            "_model_name": "HTMLModel",
            "_view_count": null,
            "_view_module": "@jupyter-widgets/controls",
            "_view_module_version": "1.5.0",
            "_view_name": "HTMLView",
            "description": "",
            "description_tooltip": null,
            "layout": "IPY_MODEL_ed66da5775a2433aad9564d5f214d365",
            "placeholder": "​",
            "style": "IPY_MODEL_773940f3bc304e1e87c6d540804e16d5",
            "value": "Downloading: 100%"
          }
        },
        "5c009c55fd1b474985e1cb02a8bb3e74": {
          "model_module": "@jupyter-widgets/controls",
          "model_name": "FloatProgressModel",
          "model_module_version": "1.5.0",
          "state": {
            "_dom_classes": [],
            "_model_module": "@jupyter-widgets/controls",
            "_model_module_version": "1.5.0",
            "_model_name": "FloatProgressModel",
            "_view_count": null,
            "_view_module": "@jupyter-widgets/controls",
            "_view_module_version": "1.5.0",
            "_view_name": "ProgressView",
            "bar_style": "success",
            "description": "",
            "description_tooltip": null,
            "layout": "IPY_MODEL_908137353e964b61ada164511fc01f3e",
            "max": 1000,
            "min": 0,
            "orientation": "horizontal",
            "style": "IPY_MODEL_2273182e3c36496496ef28bd7bc19cdf",
            "value": 1000
          }
        },
        "15a071bc1ba24eba92a2161404a05cfe": {
          "model_module": "@jupyter-widgets/controls",
          "model_name": "HTMLModel",
          "model_module_version": "1.5.0",
          "state": {
            "_dom_classes": [],
            "_model_module": "@jupyter-widgets/controls",
            "_model_module_version": "1.5.0",
            "_model_name": "HTMLModel",
            "_view_count": null,
            "_view_module": "@jupyter-widgets/controls",
            "_view_module_version": "1.5.0",
            "_view_name": "HTMLView",
            "description": "",
            "description_tooltip": null,
            "layout": "IPY_MODEL_e0968872f904440fa29b8133e941b8a5",
            "placeholder": "​",
            "style": "IPY_MODEL_cb0ba11ea1b342b9acb8ca4a5d9f0aac",
            "value": ""
          }
        },
        "f447c71e66d24d21b68d9caa359835da": {
          "model_module": "@jupyter-widgets/base",
          "model_name": "LayoutModel",
          "model_module_version": "1.2.0",
          "state": {
            "_model_module": "@jupyter-widgets/base",
            "_model_module_version": "1.2.0",
            "_model_name": "LayoutModel",
            "_view_count": null,
            "_view_module": "@jupyter-widgets/base",
            "_view_module_version": "1.2.0",
            "_view_name": "LayoutView",
            "align_content": null,
            "align_items": null,
            "align_self": null,
            "border": null,
            "bottom": null,
            "display": null,
            "flex": null,
            "flex_flow": null,
            "grid_area": null,
            "grid_auto_columns": null,
            "grid_auto_flow": null,
            "grid_auto_rows": null,
            "grid_column": null,
            "grid_gap": null,
            "grid_row": null,
            "grid_template_areas": null,
            "grid_template_columns": null,
            "grid_template_rows": null,
            "height": null,
            "justify_content": null,
            "justify_items": null,
            "left": null,
            "margin": null,
            "max_height": null,
            "max_width": null,
            "min_height": null,
            "min_width": null,
            "object_fit": null,
            "object_position": null,
            "order": null,
            "overflow": null,
            "overflow_x": null,
            "overflow_y": null,
            "padding": null,
            "right": null,
            "top": null,
            "visibility": null,
            "width": null
          }
        },
        "ed66da5775a2433aad9564d5f214d365": {
          "model_module": "@jupyter-widgets/base",
          "model_name": "LayoutModel",
          "model_module_version": "1.2.0",
          "state": {
            "_model_module": "@jupyter-widgets/base",
            "_model_module_version": "1.2.0",
            "_model_name": "LayoutModel",
            "_view_count": null,
            "_view_module": "@jupyter-widgets/base",
            "_view_module_version": "1.2.0",
            "_view_name": "LayoutView",
            "align_content": null,
            "align_items": null,
            "align_self": null,
            "border": null,
            "bottom": null,
            "display": null,
            "flex": null,
            "flex_flow": null,
            "grid_area": null,
            "grid_auto_columns": null,
            "grid_auto_flow": null,
            "grid_auto_rows": null,
            "grid_column": null,
            "grid_gap": null,
            "grid_row": null,
            "grid_template_areas": null,
            "grid_template_columns": null,
            "grid_template_rows": null,
            "height": null,
            "justify_content": null,
            "justify_items": null,
            "left": null,
            "margin": null,
            "max_height": null,
            "max_width": null,
            "min_height": null,
            "min_width": null,
            "object_fit": null,
            "object_position": null,
            "order": null,
            "overflow": null,
            "overflow_x": null,
            "overflow_y": null,
            "padding": null,
            "right": null,
            "top": null,
            "visibility": null,
            "width": null
          }
        },
        "773940f3bc304e1e87c6d540804e16d5": {
          "model_module": "@jupyter-widgets/controls",
          "model_name": "DescriptionStyleModel",
          "model_module_version": "1.5.0",
          "state": {
            "_model_module": "@jupyter-widgets/controls",
            "_model_module_version": "1.5.0",
            "_model_name": "DescriptionStyleModel",
            "_view_count": null,
            "_view_module": "@jupyter-widgets/base",
            "_view_module_version": "1.2.0",
            "_view_name": "StyleView",
            "description_width": ""
          }
        },
        "908137353e964b61ada164511fc01f3e": {
          "model_module": "@jupyter-widgets/base",
          "model_name": "LayoutModel",
          "model_module_version": "1.2.0",
          "state": {
            "_model_module": "@jupyter-widgets/base",
            "_model_module_version": "1.2.0",
            "_model_name": "LayoutModel",
            "_view_count": null,
            "_view_module": "@jupyter-widgets/base",
            "_view_module_version": "1.2.0",
            "_view_name": "LayoutView",
            "align_content": null,
            "align_items": null,
            "align_self": null,
            "border": null,
            "bottom": null,
            "display": null,
            "flex": null,
            "flex_flow": null,
            "grid_area": null,
            "grid_auto_columns": null,
            "grid_auto_flow": null,
            "grid_auto_rows": null,
            "grid_column": null,
            "grid_gap": null,
            "grid_row": null,
            "grid_template_areas": null,
            "grid_template_columns": null,
            "grid_template_rows": null,
            "height": null,
            "justify_content": null,
            "justify_items": null,
            "left": null,
            "margin": null,
            "max_height": null,
            "max_width": null,
            "min_height": null,
            "min_width": null,
            "object_fit": null,
            "object_position": null,
            "order": null,
            "overflow": null,
            "overflow_x": null,
            "overflow_y": null,
            "padding": null,
            "right": null,
            "top": null,
            "visibility": null,
            "width": null
          }
        },
        "2273182e3c36496496ef28bd7bc19cdf": {
          "model_module": "@jupyter-widgets/controls",
          "model_name": "ProgressStyleModel",
          "model_module_version": "1.5.0",
          "state": {
            "_model_module": "@jupyter-widgets/controls",
            "_model_module_version": "1.5.0",
            "_model_name": "ProgressStyleModel",
            "_view_count": null,
            "_view_module": "@jupyter-widgets/base",
            "_view_module_version": "1.2.0",
            "_view_name": "StyleView",
            "bar_color": null,
            "description_width": ""
          }
        },
        "e0968872f904440fa29b8133e941b8a5": {
          "model_module": "@jupyter-widgets/base",
          "model_name": "LayoutModel",
          "model_module_version": "1.2.0",
          "state": {
            "_model_module": "@jupyter-widgets/base",
            "_model_module_version": "1.2.0",
            "_model_name": "LayoutModel",
            "_view_count": null,
            "_view_module": "@jupyter-widgets/base",
            "_view_module_version": "1.2.0",
            "_view_name": "LayoutView",
            "align_content": null,
            "align_items": null,
            "align_self": null,
            "border": null,
            "bottom": null,
            "display": null,
            "flex": null,
            "flex_flow": null,
            "grid_area": null,
            "grid_auto_columns": null,
            "grid_auto_flow": null,
            "grid_auto_rows": null,
            "grid_column": null,
            "grid_gap": null,
            "grid_row": null,
            "grid_template_areas": null,
            "grid_template_columns": null,
            "grid_template_rows": null,
            "height": null,
            "justify_content": null,
            "justify_items": null,
            "left": null,
            "margin": null,
            "max_height": null,
            "max_width": null,
            "min_height": null,
            "min_width": null,
            "object_fit": null,
            "object_position": null,
            "order": null,
            "overflow": null,
            "overflow_x": null,
            "overflow_y": null,
            "padding": null,
            "right": null,
            "top": null,
            "visibility": null,
            "width": null
          }
        },
        "cb0ba11ea1b342b9acb8ca4a5d9f0aac": {
          "model_module": "@jupyter-widgets/controls",
          "model_name": "DescriptionStyleModel",
          "model_module_version": "1.5.0",
          "state": {
            "_model_module": "@jupyter-widgets/controls",
            "_model_module_version": "1.5.0",
            "_model_name": "DescriptionStyleModel",
            "_view_count": null,
            "_view_module": "@jupyter-widgets/base",
            "_view_module_version": "1.2.0",
            "_view_name": "StyleView",
            "description_width": ""
          }
        },
        "441a07ee4eba4f45aac534d1dfcae3e8": {
          "model_module": "@jupyter-widgets/controls",
          "model_name": "HBoxModel",
          "model_module_version": "1.5.0",
          "state": {
            "_dom_classes": [],
            "_model_module": "@jupyter-widgets/controls",
            "_model_module_version": "1.5.0",
            "_model_name": "HBoxModel",
            "_view_count": null,
            "_view_module": "@jupyter-widgets/controls",
            "_view_module_version": "1.5.0",
            "_view_name": "HBoxView",
            "box_style": "",
            "children": [
              "IPY_MODEL_e89501401fb04d71b28ce0c168ce032d",
              "IPY_MODEL_928447e488d449ce8f2682dc434152b3",
              "IPY_MODEL_fd3b3bee2f8249fbbf4b7bf4901f6203"
            ],
            "layout": "IPY_MODEL_cc115c9776b9463984a199926dff0828"
          }
        },
        "e89501401fb04d71b28ce0c168ce032d": {
          "model_module": "@jupyter-widgets/controls",
          "model_name": "HTMLModel",
          "model_module_version": "1.5.0",
          "state": {
            "_dom_classes": [],
            "_model_module": "@jupyter-widgets/controls",
            "_model_module_version": "1.5.0",
            "_model_name": "HTMLModel",
            "_view_count": null,
            "_view_module": "@jupyter-widgets/controls",
            "_view_module_version": "1.5.0",
            "_view_name": "HTMLView",
            "description": "",
            "description_tooltip": null,
            "layout": "IPY_MODEL_4c3ff4a0c8d747caa59e177398d82223",
            "placeholder": "​",
            "style": "IPY_MODEL_6fdc5670d1a941bc912e422700f3f138",
            "value": "Job ID 58c56e0e-b7d8-4845-9084-1859a7ac26ff successfully executed: 100%"
          }
        },
        "928447e488d449ce8f2682dc434152b3": {
          "model_module": "@jupyter-widgets/controls",
          "model_name": "FloatProgressModel",
          "model_module_version": "1.5.0",
          "state": {
            "_dom_classes": [],
            "_model_module": "@jupyter-widgets/controls",
            "_model_module_version": "1.5.0",
            "_model_name": "FloatProgressModel",
            "_view_count": null,
            "_view_module": "@jupyter-widgets/controls",
            "_view_module_version": "1.5.0",
            "_view_name": "ProgressView",
            "bar_style": "success",
            "description": "",
            "description_tooltip": null,
            "layout": "IPY_MODEL_3a638b09a3df47baae6941a2533b3e6b",
            "max": 1,
            "min": 0,
            "orientation": "horizontal",
            "style": "IPY_MODEL_b3ff36db75054a5094e538b904fc4e56",
            "value": 1
          }
        },
        "fd3b3bee2f8249fbbf4b7bf4901f6203": {
          "model_module": "@jupyter-widgets/controls",
          "model_name": "HTMLModel",
          "model_module_version": "1.5.0",
          "state": {
            "_dom_classes": [],
            "_model_module": "@jupyter-widgets/controls",
            "_model_module_version": "1.5.0",
            "_model_name": "HTMLModel",
            "_view_count": null,
            "_view_module": "@jupyter-widgets/controls",
            "_view_module_version": "1.5.0",
            "_view_name": "HTMLView",
            "description": "",
            "description_tooltip": null,
            "layout": "IPY_MODEL_0dd901000ec646db9f259d5810a8253a",
            "placeholder": "​",
            "style": "IPY_MODEL_0be82112dc3c4af49df37d211b62fbaf",
            "value": ""
          }
        },
        "cc115c9776b9463984a199926dff0828": {
          "model_module": "@jupyter-widgets/base",
          "model_name": "LayoutModel",
          "model_module_version": "1.2.0",
          "state": {
            "_model_module": "@jupyter-widgets/base",
            "_model_module_version": "1.2.0",
            "_model_name": "LayoutModel",
            "_view_count": null,
            "_view_module": "@jupyter-widgets/base",
            "_view_module_version": "1.2.0",
            "_view_name": "LayoutView",
            "align_content": null,
            "align_items": null,
            "align_self": null,
            "border": null,
            "bottom": null,
            "display": null,
            "flex": null,
            "flex_flow": null,
            "grid_area": null,
            "grid_auto_columns": null,
            "grid_auto_flow": null,
            "grid_auto_rows": null,
            "grid_column": null,
            "grid_gap": null,
            "grid_row": null,
            "grid_template_areas": null,
            "grid_template_columns": null,
            "grid_template_rows": null,
            "height": null,
            "justify_content": null,
            "justify_items": null,
            "left": null,
            "margin": null,
            "max_height": null,
            "max_width": null,
            "min_height": null,
            "min_width": null,
            "object_fit": null,
            "object_position": null,
            "order": null,
            "overflow": null,
            "overflow_x": null,
            "overflow_y": null,
            "padding": null,
            "right": null,
            "top": null,
            "visibility": null,
            "width": null
          }
        },
        "4c3ff4a0c8d747caa59e177398d82223": {
          "model_module": "@jupyter-widgets/base",
          "model_name": "LayoutModel",
          "model_module_version": "1.2.0",
          "state": {
            "_model_module": "@jupyter-widgets/base",
            "_model_module_version": "1.2.0",
            "_model_name": "LayoutModel",
            "_view_count": null,
            "_view_module": "@jupyter-widgets/base",
            "_view_module_version": "1.2.0",
            "_view_name": "LayoutView",
            "align_content": null,
            "align_items": null,
            "align_self": null,
            "border": null,
            "bottom": null,
            "display": null,
            "flex": null,
            "flex_flow": null,
            "grid_area": null,
            "grid_auto_columns": null,
            "grid_auto_flow": null,
            "grid_auto_rows": null,
            "grid_column": null,
            "grid_gap": null,
            "grid_row": null,
            "grid_template_areas": null,
            "grid_template_columns": null,
            "grid_template_rows": null,
            "height": null,
            "justify_content": null,
            "justify_items": null,
            "left": null,
            "margin": null,
            "max_height": null,
            "max_width": null,
            "min_height": null,
            "min_width": null,
            "object_fit": null,
            "object_position": null,
            "order": null,
            "overflow": null,
            "overflow_x": null,
            "overflow_y": null,
            "padding": null,
            "right": null,
            "top": null,
            "visibility": null,
            "width": null
          }
        },
        "6fdc5670d1a941bc912e422700f3f138": {
          "model_module": "@jupyter-widgets/controls",
          "model_name": "DescriptionStyleModel",
          "model_module_version": "1.5.0",
          "state": {
            "_model_module": "@jupyter-widgets/controls",
            "_model_module_version": "1.5.0",
            "_model_name": "DescriptionStyleModel",
            "_view_count": null,
            "_view_module": "@jupyter-widgets/base",
            "_view_module_version": "1.2.0",
            "_view_name": "StyleView",
            "description_width": ""
          }
        },
        "3a638b09a3df47baae6941a2533b3e6b": {
          "model_module": "@jupyter-widgets/base",
          "model_name": "LayoutModel",
          "model_module_version": "1.2.0",
          "state": {
            "_model_module": "@jupyter-widgets/base",
            "_model_module_version": "1.2.0",
            "_model_name": "LayoutModel",
            "_view_count": null,
            "_view_module": "@jupyter-widgets/base",
            "_view_module_version": "1.2.0",
            "_view_name": "LayoutView",
            "align_content": null,
            "align_items": null,
            "align_self": null,
            "border": null,
            "bottom": null,
            "display": null,
            "flex": null,
            "flex_flow": null,
            "grid_area": null,
            "grid_auto_columns": null,
            "grid_auto_flow": null,
            "grid_auto_rows": null,
            "grid_column": null,
            "grid_gap": null,
            "grid_row": null,
            "grid_template_areas": null,
            "grid_template_columns": null,
            "grid_template_rows": null,
            "height": null,
            "justify_content": null,
            "justify_items": null,
            "left": null,
            "margin": null,
            "max_height": null,
            "max_width": null,
            "min_height": null,
            "min_width": null,
            "object_fit": null,
            "object_position": null,
            "order": null,
            "overflow": null,
            "overflow_x": null,
            "overflow_y": null,
            "padding": null,
            "right": null,
            "top": null,
            "visibility": null,
            "width": null
          }
        },
        "b3ff36db75054a5094e538b904fc4e56": {
          "model_module": "@jupyter-widgets/controls",
          "model_name": "ProgressStyleModel",
          "model_module_version": "1.5.0",
          "state": {
            "_model_module": "@jupyter-widgets/controls",
            "_model_module_version": "1.5.0",
            "_model_name": "ProgressStyleModel",
            "_view_count": null,
            "_view_module": "@jupyter-widgets/base",
            "_view_module_version": "1.2.0",
            "_view_name": "StyleView",
            "bar_color": null,
            "description_width": ""
          }
        },
        "0dd901000ec646db9f259d5810a8253a": {
          "model_module": "@jupyter-widgets/base",
          "model_name": "LayoutModel",
          "model_module_version": "1.2.0",
          "state": {
            "_model_module": "@jupyter-widgets/base",
            "_model_module_version": "1.2.0",
            "_model_name": "LayoutModel",
            "_view_count": null,
            "_view_module": "@jupyter-widgets/base",
            "_view_module_version": "1.2.0",
            "_view_name": "LayoutView",
            "align_content": null,
            "align_items": null,
            "align_self": null,
            "border": null,
            "bottom": null,
            "display": null,
            "flex": null,
            "flex_flow": null,
            "grid_area": null,
            "grid_auto_columns": null,
            "grid_auto_flow": null,
            "grid_auto_rows": null,
            "grid_column": null,
            "grid_gap": null,
            "grid_row": null,
            "grid_template_areas": null,
            "grid_template_columns": null,
            "grid_template_rows": null,
            "height": null,
            "justify_content": null,
            "justify_items": null,
            "left": null,
            "margin": null,
            "max_height": null,
            "max_width": null,
            "min_height": null,
            "min_width": null,
            "object_fit": null,
            "object_position": null,
            "order": null,
            "overflow": null,
            "overflow_x": null,
            "overflow_y": null,
            "padding": null,
            "right": null,
            "top": null,
            "visibility": null,
            "width": null
          }
        },
        "0be82112dc3c4af49df37d211b62fbaf": {
          "model_module": "@jupyter-widgets/controls",
          "model_name": "DescriptionStyleModel",
          "model_module_version": "1.5.0",
          "state": {
            "_model_module": "@jupyter-widgets/controls",
            "_model_module_version": "1.5.0",
            "_model_name": "DescriptionStyleModel",
            "_view_count": null,
            "_view_module": "@jupyter-widgets/base",
            "_view_module_version": "1.2.0",
            "_view_name": "StyleView",
            "description_width": ""
          }
        },
        "bd0dff1fed2945b986cfc4b4ab0c06e0": {
          "model_module": "@jupyter-widgets/controls",
          "model_name": "HBoxModel",
          "model_module_version": "1.5.0",
          "state": {
            "_dom_classes": [],
            "_model_module": "@jupyter-widgets/controls",
            "_model_module_version": "1.5.0",
            "_model_name": "HBoxModel",
            "_view_count": null,
            "_view_module": "@jupyter-widgets/controls",
            "_view_module_version": "1.5.0",
            "_view_name": "HBoxView",
            "box_style": "",
            "children": [
              "IPY_MODEL_ac6fb3627a024c089468af09f14cbdd0",
              "IPY_MODEL_218b338e0947478a847219c5efd4a1ab",
              "IPY_MODEL_e37e3ee964934186945b54103210042e"
            ],
            "layout": "IPY_MODEL_a61528622d4349e998da781ad60375d8"
          }
        },
        "ac6fb3627a024c089468af09f14cbdd0": {
          "model_module": "@jupyter-widgets/controls",
          "model_name": "HTMLModel",
          "model_module_version": "1.5.0",
          "state": {
            "_dom_classes": [],
            "_model_module": "@jupyter-widgets/controls",
            "_model_module_version": "1.5.0",
            "_model_name": "HTMLModel",
            "_view_count": null,
            "_view_module": "@jupyter-widgets/controls",
            "_view_module_version": "1.5.0",
            "_view_name": "HTMLView",
            "description": "",
            "description_tooltip": null,
            "layout": "IPY_MODEL_9651ada3612846ce8d1be142affdfdd3",
            "placeholder": "​",
            "style": "IPY_MODEL_fc7dc49140d148b093cb6d3fff8a7caa",
            "value": "Downloading: 100%"
          }
        },
        "218b338e0947478a847219c5efd4a1ab": {
          "model_module": "@jupyter-widgets/controls",
          "model_name": "FloatProgressModel",
          "model_module_version": "1.5.0",
          "state": {
            "_dom_classes": [],
            "_model_module": "@jupyter-widgets/controls",
            "_model_module_version": "1.5.0",
            "_model_name": "FloatProgressModel",
            "_view_count": null,
            "_view_module": "@jupyter-widgets/controls",
            "_view_module_version": "1.5.0",
            "_view_name": "ProgressView",
            "bar_style": "success",
            "description": "",
            "description_tooltip": null,
            "layout": "IPY_MODEL_10bffc4ff58d4580bd12ec89093cfc4f",
            "max": 1,
            "min": 0,
            "orientation": "horizontal",
            "style": "IPY_MODEL_b21de30484b047b2843eebe1b39c2e3a",
            "value": 1
          }
        },
        "e37e3ee964934186945b54103210042e": {
          "model_module": "@jupyter-widgets/controls",
          "model_name": "HTMLModel",
          "model_module_version": "1.5.0",
          "state": {
            "_dom_classes": [],
            "_model_module": "@jupyter-widgets/controls",
            "_model_module_version": "1.5.0",
            "_model_name": "HTMLModel",
            "_view_count": null,
            "_view_module": "@jupyter-widgets/controls",
            "_view_module_version": "1.5.0",
            "_view_name": "HTMLView",
            "description": "",
            "description_tooltip": null,
            "layout": "IPY_MODEL_5bcaef2a7de5416a8fe69bd67fc636ec",
            "placeholder": "​",
            "style": "IPY_MODEL_d4a74cffd0bb4e529f6e399e88eb105a",
            "value": ""
          }
        },
        "a61528622d4349e998da781ad60375d8": {
          "model_module": "@jupyter-widgets/base",
          "model_name": "LayoutModel",
          "model_module_version": "1.2.0",
          "state": {
            "_model_module": "@jupyter-widgets/base",
            "_model_module_version": "1.2.0",
            "_model_name": "LayoutModel",
            "_view_count": null,
            "_view_module": "@jupyter-widgets/base",
            "_view_module_version": "1.2.0",
            "_view_name": "LayoutView",
            "align_content": null,
            "align_items": null,
            "align_self": null,
            "border": null,
            "bottom": null,
            "display": null,
            "flex": null,
            "flex_flow": null,
            "grid_area": null,
            "grid_auto_columns": null,
            "grid_auto_flow": null,
            "grid_auto_rows": null,
            "grid_column": null,
            "grid_gap": null,
            "grid_row": null,
            "grid_template_areas": null,
            "grid_template_columns": null,
            "grid_template_rows": null,
            "height": null,
            "justify_content": null,
            "justify_items": null,
            "left": null,
            "margin": null,
            "max_height": null,
            "max_width": null,
            "min_height": null,
            "min_width": null,
            "object_fit": null,
            "object_position": null,
            "order": null,
            "overflow": null,
            "overflow_x": null,
            "overflow_y": null,
            "padding": null,
            "right": null,
            "top": null,
            "visibility": null,
            "width": null
          }
        },
        "9651ada3612846ce8d1be142affdfdd3": {
          "model_module": "@jupyter-widgets/base",
          "model_name": "LayoutModel",
          "model_module_version": "1.2.0",
          "state": {
            "_model_module": "@jupyter-widgets/base",
            "_model_module_version": "1.2.0",
            "_model_name": "LayoutModel",
            "_view_count": null,
            "_view_module": "@jupyter-widgets/base",
            "_view_module_version": "1.2.0",
            "_view_name": "LayoutView",
            "align_content": null,
            "align_items": null,
            "align_self": null,
            "border": null,
            "bottom": null,
            "display": null,
            "flex": null,
            "flex_flow": null,
            "grid_area": null,
            "grid_auto_columns": null,
            "grid_auto_flow": null,
            "grid_auto_rows": null,
            "grid_column": null,
            "grid_gap": null,
            "grid_row": null,
            "grid_template_areas": null,
            "grid_template_columns": null,
            "grid_template_rows": null,
            "height": null,
            "justify_content": null,
            "justify_items": null,
            "left": null,
            "margin": null,
            "max_height": null,
            "max_width": null,
            "min_height": null,
            "min_width": null,
            "object_fit": null,
            "object_position": null,
            "order": null,
            "overflow": null,
            "overflow_x": null,
            "overflow_y": null,
            "padding": null,
            "right": null,
            "top": null,
            "visibility": null,
            "width": null
          }
        },
        "fc7dc49140d148b093cb6d3fff8a7caa": {
          "model_module": "@jupyter-widgets/controls",
          "model_name": "DescriptionStyleModel",
          "model_module_version": "1.5.0",
          "state": {
            "_model_module": "@jupyter-widgets/controls",
            "_model_module_version": "1.5.0",
            "_model_name": "DescriptionStyleModel",
            "_view_count": null,
            "_view_module": "@jupyter-widgets/base",
            "_view_module_version": "1.2.0",
            "_view_name": "StyleView",
            "description_width": ""
          }
        },
        "10bffc4ff58d4580bd12ec89093cfc4f": {
          "model_module": "@jupyter-widgets/base",
          "model_name": "LayoutModel",
          "model_module_version": "1.2.0",
          "state": {
            "_model_module": "@jupyter-widgets/base",
            "_model_module_version": "1.2.0",
            "_model_name": "LayoutModel",
            "_view_count": null,
            "_view_module": "@jupyter-widgets/base",
            "_view_module_version": "1.2.0",
            "_view_name": "LayoutView",
            "align_content": null,
            "align_items": null,
            "align_self": null,
            "border": null,
            "bottom": null,
            "display": null,
            "flex": null,
            "flex_flow": null,
            "grid_area": null,
            "grid_auto_columns": null,
            "grid_auto_flow": null,
            "grid_auto_rows": null,
            "grid_column": null,
            "grid_gap": null,
            "grid_row": null,
            "grid_template_areas": null,
            "grid_template_columns": null,
            "grid_template_rows": null,
            "height": null,
            "justify_content": null,
            "justify_items": null,
            "left": null,
            "margin": null,
            "max_height": null,
            "max_width": null,
            "min_height": null,
            "min_width": null,
            "object_fit": null,
            "object_position": null,
            "order": null,
            "overflow": null,
            "overflow_x": null,
            "overflow_y": null,
            "padding": null,
            "right": null,
            "top": null,
            "visibility": null,
            "width": null
          }
        },
        "b21de30484b047b2843eebe1b39c2e3a": {
          "model_module": "@jupyter-widgets/controls",
          "model_name": "ProgressStyleModel",
          "model_module_version": "1.5.0",
          "state": {
            "_model_module": "@jupyter-widgets/controls",
            "_model_module_version": "1.5.0",
            "_model_name": "ProgressStyleModel",
            "_view_count": null,
            "_view_module": "@jupyter-widgets/base",
            "_view_module_version": "1.2.0",
            "_view_name": "StyleView",
            "bar_color": null,
            "description_width": ""
          }
        },
        "5bcaef2a7de5416a8fe69bd67fc636ec": {
          "model_module": "@jupyter-widgets/base",
          "model_name": "LayoutModel",
          "model_module_version": "1.2.0",
          "state": {
            "_model_module": "@jupyter-widgets/base",
            "_model_module_version": "1.2.0",
            "_model_name": "LayoutModel",
            "_view_count": null,
            "_view_module": "@jupyter-widgets/base",
            "_view_module_version": "1.2.0",
            "_view_name": "LayoutView",
            "align_content": null,
            "align_items": null,
            "align_self": null,
            "border": null,
            "bottom": null,
            "display": null,
            "flex": null,
            "flex_flow": null,
            "grid_area": null,
            "grid_auto_columns": null,
            "grid_auto_flow": null,
            "grid_auto_rows": null,
            "grid_column": null,
            "grid_gap": null,
            "grid_row": null,
            "grid_template_areas": null,
            "grid_template_columns": null,
            "grid_template_rows": null,
            "height": null,
            "justify_content": null,
            "justify_items": null,
            "left": null,
            "margin": null,
            "max_height": null,
            "max_width": null,
            "min_height": null,
            "min_width": null,
            "object_fit": null,
            "object_position": null,
            "order": null,
            "overflow": null,
            "overflow_x": null,
            "overflow_y": null,
            "padding": null,
            "right": null,
            "top": null,
            "visibility": null,
            "width": null
          }
        },
        "d4a74cffd0bb4e529f6e399e88eb105a": {
          "model_module": "@jupyter-widgets/controls",
          "model_name": "DescriptionStyleModel",
          "model_module_version": "1.5.0",
          "state": {
            "_model_module": "@jupyter-widgets/controls",
            "_model_module_version": "1.5.0",
            "_model_name": "DescriptionStyleModel",
            "_view_count": null,
            "_view_module": "@jupyter-widgets/base",
            "_view_module_version": "1.2.0",
            "_view_name": "StyleView",
            "description_width": ""
          }
        }
      }
    }
  },
  "nbformat": 4,
  "nbformat_minor": 0
}